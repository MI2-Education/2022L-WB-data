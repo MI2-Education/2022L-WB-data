{
 "cells": [
  {
   "cell_type": "markdown",
   "id": "9135359a",
   "metadata": {},
   "source": [
    "# Praca domowa 2\n",
    "### Sebastian Deręgowski"
   ]
  },
  {
   "cell_type": "markdown",
   "id": "674caf72",
   "metadata": {},
   "source": [
    "Na potrzeby tej pracy domowej przeanalizowałem swoje dwie bazy danych według podanych wytycznych. Poniżej prezentują się wyniki analiz."
   ]
  },
  {
   "cell_type": "markdown",
   "id": "61c9f32f",
   "metadata": {},
   "source": [
    "## COVID-19-CT-Seg"
   ]
  },
  {
   "cell_type": "markdown",
   "id": "af7b2c68",
   "metadata": {},
   "source": [
    "### Informacje podstawowe"
   ]
  },
  {
   "cell_type": "markdown",
   "id": "154e08a0",
   "metadata": {},
   "source": [
    "* **Rodzaj bazy danych:** obrazowa\n",
    "* **Zadania:** segmentacja płuc, segmentacja zainfekowanego obszaru płuc\n",
    "* **Licencja:** C BY-NC-SA\n",
    "* **Rodzaj annotacji:** maski\n",
    "* **Choroby czy zmiany chorobowe:** maski przedstawiają zainfekowany obszar płuc\n",
    "* **Rodzaj zdjęć:** 3D"
   ]
  },
  {
   "cell_type": "markdown",
   "id": "1954d3c8",
   "metadata": {},
   "source": [
    "### Dane ilościowe"
   ]
  },
  {
   "cell_type": "markdown",
   "id": "47437a5f",
   "metadata": {},
   "source": [
    "* **Liczba zdjęć:** 20\n",
    "* **Liczba unikatowych pacjentów:** brak informacji, zakładam, że 20\n",
    "* **CT/RTG:** CT\n",
    "* **Kompletność masek:** wszystkie zdjęcia mają po 3 maski\n",
    "* **Zdjęcia zdrowego pacjenta:** brak porównania\n",
    "* **Dodatkowe informacje:**\n",
    "    * dwie klasy zdjęć *coronacases* i *radiopaedia*, obie po 10 zdjęć\n",
    "    * dla zdjęć *coronacases* rzuty z boku i z przodu zawierają 512 zdjęć, a liczba zdjęć dla rzutu z góry waha się pomiędzy 200 a 301 (patrz: kod poniżej)\n",
    "    * dla zdjęć *radiopaedia* rzuty z boku i przodu zawierają po 630 zdjęć, a liczba zdjęć z góry jest bardzo zróżnicowana, większość ma kilkadziesiąt (30-60) zdjęć, ale są też przypadki 100 i 400 zdjęć (patrz: kod poniżej)"
   ]
  },
  {
   "cell_type": "markdown",
   "id": "fb4d7775",
   "metadata": {},
   "source": [
    "### Informacje o danych"
   ]
  },
  {
   "cell_type": "markdown",
   "id": "7dc4538a",
   "metadata": {},
   "source": [
    "* **Rozszerzenie zdjęć:** NIFTI\n",
    "* **Sprzęt, na którym wykonano badania:** brak informacji\n",
    "* **Format annotacji:** NIFTI\n",
    "* **Płaszczyzny zdjęć:** trzy rzuty: z góry, z przodu i z boku\n",
    "* **Nazwy klas:** nie dotyczy, zadanie segmentacji\n",
    "* **Kontrast:** brak\n",
    "* **Data wykonania zdjęć:** brak informacji, jednak ze względu na to, że jest to baza covidowa, zdjęcia musiały powstać w 2020+ roku\n",
    "* **Slice thickness:** zależny od liczby zdjęć w danym rzucie, która różni się pomiędzy zdjęciami (patrz: kod poniżej)\n",
    "* **Kształt zdjęć:** w przypadku zdjęć *coronacases* wszystkie rzuty są kwadratowe, dla zdjęć *radiopaedia* tylko rzut z góry jest kwadratowy\n",
    "* **Podział na zbiór testowy i treningowy:** brak\n",
    "* **Kraj pochodzenia zdjęć:** brak informacji"
   ]
  },
  {
   "cell_type": "markdown",
   "id": "520d8eb0",
   "metadata": {},
   "source": [
    "### Balans danych"
   ]
  },
  {
   "cell_type": "markdown",
   "id": "1026e93c",
   "metadata": {},
   "source": [
    "* **Balans klas w zbiorze testowym i treningowym:** brak zbioru treningowego i testowego\n",
    "* **Rozkład wieku pacjentów:** brak informacji\n",
    "* **Rozkład płci pacjentów:** brak informacji\n",
    "* **Rozkład zdrowotności pacjentów:** wszyscy pacjenci w zbiorze są chorzy na COVID"
   ]
  },
  {
   "cell_type": "markdown",
   "id": "267ce5bd",
   "metadata": {},
   "source": [
    "### Analiza metadanych"
   ]
  },
  {
   "cell_type": "markdown",
   "id": "af9922fa",
   "metadata": {},
   "source": [
    "* **Metadane**: większość danych w headerze to 0, *none* lub *nan* (patrz: kod poniżej)\n",
    "* **Wiek:** brak informacji\n",
    "* **Pomieszanie dzieci i dorosłych:** brak informacji\n",
    "* **Braki w metadanych:** brak\n",
    "* **Mierzenie poważności zmian:** brak\n",
    "* **Pacjenci covidowi:** tak\n",
    "* **Dane usunięte**: wszystkie"
   ]
  },
  {
   "cell_type": "code",
   "execution_count": 63,
   "id": "f737ea77",
   "metadata": {},
   "outputs": [],
   "source": [
    "from os import listdir\n",
    "from os.path import isfile, join\n",
    "path = '/Users/deregowskis/Desktop/studies/WB/COVID-19-CT-Seg_20cases'\n",
    "covid_files = [f for f in listdir(path) if isfile(join(path, f)) and f[-3:]==\"nii\"]"
   ]
  },
  {
   "cell_type": "code",
   "execution_count": 64,
   "id": "0eef2c78",
   "metadata": {},
   "outputs": [
    {
     "name": "stdout",
     "output_type": "stream",
     "text": [
      "Liczba zdjęć w danej płaszczyźnie:\n",
      "rzut x: [512, 512, 512, 512, 512, 630, 512, 512, 512, 630, 630, 630, 630, 630, 630, 630, 512, 512, 630, 630]\n",
      "rzut y: [512, 512, 512, 512, 512, 630, 512, 512, 512, 401, 630, 630, 630, 630, 630, 630, 512, 512, 630, 630]\n",
      "rzut z: [301, 200, 200, 249, 213, 42, 270, 301, 290, 110, 418, 39, 42, 45, 39, 66, 301, 256, 93, 45]\n"
     ]
    }
   ],
   "source": [
    "import nibabel as nib\n",
    "\n",
    "x_ax = []\n",
    "y_ax = []\n",
    "z_ax = []\n",
    "\n",
    "for f in covid_files:\n",
    "    img = nib.load(path+'/'+f)\n",
    "    x_ax.append(img.shape[0])\n",
    "    y_ax.append(img.shape[1])\n",
    "    z_ax.append(img.shape[2])\n",
    "print('Liczba zdjęć w danej płaszczyźnie:')   \n",
    "print(f'rzut x: {x_ax}')\n",
    "print(f'rzut y: {y_ax}')\n",
    "print(f'rzut z: {z_ax}')"
   ]
  },
  {
   "cell_type": "markdown",
   "id": "122fdc44",
   "metadata": {},
   "source": [
    "Scatterplot matrix 3D mało \"widowiskowy\" ze względu na brak rozrzutu danych:"
   ]
  },
  {
   "cell_type": "code",
   "execution_count": 83,
   "id": "4457e220",
   "metadata": {
    "scrolled": false
   },
   "outputs": [
    {
     "name": "stdout",
     "output_type": "stream",
     "text": [
      "[[<AxesSubplot:xlabel='x', ylabel='x'>\n",
      "  <AxesSubplot:xlabel='y', ylabel='x'>\n",
      "  <AxesSubplot:xlabel='z', ylabel='x'>]\n",
      " [<AxesSubplot:xlabel='x', ylabel='y'>\n",
      "  <AxesSubplot:xlabel='y', ylabel='y'>\n",
      "  <AxesSubplot:xlabel='z', ylabel='y'>]\n",
      " [<AxesSubplot:xlabel='x', ylabel='z'>\n",
      "  <AxesSubplot:xlabel='y', ylabel='z'>\n",
      "  <AxesSubplot:xlabel='z', ylabel='z'>]]\n"
     ]
    },
    {
     "data": {
      "image/png": "[encoded data removed]",
      "text/plain": [
       "<Figure size 432x288 with 9 Axes>"
      ]
     },
     "metadata": {
      "needs_background": "light"
     },
     "output_type": "display_data"
    }
   ],
   "source": [
    "import pandas as pd\n",
    "covid_dataframe = pd.DataFrame({'x':x_ax,'y':y_ax,'z':z_ax})\n",
    "plot = pd.plotting.scatter_matrix(covid_dataframe)\n",
    "print(plot)"
   ]
  },
  {
   "cell_type": "code",
   "execution_count": 67,
   "id": "ae81fbfa",
   "metadata": {
    "scrolled": false
   },
   "outputs": [
    {
     "name": "stdout",
     "output_type": "stream",
     "text": [
      "Przykładowy header:\n",
      "<class 'nibabel.nifti1.Nifti1Header'> object, endian='<'\n",
      "sizeof_hdr      : 348\n",
      "data_type       : b''\n",
      "db_name         : b''\n",
      "extents         : 0\n",
      "session_error   : 0\n",
      "regular         : b''\n",
      "dim_info        : 0\n",
      "dim             : [  3 630 630  42   1   1   1   1]\n",
      "intent_p1       : 0.0\n",
      "intent_p2       : 0.0\n",
      "intent_p3       : 0.0\n",
      "intent_code     : none\n",
      "datatype        : uint8\n",
      "bitpix          : 8\n",
      "slice_start     : 0\n",
      "pixdim          : [-1.        0.683594  0.683594  6.        1.        1.        1.\n",
      "  1.      ]\n",
      "vox_offset      : 0.0\n",
      "scl_slope       : nan\n",
      "scl_inter       : nan\n",
      "slice_end       : 0\n",
      "slice_code      : unknown\n",
      "xyzt_units      : 0\n",
      "cal_max         : 0.0\n",
      "cal_min         : 0.0\n",
      "slice_duration  : 0.0\n",
      "toffset         : 0.0\n",
      "glmax           : 0\n",
      "glmin           : 0\n",
      "descrip         : b''\n",
      "aux_file        : b''\n",
      "qform_code      : unknown\n",
      "sform_code      : aligned\n",
      "quatern_b       : 0.0\n",
      "quatern_c       : 1.0\n",
      "quatern_d       : 0.0\n",
      "qoffset_x       : 159.0\n",
      "qoffset_y       : 174.0\n",
      "qoffset_z       : -246.0\n",
      "srow_x          : [ -0.683594  -0.         0.       159.      ]\n",
      "srow_y          : [ -0.         0.683594   0.       174.      ]\n",
      "srow_z          : [   0.    0.    6. -246.]\n",
      "intent_name     : b''\n",
      "magic           : b'n+1'\n"
     ]
    }
   ],
   "source": [
    "print('Przykładowy header:')\n",
    "print(nib.load(path+'/'+covid_files[5]).header)"
   ]
  },
  {
   "cell_type": "markdown",
   "id": "9c6d8a6d",
   "metadata": {},
   "source": [
    "## Pediatric Chest X-Ray Pneumonia"
   ]
  },
  {
   "cell_type": "markdown",
   "id": "4fba539d",
   "metadata": {},
   "source": [
    "### Informacje podstawowe"
   ]
  },
  {
   "cell_type": "markdown",
   "id": "046aea3f",
   "metadata": {},
   "source": [
    "* **Rodzaj bazy danych:** obrazowa\n",
    "* **Zadania:** klasyfikacja zapalenia płuc\n",
    "* **Licencja:** Attribution 4.0 International (CC BY 4.0)\n",
    "* **Rodzaj annotacji:** zdjęcia podzielone są na foldery *NORMAL* i *PNEUMONIA*\n",
    "* **Choroby czy zmiany chorobowe:** maski przedstawiają zainfekowane płuca\n",
    "* **Rodzaj zdjęć:** 2D"
   ]
  },
  {
   "cell_type": "markdown",
   "id": "9afb6c37",
   "metadata": {},
   "source": [
    "### Dane ilościowe"
   ]
  },
  {
   "cell_type": "markdown",
   "id": "554c004f",
   "metadata": {},
   "source": [
    "* **Liczba zdjęć:** 5856\n",
    "* **Liczba unikatowych pacjentów:** brak informacji, zakładam, że 5860\n",
    "* **CT/RTG:** RTG\n",
    "* **Projekcje:** wszystkie zdjęcia w tej samej projekcji\n",
    "* **Zdjęcia zdrowego pacjenta:** brak porównania"
   ]
  },
  {
   "cell_type": "markdown",
   "id": "bd44f3c0",
   "metadata": {},
   "source": [
    "### Informacje o danych"
   ]
  },
  {
   "cell_type": "markdown",
   "id": "5fb49527",
   "metadata": {},
   "source": [
    "* **Rozszerzenie zdjęć:** JPEG\n",
    "* **Sprzęt, na którym wykonano badania:** brak informacji\n",
    "* **Format annotacji:** przydzielenie plików do odpowiednich folderów\n",
    "* **Płaszczyzny zdjęć:** rzut z przodu\n",
    "* **Nazwy klas:** foldery nazwane *NORMAL* i *PNEUMONIA*\n",
    "* **Kontrast:** brak\n",
    "* **Data wykonania zdjęć:** brak informacji\n",
    "* **Slice thickness:** nie dotyczy\n",
    "* **Kształt zdjęć:** różny (patrz: kod poniżej)\n",
    "* **Podział na zbiór testowy i treningowy:** tak\n",
    "* **Kraj pochodzenia zdjęć:** brak informacji"
   ]
  },
  {
   "cell_type": "markdown",
   "id": "00e5e705",
   "metadata": {},
   "source": [
    "### Balans danych"
   ]
  },
  {
   "cell_type": "markdown",
   "id": "c0a805d9",
   "metadata": {},
   "source": [
    "* **Balans klas w zbiorze testowym i treningowym:**\n",
    "    * zbiór treningowy: 5232 zdjęć (89,3%), w tym:\n",
    "        * 3883 zdjęcia zainfekowanych płuc (74,2%)\n",
    "        * 1349 zdjęć zdrowych płuc (25,8%)\n",
    "    * zbiór testowy: 624 zdjęć (10,7%), w tym:\n",
    "        * 390 zdjęć zainfekowanych płuc (62,5%)\n",
    "        * 235 zdjęć zdrowych płuc (37,5%)\n",
    "* **Rozkład wieku pacjentów:** brak informacji\n",
    "* **Rozkład płci pacjentów:** brak informacji\n",
    "* **Rozkład zdrowotności pacjentów:** opisany wyżej"
   ]
  },
  {
   "cell_type": "markdown",
   "id": "b9fa9fb3",
   "metadata": {},
   "source": [
    "### Analiza metadanych"
   ]
  },
  {
   "cell_type": "markdown",
   "id": "6a7eea3e",
   "metadata": {},
   "source": [
    "* **Metadane**: brak\n",
    "* **Wiek:** brak informacji\n",
    "* **Pomieszanie dzieci i dorosłych:** baza danych składa się wyłącznie ze zdjęć dzieci\n",
    "* **Braki w metadanych:** brak\n",
    "* **Mierzenie poważności zmian:** brak\n",
    "* **Pacjenci covidowi:** nie wiadomo\n",
    "* **Dane usunięte**: wszystkie"
   ]
  },
  {
   "cell_type": "code",
   "execution_count": 76,
   "id": "c492b01d",
   "metadata": {},
   "outputs": [],
   "source": [
    "from os import listdir\n",
    "from os.path import isfile, join\n",
    "path = '/Users/deregowskis/Desktop/studies/WB/Pediatric Chest X-Ray Pneumonia'\n",
    "all_files = []\n",
    "train_pneumonia = [f for f in listdir(path+'/'+'train/PNEUMONIA') if isfile(join(path+'/'+'train/PNEUMONIA', f))]\n",
    "for file in train_pneumonia:\n",
    "    all_files.append(path+'/'+'train/PNEUMONIA/'+file)\n",
    "train_normal = [f for f in listdir(path+'/'+'train/NORMAL') if isfile(join(path+'/'+'train/NORMAL', f))]\n",
    "for file in train_normal:\n",
    "    all_files.append(path+'/'+'train/NORMAL/'+file)\n",
    "test_pneumonia = [f for f in listdir(path+'/'+'test/PNEUMONIA') if isfile(join(path+'/'+'test/PNEUMONIA', f))]\n",
    "for file in test_pneumonia:\n",
    "    all_files.append(path+'/'+'test/PNEUMONIA/'+file)\n",
    "test_normal = [f for f in listdir(path+'/'+'test/NORMAL') if isfile(join(path+'/'+'test/NORMAL', f))]\n",
    "for file in test_normal:\n",
    "    all_files.append(path+'/'+'test/NORMAL/'+file)"
   ]
  },
  {
   "cell_type": "code",
   "execution_count": 82,
   "id": "5aff4478",
   "metadata": {},
   "outputs": [],
   "source": [
    "from PIL import Image\n",
    "\n",
    "width = []\n",
    "height = []\n",
    "\n",
    "for file in all_files:\n",
    "    width.append(Image.open(file).size[0])\n",
    "    height.append(Image.open(file).size[1])"
   ]
  },
  {
   "cell_type": "code",
   "execution_count": 84,
   "id": "fbab2d15",
   "metadata": {},
   "outputs": [
    {
     "name": "stdout",
     "output_type": "stream",
     "text": [
      "[[<AxesSubplot:xlabel='width', ylabel='width'>\n",
      "  <AxesSubplot:xlabel='height', ylabel='width'>]\n",
      " [<AxesSubplot:xlabel='width', ylabel='height'>\n",
      "  <AxesSubplot:xlabel='height', ylabel='height'>]]\n"
     ]
    },
    {
     "data": {
      "image/png": "[encoded data removed]",
      "text/plain": [
       "<Figure size 432x288 with 4 Axes>"
      ]
     },
     "metadata": {
      "needs_background": "light"
     },
     "output_type": "display_data"
    }
   ],
   "source": [
    "pneumonia_dataframe = pd.DataFrame({'width':width,'height':height})\n",
    "plot = pd.plotting.scatter_matrix(pneumonia_dataframe)\n",
    "print(plot)"
   ]
  }
 ],
 "metadata": {
  "kernelspec": {
   "display_name": "Python 3 (ipykernel)",
   "language": "python",
   "name": "python3"
  },
  "language_info": {
   "codemirror_mode": {
    "name": "ipython",
    "version": 3
   },
   "file_extension": ".py",
   "mimetype": "text/x-python",
   "name": "python",
   "nbconvert_exporter": "python",
   "pygments_lexer": "ipython3",
   "version": "3.9.7"
  }
 },
 "nbformat": 4,
 "nbformat_minor": 5
}
