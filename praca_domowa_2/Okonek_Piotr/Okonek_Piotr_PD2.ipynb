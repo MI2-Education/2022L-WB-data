{
 "cells": [
  {
   "cell_type": "markdown",
   "metadata": {},
   "source": [
    "# Praca domowa 2"
   ]
  },
  {
   "cell_type": "markdown",
   "metadata": {},
   "source": [
    "### Piotr Okonek\n",
    "Na potrzeby tej pracy domowej przeanalizowałem swoje dwie bazy danych według podanych wytycznych. Poniżej prezentują się wyniki analiz."
   ]
  },
  {
   "cell_type": "markdown",
   "metadata": {},
   "source": [
    "## COVID-19-CT-Seg positive"
   ]
  },
  {
   "cell_type": "markdown",
   "metadata": {},
   "source": [
    "### Informacje podstawowe"
   ]
  },
  {
   "cell_type": "markdown",
   "metadata": {},
   "source": [
    "- **Rodzaj bazy danych**: obrazowa\n",
    "- **Zadania**: segmentacja płuc\n",
    "- **Rodzaj annotacji**: obramowanie jako zbiór punktów na zdjęciu\n",
    "- **Choroby czy zmiany chorobowe**: brak masek\n",
    "- **Rodzaj zdjęć**: 3D"
   ]
  },
  {
   "cell_type": "markdown",
   "metadata": {},
   "source": [
    "### Dane ilościowe"
   ]
  },
  {
   "cell_type": "markdown",
   "metadata": {},
   "source": [
    "- **Liczba zdjęć**: 120 (Dicom, ale dla każdego pacjenta różna liczba zdjęć)\n",
    "- **Liczba unikatowych pacjentów**: 120\n",
    "- **CT/RTG**: CT\n",
    "- **Kompletność masek**: brak\n",
    "- **Zdjęcia zdrowego pacjenta**: brak porównania\n",
    "- **Dodatkowe informacje**: Została dołączona tabela z danymi pacjentów\n",
    "    "
   ]
  },
  {
   "cell_type": "markdown",
   "metadata": {},
   "source": [
    "### Informacje o danych"
   ]
  },
  {
   "cell_type": "markdown",
   "metadata": {},
   "source": [
    "- **Rozszerzenie zdjęć**: DICOM\n",
    "- **Sprzęt, na którym wykonano badania**: brak informacji\n",
    "- **Format annotacji**: json\n",
    "- **Płaszczyzny zdjęć: trzy rzuty**:  z przodu i z boku\n",
    "- **Nazwy klas**: nie dotyczy, zadanie segmentacji\n",
    "- **Kontrast**: brak\n",
    "- **Data wykonania zdjęć**: brak informacji, jednak dane Covidowe, więc po 2020 roku i przed połową 2021 roku (data wrzucenia zbioru na stronę)\n",
    "- **Slice Thickness**: 1,25 (taka liczba podana w metadanych)\n",
    "- **Kształt zdjęć**: kwadratowe (512x512)\n",
    "- **Podział na zbiór testowy i treningowy**: brak\n",
    "- **Kraj pochodzenia zdjęć**: brak informacji"
   ]
  },
  {
   "cell_type": "markdown",
   "metadata": {},
   "source": [
    "### Balans danych"
   ]
  },
  {
   "cell_type": "markdown",
   "metadata": {},
   "source": [
    "- **Balans klas w zbiorze testowym i treningowym**: brak zbioru treningowego i testowego\n",
    "- **Rozkład wieku pacjentów**: zbliżony do normalnego (Dokładne wykresy w pracy domowej 1)\n",
    "- **Rozkład płci pacjentów**: 76 mężczyzn i 44 kobiety\n",
    "- **Rozkład zdrowotności pacjentów**: wszyscy pacjenci w zbiorze są chorzy na COVID"
   ]
  },
  {
   "cell_type": "code",
   "execution_count": 10,
   "metadata": {},
   "outputs": [
    {
     "data": {
      "text/plain": [
       "<matplotlib.axes._subplots.AxesSubplot at 0x159d9ca4190>"
      ]
     },
     "execution_count": 10,
     "metadata": {},
     "output_type": "execute_result"
    },
    {
     "data": {
      "image/png": "[encoded data removed]",
      "text/plain": [
       "<Figure size 432x288 with 1 Axes>"
      ]
     },
     "metadata": {
      "needs_background": "light"
     },
     "output_type": "display_data"
    }
   ],
   "source": [
    "Path=\"D:/piotr/4 semestr/Warsztaty/Praca domowa 1/\"\n",
    "positive=pd.read_excel(Path+'positive.xlsx')\n",
    "positive[\"Anon Age\"].hist(bins=11)"
   ]
  },
  {
   "cell_type": "markdown",
   "metadata": {},
   "source": [
    "### Analiza metadanych"
   ]
  },
  {
   "cell_type": "markdown",
   "metadata": {},
   "source": [
    "- **Metadane**: dokładnie opisane w pracy domowej 1\n",
    "- **Wiek**: wszystkie dane z dołączonej tabelki, lecz można je również odczytać z metadanych\n",
    "- **Pomieszanie dzieci i dorosłych**: tylko dorośli\n",
    "- **Braki w metadanych**: brak\n",
    "- **Mierzenie poważności zmian**: brak\n",
    "- **Pacjenci covidowi**: tak\n",
    "- **Dane usunięte**: wszystkie"
   ]
  },
  {
   "cell_type": "code",
   "execution_count": 7,
   "metadata": {},
   "outputs": [
    {
     "data": {
      "text/plain": [
       "Dataset.file_meta -------------------------------\n",
       "(0002, 0000) File Meta Information Group Length  UL: 208\n",
       "(0002, 0001) File Meta Information Version       OB: b'\\x00\\x01'\n",
       "(0002, 0002) Media Storage SOP Class UID         UI: CT Image Storage\n",
       "(0002, 0003) Media Storage SOP Instance UID      UI: 1.2.826.0.1.3680043.10.474.419639.210184992547118710998025375435\n",
       "(0002, 0010) Transfer Syntax UID                 UI: JPEG Lossless, Non-Hierarchical, First-Order Prediction (Process 14 [Selection Value 1])\n",
       "(0002, 0012) Implementation Class UID            UI: 1.3.6.1.4.1.22213.1.143\n",
       "(0002, 0013) Implementation Version Name         SH: '0.5'\n",
       "(0002, 0016) Source Application Entity Title     AE: 'POSDA'\n",
       "-------------------------------------------------\n",
       "(0008, 0005) Specific Character Set              CS: 'ISO_IR 100'\n",
       "(0008, 0008) Image Type                          CS: ['ORIGINAL', 'PRIMARY', 'AXIAL']\n",
       "(0008, 0016) SOP Class UID                       UI: CT Image Storage\n",
       "(0008, 0018) SOP Instance UID                    UI: 1.2.826.0.1.3680043.10.474.419639.210184992547118710998025375435\n",
       "(0008, 0020) Study Date                          DA: '20050118'\n",
       "(0008, 0021) Series Date                         DA: '20050118'\n",
       "(0008, 0022) Acquisition Date                    DA: '20050118'\n",
       "(0008, 0023) Content Date                        DA: '20050118'\n",
       "(0008, 0030) Study Time                          TM: '133654.000000'\n",
       "(0008, 0031) Series Time                         TM: '133757'\n",
       "(0008, 0032) Acquisition Time                    TM: '133818.524608'\n",
       "(0008, 0033) Content Time                        TM: '133819'\n",
       "(0008, 0050) Accession Number                    SH: ''\n",
       "(0008, 0060) Modality                            CS: 'CT'\n",
       "(0008, 0070) Manufacturer                        LO: ''\n",
       "(0008, 0090) Referring Physician's Name          PN: ''\n",
       "(0008, 1030) Study Description                   LO: 'CT CHEST HIGH RESOLUTION'\n",
       "(0008, 103e) Series Description                  LO: 'SUPINE CHEST RECON 1&2'\n",
       "(0010, 0010) Patient's Name                      PN: 'MIDRC-RICORD-1B-419639-000340'\n",
       "(0010, 0020) Patient ID                          LO: 'MIDRC-RICORD-1B-419639-000340'\n",
       "(0010, 0030) Patient's Birth Date                DA: ''\n",
       "(0010, 0040) Patient's Sex                       CS: 'F'\n",
       "(0010, 1010) Patient's Age                       AS: '060Y'\n",
       "(0012, 0063) De-identification Method            LO: 'RSNA Covid-19 Dataset Default'\n",
       "(0012, 0064)  De-identification Method Code Sequence  4 item(s) ---- \n",
       "   (0008, 0100) Code Value                          SH: '113100'\n",
       "   (0008, 0102) Coding Scheme Designator            SH: 'DCM'\n",
       "   (0008, 0104) Code Meaning                        LO: 'Basic Application Confidentiality Profile'\n",
       "   ---------\n",
       "   (0008, 0100) Code Value                          SH: '113107'\n",
       "   (0008, 0102) Coding Scheme Designator            SH: 'DCM'\n",
       "   (0008, 0104) Code Meaning                        LO: 'Retain Longitudinal Temporal Information Modified Dates Option'\n",
       "   ---------\n",
       "   (0008, 0100) Code Value                          SH: '113108'\n",
       "   (0008, 0102) Coding Scheme Designator            SH: 'DCM'\n",
       "   (0008, 0104) Code Meaning                        LO: 'Retain Patient Characteristics Option'\n",
       "   ---------\n",
       "   (0008, 0100) Code Value                          SH: '113109'\n",
       "   (0008, 0102) Coding Scheme Designator            SH: 'DCM'\n",
       "   (0008, 0104) Code Meaning                        LO: 'Retain Device Identity Option'\n",
       "   ---------\n",
       "(0013, 0010) Private Creator                     LO: 'CTP'\n",
       "(0013, 1010) Private tag data                    LO: 'MIDRC-RICORD-1B'\n",
       "(0013, 1013) Private tag data                    LO: '49171303'\n",
       "(0018, 0022) Scan Options                        CS: 'HELICAL MODE'\n",
       "(0018, 0050) Slice Thickness                     DS: '1.25'\n",
       "(0018, 0060) KVP                                 DS: '120.0'\n",
       "(0018, 0088) Spacing Between Slices              DS: '1.25'\n",
       "(0018, 0090) Data Collection Diameter            DS: '500.0'\n",
       "(0018, 1020) Software Versions                   LO: 'vct_zeta.4'\n",
       "(0018, 1100) Reconstruction Diameter             DS: '302.0'\n",
       "(0018, 1110) Distance Source to Detector         DS: '949.147'\n",
       "(0018, 1111) Distance Source to Patient          DS: '541.0'\n",
       "(0018, 1120) Gantry/Detector Tilt                DS: '0.0'\n",
       "(0018, 1130) Table Height                        DS: '156.0'\n",
       "(0018, 1140) Rotation Direction                  CS: 'CW'\n",
       "(0018, 1150) Exposure Time                       IS: '400'\n",
       "(0018, 1151) X-Ray Tube Current                  IS: '107'\n",
       "(0018, 1152) Exposure                            IS: '1'\n",
       "(0018, 1160) Filter Type                         SH: 'BODY FILTER'\n",
       "(0018, 1170) Generator Power                     IS: '72000'\n",
       "(0018, 1190) Focal Spot(s)                       DS: '1.2'\n",
       "(0018, 1210) Convolution Kernel                  SH: 'STANDARD'\n",
       "(0018, 5100) Patient Position                    CS: 'FFS'\n",
       "(0018, 9305) Revolution Time                     FD: 0.4\n",
       "(0018, 9306) Single Collimation Width            FD: 0.625\n",
       "(0018, 9307) Total Collimation Width             FD: 40.0\n",
       "(0018, 9309) Table Speed                         FD: 98.4375\n",
       "(0018, 9310) Table Feed per Rotation             FD: 39.375\n",
       "(0018, 9311) Spiral Pitch Factor                 FD: 0.984375\n",
       "(0020, 000d) Study Instance UID                  UI: 1.2.826.0.1.3680043.10.474.419639.209133109710994717376902506379\n",
       "(0020, 000e) Series Instance UID                 UI: 1.2.826.0.1.3680043.10.474.419639.229158095893933518233687709859\n",
       "(0020, 0010) Study ID                            SH: ''\n",
       "(0020, 0011) Series Number                       IS: '2'\n",
       "(0020, 0012) Acquisition Number                  IS: '1'\n",
       "(0020, 0013) Instance Number                     IS: '3'\n",
       "(0020, 0032) Image Position (Patient)            DS: [-162.500, -131.000, -1.000]\n",
       "(0020, 0037) Image Orientation (Patient)         DS: [1.000000, 0.000000, 0.000000, 0.000000, 1.000000, 0.000000]\n",
       "(0020, 0052) Frame of Reference UID              UI: 1.2.826.0.1.3680043.10.474.419639.909910591890081083731416530907\n",
       "(0020, 1040) Position Reference Indicator        LO: 'SN'\n",
       "(0020, 1041) Slice Location                      DS: '-1.0'\n",
       "(0028, 0002) Samples per Pixel                   US: 1\n",
       "(0028, 0004) Photometric Interpretation          CS: 'MONOCHROME2'\n",
       "(0028, 0010) Rows                                US: 512\n",
       "(0028, 0011) Columns                             US: 512\n",
       "(0028, 0030) Pixel Spacing                       DS: [0.589844, 0.589844]\n",
       "(0028, 0100) Bits Allocated                      US: 16\n",
       "(0028, 0101) Bits Stored                         US: 16\n",
       "(0028, 0102) High Bit                            US: 15\n",
       "(0028, 0103) Pixel Representation                US: 1\n",
       "(0028, 0120) Pixel Padding Value                 SS: -2000\n",
       "(0028, 1050) Window Center                       DS: '40.0'\n",
       "(0028, 1051) Window Width                        DS: '400.0'\n",
       "(0028, 1052) Rescale Intercept                   DS: '-1024.0'\n",
       "(0028, 1053) Rescale Slope                       DS: '1.0'\n",
       "(0028, 1054) Rescale Type                        LO: 'HU'\n",
       "(7fe0, 0010) Pixel Data                          OB: Array of 197138 elements"
      ]
     },
     "execution_count": 7,
     "metadata": {},
     "output_type": "execute_result"
    }
   ],
   "source": [
    "import pydicom\n",
    "Path=\"D:/piotr/4 semestr/Warsztaty/negative/MIDRC-RICORD-1B/MIDRC-RICORD-1B-419639-000340/01-18-2005-NA-CT CHEST HIGH RESOLUTION-06379/2.000000-SUPINE CHEST RECON 12-09859/\"\n",
    "ds = pydicom.filereader.dcmread(Path+\"/1-003.dcm\")\n",
    "ds"
   ]
  },
  {
   "cell_type": "markdown",
   "metadata": {},
   "source": [
    "W metadanych otrzymaliśmy dużo informacji. Te najważniejsze jak wiek, czy płeć można również odczytać z tabelki. "
   ]
  },
  {
   "cell_type": "markdown",
   "metadata": {},
   "source": [
    "## Chest-xray-pneumonia"
   ]
  },
  {
   "cell_type": "markdown",
   "metadata": {},
   "source": [
    "### Informacje podstawowe"
   ]
  },
  {
   "cell_type": "markdown",
   "metadata": {},
   "source": [
    "- **Rodzaj bazy danych**: obrazowa\n",
    "- **Zadania**: klasyfikacja zapalenia płuc\n",
    "- **Rodzaj annotacji**: zdjęcia podzielone są na foldery NORMAL i PNEUMONIA\n",
    "- **Choroby czy zmiany chorobowe**: zainfekowane płuca\n",
    "- **Rodzaj zdjęć**: 2D"
   ]
  },
  {
   "cell_type": "markdown",
   "metadata": {},
   "source": [
    "### Dane ilościowe"
   ]
  },
  {
   "cell_type": "markdown",
   "metadata": {},
   "source": [
    "- **Liczba zdjęć**: 5863\n",
    "- **Liczba unikatowych pacjentów**: brak informacji; prawdopodobnie jedno zdjęcie jeden pacjent\n",
    "- **CT/RTG**: RTG\n",
    "- **Projekcje**: wszystkie zdjęcia w tej samej projekcji\n",
    "- **Zdjęcia zdrowego pacjenta**: brak porównania"
   ]
  },
  {
   "cell_type": "markdown",
   "metadata": {},
   "source": [
    "### Informacje o danych"
   ]
  },
  {
   "cell_type": "markdown",
   "metadata": {},
   "source": [
    "- **Rozszerzenie zdjęć**: JPEG\n",
    "- **Sprzęt, na którym wykonano badania**: brak informacji\n",
    "- **Format annotacji**: brak\n",
    "- **Płaszczyzny zdjęć**: rzut z przodu\n",
    "- **Nazwy klas**: foldery nazwane NORMAL i PNEUMONIA\n",
    "- **Kontrast**: brak\n",
    "- **Data wykonania zdjęć**: brak informacji\n",
    "- **Slice thickness**: nie dotyczy\n",
    "- **Kształt zdjęć**: różny (patrz: kod poniżej)\n",
    "- **Podział na zbiór testowy i treningowy**: tak, dodatkowo jest katalog val, w którym znajduje się po 8 zdjęć (Normal i Peumonia)\n",
    "- **Kraj pochodzenia zdjęć**: brak informacji"
   ]
  },
  {
   "cell_type": "markdown",
   "metadata": {},
   "source": [
    "### Balans danych"
   ]
  },
  {
   "cell_type": "markdown",
   "metadata": {},
   "source": [
    "- **Balans klas w zbiorze testowym i treningowym**:\n",
    "    - zbiór treningowy: 5216 zdjęć , w tym:\n",
    "        - 3875 zdjęcia zainfekowanych płuc \n",
    "        - 1341 zdjęć zdrowych płuc \n",
    "    - zbiór testowy: 624 zdjęć, w tym:\n",
    "        - 390 zdjęć zainfekowanych płuc \n",
    "        - 234 zdjęć zdrowych płuc \n",
    "- **Rozkład wieku pacjentów**: brak informacji\n",
    "- **Rozkład płci pacjentów**: brak informacji\n",
    "- **Rozkład zdrowotności pacjentów**: opisany wyżej"
   ]
  },
  {
   "cell_type": "markdown",
   "metadata": {},
   "source": [
    "### Analiza metadanych"
   ]
  },
  {
   "cell_type": "markdown",
   "metadata": {},
   "source": [
    "- **Metadane**: brak\n",
    "- **Wiek**: brak informacji\n",
    "- **Pomieszanie dzieci i dorosłych**: brak danych\n",
    "- **Braki w metadanych**: brak\n",
    "- **Mierzenie poważności zmian**: brak\n",
    "- **Pacjenci covidowi**: nie wiadomo\n",
    "- **Dane usunięte**: wszystkie"
   ]
  },
  {
   "cell_type": "code",
   "execution_count": 1,
   "metadata": {},
   "outputs": [],
   "source": [
    "from os import listdir\n",
    "from os.path import isfile, join\n",
    "path = 'D:/piotr/4 semestr/Warsztaty/chest_xray'\n",
    "all_files = []\n",
    "train_pneumonia = [f for f in listdir(path+'/'+'train/PNEUMONIA') if isfile(join(path+'/'+'train/PNEUMONIA', f))]\n",
    "for file in train_pneumonia:\n",
    "    all_files.append(path+'/'+'train/PNEUMONIA/'+file)\n",
    "train_normal = [f for f in listdir(path+'/'+'train/NORMAL') if isfile(join(path+'/'+'train/NORMAL', f))]\n",
    "for file in train_normal:\n",
    "    all_files.append(path+'/'+'train/NORMAL/'+file)\n",
    "test_pneumonia = [f for f in listdir(path+'/'+'test/PNEUMONIA') if isfile(join(path+'/'+'test/PNEUMONIA', f))]\n",
    "for file in test_pneumonia:\n",
    "    all_files.append(path+'/'+'test/PNEUMONIA/'+file)\n",
    "test_normal = [f for f in listdir(path+'/'+'test/NORMAL') if isfile(join(path+'/'+'test/NORMAL', f))]\n",
    "for file in test_normal:\n",
    "    all_files.append(path+'/'+'test/NORMAL/'+file)"
   ]
  },
  {
   "cell_type": "code",
   "execution_count": 2,
   "metadata": {},
   "outputs": [],
   "source": [
    "from PIL import Image\n",
    "\n",
    "width = []\n",
    "height = []\n",
    "\n",
    "for file in all_files:\n",
    "    width.append(Image.open(file).size[0])\n",
    "    height.append(Image.open(file).size[1])"
   ]
  },
  {
   "cell_type": "code",
   "execution_count": 6,
   "metadata": {},
   "outputs": [
    {
     "data": {
      "text/plain": [
       "Text(0, 0.5, 'height')"
      ]
     },
     "execution_count": 6,
     "metadata": {},
     "output_type": "execute_result"
    },
    {
     "data": {
      "image/png": "[encoded data removed]",
      "text/plain": [
       "<Figure size 432x288 with 1 Axes>"
      ]
     },
     "metadata": {
      "needs_background": "light"
     },
     "output_type": "display_data"
    }
   ],
   "source": [
    "import pandas as pd\n",
    "import matplotlib.pyplot as plt\n",
    "pneumonia_dataframe = pd.DataFrame({'width':width,'height':height})\n",
    "plt.scatter(pneumonia_dataframe[\"width\"],pneumonia_dataframe[\"height\"])\n",
    "plt.xlabel('width')\n",
    "plt.ylabel('height')"
   ]
  }
 ],
 "metadata": {
  "kernelspec": {
   "display_name": "Python 3",
   "language": "python",
   "name": "python3"
  },
  "language_info": {
   "codemirror_mode": {
    "name": "ipython",
    "version": 3
   },
   "file_extension": ".py",
   "mimetype": "text/x-python",
   "name": "python",
   "nbconvert_exporter": "python",
   "pygments_lexer": "ipython3",
   "version": "3.8.3"
  }
 },
 "nbformat": 4,
 "nbformat_minor": 4
}
