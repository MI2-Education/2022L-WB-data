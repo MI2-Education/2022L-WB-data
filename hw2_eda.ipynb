{
 "cells": [
  {
   "cell_type": "code",
   "execution_count": 13,
   "id": "correct-invite",
   "metadata": {},
   "outputs": [],
   "source": [
    "import pandas as pd\n",
    "padchest_df = pd.read_csv('./metadata/padchest/PADCHEST_chest_x_ray_images_labels_160K_01.02.19.csv')\n",
    "jsrt_df1 = pd.read_csv('./metadata/jsrt/CNNDAT_EN.txt', sep=' ', names = ['ImageID', 'Age', 'Sex', 'Type'], index_col=False)\n",
    "jsrt_df2 = pd.read_csv('./metadata/jsrt/CLNDAT_EN.txt', sep='\\t', names = ['ImageID', 'Nodule_size', 'Degree_of_subtlety', 'Age','Sex','X','Y','Type','Location', 'Diagnosis'], index_col=False)"
   ]
  },
  {
   "cell_type": "markdown",
   "id": "veterinary-digit",
   "metadata": {},
   "source": [
    "## Number of images"
   ]
  },
  {
   "cell_type": "code",
   "execution_count": 14,
   "id": "featured-flash",
   "metadata": {},
   "outputs": [],
   "source": [
    "def image_count_total(dfs):\n",
    "    return sum(len(df) for df in dfs)"
   ]
  },
  {
   "cell_type": "code",
   "execution_count": 15,
   "id": "north-campbell",
   "metadata": {},
   "outputs": [
    {
     "name": "stdout",
     "output_type": "stream",
     "text": [
      "Padchest dataset has 160861 images\n"
     ]
    }
   ],
   "source": [
    "print(f'Padchest dataset has {image_count_total([padchest_df])} images')"
   ]
  },
  {
   "cell_type": "code",
   "execution_count": 16,
   "id": "indian-trail",
   "metadata": {},
   "outputs": [
    {
     "name": "stdout",
     "output_type": "stream",
     "text": [
      "JSRT dataset has 247 images\n"
     ]
    }
   ],
   "source": [
    "print(f'JSRT dataset has {image_count_total([jsrt_df1, jsrt_df2])} images')"
   ]
  },
  {
   "cell_type": "code",
   "execution_count": 17,
   "id": "informed-little",
   "metadata": {},
   "outputs": [],
   "source": [
    "def unique_examinations_count_ct(dfs, patient_id_column, date_column):\n",
    "    count = 0\n",
    "    for df in dfs:\n",
    "        tmp = df.groupby([patient_id_column, date_column]).size()\n",
    "        count += sum(tmp.to_frame(name = 'size').reset_index()['size'])\n",
    "    return count"
   ]
  },
  {
   "cell_type": "markdown",
   "id": "given-liberal",
   "metadata": {},
   "source": [
    "## Number of unique patients"
   ]
  },
  {
   "cell_type": "markdown",
   "id": "resistant-gravity",
   "metadata": {},
   "source": [
    "JSRT database does not identify patients."
   ]
  },
  {
   "cell_type": "code",
   "execution_count": 18,
   "id": "impressive-donna",
   "metadata": {},
   "outputs": [],
   "source": [
    "def unique_patients(patient_id_column):\n",
    "    return patient_id_column.nunique()"
   ]
  },
  {
   "cell_type": "code",
   "execution_count": 19,
   "id": "inside-pantyhose",
   "metadata": {
    "scrolled": true
   },
   "outputs": [
    {
     "name": "stdout",
     "output_type": "stream",
     "text": [
      "Padchest dataset has 67625 unique patients\n"
     ]
    }
   ],
   "source": [
    "print(f\"Padchest dataset has {unique_patients(padchest_df['PatientID'])} unique patients\")"
   ]
  },
  {
   "cell_type": "markdown",
   "id": "radical-induction",
   "metadata": {},
   "source": [
    "## Xray Projections"
   ]
  },
  {
   "cell_type": "markdown",
   "id": "junior-reverse",
   "metadata": {},
   "source": [
    "JSRT database does not contain information about projections."
   ]
  },
  {
   "cell_type": "code",
   "execution_count": 20,
   "id": "brave-distinction",
   "metadata": {},
   "outputs": [],
   "source": [
    "def rtg_projections(projection_column):\n",
    "    return projection_column.value_counts()"
   ]
  },
  {
   "cell_type": "markdown",
   "id": "forty-trick",
   "metadata": {},
   "source": [
    "#### Number of different projections in Padchest dataset"
   ]
  },
  {
   "cell_type": "code",
   "execution_count": 21,
   "id": "following-rider",
   "metadata": {},
   "outputs": [
    {
     "data": {
      "text/plain": [
       "PA               91728\n",
       "L                49579\n",
       "AP_horizontal    14346\n",
       "AP                4559\n",
       "COSTAL             630\n",
       "EXCLUDE             11\n",
       "UNK                  8\n",
       "Name: Projection, dtype: int64"
      ]
     },
     "execution_count": 21,
     "metadata": {},
     "output_type": "execute_result"
    }
   ],
   "source": [
    "rtg_projections(padchest_df['Projection'])"
   ]
  },
  {
   "cell_type": "markdown",
   "id": "centered-hurricane",
   "metadata": {},
   "source": [
    "## Types of images and existence of masks"
   ]
  },
  {
   "cell_type": "markdown",
   "id": "affected-excuse",
   "metadata": {},
   "source": [
    "|             | Images Type | Masks            |\n",
    "|-------------|:---------:|------------------|\n",
    "| PadChest    |    RTG    | -                |\n",
    "| JSRT        |    RTG    | -                |\n",
    "| VinDr_CXR   | RTG         | -                |\n",
    "| Covid-CT    | CT        | -                |\n",
    "| Chest Xray  | RTG       | some images |\n",
    "| Lung Cancer | CT         | -                |"
   ]
  },
  {
   "cell_type": "markdown",
   "id": "private-manchester",
   "metadata": {},
   "source": [
    "## DICOM attributes in images\n",
    "\n",
    "None of our datasets contained images in DICOM form"
   ]
  }
 ],
 "metadata": {
  "kernelspec": {
   "display_name": "Python 3",
   "language": "python",
   "name": "python3"
  },
  "language_info": {
   "codemirror_mode": {
    "name": "ipython",
    "version": 3
   },
   "file_extension": ".py",
   "mimetype": "text/x-python",
   "name": "python",
   "nbconvert_exporter": "python",
   "pygments_lexer": "ipython3",
   "version": "3.8.1"
  }
 },
 "nbformat": 4,
 "nbformat_minor": 5
}
