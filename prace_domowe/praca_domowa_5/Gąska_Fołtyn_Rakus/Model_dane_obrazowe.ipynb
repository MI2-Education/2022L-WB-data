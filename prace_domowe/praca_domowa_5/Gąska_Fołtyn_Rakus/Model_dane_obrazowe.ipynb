{
 "cells": [
  {
   "cell_type": "code",
   "execution_count": 44,
   "id": "139a4e02",
   "metadata": {},
   "outputs": [],
   "source": [
    "import tensorflow as tf\n",
    "from tensorflow import keras\n",
    "from tensorflow.keras import layers\n",
    "import PIL\n",
    "from PIL import Image\n",
    "import os\n",
    "from pathlib import Path\n",
    "import numpy as np\n",
    "from sklearn.model_selection import train_test_split\n",
    "import pandas as pd\n",
    "import tensorflow.keras.backend as K\n",
    "from tensorflow.keras.preprocessing.image import ImageDataGenerator\n",
    "from sklearn.metrics import accuracy_score"
   ]
  },
  {
   "cell_type": "code",
   "execution_count": 2,
   "id": "506bff80",
   "metadata": {},
   "outputs": [],
   "source": [
    "labels = pd.read_csv(r'C:\\Users\\aaf6\\Desktop\\WB-2\\Data_full\\etykiety.csv')\n",
    "labels = labels['class']"
   ]
  },
  {
   "cell_type": "code",
   "execution_count": 3,
   "id": "0eb804a8",
   "metadata": {},
   "outputs": [],
   "source": [
    "#Wgranie i przygotowanie danych\n",
    "data = []\n",
    "names = []\n",
    "PATH = r'C:\\Users\\aaf6\\Desktop\\WB-2\\Data_full\\dataformodel'\n",
    "files = Path(PATH).glob('*')\n",
    "for file in files:\n",
    "    names.append(str(file).split('\\\\')[-1])\n",
    "    image = Image.open(file)\n",
    "    data.append(np.asarray(image))"
   ]
  },
  {
   "cell_type": "code",
   "execution_count": 4,
   "id": "444e583f",
   "metadata": {},
   "outputs": [],
   "source": [
    "X_train, X_test, y_train, y_test = train_test_split(data, labels, test_size=0.01, random_state=42)"
   ]
  },
  {
   "cell_type": "code",
   "execution_count": 39,
   "id": "1cadf7d2",
   "metadata": {},
   "outputs": [
    {
     "name": "stdout",
     "output_type": "stream",
     "text": [
      "Found 1344 images belonging to 4 classes.\n"
     ]
    }
   ],
   "source": [
    "train = ImageDataGenerator()\n",
    "train_dataset = train.flow_from_directory(r\"C:\\\\Users\\\\aaf6\\\\Desktop\\\\WB-2\\\\Data_full_train\\\\\")"
   ]
  },
  {
   "cell_type": "code",
   "execution_count": 40,
   "id": "3461c97a",
   "metadata": {},
   "outputs": [
    {
     "name": "stdout",
     "output_type": "stream",
     "text": [
      "Found 400 images belonging to 4 classes.\n"
     ]
    }
   ],
   "source": [
    "test = ImageDataGenerator()\n",
    "test_dataset = train.flow_from_directory(r\"C:\\\\Users\\\\aaf6\\\\Desktop\\\\WB-2\\\\Data_full_test\\\\\")"
   ]
  },
  {
   "cell_type": "code",
   "execution_count": null,
   "id": "06feae44",
   "metadata": {},
   "outputs": [],
   "source": [
    "tf.convert_to_tensor(X_train)"
   ]
  },
  {
   "cell_type": "code",
   "execution_count": null,
   "id": "d36fcf34",
   "metadata": {},
   "outputs": [],
   "source": [
    "X_train = K.constant(X_train)"
   ]
  },
  {
   "cell_type": "code",
   "execution_count": 31,
   "id": "64f3b5d1",
   "metadata": {},
   "outputs": [],
   "source": [
    "model = keras.Sequential(\n",
    "    [\n",
    "        layers.Conv2D(16, (3,3), strides=2, activation=\"relu\"),\n",
    "        layers.MaxPooling2D(pool_size=(2, 2)),\n",
    "        layers.Conv2D(32, (3,3), activation=\"relu\"),\n",
    "        layers.MaxPooling2D(pool_size=(2, 2)),\n",
    "        layers.Dropout(0.1),\n",
    "        layers.Conv2D(64, (3,3), activation=\"relu\"),\n",
    "        layers.MaxPooling2D(pool_size=(2, 2)),\n",
    "        layers.Flatten(),\n",
    "        layers.Dense(128, activation=\"relu\"),\n",
    "        layers.Dropout(0.15),\n",
    "        layers.Dense(4, activation=\"softmax\")\n",
    "    ]\n",
    ")\n"
   ]
  },
  {
   "cell_type": "code",
   "execution_count": 34,
   "id": "335807fa",
   "metadata": {},
   "outputs": [],
   "source": [
    "model_2 = keras.Sequential(\n",
    "    [\n",
    "        layers.Conv2D(16, (3,3), strides=2, activation=\"relu\"),\n",
    "        layers.MaxPooling2D(pool_size=(2, 2)),\n",
    "        layers.Dropout(0.15),\n",
    "        layers.Conv2D(32, (3,3), activation=\"relu\"),\n",
    "        layers.MaxPooling2D(pool_size=(2, 2)),\n",
    "        layers.Dropout(0.1),\n",
    "        layers.Conv2D(64, (3,3), activation=\"relu\"),\n",
    "        layers.MaxPooling2D(pool_size=(2, 2)),\n",
    "        layers.Conv2D(32, (3,3), activation=\"relu\"),\n",
    "        layers.MaxPooling2D(pool_size=(2, 2)),\n",
    "        layers.Flatten(),\n",
    "        layers.Dense(32, activation=\"relu\"),\n",
    "        layers.Dropout(0.15),\n",
    "        layers.Dense(4, activation=\"softmax\")\n",
    "    ]\n",
    ")\n"
   ]
  },
  {
   "cell_type": "code",
   "execution_count": 36,
   "id": "34f342dc",
   "metadata": {},
   "outputs": [],
   "source": [
    "model_3 = keras.Sequential(\n",
    "    [\n",
    "        layers.Conv2D(16, (3,3), strides=2, activation=\"relu\"),\n",
    "        layers.MaxPooling2D(pool_size=(4, 4)),\n",
    "        layers.Dropout(0.15),\n",
    "        layers.Conv2D(32, (4,4), activation=\"relu\"),\n",
    "        layers.MaxPooling2D(pool_size=(4, 4)),\n",
    "        layers.Dropout(0.1),\n",
    "        layers.Flatten(),\n",
    "        layers.Dense(64, activation=\"relu\"),\n",
    "        layers.Dropout(0.15),\n",
    "        layers.Dense(4, activation=\"softmax\")\n",
    "    ]\n",
    ")\n"
   ]
  },
  {
   "cell_type": "code",
   "execution_count": 33,
   "id": "990ef0df",
   "metadata": {},
   "outputs": [
    {
     "name": "stdout",
     "output_type": "stream",
     "text": [
      "Epoch 1/50\n",
      "42/42 [==============================] - 27s 630ms/step - loss: 47.5339 - accuracy: 0.5246\n",
      "Epoch 2/50\n",
      "42/42 [==============================] - 26s 625ms/step - loss: 1.8403 - accuracy: 0.6897\n",
      "Epoch 3/50\n",
      "42/42 [==============================] - 27s 646ms/step - loss: 1.5047 - accuracy: 0.8021\n",
      "Epoch 4/50\n",
      "42/42 [==============================] - 28s 661ms/step - loss: 1.1573 - accuracy: 0.8408\n",
      "Epoch 5/50\n",
      "42/42 [==============================] - 27s 651ms/step - loss: 0.7600 - accuracy: 0.8713\n",
      "Epoch 6/50\n",
      "42/42 [==============================] - 29s 691ms/step - loss: 0.4510 - accuracy: 0.8951\n",
      "Epoch 7/50\n",
      "42/42 [==============================] - 28s 673ms/step - loss: 0.6834 - accuracy: 0.8810\n",
      "Epoch 8/50\n",
      "42/42 [==============================] - 28s 669ms/step - loss: 0.2176 - accuracy: 0.9211\n",
      "Epoch 9/50\n",
      "42/42 [==============================] - 29s 682ms/step - loss: 0.4008 - accuracy: 0.9003\n",
      "Epoch 10/50\n",
      "42/42 [==============================] - 27s 630ms/step - loss: 0.4126 - accuracy: 0.9263\n",
      "Epoch 11/50\n",
      "42/42 [==============================] - 28s 657ms/step - loss: 0.3930 - accuracy: 0.9323\n",
      "Epoch 12/50\n",
      "42/42 [==============================] - 28s 675ms/step - loss: 0.4292 - accuracy: 0.9591\n",
      "Epoch 13/50\n",
      "42/42 [==============================] - 28s 663ms/step - loss: 0.1792 - accuracy: 0.9524\n",
      "Epoch 14/50\n",
      "42/42 [==============================] - 28s 667ms/step - loss: 0.3048 - accuracy: 0.9472\n",
      "Epoch 15/50\n",
      "42/42 [==============================] - 28s 672ms/step - loss: 0.1050 - accuracy: 0.9747\n",
      "Epoch 16/50\n",
      "42/42 [==============================] - 28s 672ms/step - loss: 0.1692 - accuracy: 0.9702\n",
      "Epoch 17/50\n",
      "42/42 [==============================] - 28s 668ms/step - loss: 0.1039 - accuracy: 0.9740\n",
      "Epoch 18/50\n",
      "42/42 [==============================] - 29s 689ms/step - loss: 0.1564 - accuracy: 0.9702\n",
      "Epoch 19/50\n",
      "42/42 [==============================] - 29s 693ms/step - loss: 0.2086 - accuracy: 0.9635\n",
      "Epoch 20/50\n",
      "42/42 [==============================] - 26s 625ms/step - loss: 0.0450 - accuracy: 0.9896\n",
      "Epoch 21/50\n",
      "42/42 [==============================] - 26s 623ms/step - loss: 0.2704 - accuracy: 0.9635\n",
      "Epoch 22/50\n",
      "42/42 [==============================] - 25s 593ms/step - loss: 0.0992 - accuracy: 0.9799\n",
      "Epoch 23/50\n",
      "42/42 [==============================] - 26s 622ms/step - loss: 0.1040 - accuracy: 0.9814\n",
      "Epoch 24/50\n",
      "42/42 [==============================] - 28s 652ms/step - loss: 0.1874 - accuracy: 0.9740\n",
      "Epoch 25/50\n",
      "42/42 [==============================] - 29s 683ms/step - loss: 0.1577 - accuracy: 0.9799\n",
      "Epoch 26/50\n",
      "42/42 [==============================] - 27s 631ms/step - loss: 0.0350 - accuracy: 0.9926\n",
      "Epoch 27/50\n",
      "42/42 [==============================] - 28s 674ms/step - loss: 0.4830 - accuracy: 0.9814\n",
      "Epoch 28/50\n",
      "42/42 [==============================] - 28s 652ms/step - loss: 0.0859 - accuracy: 0.9851\n",
      "Epoch 29/50\n",
      "42/42 [==============================] - 26s 607ms/step - loss: 0.1347 - accuracy: 0.9807\n",
      "Epoch 30/50\n",
      "42/42 [==============================] - 29s 675ms/step - loss: 0.0442 - accuracy: 0.9888\n",
      "Epoch 31/50\n",
      "42/42 [==============================] - 29s 693ms/step - loss: 0.7068 - accuracy: 0.9814\n",
      "Epoch 32/50\n",
      "42/42 [==============================] - 27s 642ms/step - loss: 3.2640 - accuracy: 0.9658\n",
      "Epoch 33/50\n",
      "42/42 [==============================] - 27s 637ms/step - loss: 0.0551 - accuracy: 0.9874\n",
      "Epoch 34/50\n",
      "42/42 [==============================] - 27s 644ms/step - loss: 0.1810 - accuracy: 0.9851\n",
      "Epoch 35/50\n",
      "42/42 [==============================] - 27s 634ms/step - loss: 0.0356 - accuracy: 0.9911\n",
      "Epoch 36/50\n",
      "42/42 [==============================] - 28s 657ms/step - loss: 0.1549 - accuracy: 0.9792\n",
      "Epoch 37/50\n",
      "42/42 [==============================] - 27s 645ms/step - loss: 0.3086 - accuracy: 0.9754\n",
      "Epoch 38/50\n",
      "42/42 [==============================] - 26s 628ms/step - loss: 0.8571 - accuracy: 0.9814\n",
      "Epoch 39/50\n",
      "42/42 [==============================] - 27s 649ms/step - loss: 0.0910 - accuracy: 0.9896\n",
      "Epoch 40/50\n",
      "42/42 [==============================] - 28s 655ms/step - loss: 2.5348 - accuracy: 0.9740\n",
      "Epoch 41/50\n",
      "42/42 [==============================] - 27s 640ms/step - loss: 0.0753 - accuracy: 0.9896\n",
      "Epoch 42/50\n",
      "42/42 [==============================] - 27s 642ms/step - loss: 1.5766 - accuracy: 0.9725\n",
      "Epoch 43/50\n",
      "42/42 [==============================] - 27s 650ms/step - loss: 0.2794 - accuracy: 0.9866\n",
      "Epoch 44/50\n",
      "42/42 [==============================] - 26s 610ms/step - loss: 0.0704 - accuracy: 0.9903\n",
      "Epoch 45/50\n",
      "42/42 [==============================] - 27s 644ms/step - loss: 0.1880 - accuracy: 0.9799\n",
      "Epoch 46/50\n",
      "42/42 [==============================] - 27s 642ms/step - loss: 0.0803 - accuracy: 0.9955\n",
      "Epoch 47/50\n",
      "42/42 [==============================] - 27s 636ms/step - loss: 0.0982 - accuracy: 0.9896\n",
      "Epoch 48/50\n",
      "42/42 [==============================] - 27s 632ms/step - loss: 0.0566 - accuracy: 0.9888\n",
      "Epoch 49/50\n",
      "42/42 [==============================] - 27s 649ms/step - loss: 0.0549 - accuracy: 0.9896\n",
      "Epoch 50/50\n",
      "42/42 [==============================] - 26s 623ms/step - loss: 0.2253 - accuracy: 0.9896\n"
     ]
    },
    {
     "ename": "AttributeError",
     "evalue": "'Sequential' object has no attribute 'precict'",
     "output_type": "error",
     "traceback": [
      "\u001b[1;31m---------------------------------------------------------------------------\u001b[0m",
      "\u001b[1;31mAttributeError\u001b[0m                            Traceback (most recent call last)",
      "\u001b[1;32m~\\AppData\\Local\\Temp\\ipykernel_19608\\2177563535.py\u001b[0m in \u001b[0;36m<cell line: 3>\u001b[1;34m()\u001b[0m\n\u001b[0;32m      1\u001b[0m \u001b[0mmodel\u001b[0m\u001b[1;33m.\u001b[0m\u001b[0mcompile\u001b[0m\u001b[1;33m(\u001b[0m\u001b[0moptimizer\u001b[0m\u001b[1;33m=\u001b[0m\u001b[1;34m\"rmsprop\"\u001b[0m\u001b[1;33m,\u001b[0m\u001b[0mmetrics\u001b[0m\u001b[1;33m=\u001b[0m\u001b[1;33m[\u001b[0m\u001b[1;34m'accuracy'\u001b[0m\u001b[1;33m]\u001b[0m\u001b[1;33m,\u001b[0m\u001b[0mloss\u001b[0m\u001b[1;33m=\u001b[0m\u001b[1;34m'categorical_crossentropy'\u001b[0m\u001b[1;33m)\u001b[0m\u001b[1;33m\u001b[0m\u001b[1;33m\u001b[0m\u001b[0m\n\u001b[0;32m      2\u001b[0m \u001b[0mmodel\u001b[0m\u001b[1;33m.\u001b[0m\u001b[0mfit\u001b[0m\u001b[1;33m(\u001b[0m\u001b[0mx\u001b[0m\u001b[1;33m=\u001b[0m\u001b[0mtrain_dataset\u001b[0m\u001b[1;33m,\u001b[0m \u001b[0mbatch_size\u001b[0m\u001b[1;33m=\u001b[0m\u001b[1;36m32\u001b[0m\u001b[1;33m,\u001b[0m \u001b[0mepochs\u001b[0m\u001b[1;33m=\u001b[0m\u001b[1;36m50\u001b[0m\u001b[1;33m)\u001b[0m\u001b[1;33m\u001b[0m\u001b[1;33m\u001b[0m\u001b[0m\n\u001b[1;32m----> 3\u001b[1;33m \u001b[0mmodel\u001b[0m\u001b[1;33m.\u001b[0m\u001b[0mprecict\u001b[0m\u001b[1;33m(\u001b[0m\u001b[0mx\u001b[0m\u001b[1;33m)\u001b[0m\u001b[1;33m\u001b[0m\u001b[1;33m\u001b[0m\u001b[0m\n\u001b[0m",
      "\u001b[1;31mAttributeError\u001b[0m: 'Sequential' object has no attribute 'precict'"
     ]
    }
   ],
   "source": [
    "model.compile(optimizer=\"rmsprop\",metrics=['accuracy'],loss='categorical_crossentropy')\n",
    "model.fit(x=train_dataset, batch_size=32, epochs=50)"
   ]
  },
  {
   "cell_type": "code",
   "execution_count": 35,
   "id": "4cc01e77",
   "metadata": {},
   "outputs": [
    {
     "name": "stdout",
     "output_type": "stream",
     "text": [
      "Epoch 1/20\n",
      "42/42 [==============================] - 29s 646ms/step - loss: 11.9510 - accuracy: 0.3065\n",
      "Epoch 2/20\n",
      "42/42 [==============================] - 29s 700ms/step - loss: 1.5016 - accuracy: 0.3661\n",
      "Epoch 3/20\n",
      "42/42 [==============================] - 29s 686ms/step - loss: 1.2450 - accuracy: 0.4970\n",
      "Epoch 4/20\n",
      "42/42 [==============================] - 36s 870ms/step - loss: 0.9306 - accuracy: 0.6295\n",
      "Epoch 5/20\n",
      "42/42 [==============================] - 49s 1s/step - loss: 0.7584 - accuracy: 0.7195\n",
      "Epoch 6/20\n",
      "42/42 [==============================] - 47s 1s/step - loss: 0.6617 - accuracy: 0.7634\n",
      "Epoch 7/20\n",
      "42/42 [==============================] - 48s 1s/step - loss: 0.5751 - accuracy: 0.7894\n",
      "Epoch 8/20\n",
      "42/42 [==============================] - 46s 1s/step - loss: 0.4729 - accuracy: 0.8371\n",
      "Epoch 9/20\n",
      "42/42 [==============================] - 46s 1s/step - loss: 0.4254 - accuracy: 0.8579\n",
      "Epoch 10/20\n",
      "42/42 [==============================] - 46s 1s/step - loss: 0.3795 - accuracy: 0.8594\n",
      "Epoch 11/20\n",
      "42/42 [==============================] - 48s 1s/step - loss: 0.3113 - accuracy: 0.8862\n",
      "Epoch 12/20\n",
      "42/42 [==============================] - 46s 1s/step - loss: 0.4746 - accuracy: 0.8668\n",
      "Epoch 13/20\n",
      "42/42 [==============================] - 46s 1s/step - loss: 0.2435 - accuracy: 0.9211\n",
      "Epoch 14/20\n",
      "42/42 [==============================] - 46s 1s/step - loss: 0.3259 - accuracy: 0.8891\n",
      "Epoch 15/20\n",
      "42/42 [==============================] - 46s 1s/step - loss: 0.2480 - accuracy: 0.9219\n",
      "Epoch 16/20\n",
      "42/42 [==============================] - 46s 1s/step - loss: 0.1932 - accuracy: 0.9323\n",
      "Epoch 17/20\n",
      "42/42 [==============================] - 46s 1s/step - loss: 0.2032 - accuracy: 0.9345\n",
      "Epoch 18/20\n",
      "42/42 [==============================] - 47s 1s/step - loss: 0.2416 - accuracy: 0.9159\n",
      "Epoch 19/20\n",
      "42/42 [==============================] - 47s 1s/step - loss: 0.2387 - accuracy: 0.9263\n",
      "Epoch 20/20\n",
      "42/42 [==============================] - 46s 1s/step - loss: 0.1959 - accuracy: 0.9435\n"
     ]
    },
    {
     "data": {
      "text/plain": [
       "<keras.callbacks.History at 0x1dd45e79c40>"
      ]
     },
     "execution_count": 35,
     "metadata": {},
     "output_type": "execute_result"
    }
   ],
   "source": [
    "model_2.compile(optimizer=\"rmsprop\",metrics=['accuracy'],loss='categorical_crossentropy')\n",
    "model_2.fit(x=train_dataset, batch_size=32, epochs=20)"
   ]
  },
  {
   "cell_type": "code",
   "execution_count": 37,
   "id": "406d9917",
   "metadata": {},
   "outputs": [
    {
     "name": "stdout",
     "output_type": "stream",
     "text": [
      "Epoch 1/20\n",
      "42/42 [==============================] - 43s 934ms/step - loss: 29.0291 - accuracy: 0.4196\n",
      "Epoch 2/20\n",
      "42/42 [==============================] - 38s 904ms/step - loss: 1.4224 - accuracy: 0.5439\n",
      "Epoch 3/20\n",
      "42/42 [==============================] - 44s 1s/step - loss: 0.9090 - accuracy: 0.6994\n",
      "Epoch 4/20\n",
      "42/42 [==============================] - 42s 1s/step - loss: 0.7423 - accuracy: 0.7634\n",
      "Epoch 5/20\n",
      "42/42 [==============================] - 42s 1s/step - loss: 0.5227 - accuracy: 0.8147\n",
      "Epoch 6/20\n",
      "42/42 [==============================] - 42s 1s/step - loss: 0.4485 - accuracy: 0.8534\n",
      "Epoch 7/20\n",
      "42/42 [==============================] - 42s 993ms/step - loss: 0.3551 - accuracy: 0.8884\n",
      "Epoch 8/20\n",
      "42/42 [==============================] - 42s 1s/step - loss: 0.3665 - accuracy: 0.8839\n",
      "Epoch 9/20\n",
      "42/42 [==============================] - 43s 1s/step - loss: 0.2924 - accuracy: 0.9085\n",
      "Epoch 10/20\n",
      "42/42 [==============================] - 49s 1s/step - loss: 0.2793 - accuracy: 0.9189\n",
      "Epoch 11/20\n",
      "42/42 [==============================] - 42s 985ms/step - loss: 0.2528 - accuracy: 0.9010\n",
      "Epoch 12/20\n",
      "42/42 [==============================] - 41s 968ms/step - loss: 0.2574 - accuracy: 0.9115\n",
      "Epoch 13/20\n",
      "42/42 [==============================] - 44s 1s/step - loss: 0.2508 - accuracy: 0.9286\n",
      "Epoch 14/20\n",
      "42/42 [==============================] - 43s 1s/step - loss: 0.1733 - accuracy: 0.9509\n",
      "Epoch 15/20\n",
      "42/42 [==============================] - 44s 1s/step - loss: 0.1694 - accuracy: 0.9375\n",
      "Epoch 16/20\n",
      "42/42 [==============================] - 42s 991ms/step - loss: 0.2250 - accuracy: 0.9435\n",
      "Epoch 17/20\n",
      "42/42 [==============================] - 41s 978ms/step - loss: 0.1614 - accuracy: 0.9457\n",
      "Epoch 18/20\n",
      "42/42 [==============================] - 41s 973ms/step - loss: 0.3896 - accuracy: 0.9360\n",
      "Epoch 19/20\n",
      "42/42 [==============================] - 40s 955ms/step - loss: 0.1633 - accuracy: 0.9621\n",
      "Epoch 20/20\n",
      "42/42 [==============================] - 40s 952ms/step - loss: 0.1811 - accuracy: 0.9449\n"
     ]
    },
    {
     "data": {
      "text/plain": [
       "<keras.callbacks.History at 0x1dd45ed02e0>"
      ]
     },
     "execution_count": 37,
     "metadata": {},
     "output_type": "execute_result"
    }
   ],
   "source": [
    "model_3.compile(optimizer=\"rmsprop\",metrics=['accuracy'],loss='categorical_crossentropy')\n",
    "model_3.fit(x=train_dataset, batch_size=32, epochs=20)"
   ]
  },
  {
   "cell_type": "code",
   "execution_count": 42,
   "id": "a40da88f",
   "metadata": {},
   "outputs": [],
   "source": [
    "labels_pred = model.predict(test_dataset)"
   ]
  },
  {
   "cell_type": "code",
   "execution_count": 51,
   "id": "cbe663a7",
   "metadata": {},
   "outputs": [],
   "source": [
    "def chose_max(x):\n",
    "    return x.index(max(x))"
   ]
  },
  {
   "cell_type": "code",
   "execution_count": 55,
   "id": "68d00846",
   "metadata": {},
   "outputs": [],
   "source": [
    "labels_predicted = []\n",
    "for i in range(labels_pred.shape[0]):\n",
    "    labels_predicted.append(list(labels_pred[i]).index(max(labels_pred[i])))"
   ]
  },
  {
   "cell_type": "code",
   "execution_count": 59,
   "id": "ccfd68e7",
   "metadata": {},
   "outputs": [
    {
     "data": {
      "text/plain": [
       "array([1, 1, 2, 3, 2, 2, 0, 1, 2, 1, 1, 3, 2, 2, 2, 0, 2, 1, 2, 0, 2, 2,\n",
       "       2, 1, 3, 1, 1, 1, 1, 2, 3, 2, 2, 1, 0, 2, 1, 3, 2, 3, 3, 1, 3, 3,\n",
       "       2, 1, 1, 2, 2, 2, 2, 1, 0, 1, 1, 3, 2, 3, 2, 1, 3, 0, 0, 0, 3, 3,\n",
       "       2, 2, 2, 2, 0, 2, 1, 1, 0, 2, 1, 2, 2, 2, 1, 2, 1, 3, 3, 1, 1, 2,\n",
       "       2, 3, 1, 2, 2, 2, 2, 2, 2, 3, 2, 2, 1, 2, 3, 3, 2, 3, 1, 2, 0, 3,\n",
       "       3, 2, 1, 0, 3, 1, 0, 2, 2, 3, 2, 0, 2, 3, 0, 2, 2, 3, 2, 3, 3, 1,\n",
       "       2, 1, 0, 2, 3, 3, 1, 3, 2, 3, 0, 2, 3, 0, 0, 3, 3, 2, 2, 3, 0, 2,\n",
       "       3, 2, 0, 1, 1, 2, 2, 2, 2, 2, 3, 3, 3, 3, 0, 2, 2, 1, 3, 1, 2, 2,\n",
       "       1, 1, 3, 1, 2, 3, 1, 2, 2, 3, 3, 3, 2, 1, 0, 2, 3, 2, 2, 2, 2, 2,\n",
       "       3, 2, 2, 2, 3, 2, 2, 2, 2, 1, 1, 3, 3, 3, 0, 3, 2, 2, 1, 0, 2, 2,\n",
       "       1, 3, 3, 2, 1, 2, 1, 3, 2, 3, 3, 1, 2, 1, 2, 3, 3, 3, 2, 3, 2, 0,\n",
       "       1, 3, 0, 1, 2, 2, 3, 1, 2, 1, 2, 3, 2, 0, 1, 2, 0, 2, 2, 2, 2, 2,\n",
       "       2, 1, 2, 2, 3, 2, 1, 2, 1, 0, 2, 3, 2, 1, 2, 3, 0, 2, 1, 2, 2, 2,\n",
       "       2, 0, 1, 1, 2, 2, 2, 2, 1, 1, 0, 2, 2, 1, 2, 3, 3, 0, 3, 1, 3, 2,\n",
       "       2, 2, 2, 1, 2, 1, 1, 0, 2, 3, 3, 2, 3, 1, 2, 2, 3, 2, 2, 1, 3, 1,\n",
       "       1, 2, 3, 3, 1, 2, 2, 2, 0, 1, 1, 3, 2, 1, 2, 2, 3, 0, 2, 1, 2, 2,\n",
       "       1, 2, 2, 3, 2, 1, 3, 1, 3, 3, 2, 2, 2, 3, 0, 3, 3, 2, 3, 2, 2, 1,\n",
       "       2, 2, 3, 3, 2, 2, 2, 2, 3, 3, 2, 3, 3, 2, 0, 2, 3, 1, 1, 1, 1, 3,\n",
       "       2, 1, 3, 2])"
      ]
     },
     "execution_count": 59,
     "metadata": {},
     "output_type": "execute_result"
    }
   ],
   "source": [
    "np.array(labels_predicted)"
   ]
  },
  {
   "cell_type": "code",
   "execution_count": 43,
   "id": "068800a0",
   "metadata": {},
   "outputs": [
    {
     "data": {
      "text/plain": [
       "array([0, 0, 0, 0, 0, 0, 0, 0, 0, 0, 0, 0, 0, 0, 0, 0, 0, 0, 0, 0, 0, 0,\n",
       "       0, 0, 0, 0, 0, 0, 0, 0, 0, 0, 0, 0, 0, 0, 0, 0, 0, 0, 0, 0, 0, 0,\n",
       "       0, 0, 0, 0, 0, 0, 0, 0, 0, 0, 0, 0, 0, 0, 0, 0, 0, 0, 0, 0, 0, 0,\n",
       "       0, 0, 0, 0, 0, 0, 0, 0, 0, 0, 0, 0, 0, 0, 0, 0, 0, 0, 0, 0, 0, 0,\n",
       "       0, 0, 0, 0, 0, 0, 0, 0, 0, 0, 0, 0, 1, 1, 1, 1, 1, 1, 1, 1, 1, 1,\n",
       "       1, 1, 1, 1, 1, 1, 1, 1, 1, 1, 1, 1, 1, 1, 1, 1, 1, 1, 1, 1, 1, 1,\n",
       "       1, 1, 1, 1, 1, 1, 1, 1, 1, 1, 1, 1, 1, 1, 1, 1, 1, 1, 1, 1, 1, 1,\n",
       "       1, 1, 1, 1, 1, 1, 1, 1, 1, 1, 1, 1, 1, 1, 1, 1, 1, 1, 1, 1, 1, 1,\n",
       "       1, 1, 1, 1, 1, 1, 1, 1, 1, 1, 1, 1, 1, 1, 1, 1, 1, 1, 1, 1, 1, 1,\n",
       "       1, 1, 2, 2, 2, 2, 2, 2, 2, 2, 2, 2, 2, 2, 2, 2, 2, 2, 2, 2, 2, 2,\n",
       "       2, 2, 2, 2, 2, 2, 2, 2, 2, 2, 2, 2, 2, 2, 2, 2, 2, 2, 2, 2, 2, 2,\n",
       "       2, 2, 2, 2, 2, 2, 2, 2, 2, 2, 2, 2, 2, 2, 2, 2, 2, 2, 2, 2, 2, 2,\n",
       "       2, 2, 2, 2, 2, 2, 2, 2, 2, 2, 2, 2, 2, 2, 2, 2, 2, 2, 2, 2, 2, 2,\n",
       "       2, 2, 2, 2, 2, 2, 2, 2, 2, 2, 2, 2, 2, 2, 3, 3, 3, 3, 3, 3, 3, 3,\n",
       "       3, 3, 3, 3, 3, 3, 3, 3, 3, 3, 3, 3, 3, 3, 3, 3, 3, 3, 3, 3, 3, 3,\n",
       "       3, 3, 3, 3, 3, 3, 3, 3, 3, 3, 3, 3, 3, 3, 3, 3, 3, 3, 3, 3, 3, 3,\n",
       "       3, 3, 3, 3, 3, 3, 3, 3, 3, 3, 3, 3, 3, 3, 3, 3, 3, 3, 3, 3, 3, 3,\n",
       "       3, 3, 3, 3, 3, 3, 3, 3, 3, 3, 3, 3, 3, 3, 3, 3, 3, 3, 3, 3, 3, 3,\n",
       "       3, 3, 3, 3])"
      ]
     },
     "execution_count": 43,
     "metadata": {},
     "output_type": "execute_result"
    }
   ],
   "source": [
    "test_dataset.classes"
   ]
  },
  {
   "cell_type": "code",
   "execution_count": 57,
   "id": "3ffe3e10",
   "metadata": {},
   "outputs": [
    {
     "data": {
      "text/plain": [
       "0.2575"
      ]
     },
     "execution_count": 57,
     "metadata": {},
     "output_type": "execute_result"
    }
   ],
   "source": [
    "accuracy_score(test_dataset.classes, labels_predicted)"
   ]
  },
  {
   "cell_type": "code",
   "execution_count": null,
   "id": "a5fdab40",
   "metadata": {},
   "outputs": [],
   "source": []
  }
 ],
 "metadata": {
  "kernelspec": {
   "display_name": "Python 3 (ipykernel)",
   "language": "python",
   "name": "python3"
  },
  "language_info": {
   "codemirror_mode": {
    "name": "ipython",
    "version": 3
   },
   "file_extension": ".py",
   "mimetype": "text/x-python",
   "name": "python",
   "nbconvert_exporter": "python",
   "pygments_lexer": "ipython3",
   "version": "3.8.8"
  }
 },
 "nbformat": 4,
 "nbformat_minor": 5
}
