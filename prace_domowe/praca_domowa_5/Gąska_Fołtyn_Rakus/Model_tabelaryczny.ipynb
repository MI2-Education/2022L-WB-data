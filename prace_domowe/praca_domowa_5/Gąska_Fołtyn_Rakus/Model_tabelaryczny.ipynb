{
 "cells": [
  {
   "cell_type": "markdown",
   "id": "b4bb1493",
   "metadata": {},
   "source": [
    "# Model na danych tabelarycznych"
   ]
  },
  {
   "cell_type": "code",
   "execution_count": 1,
   "id": "ce2476a5",
   "metadata": {},
   "outputs": [],
   "source": [
    "import pandas as pd\n",
    "import numpy as np\n",
    "import pydicom\n",
    "from sklearn.model_selection import train_test_split\n",
    "from xgboost import XGBClassifier\n",
    "from scipy.stats import skew"
   ]
  },
  {
   "cell_type": "code",
   "execution_count": 2,
   "id": "ddf03c09",
   "metadata": {},
   "outputs": [],
   "source": [
    "df = pd.read_csv('RSNA/df_processed.csv')"
   ]
  },
  {
   "cell_type": "markdown",
   "id": "8007845b",
   "metadata": {},
   "source": [
    "Pozbądżmy się zbędnych zmiennych."
   ]
  },
  {
   "cell_type": "code",
   "execution_count": 3,
   "id": "fa79a713",
   "metadata": {},
   "outputs": [],
   "source": [
    "df.drop([\"Unnamed: 0\", 'ID', 'x', 'y', 'width', 'height'], axis=1, inplace=True)"
   ]
  },
  {
   "cell_type": "markdown",
   "id": "598457d5",
   "metadata": {},
   "source": [
    "### Dodanie dodatkowych danych\n",
    "Na samej płci i wieku model dużo się nie nauczy (model na samym dole), więc dodajmy kilka statystyk na podstawie wartości pikseli."
   ]
  },
  {
   "cell_type": "code",
   "execution_count": null,
   "id": "8bbc08ec",
   "metadata": {},
   "outputs": [],
   "source": [
    "img_list = df['Img'].to_list()\n",
    "n = len(img_list)\n",
    "mean_list = [None for _ in range(n)]\n",
    "median_list = [None for _ in range(n)]\n",
    "variance_list = [None for _ in range(n)]\n",
    "skew_list = [None for _ in range(n)]\n",
    "max_list = [None for _ in range(n)]"
   ]
  },
  {
   "cell_type": "code",
   "execution_count": null,
   "id": "78bbbd9e",
   "metadata": {},
   "outputs": [],
   "source": [
    "for i, img in enumerate(img_list):\n",
    "    print(f'{i+1}/{n}', end='\\r')\n",
    "    pa = pydicom.dcmread(img).pixel_array\n",
    "    mean_list[i] = np.mean(pa)\n",
    "    median_list[i] = np.median(pa)\n",
    "    variance_list[i] = np.var(pa)\n",
    "    skew_list[i] = skew(pa, axis=None)\n",
    "    max_list[i] = np.max(pa)"
   ]
  },
  {
   "cell_type": "code",
   "execution_count": null,
   "id": "6253cb94",
   "metadata": {},
   "outputs": [],
   "source": [
    "df = df.assign(mean = mean_list, median = median_list, variance = variance_list, skewness = skew_list, maximum = np.array(max_list, dtype='int16'))"
   ]
  },
  {
   "cell_type": "code",
   "execution_count": null,
   "id": "6b8f9cc4",
   "metadata": {},
   "outputs": [],
   "source": [
    "df.to_csv('RSNA/df2.csv')"
   ]
  },
  {
   "cell_type": "code",
   "execution_count": 4,
   "id": "192f8079",
   "metadata": {},
   "outputs": [],
   "source": [
    "df = pd.read_csv('RSNA/df2.csv')\n",
    "df.drop(['Unnamed: 0', 'Img'], axis=1, inplace=True)"
   ]
  },
  {
   "cell_type": "code",
   "execution_count": 5,
   "id": "3b2d408a",
   "metadata": {},
   "outputs": [
    {
     "data": {
      "text/html": [
       "<div>\n",
       "<style scoped>\n",
       "    .dataframe tbody tr th:only-of-type {\n",
       "        vertical-align: middle;\n",
       "    }\n",
       "\n",
       "    .dataframe tbody tr th {\n",
       "        vertical-align: top;\n",
       "    }\n",
       "\n",
       "    .dataframe thead th {\n",
       "        text-align: right;\n",
       "    }\n",
       "</style>\n",
       "<table border=\"1\" class=\"dataframe\">\n",
       "  <thead>\n",
       "    <tr style=\"text-align: right;\">\n",
       "      <th></th>\n",
       "      <th>Sex</th>\n",
       "      <th>Age</th>\n",
       "      <th>View_position</th>\n",
       "      <th>Target</th>\n",
       "      <th>mean</th>\n",
       "      <th>median</th>\n",
       "      <th>variance</th>\n",
       "      <th>skewness</th>\n",
       "      <th>maximum</th>\n",
       "    </tr>\n",
       "  </thead>\n",
       "  <tbody>\n",
       "    <tr>\n",
       "      <th>0</th>\n",
       "      <td>0</td>\n",
       "      <td>0.549451</td>\n",
       "      <td>0</td>\n",
       "      <td>0</td>\n",
       "      <td>120.191807</td>\n",
       "      <td>127.0</td>\n",
       "      <td>5457.311050</td>\n",
       "      <td>-0.152086</td>\n",
       "      <td>245</td>\n",
       "    </tr>\n",
       "    <tr>\n",
       "      <th>1</th>\n",
       "      <td>0</td>\n",
       "      <td>0.197802</td>\n",
       "      <td>1</td>\n",
       "      <td>0</td>\n",
       "      <td>114.285375</td>\n",
       "      <td>130.0</td>\n",
       "      <td>4309.093087</td>\n",
       "      <td>-0.513114</td>\n",
       "      <td>255</td>\n",
       "    </tr>\n",
       "    <tr>\n",
       "      <th>2</th>\n",
       "      <td>0</td>\n",
       "      <td>0.263736</td>\n",
       "      <td>1</td>\n",
       "      <td>1</td>\n",
       "      <td>109.134285</td>\n",
       "      <td>116.0</td>\n",
       "      <td>2963.487241</td>\n",
       "      <td>-0.604387</td>\n",
       "      <td>209</td>\n",
       "    </tr>\n",
       "    <tr>\n",
       "      <th>3</th>\n",
       "      <td>0</td>\n",
       "      <td>0.263736</td>\n",
       "      <td>1</td>\n",
       "      <td>1</td>\n",
       "      <td>109.134285</td>\n",
       "      <td>116.0</td>\n",
       "      <td>2963.487241</td>\n",
       "      <td>-0.604387</td>\n",
       "      <td>209</td>\n",
       "    </tr>\n",
       "    <tr>\n",
       "      <th>4</th>\n",
       "      <td>1</td>\n",
       "      <td>0.428571</td>\n",
       "      <td>1</td>\n",
       "      <td>1</td>\n",
       "      <td>129.509637</td>\n",
       "      <td>144.0</td>\n",
       "      <td>2685.265685</td>\n",
       "      <td>-1.068362</td>\n",
       "      <td>233</td>\n",
       "    </tr>\n",
       "  </tbody>\n",
       "</table>\n",
       "</div>"
      ],
      "text/plain": [
       "   Sex       Age  View_position  Target        mean  median     variance  \\\n",
       "0    0  0.549451              0       0  120.191807   127.0  5457.311050   \n",
       "1    0  0.197802              1       0  114.285375   130.0  4309.093087   \n",
       "2    0  0.263736              1       1  109.134285   116.0  2963.487241   \n",
       "3    0  0.263736              1       1  109.134285   116.0  2963.487241   \n",
       "4    1  0.428571              1       1  129.509637   144.0  2685.265685   \n",
       "\n",
       "   skewness  maximum  \n",
       "0 -0.152086      245  \n",
       "1 -0.513114      255  \n",
       "2 -0.604387      209  \n",
       "3 -0.604387      209  \n",
       "4 -1.068362      233  "
      ]
     },
     "execution_count": 5,
     "metadata": {},
     "output_type": "execute_result"
    }
   ],
   "source": [
    "df.head()"
   ]
  },
  {
   "cell_type": "markdown",
   "id": "ce73bca4",
   "metadata": {},
   "source": [
    "Należy pozbyć się view_position (AP czy PA), ponieważ jest on zbyt mocno skorelowany z chorobą - wynika to z faktu iż zdjęcia w jednej z pozycji są robione dla osób, które są w złym stanie zdrowotnym, co zwykle samo w sobie wiąże się z chorobą."
   ]
  },
  {
   "cell_type": "code",
   "execution_count": 6,
   "id": "7cfaeec5",
   "metadata": {},
   "outputs": [],
   "source": [
    "df.drop('View_position', axis=1, inplace=True)"
   ]
  },
  {
   "cell_type": "code",
   "execution_count": 15,
   "id": "3f70d454",
   "metadata": {},
   "outputs": [],
   "source": [
    "X_train, X_test, y_train, y_test = train_test_split(df.drop('Target', axis=1), df['Target'], random_state=42, test_size=0.3)"
   ]
  },
  {
   "cell_type": "code",
   "execution_count": 16,
   "id": "7e624c65",
   "metadata": {},
   "outputs": [
    {
     "data": {
      "text/html": [
       "<div>\n",
       "<style scoped>\n",
       "    .dataframe tbody tr th:only-of-type {\n",
       "        vertical-align: middle;\n",
       "    }\n",
       "\n",
       "    .dataframe tbody tr th {\n",
       "        vertical-align: top;\n",
       "    }\n",
       "\n",
       "    .dataframe thead th {\n",
       "        text-align: right;\n",
       "    }\n",
       "</style>\n",
       "<table border=\"1\" class=\"dataframe\">\n",
       "  <thead>\n",
       "    <tr style=\"text-align: right;\">\n",
       "      <th></th>\n",
       "      <th>Sex</th>\n",
       "      <th>Age</th>\n",
       "      <th>mean</th>\n",
       "      <th>median</th>\n",
       "      <th>variance</th>\n",
       "      <th>skewness</th>\n",
       "      <th>maximum</th>\n",
       "    </tr>\n",
       "  </thead>\n",
       "  <tbody>\n",
       "    <tr>\n",
       "      <th>17742</th>\n",
       "      <td>0</td>\n",
       "      <td>0.582418</td>\n",
       "      <td>163.996026</td>\n",
       "      <td>169.0</td>\n",
       "      <td>1344.804762</td>\n",
       "      <td>-1.003639</td>\n",
       "      <td>255</td>\n",
       "    </tr>\n",
       "    <tr>\n",
       "      <th>21392</th>\n",
       "      <td>1</td>\n",
       "      <td>0.153846</td>\n",
       "      <td>93.640652</td>\n",
       "      <td>81.0</td>\n",
       "      <td>4903.821528</td>\n",
       "      <td>0.324653</td>\n",
       "      <td>255</td>\n",
       "    </tr>\n",
       "    <tr>\n",
       "      <th>29095</th>\n",
       "      <td>0</td>\n",
       "      <td>0.637363</td>\n",
       "      <td>150.438485</td>\n",
       "      <td>170.0</td>\n",
       "      <td>3497.811194</td>\n",
       "      <td>-1.340493</td>\n",
       "      <td>255</td>\n",
       "    </tr>\n",
       "    <tr>\n",
       "      <th>9392</th>\n",
       "      <td>1</td>\n",
       "      <td>0.626374</td>\n",
       "      <td>113.222254</td>\n",
       "      <td>108.0</td>\n",
       "      <td>2490.286104</td>\n",
       "      <td>-0.048288</td>\n",
       "      <td>224</td>\n",
       "    </tr>\n",
       "    <tr>\n",
       "      <th>20302</th>\n",
       "      <td>1</td>\n",
       "      <td>0.384615</td>\n",
       "      <td>100.472043</td>\n",
       "      <td>94.0</td>\n",
       "      <td>4590.733614</td>\n",
       "      <td>0.179412</td>\n",
       "      <td>255</td>\n",
       "    </tr>\n",
       "  </tbody>\n",
       "</table>\n",
       "</div>"
      ],
      "text/plain": [
       "       Sex       Age        mean  median     variance  skewness  maximum\n",
       "17742    0  0.582418  163.996026   169.0  1344.804762 -1.003639      255\n",
       "21392    1  0.153846   93.640652    81.0  4903.821528  0.324653      255\n",
       "29095    0  0.637363  150.438485   170.0  3497.811194 -1.340493      255\n",
       "9392     1  0.626374  113.222254   108.0  2490.286104 -0.048288      224\n",
       "20302    1  0.384615  100.472043    94.0  4590.733614  0.179412      255"
      ]
     },
     "execution_count": 16,
     "metadata": {},
     "output_type": "execute_result"
    }
   ],
   "source": [
    "X_train.head()"
   ]
  },
  {
   "cell_type": "code",
   "execution_count": 17,
   "id": "da170fa8",
   "metadata": {},
   "outputs": [],
   "source": [
    "from sklearn.preprocessing import MinMaxScaler\n",
    "scaler = MinMaxScaler()\n",
    "scaler.fit(X_train.drop(['Sex', 'Age'], axis=1))\n",
    "collist = ['mean', 'median', 'variance', 'skewness', 'maximum']\n",
    "X_train[collist] = scaler.transform(X_train.drop(['Sex', 'Age'], axis=1))\n",
    "X_test[collist] = scaler.transform(X_test.drop(['Sex', 'Age'], axis=1))"
   ]
  },
  {
   "cell_type": "code",
   "execution_count": 18,
   "id": "7520cf7f",
   "metadata": {},
   "outputs": [],
   "source": [
    "import matplotlib.pyplot as plt\n",
    "from sklearn.metrics import accuracy_score\n",
    "from sklearn.metrics import f1_score\n",
    "from sklearn.metrics import ConfusionMatrixDisplay\n",
    "from sklearn.metrics import matthews_corrcoef\n",
    "def show_cm(model, X_test, y_test):\n",
    "    ConfusionMatrixDisplay.from_estimator(model, X_test, y_test)\n",
    "    plt.show()\n",
    "    \n",
    "def scores(model, X_test, y_test):\n",
    "    y_pred = model.predict(X_test)\n",
    "    print('%18s %.3f' % ('Accurracy', model.score(X_test, y_test)))\n",
    "    print('%18s %.3f' % ('F1 score', f1_score(y_test, y_pred, average='micro')))\n",
    "    print('%18s %.3f' % ('MCC Score', matthews_corrcoef(y_test, y_pred)))\n",
    "    show_cm(model, X_test, y_test)\n",
    "    plt.show()"
   ]
  },
  {
   "cell_type": "markdown",
   "id": "b2d66fa4",
   "metadata": {},
   "source": [
    "### Uczenie modelu"
   ]
  },
  {
   "cell_type": "code",
   "execution_count": 19,
   "id": "d58b117a",
   "metadata": {},
   "outputs": [
    {
     "name": "stderr",
     "output_type": "stream",
     "text": [
      "C:\\Users\\Patryk\\pythonenv\\396\\lib\\site-packages\\xgboost\\sklearn.py:1224: UserWarning: The use of label encoder in XGBClassifier is deprecated and will be removed in a future release. To remove this warning, do the following: 1) Pass option use_label_encoder=False when constructing XGBClassifier object; and 2) Encode your labels (y) as integers starting with 0, i.e. 0, 1, 2, ..., [num_class - 1].\n",
      "  warnings.warn(label_encoder_deprecation_msg, UserWarning)\n"
     ]
    },
    {
     "name": "stdout",
     "output_type": "stream",
     "text": [
      "[00:23:16] WARNING: C:/Users/Administrator/workspace/xgboost-win64_release_1.5.1/src/learner.cc:1115: Starting in XGBoost 1.3.0, the default evaluation metric used with the objective 'binary:logistic' was changed from 'error' to 'logloss'. Explicitly set eval_metric if you'd like to restore the old behavior.\n",
      "             Train\n",
      "        -----------------\n",
      "         Accurracy 1.000\n",
      "          F1 score 1.000\n",
      "         MCC Score 0.999\n"
     ]
    },
    {
     "data": {
      "image/png": "[encoded data removed]",
      "text/plain": [
       "<Figure size 432x288 with 2 Axes>"
      ]
     },
     "metadata": {
      "needs_background": "light"
     },
     "output_type": "display_data"
    },
    {
     "name": "stdout",
     "output_type": "stream",
     "text": [
      "              Test\n",
      "        -----------------\n",
      "         Accurracy 0.812\n",
      "          F1 score 0.812\n",
      "         MCC Score 0.559\n"
     ]
    },
    {
     "data": {
      "image/png": "[encoded data removed]",
      "text/plain": [
       "<Figure size 432x288 with 2 Axes>"
      ]
     },
     "metadata": {
      "needs_background": "light"
     },
     "output_type": "display_data"
    }
   ],
   "source": [
    "xgb = XGBClassifier(random_state=42, n_estimators=1200)\n",
    "xgb.fit(X_train, y_train)\n",
    "print('%18s' % ('Train'))\n",
    "print('%25s' % ('-----------------'))\n",
    "scores(xgb, X_train, y_train)\n",
    "print('%18s' % ('Test'))\n",
    "print('%25s' % ('-----------------'))\n",
    "scores(xgb, X_test, y_test)"
   ]
  },
  {
   "cell_type": "code",
   "execution_count": 20,
   "id": "6be44440",
   "metadata": {},
   "outputs": [
    {
     "data": {
      "text/plain": [
       "array([0.11049204, 0.1324819 , 0.13689426, 0.18586618, 0.1564945 ,\n",
       "       0.13935962, 0.13841149], dtype=float32)"
      ]
     },
     "execution_count": 20,
     "metadata": {},
     "output_type": "execute_result"
    }
   ],
   "source": [
    "xgb.feature_importances_"
   ]
  },
  {
   "cell_type": "markdown",
   "id": "4ffe4895",
   "metadata": {},
   "source": [
    "Wszystkie zmienne są podobnie ważne dla modelu i jest on w stanie osiągnąć całkiem dobre wyniki."
   ]
  },
  {
   "cell_type": "code",
   "execution_count": 21,
   "id": "0cee3c42",
   "metadata": {},
   "outputs": [],
   "source": [
    "X_train2, X_test2, y_train2, y_test2 = train_test_split(df[['Sex', 'Age']], df['Target'], random_state=42, test_size=0.3)"
   ]
  },
  {
   "cell_type": "code",
   "execution_count": 28,
   "id": "3f408748",
   "metadata": {},
   "outputs": [
    {
     "name": "stderr",
     "output_type": "stream",
     "text": [
      "C:\\Users\\Patryk\\pythonenv\\396\\lib\\site-packages\\xgboost\\sklearn.py:1224: UserWarning: The use of label encoder in XGBClassifier is deprecated and will be removed in a future release. To remove this warning, do the following: 1) Pass option use_label_encoder=False when constructing XGBClassifier object; and 2) Encode your labels (y) as integers starting with 0, i.e. 0, 1, 2, ..., [num_class - 1].\n",
      "  warnings.warn(label_encoder_deprecation_msg, UserWarning)\n"
     ]
    },
    {
     "name": "stdout",
     "output_type": "stream",
     "text": [
      "[00:33:46] WARNING: C:/Users/Administrator/workspace/xgboost-win64_release_1.5.1/src/learner.cc:1115: Starting in XGBoost 1.3.0, the default evaluation metric used with the objective 'binary:logistic' was changed from 'error' to 'logloss'. Explicitly set eval_metric if you'd like to restore the old behavior.\n",
      "             Train\n",
      "        -----------------\n",
      "         Accurracy 0.685\n",
      "          F1 score 0.685\n",
      "         MCC Score 0.078\n"
     ]
    },
    {
     "data": {
      "image/png": "[encoded data removed]",
      "text/plain": [
       "<Figure size 432x288 with 2 Axes>"
      ]
     },
     "metadata": {
      "needs_background": "light"
     },
     "output_type": "display_data"
    },
    {
     "name": "stdout",
     "output_type": "stream",
     "text": [
      "              Test\n",
      "        -----------------\n",
      "         Accurracy 0.689\n",
      "          F1 score 0.689\n",
      "         MCC Score 0.066\n"
     ]
    },
    {
     "data": {
      "image/png": "[encoded data removed]",
      "text/plain": [
       "<Figure size 432x288 with 2 Axes>"
      ]
     },
     "metadata": {
      "needs_background": "light"
     },
     "output_type": "display_data"
    }
   ],
   "source": [
    "xgb2 = XGBClassifier(random_state=42, n_estimators=1000, reg_alpha=4)\n",
    "xgb2.fit(X_train2, y_train2)\n",
    "print('%18s' % ('Train'))\n",
    "print('%25s' % ('-----------------'))\n",
    "scores(xgb2, X_train2, y_train2)\n",
    "print('%18s' % ('Test'))\n",
    "print('%25s' % ('-----------------'))\n",
    "scores(xgb2, X_test2, y_test2)"
   ]
  },
  {
   "cell_type": "markdown",
   "id": "d3a622f7",
   "metadata": {},
   "source": [
    "Bez dodatkowych statystyk model nie jest w stanie się nauczyć."
   ]
  }
 ],
 "metadata": {
  "kernelspec": {
   "display_name": "396",
   "language": "python",
   "name": "396"
  },
  "language_info": {
   "codemirror_mode": {
    "name": "ipython",
    "version": 3
   },
   "file_extension": ".py",
   "mimetype": "text/x-python",
   "name": "python",
   "nbconvert_exporter": "python",
   "pygments_lexer": "ipython3",
   "version": "3.9.6"
  }
 },
 "nbformat": 4,
 "nbformat_minor": 5
}
