{
 "cells": [
  {
   "cell_type": "code",
   "execution_count": 24,
   "id": "82f40b42",
   "metadata": {},
   "outputs": [],
   "source": [
    "import numpy as np\n",
    "import pandas as pd\n",
    "import matplotlib.pyplot as plt\n",
    "import seaborn as sns\n",
    "import os\n",
    "from xml.dom import minidom\n",
    "import re"
   ]
  },
  {
   "cell_type": "code",
   "execution_count": 27,
   "id": "b4a5964e",
   "metadata": {},
   "outputs": [],
   "source": [
    "import tensorflow as tf\n",
    "import tensorflow_hub as hub\n",
    "import tensorflow_text as text\n",
    "from sklearn.utils import class_weight"
   ]
  },
  {
   "cell_type": "code",
   "execution_count": 3,
   "id": "05c67d65",
   "metadata": {},
   "outputs": [],
   "source": [
    "# utworzenie ramki danych\n",
    "all_files = os.listdir('./ecgen-radiology')\n",
    "\n",
    "d = {\n",
    "    'COMPARISON' : [],\n",
    "    'INDICATION' : [],\n",
    "    'FINDINGS'   : [],\n",
    "    'IMPRESSION' : [],\n",
    "    'CAPTION'    : [],\n",
    "    'DISEASES'   : []\n",
    "}\n",
    "\n",
    "for f in all_files:\n",
    "    file = minidom.parse('./ecgen-radiology/' + f)\n",
    "    \n",
    "    caption = file.getElementsByTagName('caption')\n",
    "    \n",
    "    try:\n",
    "        d['CAPTION'].append(caption[0].childNodes[0].data)\n",
    "    except IndexError:\n",
    "        d['CAPTION'].append(None)\n",
    "    \n",
    "    models = file.getElementsByTagName('AbstractText')\n",
    "    \n",
    "    for i in range(len(models)):\n",
    "        key = str(models[i].attributes['Label'].value)\n",
    "        try:\n",
    "            val = str(models[i].childNodes[0].data)\n",
    "        except IndexError:\n",
    "            val = ''\n",
    "            \n",
    "        d[key].append(val)\n",
    "        \n",
    "        \n",
    "    dis = file.getElementsByTagName('major')\n",
    "    dis2 = file.getElementsByTagName('automatic')\n",
    "\n",
    "    text = ''\n",
    "    for i in range(len(dis)):\n",
    "        try:\n",
    "            text = text + dis[i].childNodes[0].data + ', '\n",
    "        except IndexError:\n",
    "            continue\n",
    "\n",
    "    for i in range(len(dis2)):\n",
    "        try:\n",
    "            text = text + dis2[i].childNodes[0].data + ', '\n",
    "        except IndexError:\n",
    "            continue\n",
    "\n",
    "    d['DISEASES'].append(text)\n",
    "        \n",
    "for k in d.keys():\n",
    "    d[k] = np.array(d[k])\n",
    "    \n",
    "df = pd.DataFrame(d)\n",
    "df['DISEASES'] = df['DISEASES'].str[:-2]\n",
    "df['ILL'] = np.where(df['DISEASES'] == 'normal', 0, 1)"
   ]
  },
  {
   "cell_type": "code",
   "execution_count": 31,
   "id": "e86dfe7a",
   "metadata": {},
   "outputs": [
    {
     "data": {
      "text/html": [
       "<div>\n",
       "<style scoped>\n",
       "    .dataframe tbody tr th:only-of-type {\n",
       "        vertical-align: middle;\n",
       "    }\n",
       "\n",
       "    .dataframe tbody tr th {\n",
       "        vertical-align: top;\n",
       "    }\n",
       "\n",
       "    .dataframe thead th {\n",
       "        text-align: right;\n",
       "    }\n",
       "</style>\n",
       "<table border=\"1\" class=\"dataframe\">\n",
       "  <thead>\n",
       "    <tr style=\"text-align: right;\">\n",
       "      <th></th>\n",
       "      <th>COMPARISON</th>\n",
       "      <th>INDICATION</th>\n",
       "      <th>FINDINGS</th>\n",
       "      <th>IMPRESSION</th>\n",
       "      <th>CAPTION</th>\n",
       "      <th>DISEASES</th>\n",
       "      <th>ILL</th>\n",
       "    </tr>\n",
       "  </thead>\n",
       "  <tbody>\n",
       "    <tr>\n",
       "      <th>0</th>\n",
       "      <td>None.</td>\n",
       "      <td>Positive TB test</td>\n",
       "      <td>The cardiac silhouette and mediastinum size ar...</td>\n",
       "      <td>Normal chest x-XXXX.</td>\n",
       "      <td>Xray Chest PA and Lateral</td>\n",
       "      <td>normal</td>\n",
       "      <td>0</td>\n",
       "    </tr>\n",
       "    <tr>\n",
       "      <th>1</th>\n",
       "      <td>Chest radiographs XXXX.</td>\n",
       "      <td>XXXX-year-old male, chest pain.</td>\n",
       "      <td>The cardiomediastinal silhouette is within nor...</td>\n",
       "      <td>No acute cardiopulmonary process.</td>\n",
       "      <td>PA and lateral chest x-XXXX XXXX.</td>\n",
       "      <td>Calcified Granuloma/lung/upper lobe/right, cal...</td>\n",
       "      <td>1</td>\n",
       "    </tr>\n",
       "    <tr>\n",
       "      <th>2</th>\n",
       "      <td>None.</td>\n",
       "      <td>NaN</td>\n",
       "      <td>Both lungs are clear and expanded. Heart and m...</td>\n",
       "      <td>No active disease.</td>\n",
       "      <td>CHEST 2V FRONTAL/LATERAL XXXX, XXXX XXXX PM</td>\n",
       "      <td>normal</td>\n",
       "      <td>0</td>\n",
       "    </tr>\n",
       "    <tr>\n",
       "      <th>3</th>\n",
       "      <td>XXXX PA and lateral chest radiographs</td>\n",
       "      <td>XXXX-year-old male, XXXX.</td>\n",
       "      <td>There is XXXX increased opacity within the rig...</td>\n",
       "      <td>1. Increased opacity in the right upper lobe w...</td>\n",
       "      <td>PA and lateral chest x-XXXX XXXX.</td>\n",
       "      <td>Opacity/lung/upper lobe/right, Pulmonary Atele...</td>\n",
       "      <td>1</td>\n",
       "    </tr>\n",
       "    <tr>\n",
       "      <th>4</th>\n",
       "      <td>None</td>\n",
       "      <td>dyspnea, subjective fevers, arthritis, immigra...</td>\n",
       "      <td>Interstitial markings are diffusely prominent ...</td>\n",
       "      <td>Diffuse fibrosis. No visible focal acute disease.</td>\n",
       "      <td>CHEST 2V FRONTAL/LATERAL XXXX, XXXX XXXX PM</td>\n",
       "      <td>Markings/lung/bilateral/interstitial/diffuse/p...</td>\n",
       "      <td>1</td>\n",
       "    </tr>\n",
       "  </tbody>\n",
       "</table>\n",
       "</div>"
      ],
      "text/plain": [
       "                              COMPARISON  \\\n",
       "0                                  None.   \n",
       "1                Chest radiographs XXXX.   \n",
       "2                                  None.   \n",
       "3  XXXX PA and lateral chest radiographs   \n",
       "4                                   None   \n",
       "\n",
       "                                          INDICATION  \\\n",
       "0                                   Positive TB test   \n",
       "1                    XXXX-year-old male, chest pain.   \n",
       "2                                                NaN   \n",
       "3                          XXXX-year-old male, XXXX.   \n",
       "4  dyspnea, subjective fevers, arthritis, immigra...   \n",
       "\n",
       "                                            FINDINGS  \\\n",
       "0  The cardiac silhouette and mediastinum size ar...   \n",
       "1  The cardiomediastinal silhouette is within nor...   \n",
       "2  Both lungs are clear and expanded. Heart and m...   \n",
       "3  There is XXXX increased opacity within the rig...   \n",
       "4  Interstitial markings are diffusely prominent ...   \n",
       "\n",
       "                                          IMPRESSION  \\\n",
       "0                               Normal chest x-XXXX.   \n",
       "1                  No acute cardiopulmonary process.   \n",
       "2                                 No active disease.   \n",
       "3  1. Increased opacity in the right upper lobe w...   \n",
       "4  Diffuse fibrosis. No visible focal acute disease.   \n",
       "\n",
       "                                         CAPTION  \\\n",
       "0                      Xray Chest PA and Lateral   \n",
       "1             PA and lateral chest x-XXXX XXXX.    \n",
       "2   CHEST 2V FRONTAL/LATERAL XXXX, XXXX XXXX PM    \n",
       "3             PA and lateral chest x-XXXX XXXX.    \n",
       "4    CHEST 2V FRONTAL/LATERAL XXXX, XXXX XXXX PM   \n",
       "\n",
       "                                            DISEASES  ILL  \n",
       "0                                             normal    0  \n",
       "1  Calcified Granuloma/lung/upper lobe/right, cal...    1  \n",
       "2                                             normal    0  \n",
       "3  Opacity/lung/upper lobe/right, Pulmonary Atele...    1  \n",
       "4  Markings/lung/bilateral/interstitial/diffuse/p...    1  "
      ]
     },
     "execution_count": 31,
     "metadata": {},
     "output_type": "execute_result"
    }
   ],
   "source": [
    "df.head(5)"
   ]
  },
  {
   "cell_type": "code",
   "execution_count": 32,
   "id": "61c4dc85",
   "metadata": {},
   "outputs": [
    {
     "name": "stderr",
     "output_type": "stream",
     "text": [
      "C:\\Users\\z6pyo\\AppData\\Local\\Temp\\ipykernel_11388\\3718820318.py:3: SettingWithCopyWarning: \n",
      "A value is trying to be set on a copy of a slice from a DataFrame.\n",
      "Try using .loc[row_indexer,col_indexer] = value instead\n",
      "\n",
      "See the caveats in the documentation: https://pandas.pydata.org/pandas-docs/stable/user_guide/indexing.html#returning-a-view-versus-a-copy\n",
      "  data[c] = data[c].apply(lambda x : x.lower())\n",
      "C:\\Users\\z6pyo\\AppData\\Local\\Temp\\ipykernel_11388\\3718820318.py:4: SettingWithCopyWarning: \n",
      "A value is trying to be set on a copy of a slice from a DataFrame.\n",
      "Try using .loc[row_indexer,col_indexer] = value instead\n",
      "\n",
      "See the caveats in the documentation: https://pandas.pydata.org/pandas-docs/stable/user_guide/indexing.html#returning-a-view-versus-a-copy\n",
      "  data[c] = data[c].apply(lambda x : re.sub(r'[^A-Za-z ]+', ' ', x))\n",
      "C:\\Users\\z6pyo\\AppData\\Local\\Temp\\ipykernel_11388\\3718820318.py:5: SettingWithCopyWarning: \n",
      "A value is trying to be set on a copy of a slice from a DataFrame.\n",
      "Try using .loc[row_indexer,col_indexer] = value instead\n",
      "\n",
      "See the caveats in the documentation: https://pandas.pydata.org/pandas-docs/stable/user_guide/indexing.html#returning-a-view-versus-a-copy\n",
      "  data[c] = data[c].apply(lambda x : re.sub(r'[A-Za-z]*xxxx[A-Za-z]*', '', x))\n",
      "C:\\Users\\z6pyo\\AppData\\Local\\Temp\\ipykernel_11388\\3718820318.py:12: SettingWithCopyWarning: \n",
      "A value is trying to be set on a copy of a slice from a DataFrame.\n",
      "Try using .loc[row_indexer,col_indexer] = value instead\n",
      "\n",
      "See the caveats in the documentation: https://pandas.pydata.org/pandas-docs/stable/user_guide/indexing.html#returning-a-view-versus-a-copy\n",
      "  df2['FINDINGS'] = clean(df2[['FINDINGS']])\n"
     ]
    },
    {
     "data": {
      "text/html": [
       "<div>\n",
       "<style scoped>\n",
       "    .dataframe tbody tr th:only-of-type {\n",
       "        vertical-align: middle;\n",
       "    }\n",
       "\n",
       "    .dataframe tbody tr th {\n",
       "        vertical-align: top;\n",
       "    }\n",
       "\n",
       "    .dataframe thead th {\n",
       "        text-align: right;\n",
       "    }\n",
       "</style>\n",
       "<table border=\"1\" class=\"dataframe\">\n",
       "  <thead>\n",
       "    <tr style=\"text-align: right;\">\n",
       "      <th></th>\n",
       "      <th>FINDINGS</th>\n",
       "      <th>ILL</th>\n",
       "    </tr>\n",
       "  </thead>\n",
       "  <tbody>\n",
       "    <tr>\n",
       "      <th>0</th>\n",
       "      <td>the cardiac silhouette and mediastinum size ar...</td>\n",
       "      <td>0</td>\n",
       "    </tr>\n",
       "    <tr>\n",
       "      <th>1</th>\n",
       "      <td>the cardiomediastinal silhouette is within nor...</td>\n",
       "      <td>1</td>\n",
       "    </tr>\n",
       "    <tr>\n",
       "      <th>2</th>\n",
       "      <td>both lungs are clear and expanded  heart and m...</td>\n",
       "      <td>0</td>\n",
       "    </tr>\n",
       "    <tr>\n",
       "      <th>3</th>\n",
       "      <td>there is  increased opacity within the right u...</td>\n",
       "      <td>1</td>\n",
       "    </tr>\n",
       "    <tr>\n",
       "      <th>4</th>\n",
       "      <td>interstitial markings are diffusely prominent ...</td>\n",
       "      <td>1</td>\n",
       "    </tr>\n",
       "  </tbody>\n",
       "</table>\n",
       "</div>"
      ],
      "text/plain": [
       "                                            FINDINGS  ILL\n",
       "0  the cardiac silhouette and mediastinum size ar...    0\n",
       "1  the cardiomediastinal silhouette is within nor...    1\n",
       "2  both lungs are clear and expanded  heart and m...    0\n",
       "3  there is  increased opacity within the right u...    1\n",
       "4  interstitial markings are diffusely prominent ...    1"
      ]
     },
     "execution_count": 32,
     "metadata": {},
     "output_type": "execute_result"
    }
   ],
   "source": [
    "def clean(data):\n",
    "    for c in data.columns:\n",
    "        data[c] = data[c].apply(lambda x : x.lower())\n",
    "        data[c] = data[c].apply(lambda x : re.sub(r'[^A-Za-z ]+', ' ', x))\n",
    "        data[c] = data[c].apply(lambda x : re.sub(r'[A-Za-z]*xxxx[A-Za-z]*', '', x))\n",
    "    \n",
    "    return data\n",
    "\n",
    "df = df.fillna('')\n",
    "\n",
    "df2 = df[['FINDINGS', 'ILL']]\n",
    "df2['FINDINGS'] = clean(df2[['FINDINGS']])\n",
    "df2.head()"
   ]
  },
  {
   "cell_type": "code",
   "execution_count": 33,
   "id": "3632db43",
   "metadata": {},
   "outputs": [
    {
     "data": {
      "text/plain": [
       "1    2564\n",
       "0    1391\n",
       "Name: ILL, dtype: int64"
      ]
     },
     "execution_count": 33,
     "metadata": {},
     "output_type": "execute_result"
    }
   ],
   "source": [
    "df2['ILL'].value_counts()"
   ]
  },
  {
   "cell_type": "markdown",
   "id": "e6a998bf",
   "metadata": {},
   "source": [
    "Będziemy wykonywać klasyfikację binarną na podstawie kolumny ILL stwierdzającej, czy pacjent jest chory czy zdrowy. Uczymy za pomocą kolumn FINDINGS lub IMPRESSION. Widać dysproporcję między klasami.\n",
    "\n",
    "Na podstawie:\n",
    "https://github.com/codebasics/deep-learning-keras-tf-tutorial/blob/master/47_BERT_text_classification/BERT_email_classification-handle-imbalance.ipynb"
   ]
  },
  {
   "cell_type": "code",
   "execution_count": 36,
   "id": "60b92677",
   "metadata": {},
   "outputs": [],
   "source": [
    "from sklearn.model_selection import train_test_split\n",
    "\n",
    "X_train, X_test, y_train, y_test = train_test_split(df2['FINDINGS'],df2['ILL'],\n",
    "                                                    stratify=df2['ILL'])\n",
    "\n",
    "from sklearn.utils.class_weight import compute_class_weight\n",
    "class_weights = compute_class_weight(class_weight = \"balanced\", classes= np.unique(y_train), y= y_train)"
   ]
  },
  {
   "cell_type": "code",
   "execution_count": 37,
   "id": "24564b5c",
   "metadata": {},
   "outputs": [],
   "source": [
    "bert_preprocess = hub.KerasLayer(\"https://tfhub.dev/tensorflow/bert_en_uncased_preprocess/3\")\n",
    "bert_encoder = hub.KerasLayer(\"https://tfhub.dev/tensorflow/bert_en_uncased_L-12_H-768_A-12/4\")\n"
   ]
  },
  {
   "cell_type": "code",
   "execution_count": 38,
   "id": "6ef2f27f",
   "metadata": {},
   "outputs": [
    {
     "data": {
      "text/plain": [
       "<tf.Tensor: shape=(2, 768), dtype=float32, numpy=\n",
       "array([[-0.843517  , -0.51327264, -0.8884572 , ..., -0.74748856,\n",
       "        -0.75314724,  0.91964495],\n",
       "       [-0.8720835 , -0.50543964, -0.94446677, ..., -0.85847515,\n",
       "        -0.71745354,  0.8808298 ]], dtype=float32)>"
      ]
     },
     "execution_count": 38,
     "metadata": {},
     "output_type": "execute_result"
    }
   ],
   "source": [
    "def get_sentence_embeding(sentences):\n",
    "    preprocessed_text = bert_preprocess(sentences)\n",
    "    return bert_encoder(preprocessed_text)['pooled_output']\n",
    "\n",
    "get_sentence_embeding([\n",
    "    \"500$ discount. hurry up\", \n",
    "    \"Bhavin, are you up for a volleybal game tomorrow?\"]\n",
    ")\n",
    "\n"
   ]
  },
  {
   "cell_type": "code",
   "execution_count": 62,
   "id": "f77e6c17",
   "metadata": {},
   "outputs": [],
   "source": [
    "# Bert layers\n",
    "text_input = tf.keras.layers.Input(shape=(), dtype=tf.string, name='text')\n",
    "preprocessed_text = bert_preprocess(text_input)\n",
    "outputs = bert_encoder(preprocessed_text)\n",
    "\n",
    "# Neural network layers\n",
    "l = tf.keras.layers.Dropout(0.1, name=\"dropout\")(outputs['pooled_output'])\n",
    "l = tf.keras.layers.Dense(10, activation='sigmoid', name=\"middle1\")(l)\n",
    "l = tf.keras.layers.Dense(1, activation='sigmoid', name=\"output\")(l)\n",
    "\n",
    "# Use inputs and outputs to construct a final model\n",
    "model = tf.keras.Model(inputs=[text_input], outputs = [l])"
   ]
  },
  {
   "cell_type": "code",
   "execution_count": 63,
   "id": "0e45d80c",
   "metadata": {},
   "outputs": [
    {
     "name": "stdout",
     "output_type": "stream",
     "text": [
      "Model: \"model_2\"\n",
      "__________________________________________________________________________________________________\n",
      " Layer (type)                   Output Shape         Param #     Connected to                     \n",
      "==================================================================================================\n",
      " text (InputLayer)              [(None,)]            0           []                               \n",
      "                                                                                                  \n",
      " keras_layer (KerasLayer)       {'input_word_ids':   0           ['text[0][0]']                   \n",
      "                                (None, 128),                                                      \n",
      "                                 'input_type_ids':                                                \n",
      "                                (None, 128),                                                      \n",
      "                                 'input_mask': (Non                                               \n",
      "                                e, 128)}                                                          \n",
      "                                                                                                  \n",
      " keras_layer_1 (KerasLayer)     {'pooled_output': (  109482241   ['keras_layer[2][0]',            \n",
      "                                None, 768),                       'keras_layer[2][1]',            \n",
      "                                 'sequence_output':               'keras_layer[2][2]']            \n",
      "                                 (None, 128, 768),                                                \n",
      "                                 'encoder_outputs':                                               \n",
      "                                 [(None, 128, 768),                                               \n",
      "                                 (None, 128, 768),                                                \n",
      "                                 (None, 128, 768),                                                \n",
      "                                 (None, 128, 768),                                                \n",
      "                                 (None, 128, 768),                                                \n",
      "                                 (None, 128, 768),                                                \n",
      "                                 (None, 128, 768),                                                \n",
      "                                 (None, 128, 768),                                                \n",
      "                                 (None, 128, 768),                                                \n",
      "                                 (None, 128, 768),                                                \n",
      "                                 (None, 128, 768),                                                \n",
      "                                 (None, 128, 768)],                                               \n",
      "                                 'default': (None,                                                \n",
      "                                768)}                                                             \n",
      "                                                                                                  \n",
      " dropout (Dropout)              (None, 768)          0           ['keras_layer_1[2][13]']         \n",
      "                                                                                                  \n",
      " middle1 (Dense)                (None, 10)           7690        ['dropout[0][0]']                \n",
      "                                                                                                  \n",
      " output (Dense)                 (None, 1)            11          ['middle1[0][0]']                \n",
      "                                                                                                  \n",
      "==================================================================================================\n",
      "Total params: 109,489,942\n",
      "Trainable params: 7,701\n",
      "Non-trainable params: 109,482,241\n",
      "__________________________________________________________________________________________________\n"
     ]
    }
   ],
   "source": [
    "model.summary()"
   ]
  },
  {
   "cell_type": "code",
   "execution_count": 64,
   "id": "0963fbe6",
   "metadata": {},
   "outputs": [],
   "source": [
    "METRICS = [\n",
    "      tf.keras.metrics.BinaryAccuracy(name='accuracy'),\n",
    "      tf.keras.metrics.Precision(name='precision'),\n",
    "      tf.keras.metrics.Recall(name='recall')\n",
    "]\n",
    "\n",
    "model.compile(optimizer='adam',\n",
    "              loss='binary_crossentropy',\n",
    "              metrics=METRICS)"
   ]
  },
  {
   "cell_type": "code",
   "execution_count": 46,
   "id": "d73301ee",
   "metadata": {},
   "outputs": [],
   "source": [
    "class_weights = {\n",
    "    0: 1.42186002,\n",
    "    1: 0.77119085\n",
    "}"
   ]
  },
  {
   "cell_type": "code",
   "execution_count": 65,
   "id": "95b947b0",
   "metadata": {},
   "outputs": [
    {
     "name": "stdout",
     "output_type": "stream",
     "text": [
      "Epoch 1/10\n",
      "93/93 [==============================] - 340s 4s/step - loss: 0.6335 - accuracy: 0.6150 - precision: 0.7748 - recall: 0.5725\n",
      "Epoch 2/10\n",
      "93/93 [==============================] - 343s 4s/step - loss: 0.5904 - accuracy: 0.6777 - precision: 0.7972 - recall: 0.6745\n",
      "Epoch 3/10\n",
      "93/93 [==============================] - 340s 4s/step - loss: 0.5869 - accuracy: 0.6777 - precision: 0.7925 - recall: 0.6812\n",
      "Epoch 4/10\n",
      "93/93 [==============================] - 336s 4s/step - loss: 0.5774 - accuracy: 0.6989 - precision: 0.7956 - recall: 0.7207\n",
      "Epoch 5/10\n",
      "93/93 [==============================] - 335s 4s/step - loss: 0.5724 - accuracy: 0.6888 - precision: 0.8060 - recall: 0.6849\n",
      "Epoch 6/10\n",
      "93/93 [==============================] - 333s 4s/step - loss: 0.5600 - accuracy: 0.7053 - precision: 0.8154 - recall: 0.7051\n",
      "Epoch 7/10\n",
      "93/93 [==============================] - 334s 4s/step - loss: 0.5595 - accuracy: 0.7003 - precision: 0.8052 - recall: 0.7093\n",
      "Epoch 8/10\n",
      "93/93 [==============================] - 339s 4s/step - loss: 0.5510 - accuracy: 0.7198 - precision: 0.8099 - recall: 0.7421\n",
      "Epoch 9/10\n",
      "93/93 [==============================] - 336s 4s/step - loss: 0.5408 - accuracy: 0.7192 - precision: 0.8319 - recall: 0.7103\n",
      "Epoch 10/10\n",
      "93/93 [==============================] - 334s 4s/step - loss: 0.5328 - accuracy: 0.7320 - precision: 0.8223 - recall: 0.7483\n"
     ]
    },
    {
     "data": {
      "text/plain": [
       "<keras.callbacks.History at 0x223befe8e80>"
      ]
     },
     "execution_count": 65,
     "metadata": {},
     "output_type": "execute_result"
    }
   ],
   "source": [
    "model.fit(X_train, y_train, epochs=10, class_weight=class_weights)"
   ]
  },
  {
   "cell_type": "code",
   "execution_count": 66,
   "id": "ed6744f4",
   "metadata": {},
   "outputs": [
    {
     "name": "stdout",
     "output_type": "stream",
     "text": [
      "31/31 [==============================] - 113s 4s/step - loss: 0.5138 - accuracy: 0.7573 - precision: 0.7868 - recall: 0.8580\n"
     ]
    },
    {
     "data": {
      "text/plain": [
       "[0.5138124823570251,\n",
       " 0.7573306560516357,\n",
       " 0.7868383526802063,\n",
       " 0.8580343127250671]"
      ]
     },
     "execution_count": 66,
     "metadata": {},
     "output_type": "execute_result"
    }
   ],
   "source": [
    "model.evaluate(X_test, y_test)"
   ]
  },
  {
   "cell_type": "markdown",
   "id": "atlantic-relations",
   "metadata": {},
   "source": [
    "# Wyniki na zbiorze testowym\n",
    "\n",
    "#### Accuracy - 0.7573 \n",
    "#### Precision - 0.7868 \n",
    "#### Recall - 0.8580"
   ]
  },
  {
   "cell_type": "code",
   "execution_count": 67,
   "id": "4d5b2c1d",
   "metadata": {},
   "outputs": [
    {
     "name": "stdout",
     "output_type": "stream",
     "text": [
      "31/31 [==============================] - 112s 4s/step\n"
     ]
    }
   ],
   "source": [
    "y_predicted = model.predict(X_test)\n",
    "y_predicted = y_predicted.flatten()"
   ]
  },
  {
   "cell_type": "code",
   "execution_count": 68,
   "id": "0ea16e1c",
   "metadata": {},
   "outputs": [
    {
     "data": {
      "text/plain": [
       "array([1, 1, 1, 1, 1, 1, 0, 1, 1, 1, 1, 1, 0, 0, 1, 1, 1, 1, 1, 1, 1, 0,\n",
       "       0, 0, 1, 1, 1, 1, 1, 1, 1, 1, 0, 0, 1, 1, 1, 1, 1, 1, 1, 0, 0, 0,\n",
       "       1, 1, 1, 1, 1, 1, 0, 1, 1, 1, 1, 1, 0, 0, 0, 0, 0, 1, 0, 1, 0, 1,\n",
       "       1, 1, 1, 1, 0, 1, 1, 1, 1, 1, 1, 1, 0, 1, 0, 1, 0, 1, 1, 1, 1, 0,\n",
       "       1, 0, 1, 1, 0, 1, 0, 1, 0, 1, 1, 1, 1, 1, 0, 0, 1, 0, 0, 1, 1, 1,\n",
       "       1, 1, 1, 1, 1, 0, 1, 1, 1, 1, 1, 1, 1, 1, 0, 1, 1, 0, 0, 1, 0, 1,\n",
       "       1, 0, 1, 1, 1, 1, 1, 1, 0, 1, 1, 1, 0, 0, 1, 1, 1, 0, 1, 0, 0, 0,\n",
       "       0, 1, 0, 0, 0, 1, 1, 0, 1, 0, 1, 0, 1, 1, 1, 1, 1, 1, 1, 0, 1, 0,\n",
       "       0, 0, 1, 1, 1, 1, 1, 1, 1, 1, 1, 1, 0, 0, 1, 1, 1, 1, 1, 1, 1, 1,\n",
       "       0, 0, 0, 0, 1, 1, 1, 0, 1, 0, 1, 1, 1, 1, 0, 1, 1, 0, 1, 1, 1, 1,\n",
       "       1, 0, 1, 0, 1, 1, 1, 1, 1, 0, 1, 1, 1, 1, 0, 0, 0, 1, 1, 1, 1, 1,\n",
       "       0, 0, 1, 1, 0, 1, 1, 1, 0, 1, 1, 1, 1, 1, 0, 0, 1, 1, 1, 0, 0, 1,\n",
       "       1, 1, 0, 0, 0, 0, 0, 1, 0, 0, 1, 0, 0, 1, 1, 0, 1, 1, 1, 0, 1, 1,\n",
       "       1, 1, 0, 1, 1, 1, 0, 1, 0, 1, 0, 0, 1, 1, 0, 1, 1, 1, 1, 1, 0, 1,\n",
       "       1, 1, 0, 1, 1, 1, 0, 1, 1, 1, 1, 0, 0, 1, 1, 0, 1, 1, 1, 1, 1, 1,\n",
       "       1, 1, 0, 1, 1, 0, 0, 1, 1, 0, 1, 1, 1, 1, 1, 0, 1, 1, 1, 1, 1, 0,\n",
       "       1, 1, 1, 1, 0, 1, 1, 0, 0, 1, 0, 1, 1, 1, 1, 1, 0, 1, 1, 1, 1, 1,\n",
       "       1, 1, 1, 1, 0, 1, 1, 1, 1, 1, 0, 1, 1, 1, 1, 1, 1, 0, 1, 1, 1, 1,\n",
       "       1, 0, 1, 0, 1, 1, 1, 1, 1, 1, 0, 1, 1, 0, 0, 1, 1, 1, 1, 1, 1, 0,\n",
       "       0, 1, 1, 1, 1, 1, 0, 1, 1, 0, 1, 1, 1, 1, 1, 1, 0, 1, 1, 1, 0, 0,\n",
       "       1, 1, 1, 1, 0, 1, 1, 1, 1, 1, 1, 1, 0, 1, 1, 1, 1, 1, 1, 1, 1, 0,\n",
       "       1, 1, 0, 1, 0, 0, 0, 1, 1, 1, 1, 1, 1, 1, 1, 1, 1, 0, 1, 1, 1, 0,\n",
       "       1, 1, 1, 1, 1, 1, 0, 1, 1, 1, 1, 0, 0, 1, 0, 1, 1, 1, 1, 1, 1, 1,\n",
       "       0, 1, 0, 0, 1, 1, 1, 1, 1, 1, 1, 1, 1, 0, 1, 1, 1, 1, 1, 1, 1, 0,\n",
       "       0, 1, 1, 1, 0, 1, 1, 1, 1, 1, 0, 1, 1, 1, 0, 1, 0, 1, 1, 0, 0, 1,\n",
       "       1, 1, 1, 1, 1, 1, 0, 1, 1, 0, 0, 1, 1, 1, 1, 1, 1, 0, 1, 1, 1, 0,\n",
       "       1, 0, 1, 0, 0, 1, 0, 1, 1, 0, 0, 1, 0, 1, 0, 1, 1, 1, 0, 0, 1, 1,\n",
       "       1, 0, 1, 0, 1, 1, 1, 1, 0, 1, 1, 0, 1, 0, 1, 1, 1, 1, 0, 1, 1, 0,\n",
       "       1, 1, 0, 0, 1, 1, 0, 1, 1, 1, 0, 1, 1, 1, 1, 1, 1, 1, 1, 1, 1, 1,\n",
       "       1, 1, 1, 0, 0, 0, 1, 0, 1, 1, 1, 1, 1, 1, 1, 0, 1, 1, 1, 0, 1, 1,\n",
       "       1, 1, 0, 1, 1, 1, 1, 1, 0, 1, 1, 1, 1, 1, 1, 1, 1, 1, 0, 1, 0, 0,\n",
       "       1, 0, 0, 1, 0, 0, 1, 1, 1, 0, 1, 0, 0, 1, 1, 1, 1, 1, 1, 0, 1, 1,\n",
       "       0, 1, 0, 0, 1, 1, 1, 1, 0, 1, 1, 1, 1, 1, 1, 0, 1, 1, 1, 1, 1, 0,\n",
       "       1, 1, 1, 1, 1, 0, 1, 0, 0, 1, 1, 0, 1, 0, 1, 1, 1, 1, 1, 1, 0, 1,\n",
       "       1, 1, 1, 1, 1, 0, 1, 0, 1, 1, 0, 1, 1, 1, 1, 1, 1, 1, 1, 1, 1, 0,\n",
       "       1, 1, 1, 1, 0, 0, 1, 0, 1, 0, 1, 1, 0, 0, 1, 1, 0, 1, 1, 0, 0, 1,\n",
       "       1, 0, 1, 0, 0, 1, 1, 1, 1, 1, 1, 1, 0, 0, 1, 0, 0, 1, 0, 0, 1, 0,\n",
       "       1, 1, 1, 1, 1, 1, 1, 1, 0, 1, 1, 0, 0, 0, 1, 1, 1, 1, 1, 1, 1, 0,\n",
       "       0, 0, 1, 0, 1, 1, 1, 0, 1, 0, 0, 1, 1, 1, 0, 1, 1, 1, 1, 1, 1, 1,\n",
       "       1, 1, 1, 1, 1, 0, 1, 1, 1, 1, 1, 0, 1, 1, 0, 1, 1, 1, 0, 1, 1, 1,\n",
       "       1, 1, 1, 1, 1, 0, 1, 0, 1, 0, 0, 1, 0, 0, 1, 1, 1, 1, 1, 0, 1, 1,\n",
       "       1, 0, 0, 0, 0, 1, 0, 1, 1, 0, 0, 0, 0, 0, 1, 1, 1, 0, 1, 0, 1, 1,\n",
       "       1, 1, 0, 0, 1, 0, 0, 0, 1, 1, 0, 1, 0, 1, 0, 0, 1, 1, 1, 0, 1, 0,\n",
       "       1, 1, 1, 1, 1, 0, 0, 0, 0, 1, 1, 0, 1, 0, 1, 1, 1, 1, 1, 0, 1, 1,\n",
       "       1, 1, 1, 1, 1, 1, 1, 1, 1, 0, 1, 1, 0, 1, 1, 1, 1, 1, 1, 0, 1])"
      ]
     },
     "execution_count": 68,
     "metadata": {},
     "output_type": "execute_result"
    }
   ],
   "source": [
    "y_predicted = np.where(y_predicted > 0.5, 1, 0)\n",
    "y_predicted"
   ]
  },
  {
   "cell_type": "code",
   "execution_count": 69,
   "id": "bb678fd3",
   "metadata": {},
   "outputs": [
    {
     "data": {
      "text/plain": [
       "array([[199, 149],\n",
       "       [ 91, 550]], dtype=int64)"
      ]
     },
     "execution_count": 69,
     "metadata": {},
     "output_type": "execute_result"
    }
   ],
   "source": [
    "from sklearn.metrics import confusion_matrix, classification_report\n",
    "\n",
    "cm = confusion_matrix(y_test, y_predicted)\n",
    "cm "
   ]
  },
  {
   "cell_type": "code",
   "execution_count": 70,
   "id": "32950086",
   "metadata": {},
   "outputs": [
    {
     "data": {
      "text/plain": [
       "Text(33.0, 0.5, 'Truth')"
      ]
     },
     "execution_count": 70,
     "metadata": {},
     "output_type": "execute_result"
    },
    {
     "data": {
      "image/png": "[encoded data removed]",
      "text/plain": [
       "<Figure size 432x288 with 2 Axes>"
      ]
     },
     "metadata": {
      "needs_background": "light"
     },
     "output_type": "display_data"
    }
   ],
   "source": [
    "from matplotlib import pyplot as plt\n",
    "import seaborn as sn\n",
    "sns.heatmap(cm, annot=True, fmt='d')\n",
    "plt.xlabel('Predicted')\n",
    "plt.ylabel('Truth')"
   ]
  },
  {
   "cell_type": "code",
   "execution_count": 71,
   "id": "829aee56",
   "metadata": {},
   "outputs": [
    {
     "data": {
      "image/png": "[encoded data removed]",
      "text/plain": [
       "<Figure size 432x288 with 2 Axes>"
      ]
     },
     "metadata": {
      "needs_background": "light"
     },
     "output_type": "display_data"
    }
   ],
   "source": [
    "\n",
    "cf_matrix = confusion_matrix(y_test, y_predicted)\n",
    "group_names = ['True Neg','False Pos','False Neg','True Pos']\n",
    "group_counts = [\"{0:0.0f}\".format(value) for value in\n",
    "                cf_matrix.flatten()]\n",
    "group_percentages = [\"{0:.2%}\".format(value) for value in\n",
    "                     cf_matrix.flatten()/np.sum(cf_matrix)]\n",
    "labels = [f\"{v1}\\n{v2}\" for v1, v2 in\n",
    "          zip(group_counts,group_percentages)]\n",
    "labels = np.asarray(labels).reshape(2,2)\n",
    "\n",
    "sns.heatmap(cm, annot=labels, fmt='', cmap='Blues')\n",
    "plt.xlabel('Predicted')\n",
    "plt.ylabel('Truth')\n",
    "plt.title('Text model, Confusion matrix')\n",
    "plt.savefig('plot.png')"
   ]
  },
  {
   "cell_type": "code",
   "execution_count": null,
   "id": "01e1b292",
   "metadata": {},
   "outputs": [],
   "source": [
    "model.save('my_model')"
   ]
  },
  {
   "cell_type": "markdown",
   "id": "altered-hollywood",
   "metadata": {},
   "source": [
    "Test wczytywania modelu:"
   ]
  },
  {
   "cell_type": "code",
   "execution_count": null,
   "id": "a9ef3738",
   "metadata": {},
   "outputs": [],
   "source": [
    "new_model = tf.keras.models.load_model('my_model')\n",
    "new_model.summary()"
   ]
  }
 ],
 "metadata": {
  "kernelspec": {
   "display_name": "Python 3",
   "language": "python",
   "name": "python3"
  },
  "language_info": {
   "codemirror_mode": {
    "name": "ipython",
    "version": 3
   },
   "file_extension": ".py",
   "mimetype": "text/x-python",
   "name": "python",
   "nbconvert_exporter": "python",
   "pygments_lexer": "ipython3",
   "version": "3.8.2"
  }
 },
 "nbformat": 4,
 "nbformat_minor": 5
}
