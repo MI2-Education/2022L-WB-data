{
 "cells": [
  {
   "cell_type": "markdown",
   "id": "be819584",
   "metadata": {},
   "source": [
    "# Modelowanie dla danych obrazowych"
   ]
  },
  {
   "cell_type": "markdown",
   "id": "97c5178d",
   "metadata": {},
   "source": [
    "## Wstęp"
   ]
  },
  {
   "cell_type": "code",
   "execution_count": 127,
   "id": "2cf7a816",
   "metadata": {},
   "outputs": [],
   "source": [
    "import numpy as np\n",
    "import pandas as pd\n",
    "import matplotlib.pyplot as plt\n",
    "from matplotlib.colors import LinearSegmentedColormap\n",
    "import seaborn as sns\n",
    "\n",
    "from sklearn.base import TransformerMixin\n",
    "from sklearn.pipeline import Pipeline, make_pipeline\n",
    "from sklearn.model_selection import train_test_split\n",
    "from sklearn.metrics import classification_report, accuracy_score, confusion_matrix\n",
    "import skimage\n",
    "\n",
    "from keras import layers\n",
    "from keras.layers import Input, Dense, Activation, BatchNormalization, Flatten, Conv2D, MaxPooling2D, Dropout\n",
    "from keras.models import Model\n",
    "from keras.preprocessing import image\n",
    "from keras.preprocessing.image import ImageDataGenerator\n",
    "import keras.backend as K\n",
    "K.set_image_data_format('channels_last')\n",
    "from tensorflow.keras.utils import to_categorical\n",
    "\n",
    "from PIL import Image\n",
    "import cv2\n",
    "\n",
    "from copy import deepcopy\n",
    "import os\n",
    "import joblib"
   ]
  },
  {
   "cell_type": "markdown",
   "id": "819a9203",
   "metadata": {},
   "source": [
    "Baza danych zawiera 21165 zdjęć. Każde z nich przypisane jest do dokładnie jednej z kategorii:\n",
    "* Normal\n",
    "* COVID\n",
    "* Lung Opacity\n",
    "* Viral Pneumonia"
   ]
  },
  {
   "cell_type": "markdown",
   "id": "e0729fcf",
   "metadata": {},
   "source": [
    "## Załadowanie i preprocessing danych"
   ]
  },
  {
   "cell_type": "code",
   "execution_count": 2,
   "id": "76970be4",
   "metadata": {},
   "outputs": [],
   "source": [
    "categories_names = ['Normal', 'COVID', 'Lung_Opacity', 'Viral Pneumonia']"
   ]
  },
  {
   "cell_type": "code",
   "execution_count": 3,
   "id": "2f29d674",
   "metadata": {},
   "outputs": [],
   "source": [
    "fnames = [\n",
    "    os.listdir(f'F:/wb/covid19-radiography-database/COVID-19_Radiography_Dataset/{category}/images/')\n",
    "    for category in categories_names\n",
    "]\n",
    "X_src, y = [], []\n",
    "for i in range(len(fnames)):\n",
    "    X_src += [f'F:/wb/covid19-radiography-database/COVID-19_Radiography_Dataset/{categories_names[i]}/images/' + fname\n",
    "             for fname in fnames[i]]\n",
    "    y += [i] * len(fnames[i])\n",
    "X_src = np.array(X_src)\n",
    "y = np.array(y)"
   ]
  },
  {
   "cell_type": "code",
   "execution_count": 4,
   "id": "c8aa2580",
   "metadata": {},
   "outputs": [
    {
     "data": {
      "text/plain": [
       "array(['F:/wb/covid19-radiography-database/COVID-19_Radiography_Dataset/Normal/images/Normal-1.png',\n",
       "       'F:/wb/covid19-radiography-database/COVID-19_Radiography_Dataset/Normal/images/Normal-10.png',\n",
       "       'F:/wb/covid19-radiography-database/COVID-19_Radiography_Dataset/Normal/images/Normal-100.png',\n",
       "       ...,\n",
       "       'F:/wb/covid19-radiography-database/COVID-19_Radiography_Dataset/Viral Pneumonia/images/Viral Pneumonia-997.png',\n",
       "       'F:/wb/covid19-radiography-database/COVID-19_Radiography_Dataset/Viral Pneumonia/images/Viral Pneumonia-998.png',\n",
       "       'F:/wb/covid19-radiography-database/COVID-19_Radiography_Dataset/Viral Pneumonia/images/Viral Pneumonia-999.png'],\n",
       "      dtype='<U111')"
      ]
     },
     "execution_count": 4,
     "metadata": {},
     "output_type": "execute_result"
    }
   ],
   "source": [
    "X_src"
   ]
  },
  {
   "cell_type": "code",
   "execution_count": 5,
   "id": "bfa2dc4d",
   "metadata": {},
   "outputs": [
    {
     "data": {
      "text/plain": [
       "array([0, 0, 0, ..., 3, 3, 3])"
      ]
     },
     "execution_count": 5,
     "metadata": {},
     "output_type": "execute_result"
    }
   ],
   "source": [
    "y"
   ]
  },
  {
   "cell_type": "markdown",
   "id": "0d54b989",
   "metadata": {},
   "source": [
    "### Preprocessing\n",
    "*(na podstawie pracy domowej 4.)*"
   ]
  },
  {
   "cell_type": "code",
   "execution_count": 6,
   "id": "4d0a4c00",
   "metadata": {},
   "outputs": [],
   "source": [
    "class ImageResizer(TransformerMixin):\n",
    "    def __init__(self, output_size):\n",
    "        self.output_size = output_size\n",
    "    def fit(self, X):\n",
    "        return self\n",
    "    def transform(self, X):\n",
    "        X_new = deepcopy(X)\n",
    "        for i in range(len(X)):\n",
    "            if X[i].ndim == 3:\n",
    "                X[i] = X[i][:, :, 0]\n",
    "            X_new[i] = (skimage.transform.resize(X[i], self.output_size) * 255).astype('uint8')\n",
    "        return X_new\n",
    "    \n",
    "class HistEqualizer(TransformerMixin):\n",
    "    def __init__(self):\n",
    "        pass\n",
    "    def fit(self, X):\n",
    "        return self\n",
    "    def transform(self, X):\n",
    "        X_new = deepcopy(X)\n",
    "        for i in range(len(X)):\n",
    "            if X[i].ndim == 3:\n",
    "                X[i] = X[i][:, :, 0]\n",
    "            X_new[i] = cv2.equalizeHist(X[i])\n",
    "        return X_new\n",
    "\n",
    "class TextRemover(TransformerMixin):\n",
    "    def __init__(self, threshold=0.95):\n",
    "        self.threshold = threshold\n",
    "    def fit(self, X):\n",
    "        return self\n",
    "    def transform(self, X):\n",
    "        X_new = deepcopy(X)\n",
    "        for i in range(len(X)):\n",
    "            if X[i].ndim == 3:\n",
    "                X[i] = X[i][:, :, 0]\n",
    "            mask = cv2.threshold(X[i], int(255*self.threshold), 255, cv2.THRESH_BINARY)[1]\n",
    "            X_new[i] = cv2.inpaint(X[i], mask, 5, cv2.INPAINT_NS)\n",
    "        return X_new"
   ]
  },
  {
   "cell_type": "code",
   "execution_count": 58,
   "id": "06cb16d8",
   "metadata": {},
   "outputs": [],
   "source": [
    "image_pipeline = make_pipeline(\n",
    "    TextRemover(0.95),\n",
    "    ImageResizer((128, 128)),\n",
    "    HistEqualizer()\n",
    ")"
   ]
  },
  {
   "cell_type": "code",
   "execution_count": 59,
   "id": "fe99d226",
   "metadata": {},
   "outputs": [
    {
     "data": {
      "text/plain": [
       "['X2.pkl']"
      ]
     },
     "execution_count": 59,
     "metadata": {},
     "output_type": "execute_result"
    }
   ],
   "source": [
    "X = np.array( \n",
    "    image_pipeline.transform([\n",
    "        np.asarray(Image.open(image_src)) for image_src in X_src\n",
    "    ])\n",
    ")\n",
    "joblib.dump(X, 'X2.pkl')"
   ]
  },
  {
   "cell_type": "code",
   "execution_count": 9,
   "id": "167cfd74",
   "metadata": {},
   "outputs": [],
   "source": [
    "X = joblib.load('X2.pkl')"
   ]
  },
  {
   "cell_type": "code",
   "execution_count": 66,
   "id": "130d4507",
   "metadata": {},
   "outputs": [],
   "source": [
    "X = np.stack([X]*3, axis=-1) # zmiana z 1 kanału na 3 kanały"
   ]
  },
  {
   "cell_type": "code",
   "execution_count": 71,
   "id": "3c3a026f",
   "metadata": {},
   "outputs": [
    {
     "data": {
      "text/plain": [
       "(21165, 128, 128, 3)"
      ]
     },
     "execution_count": 71,
     "metadata": {},
     "output_type": "execute_result"
    }
   ],
   "source": [
    "X.shape"
   ]
  },
  {
   "cell_type": "markdown",
   "id": "f19aa4f8",
   "metadata": {},
   "source": [
    "### Podział danych na zbiór uczący, walidacyjny i testowy"
   ]
  },
  {
   "cell_type": "code",
   "execution_count": 72,
   "id": "f5a6c4fd",
   "metadata": {},
   "outputs": [],
   "source": [
    "X_train, X_test, y_train, y_test = train_test_split(X, y, test_size = 0.25, stratify=y, random_state=765)\n",
    "X_train, X_val, y_train, y_val = train_test_split(X_train, y_train, test_size = 0.25, stratify=y_train, random_state=876)"
   ]
  },
  {
   "cell_type": "code",
   "execution_count": 73,
   "id": "c6e7fff4",
   "metadata": {},
   "outputs": [],
   "source": [
    "y_train, y_val, y_test = (to_categorical(y) for y in (y_train, y_val, y_test) ) #One-Hot Encoding na potrzeby trenowania"
   ]
  },
  {
   "cell_type": "code",
   "execution_count": 74,
   "id": "b24587d5",
   "metadata": {},
   "outputs": [
    {
     "data": {
      "text/plain": [
       "(11904, 3969, 5292)"
      ]
     },
     "execution_count": 74,
     "metadata": {},
     "output_type": "execute_result"
    }
   ],
   "source": [
    "len(X_train), len(X_val), len(X_test)"
   ]
  },
  {
   "cell_type": "markdown",
   "id": "da655b99",
   "metadata": {},
   "source": [
    "## Model (wersja 1. - cztery klasy)"
   ]
  },
  {
   "cell_type": "markdown",
   "id": "6e7c6790",
   "metadata": {},
   "source": [
    "Używamy zmodyfikowanej sieci AlexNet.\n",
    "\n",
    "Na podstawie: https://github.com/keshav1245/Image-Classification-using-AlexNet-CNN-Model/blob/master/AlexNet_Classification.md"
   ]
  },
  {
   "cell_type": "code",
   "execution_count": 191,
   "id": "1164b6f7",
   "metadata": {},
   "outputs": [],
   "source": [
    "def AlexNet(input_shape, n_classes=4):\n",
    "    \n",
    "    X_input = Input(input_shape)\n",
    "    \n",
    "    X = Conv2D(96,(11,11),strides = 4,name=\"conv0\")(X_input)\n",
    "    X = BatchNormalization(axis = 3 , name = \"bn0\")(X)\n",
    "    X = Activation('relu')(X)\n",
    "    \n",
    "    X = MaxPooling2D((3,3),strides = 2,name = 'max0')(X)\n",
    "    \n",
    "    X = Conv2D(256,(5,5),padding = 'same' , name = 'conv1')(X)\n",
    "    X = BatchNormalization(axis = 3 ,name='bn1')(X)\n",
    "    X = Activation('relu')(X)\n",
    "    \n",
    "    X = MaxPooling2D((3,3),strides = 2,name = 'max1')(X)\n",
    "    \n",
    "    X = Conv2D(384, (3,3) , padding = 'same' , name='conv2')(X)\n",
    "    X = BatchNormalization(axis = 3, name = 'bn2')(X)\n",
    "    X = Activation('relu')(X)\n",
    "    \n",
    "    X = Conv2D(384, (3,3) , padding = 'same' , name='conv3')(X)\n",
    "    X = BatchNormalization(axis = 3, name = 'bn3')(X)\n",
    "    X = Activation('relu')(X)\n",
    "    \n",
    "    X = Conv2D(256, (3,3) , padding = 'same' , name='conv4')(X)\n",
    "    X = BatchNormalization(axis = 3, name = 'bn4')(X)\n",
    "    X = Activation('relu')(X)\n",
    "    \n",
    "    X = MaxPooling2D((3,3),strides = 2,name = 'max2')(X)\n",
    "    \n",
    "    \n",
    "    X = Flatten()(X)\n",
    "    \n",
    "    X = Dense(128, activation = 'relu', name = \"fc0\")(X)\n",
    "    \n",
    "    X = Dense(32, activation = 'relu', name = 'fc1')(X) \n",
    "    \n",
    "    X = Dense(n_classes,activation='softmax',name = 'fc2')(X)\n",
    "    \n",
    "    model = Model(inputs = X_input, outputs = X, name='AlexNet')\n",
    "\n",
    "    \n",
    "    return model"
   ]
  },
  {
   "cell_type": "code",
   "execution_count": 76,
   "id": "461d75ed",
   "metadata": {},
   "outputs": [],
   "source": [
    "alex = AlexNet(X_train.shape[1:])"
   ]
  },
  {
   "cell_type": "code",
   "execution_count": 77,
   "id": "182a5b68",
   "metadata": {},
   "outputs": [
    {
     "name": "stdout",
     "output_type": "stream",
     "text": [
      "Model: \"AlexNet\"\n",
      "_________________________________________________________________\n",
      " Layer (type)                Output Shape              Param #   \n",
      "=================================================================\n",
      " input_17 (InputLayer)       [(None, 128, 128, 3)]     0         \n",
      "                                                                 \n",
      " conv0 (Conv2D)              (None, 30, 30, 96)        34944     \n",
      "                                                                 \n",
      " bn0 (BatchNormalization)    (None, 30, 30, 96)        384       \n",
      "                                                                 \n",
      " activation_74 (Activation)  (None, 30, 30, 96)        0         \n",
      "                                                                 \n",
      " max0 (MaxPooling2D)         (None, 14, 14, 96)        0         \n",
      "                                                                 \n",
      " conv1 (Conv2D)              (None, 14, 14, 256)       614656    \n",
      "                                                                 \n",
      " bn1 (BatchNormalization)    (None, 14, 14, 256)       1024      \n",
      "                                                                 \n",
      " activation_75 (Activation)  (None, 14, 14, 256)       0         \n",
      "                                                                 \n",
      " max1 (MaxPooling2D)         (None, 6, 6, 256)         0         \n",
      "                                                                 \n",
      " conv2 (Conv2D)              (None, 6, 6, 384)         885120    \n",
      "                                                                 \n",
      " bn2 (BatchNormalization)    (None, 6, 6, 384)         1536      \n",
      "                                                                 \n",
      " activation_76 (Activation)  (None, 6, 6, 384)         0         \n",
      "                                                                 \n",
      " conv3 (Conv2D)              (None, 6, 6, 384)         1327488   \n",
      "                                                                 \n",
      " bn3 (BatchNormalization)    (None, 6, 6, 384)         1536      \n",
      "                                                                 \n",
      " activation_77 (Activation)  (None, 6, 6, 384)         0         \n",
      "                                                                 \n",
      " conv4 (Conv2D)              (None, 6, 6, 256)         884992    \n",
      "                                                                 \n",
      " bn4 (BatchNormalization)    (None, 6, 6, 256)         1024      \n",
      "                                                                 \n",
      " activation_78 (Activation)  (None, 6, 6, 256)         0         \n",
      "                                                                 \n",
      " max2 (MaxPooling2D)         (None, 2, 2, 256)         0         \n",
      "                                                                 \n",
      " flatten_13 (Flatten)        (None, 1024)              0         \n",
      "                                                                 \n",
      " fc0 (Dense)                 (None, 128)               131200    \n",
      "                                                                 \n",
      " fc1 (Dense)                 (None, 32)                4128      \n",
      "                                                                 \n",
      " fc2 (Dense)                 (None, 4)                 132       \n",
      "                                                                 \n",
      "=================================================================\n",
      "Total params: 3,888,164\n",
      "Trainable params: 3,885,412\n",
      "Non-trainable params: 2,752\n",
      "_________________________________________________________________\n"
     ]
    }
   ],
   "source": [
    "alex.summary()"
   ]
  },
  {
   "cell_type": "code",
   "execution_count": 78,
   "id": "f132b506",
   "metadata": {},
   "outputs": [],
   "source": [
    "alex.compile(optimizer = 'adam', loss = 'categorical_crossentropy' , metrics=['accuracy'])"
   ]
  },
  {
   "cell_type": "markdown",
   "id": "fb4bde08",
   "metadata": {},
   "source": [
    "## Trenowanie modelu"
   ]
  },
  {
   "cell_type": "code",
   "execution_count": 79,
   "id": "186f19ff",
   "metadata": {},
   "outputs": [
    {
     "name": "stdout",
     "output_type": "stream",
     "text": [
      "Epoch 1/10\n",
      "372/372 [==============================] - 285s 764ms/step - loss: 0.7238 - accuracy: 0.7210 - val_loss: 2.6558 - val_accuracy: 0.2089\n",
      "Epoch 2/10\n",
      "372/372 [==============================] - 292s 785ms/step - loss: 0.5378 - accuracy: 0.7944 - val_loss: 1.2094 - val_accuracy: 0.5571\n",
      "Epoch 3/10\n",
      "372/372 [==============================] - 286s 769ms/step - loss: 0.4603 - accuracy: 0.8263 - val_loss: 4.3186 - val_accuracy: 0.2275\n",
      "Epoch 4/10\n",
      "372/372 [==============================] - 292s 784ms/step - loss: 0.4135 - accuracy: 0.8425 - val_loss: 4.8957 - val_accuracy: 0.2074\n",
      "Epoch 5/10\n",
      "372/372 [==============================] - 315s 846ms/step - loss: 0.3598 - accuracy: 0.8657 - val_loss: 3.0643 - val_accuracy: 0.2444\n",
      "Epoch 6/10\n",
      "372/372 [==============================] - 324s 872ms/step - loss: 0.3188 - accuracy: 0.8826 - val_loss: 3.9058 - val_accuracy: 0.2472\n",
      "Epoch 7/10\n",
      "372/372 [==============================] - 315s 846ms/step - loss: 0.2984 - accuracy: 0.8879 - val_loss: 2.5143 - val_accuracy: 0.3399\n",
      "Epoch 8/10\n",
      "372/372 [==============================] - 330s 888ms/step - loss: 0.2782 - accuracy: 0.8969 - val_loss: 1.5804 - val_accuracy: 0.6951\n",
      "Epoch 9/10\n",
      "372/372 [==============================] - 390s 1s/step - loss: 0.2467 - accuracy: 0.9080 - val_loss: 2.4407 - val_accuracy: 0.3862\n",
      "Epoch 10/10\n",
      "372/372 [==============================] - 450s 1s/step - loss: 0.2286 - accuracy: 0.9147 - val_loss: 3.4415 - val_accuracy: 0.3190\n"
     ]
    }
   ],
   "source": [
    "history = alex.fit(X_train, y_train, validation_data=(X_val, y_val), epochs=10)"
   ]
  },
  {
   "cell_type": "markdown",
   "id": "e51113bd",
   "metadata": {},
   "source": [
    "## Wyniki pierwszego modelu"
   ]
  },
  {
   "cell_type": "code",
   "execution_count": 108,
   "id": "7195d68f",
   "metadata": {},
   "outputs": [],
   "source": [
    "y_true = np.argmax(y_test, axis = 1)\n",
    "y_pred = np.argmax(alex.predict(X_test), axis = 1)"
   ]
  },
  {
   "cell_type": "markdown",
   "id": "d1657a6c",
   "metadata": {},
   "source": [
    "### Accuracy"
   ]
  },
  {
   "cell_type": "code",
   "execution_count": 115,
   "id": "627b46d1",
   "metadata": {},
   "outputs": [
    {
     "data": {
      "text/plain": [
       "0.31027966742252455"
      ]
     },
     "execution_count": 115,
     "metadata": {},
     "output_type": "execute_result"
    }
   ],
   "source": [
    "accuracy_score(y_true, y_pred)"
   ]
  },
  {
   "cell_type": "markdown",
   "id": "38de78d7",
   "metadata": {},
   "source": [
    "### Precision/recall"
   ]
  },
  {
   "cell_type": "code",
   "execution_count": 207,
   "id": "77040274",
   "metadata": {},
   "outputs": [
    {
     "data": {
      "image/png": "[encoded data removed]",
      "text/plain": [
       "<Figure size 432x288 with 2 Axes>"
      ]
     },
     "metadata": {
      "needs_background": "light"
     },
     "output_type": "display_data"
    }
   ],
   "source": [
    "sns.heatmap(pd.DataFrame(classification_report(y_true, y_pred, output_dict=True)).iloc[:-2, :-3], annot=True, cmap=LinearSegmentedColormap.from_list('rg',[\"r\", \"w\", \"g\"], N=256), vmin = 0, vmax = 1 )\n",
    "plt.yticks(rotation=0)\n",
    "plt.show()"
   ]
  },
  {
   "cell_type": "markdown",
   "id": "4a4d34c4",
   "metadata": {},
   "source": [
    "### Confusion matrix"
   ]
  },
  {
   "cell_type": "code",
   "execution_count": 208,
   "id": "189ca2ba",
   "metadata": {},
   "outputs": [
    {
     "data": {
      "image/png": "[encoded data removed]",
      "text/plain": [
       "<Figure size 432x288 with 2 Axes>"
      ]
     },
     "metadata": {
      "needs_background": "light"
     },
     "output_type": "display_data"
    }
   ],
   "source": [
    "sns.heatmap(confusion_matrix(y_true, y_pred), annot=True, fmt='d')\n",
    "plt.show()"
   ]
  },
  {
   "cell_type": "markdown",
   "id": "1c6952b5",
   "metadata": {},
   "source": [
    "### Wnioski"
   ]
  },
  {
   "cell_type": "markdown",
   "id": "ddd12bca",
   "metadata": {},
   "source": [
    "Widzimy wyraźnie, że przyczyną tak niskiej dokładności na zbiorze walidacyjnym i testowym jest nagminne klasyfikowanie do kategorii `1` (COVID) obrazów, które w rzeczywistości należą do kategorii `0` (Normal) lub `2` (Lung opacity)."
   ]
  },
  {
   "cell_type": "markdown",
   "id": "ab37e406",
   "metadata": {},
   "source": [
    "## Model (wersja 2. - trzy klasy)"
   ]
  },
  {
   "cell_type": "markdown",
   "id": "aadf34da",
   "metadata": {},
   "source": [
    "Przeprowadźmy zatem drugie modelowanie, dla trzech klas (bez problematycznej klasy COVID)."
   ]
  },
  {
   "cell_type": "code",
   "execution_count": 193,
   "id": "a767644d",
   "metadata": {},
   "outputs": [],
   "source": [
    "X2 = X[y != 1]\n",
    "y2 = y[y != 1]\n",
    "y2[y2 == 3] = 1 # zamiana kategorii 3 na usuniętą 1"
   ]
  },
  {
   "cell_type": "code",
   "execution_count": 194,
   "id": "4b2e6389",
   "metadata": {},
   "outputs": [],
   "source": [
    "X_train_2, X_test_2, y_train_2, y_test_2 = train_test_split(X2, y2, test_size = 0.25, stratify=y2, random_state=765)\n",
    "X_train_2, X_val_2, y_train_2, y_val_2 = train_test_split(X_train_2, y_train_2, test_size = 0.25, stratify=y_train_2, random_state=876)"
   ]
  },
  {
   "cell_type": "code",
   "execution_count": 195,
   "id": "0a9feaa2",
   "metadata": {},
   "outputs": [],
   "source": [
    "y_train_2, y_val_2, y_test_2 = (to_categorical(y) for y in (y_train_2, y_val_2, y_test_2) )"
   ]
  },
  {
   "cell_type": "code",
   "execution_count": 196,
   "id": "8788bd4e",
   "metadata": {},
   "outputs": [
    {
     "data": {
      "text/plain": [
       "(9870, 3291, 4388)"
      ]
     },
     "execution_count": 196,
     "metadata": {},
     "output_type": "execute_result"
    }
   ],
   "source": [
    "len(X_train_2), len(X_val_2), len(X_test_2)"
   ]
  },
  {
   "cell_type": "code",
   "execution_count": 197,
   "id": "b441f2c5",
   "metadata": {},
   "outputs": [],
   "source": [
    "model2 = AlexNet(X_train_2.shape[1:], n_classes=3)"
   ]
  },
  {
   "cell_type": "code",
   "execution_count": 198,
   "id": "5515f7a8",
   "metadata": {},
   "outputs": [],
   "source": [
    "model2.compile(optimizer = 'adam', loss = 'categorical_crossentropy' , metrics=['accuracy'])"
   ]
  },
  {
   "cell_type": "code",
   "execution_count": 199,
   "id": "726e99de",
   "metadata": {},
   "outputs": [
    {
     "name": "stdout",
     "output_type": "stream",
     "text": [
      "Epoch 1/10\n",
      "309/309 [==============================] - 364s 1s/step - loss: 0.4447 - accuracy: 0.8326 - val_loss: 0.5151 - val_accuracy: 0.8034\n",
      "Epoch 2/10\n",
      "309/309 [==============================] - 236s 763ms/step - loss: 0.3136 - accuracy: 0.8807 - val_loss: 0.5007 - val_accuracy: 0.7934\n",
      "Epoch 3/10\n",
      "309/309 [==============================] - 232s 750ms/step - loss: 0.2700 - accuracy: 0.8991 - val_loss: 0.9990 - val_accuracy: 0.6670\n",
      "Epoch 4/10\n",
      "309/309 [==============================] - 235s 761ms/step - loss: 0.2405 - accuracy: 0.9074 - val_loss: 0.4338 - val_accuracy: 0.8250\n",
      "Epoch 5/10\n",
      "309/309 [==============================] - 239s 774ms/step - loss: 0.2378 - accuracy: 0.9091 - val_loss: 0.4826 - val_accuracy: 0.7998\n",
      "Epoch 6/10\n",
      "309/309 [==============================] - 235s 759ms/step - loss: 0.2139 - accuracy: 0.9178 - val_loss: 1.7667 - val_accuracy: 0.6120\n",
      "Epoch 7/10\n",
      "309/309 [==============================] - 234s 756ms/step - loss: 0.2121 - accuracy: 0.9208 - val_loss: 0.6532 - val_accuracy: 0.7888\n",
      "Epoch 8/10\n",
      "309/309 [==============================] - 240s 777ms/step - loss: 0.1965 - accuracy: 0.9274 - val_loss: 0.3860 - val_accuracy: 0.8262\n",
      "Epoch 9/10\n",
      "309/309 [==============================] - 254s 824ms/step - loss: 0.1847 - accuracy: 0.9330 - val_loss: 0.3324 - val_accuracy: 0.8703\n",
      "Epoch 10/10\n",
      "309/309 [==============================] - 252s 814ms/step - loss: 0.1724 - accuracy: 0.9362 - val_loss: 0.2806 - val_accuracy: 0.8933\n"
     ]
    }
   ],
   "source": [
    "history2 = model2.fit(X_train_2, y_train_2, validation_data=(X_val_2, y_val_2), epochs=10)"
   ]
  },
  {
   "cell_type": "markdown",
   "id": "9c7ce0e7",
   "metadata": {},
   "source": [
    "## Wyniki drugiego modelu"
   ]
  },
  {
   "cell_type": "code",
   "execution_count": 201,
   "id": "47f62929",
   "metadata": {},
   "outputs": [],
   "source": [
    "y_true_2 = np.argmax(y_test_2, axis = 1)\n",
    "y_pred_2 = np.argmax(model2.predict(X_test_2), axis = 1)"
   ]
  },
  {
   "cell_type": "markdown",
   "id": "707f4cb7",
   "metadata": {},
   "source": [
    "### Accuracy"
   ]
  },
  {
   "cell_type": "code",
   "execution_count": 202,
   "id": "ebb72e8f",
   "metadata": {},
   "outputs": [
    {
     "data": {
      "text/plain": [
       "0.8963081130355515"
      ]
     },
     "execution_count": 202,
     "metadata": {},
     "output_type": "execute_result"
    }
   ],
   "source": [
    "accuracy_score(y_true_2, y_pred_2)"
   ]
  },
  {
   "cell_type": "markdown",
   "id": "c897b4d9",
   "metadata": {},
   "source": [
    "### Precision/recall"
   ]
  },
  {
   "cell_type": "code",
   "execution_count": 206,
   "id": "b8b12324",
   "metadata": {},
   "outputs": [
    {
     "data": {
      "image/png": "[encoded data removed]",
      "text/plain": [
       "<Figure size 432x288 with 2 Axes>"
      ]
     },
     "metadata": {
      "needs_background": "light"
     },
     "output_type": "display_data"
    }
   ],
   "source": [
    "sns.heatmap(pd.DataFrame(classification_report(y_true_2, y_pred_2, output_dict=True)).iloc[:-2, :-3], annot=True, cmap=LinearSegmentedColormap.from_list('rg',[\"r\", \"w\", \"g\"], N=256), vmin = 0, vmax = 1 )\n",
    "plt.yticks(rotation=0)\n",
    "plt.show()"
   ]
  },
  {
   "cell_type": "markdown",
   "id": "6026492c",
   "metadata": {},
   "source": [
    "### Confusion matrix"
   ]
  },
  {
   "cell_type": "code",
   "execution_count": 209,
   "id": "f1cffd96",
   "metadata": {},
   "outputs": [
    {
     "data": {
      "image/png": "[encoded data removed]",
      "text/plain": [
       "<Figure size 432x288 with 2 Axes>"
      ]
     },
     "metadata": {
      "needs_background": "light"
     },
     "output_type": "display_data"
    }
   ],
   "source": [
    "sns.heatmap(confusion_matrix(y_true_2, y_pred_2), annot=True, fmt='d')\n",
    "plt.show()"
   ]
  },
  {
   "cell_type": "markdown",
   "id": "2118d4ac",
   "metadata": {},
   "source": [
    "### Wnioski"
   ]
  },
  {
   "cell_type": "markdown",
   "id": "a8be9472",
   "metadata": {},
   "source": [
    "Wyniki drugiego modelu są satysfakcjonujące, uzyskaliśmy dokładność na zbiorze testowym równą ok. $90$% oraz wskaźniki pełności i precyzji w przedziale $78-96$%. Sieć, której budowa została oparta na architekturze sieci `AlexNet`, okazała się więc bardzo przydatna do rozróżniania osób:\n",
    "* zdrowych;\n",
    "* chorych na wirusowe zapalenie płuc;\n",
    "* chorych na zmętnienie płuc."
   ]
  }
 ],
 "metadata": {
  "kernelspec": {
   "display_name": "Python 3 (ipykernel)",
   "language": "python",
   "name": "python3"
  },
  "language_info": {
   "codemirror_mode": {
    "name": "ipython",
    "version": 3
   },
   "file_extension": ".py",
   "mimetype": "text/x-python",
   "name": "python",
   "nbconvert_exporter": "python",
   "pygments_lexer": "ipython3",
   "version": "3.10.2"
  }
 },
 "nbformat": 4,
 "nbformat_minor": 5
}
