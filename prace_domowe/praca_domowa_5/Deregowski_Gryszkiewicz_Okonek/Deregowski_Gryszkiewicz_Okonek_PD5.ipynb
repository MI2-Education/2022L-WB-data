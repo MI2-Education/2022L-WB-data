{
 "cells": [
  {
   "cell_type": "markdown",
   "metadata": {},
   "source": [
    "# Praca domowa 5"
   ]
  },
  {
   "cell_type": "markdown",
   "metadata": {},
   "source": [
    "## Budowa modelu"
   ]
  },
  {
   "cell_type": "markdown",
   "metadata": {},
   "source": [
    "W tej pracy domowej skupiliśmy się na budowie modelu dla wybranej bazy danych. Jako jedną z baz wybraliśmy `Chest X-Ray Images (Pneumonia)`. Do budowy modelu wykorzystaliśmy bibliotekę `tensorflow`."
   ]
  },
  {
   "cell_type": "code",
   "execution_count": 4,
   "metadata": {},
   "outputs": [],
   "source": [
    "import seaborn as sns\n",
    "import matplotlib.pyplot as plt\n",
    "import pandas as pd\n",
    "import os\n",
    "import random\n",
    "import numpy as np"
   ]
  },
  {
   "cell_type": "code",
   "execution_count": 5,
   "metadata": {},
   "outputs": [],
   "source": [
    "from keras.models import Model\n",
    "from keras.applications.vgg16 import VGG16\n",
    "from keras.applications.vgg16 import preprocess_input\n",
    "from keras.preprocessing import image\n",
    "from keras.preprocessing.image import ImageDataGenerator\n",
    "from keras.models import Sequential\n",
    "import numpy as np\n",
    "from glob import glob"
   ]
  },
  {
   "cell_type": "code",
   "execution_count": 60,
   "metadata": {},
   "outputs": [],
   "source": [
    "\n",
    "from sklearn.metrics import confusion_matrix\n",
    "from sklearn.preprocessing import LabelBinarizer\n",
    "from sklearn.model_selection import train_test_split\n",
    "\n",
    "\n",
    "from tensorflow.keras.layers import Dense,GlobalAveragePooling2D,Convolution2D,BatchNormalization\n",
    "from tensorflow.keras.layers import Flatten,MaxPooling2D,Dropout\n",
    "\n",
    "from tensorflow.keras.applications import DenseNet121\n",
    "from tensorflow.keras.applications.densenet import preprocess_input\n",
    "\n",
    "from tensorflow.keras.preprocessing import image\n",
    "from tensorflow.keras.preprocessing.image import ImageDataGenerator,img_to_array\n",
    "\n",
    "from tensorflow.keras.models import Model\n",
    "\n",
    "from tensorflow.keras.optimizers import Adam\n",
    "\n",
    "from tensorflow.keras.callbacks import ModelCheckpoint, ReduceLROnPlateau\n",
    "\n",
    "import warnings\n",
    "warnings.filterwarnings(\"ignore\")"
   ]
  },
  {
   "cell_type": "code",
   "execution_count": 6,
   "metadata": {},
   "outputs": [],
   "source": [
    "from tensorflow import keras\n",
    "import tensorflow as tf"
   ]
  },
  {
   "cell_type": "markdown",
   "metadata": {},
   "source": [
    "## Zapis zdjęć do ramki danych"
   ]
  },
  {
   "cell_type": "code",
   "execution_count": 7,
   "metadata": {},
   "outputs": [],
   "source": [
    "train_path = '../Warsztaty/chest_xray/train/'\n",
    "test_path = '../Warsztaty/chest_xray/test/'\n",
    "val_path = '../Warsztaty/chest_xray/val/'"
   ]
  },
  {
   "cell_type": "code",
   "execution_count": 8,
   "metadata": {},
   "outputs": [],
   "source": [
    "def df_from_dir(path):\n",
    "    path_to_nrm = os.path.join(path+'/NORMAL')\n",
    "    path_to_pn = os.path.join(path+'/PNEUMONIA')\n",
    "    \n",
    "    list_class_nrm = [0] * len(os.listdir(path_to_nrm))\n",
    "    list_class_pn = [1] * len(os.listdir(path_to_pn))\n",
    "    \n",
    "    list_path_nrm = [os.path.join(path_to_nrm, filename) for filename in os.listdir(path_to_nrm)]\n",
    "    list_path_pn = [os.path.join(path_to_pn, filename) for filename in os.listdir(path_to_pn)]\n",
    "    \n",
    "    return pd.DataFrame({'path': list_path_nrm + list_path_pn, 'class': list_class_nrm + list_class_pn})"
   ]
  },
  {
   "cell_type": "code",
   "execution_count": 9,
   "metadata": {},
   "outputs": [],
   "source": [
    "train_df = df_from_dir(train_path)\n",
    "valid_add_df = df_from_dir(test_path)\n",
    "test_df = df_from_dir(val_path)"
   ]
  },
  {
   "cell_type": "code",
   "execution_count": 10,
   "metadata": {},
   "outputs": [],
   "source": [
    "y_test=valid_add_df['class']\n",
    "y_train=train_df['class']"
   ]
  },
  {
   "cell_type": "code",
   "execution_count": 11,
   "metadata": {},
   "outputs": [],
   "source": [
    "import cv2"
   ]
  },
  {
   "cell_type": "code",
   "execution_count": 12,
   "metadata": {},
   "outputs": [],
   "source": [
    "new_size=224    \n",
    "X_train = []\n",
    "\n",
    "for file in  train_df['path'] :  \n",
    "    orignal_image = cv2.imread(file)\n",
    "    image = cv2.cvtColor(orignal_image, cv2.COLOR_BGR2RGB)\n",
    "        \n",
    "    resized_image = cv2.resize(image , (new_size,new_size))\n",
    "    X_train.append(resized_image)"
   ]
  },
  {
   "cell_type": "code",
   "execution_count": 13,
   "metadata": {},
   "outputs": [],
   "source": [
    "new_size=224    \n",
    "X_test = []\n",
    "\n",
    "for file in valid_add_df['path'] :  \n",
    "    orignal_image = cv2.imread(file)\n",
    "    image = cv2.cvtColor(orignal_image, cv2.COLOR_BGR2RGB)\n",
    "        \n",
    "    resized_image = cv2.resize(image , (new_size,new_size))\n",
    "    X_test.append(resized_image)"
   ]
  },
  {
   "cell_type": "code",
   "execution_count": 14,
   "metadata": {},
   "outputs": [],
   "source": [
    "X_train = np.array(X_train)\n",
    "y_train = np.array(y_train)"
   ]
  },
  {
   "cell_type": "code",
   "execution_count": 15,
   "metadata": {},
   "outputs": [],
   "source": [
    "X_test = np.array(X_test)\n",
    "y_test = np.array(y_test)"
   ]
  },
  {
   "cell_type": "markdown",
   "metadata": {},
   "source": [
    "## Budowa modelu Resnet-50"
   ]
  },
  {
   "cell_type": "code",
   "execution_count": 17,
   "metadata": {},
   "outputs": [],
   "source": [
    "from keras.models import load_model\n",
    "from keras.layers import Activation, Dense"
   ]
  },
  {
   "cell_type": "code",
   "execution_count": 18,
   "metadata": {},
   "outputs": [],
   "source": [
    "from tensorflow.keras.optimizers import Adam"
   ]
  },
  {
   "cell_type": "code",
   "execution_count": 21,
   "metadata": {},
   "outputs": [],
   "source": [
    "from tensorflow.keras.applications.resnet50 import ResNet50\n",
    "\n",
    "model = ResNet50(include_top=False, input_shape=(224, 224, 3), weights = 'imagenet')\n",
    "\n",
    "for layer in model.layers[:70]:\n",
    "    layer.trainable = False\n",
    "\n",
    "for layer in model.layers[70:]:\n",
    "    layer.trainable = True"
   ]
  },
  {
   "cell_type": "code",
   "execution_count": 35,
   "metadata": {},
   "outputs": [],
   "source": [
    "model = Sequential([ Conv2D(32,3, padding = \"same\", activation = \"relu\" ,input_shape=(224, 224, 3)), MaxPooling2D(2,2),\n",
    "\n",
    "Conv2D(64,3, padding = \"same\",activation = \"relu\"),\n",
    "MaxPooling2D(2,2),\n",
    "\n",
    "Conv2D(128,3, padding = \"same\",activation = \"relu\"),\n",
    "MaxPooling2D(2,2),\n",
    "\n",
    "Conv2D(128,3, padding = \"same\",activation = \"relu\"),\n",
    "MaxPooling2D(2,2),\n",
    "Dropout(rate=0.2),\n",
    "\n",
    "Conv2D(128,3, padding = \"same\",activation = \"relu\"),\n",
    "MaxPooling2D(2,2),\n",
    "\n",
    "\n",
    "Conv2D(128,3, padding = \"same\",activation = \"relu\"),\n",
    "MaxPooling2D(2,2),\n",
    "\n",
    "Flatten(),\n",
    "\n",
    "Dropout(rate=0.5),\n",
    "\n",
    "Dense(512,activation = \"relu\"),\n",
    "\n",
    "Dense(1, activation ='sigmoid')\n",
    "])"
   ]
  },
  {
   "cell_type": "code",
   "execution_count": 22,
   "metadata": {},
   "outputs": [],
   "source": [
    "from tensorflow.keras.preprocessing.image import ImageDataGenerator\n",
    "batch_size = 16\n",
    "\n",
    "train_data_gen = ImageDataGenerator(\n",
    "                                 # rescale = 1./255,\n",
    "                                #shear_range = 0.2,\n",
    "                                fill_mode='nearest',\n",
    "                                shear_range = 0.2,\n",
    "                                zoom_range = 0.2,\n",
    "                                height_shift_range=0.2,\n",
    "                                width_shift_range=0.2,\n",
    "                                horizontal_flip=True, \n",
    "                                rotation_range = 20,   \n",
    "\n",
    "                               )\n",
    "\n",
    "test_data_gen  = ImageDataGenerator()\n",
    "\n",
    "test = test_data_gen.flow(\n",
    "      X_test,\n",
    "      y_test,\n",
    "      shuffle=True, \n",
    "      batch_size=batch_size\n",
    "      )\n",
    "train = train_data_gen.flow(\n",
    "      X_train,\n",
    "      y_train,\n",
    "      shuffle=True, \n",
    "      batch_size=batch_size\n",
    "      )"
   ]
  },
  {
   "cell_type": "code",
   "execution_count": 26,
   "metadata": {},
   "outputs": [],
   "source": [
    "from tensorflow.keras.callbacks import EarlyStopping, ReduceLROnPlateau, ModelCheckpoint, CSVLogger, LearningRateScheduler,TensorBoard,CallbackList"
   ]
  },
  {
   "cell_type": "code",
   "execution_count": 28,
   "metadata": {},
   "outputs": [],
   "source": [
    "import tensorflow as tf\n",
    "from tensorflow.keras import layers\n",
    "from tensorflow.keras.models import Model,Sequential\n",
    "from tensorflow.keras.layers import Conv2D,MaxPooling2D,Dense,Flatten,Dropout,BatchNormalization,SeparableConv2D"
   ]
  },
  {
   "cell_type": "code",
   "execution_count": 30,
   "metadata": {},
   "outputs": [],
   "source": [
    "earlystop=EarlyStopping(patience=15)\n",
    "filepath = \"pneum_or_not.h5\"\n",
    "checkpoint = ModelCheckpoint(filepath, monitor='val_accuracy', verbose=1,save_best_only=True, mode='max')\n",
    "log_fname = 'model_pneum_or_not.csv'\n",
    "csv_logger = CSVLogger(filename=log_fname,separator=',',append=False)\n",
    "callbacks_list = [checkpoint, csv_logger,earlystop] \n",
    "lr_reduce = ReduceLROnPlateau(monitor='val_loss', factor=0.3, patience=2, verbose=2, mode='max')"
   ]
  },
  {
   "cell_type": "code",
   "execution_count": 37,
   "metadata": {},
   "outputs": [],
   "source": [
    "opt=tf.keras.optimizers.Adam(0.0001)\n",
    "model.compile(optimizer=opt,loss='binary_crossentropy' , metrics='accuracy')"
   ]
  },
  {
   "cell_type": "code",
   "execution_count": 38,
   "metadata": {
    "scrolled": true
   },
   "outputs": [
    {
     "name": "stdout",
     "output_type": "stream",
     "text": [
      "Epoch 1/15\n",
      "326/326 [==============================] - ETA: 0s - loss: 0.8424 - accuracy: 0.7176\n",
      "Epoch 1: val_accuracy improved from -inf to 0.62821, saving model to pneum_or_not.h5\n",
      "326/326 [==============================] - 287s 879ms/step - loss: 0.8424 - accuracy: 0.7176 - val_loss: 0.8669 - val_accuracy: 0.6282 - lr: 1.0000e-04\n",
      "Epoch 2/15\n",
      "326/326 [==============================] - ETA: 0s - loss: 0.4240 - accuracy: 0.8021\n",
      "Epoch 2: val_accuracy improved from 0.62821 to 0.81410, saving model to pneum_or_not.h5\n",
      "326/326 [==============================] - 289s 885ms/step - loss: 0.4240 - accuracy: 0.8021 - val_loss: 0.4541 - val_accuracy: 0.8141 - lr: 1.0000e-04\n",
      "Epoch 3/15\n",
      "326/326 [==============================] - ETA: 0s - loss: 0.3551 - accuracy: 0.8393\n",
      "Epoch 3: val_accuracy did not improve from 0.81410\n",
      "\n",
      "Epoch 3: ReduceLROnPlateau reducing learning rate to 2.9999999242136255e-05.\n",
      "326/326 [==============================] - 296s 908ms/step - loss: 0.3551 - accuracy: 0.8393 - val_loss: 0.4991 - val_accuracy: 0.7420 - lr: 1.0000e-04\n",
      "Epoch 4/15\n",
      "326/326 [==============================] - ETA: 0s - loss: 0.3004 - accuracy: 0.8623\n",
      "Epoch 4: val_accuracy improved from 0.81410 to 0.87340, saving model to pneum_or_not.h5\n",
      "326/326 [==============================] - 295s 904ms/step - loss: 0.3004 - accuracy: 0.8623 - val_loss: 0.3928 - val_accuracy: 0.8734 - lr: 3.0000e-05\n",
      "Epoch 5/15\n",
      "326/326 [==============================] - ETA: 0s - loss: 0.2634 - accuracy: 0.8901\n",
      "Epoch 5: val_accuracy did not improve from 0.87340\n",
      "\n",
      "Epoch 5: ReduceLROnPlateau reducing learning rate to 8.999999772640877e-06.\n",
      "326/326 [==============================] - 287s 881ms/step - loss: 0.2634 - accuracy: 0.8901 - val_loss: 0.4704 - val_accuracy: 0.8365 - lr: 3.0000e-05\n",
      "Epoch 6/15\n",
      "326/326 [==============================] - ETA: 0s - loss: 0.2650 - accuracy: 0.8861\n",
      "Epoch 6: val_accuracy did not improve from 0.87340\n",
      "326/326 [==============================] - 286s 878ms/step - loss: 0.2650 - accuracy: 0.8861 - val_loss: 0.3495 - val_accuracy: 0.8654 - lr: 9.0000e-06\n",
      "Epoch 7/15\n",
      "326/326 [==============================] - ETA: 0s - loss: 0.2606 - accuracy: 0.8888\n",
      "Epoch 7: val_accuracy improved from 0.87340 to 0.87981, saving model to pneum_or_not.h5\n",
      "\n",
      "Epoch 7: ReduceLROnPlateau reducing learning rate to 2.6999998226528985e-06.\n",
      "326/326 [==============================] - 287s 879ms/step - loss: 0.2606 - accuracy: 0.8888 - val_loss: 0.3841 - val_accuracy: 0.8798 - lr: 9.0000e-06\n",
      "Epoch 8/15\n",
      "326/326 [==============================] - ETA: 0s - loss: 0.2536 - accuracy: 0.8924\n",
      "Epoch 8: val_accuracy improved from 0.87981 to 0.88462, saving model to pneum_or_not.h5\n",
      "326/326 [==============================] - 287s 881ms/step - loss: 0.2536 - accuracy: 0.8924 - val_loss: 0.3428 - val_accuracy: 0.8846 - lr: 2.7000e-06\n",
      "Epoch 9/15\n",
      "326/326 [==============================] - ETA: 0s - loss: 0.2503 - accuracy: 0.8915\n",
      "Epoch 9: val_accuracy improved from 0.88462 to 0.88782, saving model to pneum_or_not.h5\n",
      "\n",
      "Epoch 9: ReduceLROnPlateau reducing learning rate to 8.099999604382901e-07.\n",
      "326/326 [==============================] - 287s 880ms/step - loss: 0.2503 - accuracy: 0.8915 - val_loss: 0.3421 - val_accuracy: 0.8878 - lr: 2.7000e-06\n",
      "Epoch 10/15\n",
      "326/326 [==============================] - ETA: 0s - loss: 0.2518 - accuracy: 0.8907\n",
      "Epoch 10: val_accuracy did not improve from 0.88782\n",
      "326/326 [==============================] - 287s 879ms/step - loss: 0.2518 - accuracy: 0.8907 - val_loss: 0.3380 - val_accuracy: 0.8814 - lr: 8.1000e-07\n",
      "Epoch 11/15\n",
      "326/326 [==============================] - ETA: 0s - loss: 0.2369 - accuracy: 0.9007\n",
      "Epoch 11: val_accuracy did not improve from 0.88782\n",
      "\n",
      "Epoch 11: ReduceLROnPlateau reducing learning rate to 2.4299998813148704e-07.\n",
      "326/326 [==============================] - 290s 891ms/step - loss: 0.2369 - accuracy: 0.9007 - val_loss: 0.3376 - val_accuracy: 0.8830 - lr: 8.1000e-07\n",
      "Epoch 12/15\n",
      "326/326 [==============================] - ETA: 0s - loss: 0.2410 - accuracy: 0.8942\n",
      "Epoch 12: val_accuracy did not improve from 0.88782\n",
      "326/326 [==============================] - 304s 933ms/step - loss: 0.2410 - accuracy: 0.8942 - val_loss: 0.3350 - val_accuracy: 0.8830 - lr: 2.4300e-07\n",
      "Epoch 13/15\n",
      "326/326 [==============================] - ETA: 0s - loss: 0.2445 - accuracy: 0.8990\n",
      "Epoch 13: val_accuracy did not improve from 0.88782\n",
      "\n",
      "Epoch 13: ReduceLROnPlateau reducing learning rate to 7.289999643944612e-08.\n",
      "326/326 [==============================] - 296s 906ms/step - loss: 0.2445 - accuracy: 0.8990 - val_loss: 0.3348 - val_accuracy: 0.8830 - lr: 2.4300e-07\n",
      "Epoch 14/15\n",
      "326/326 [==============================] - ETA: 0s - loss: 0.2459 - accuracy: 0.8911\n",
      "Epoch 14: val_accuracy did not improve from 0.88782\n",
      "326/326 [==============================] - 290s 890ms/step - loss: 0.2459 - accuracy: 0.8911 - val_loss: 0.3344 - val_accuracy: 0.8830 - lr: 7.2900e-08\n",
      "Epoch 15/15\n",
      "326/326 [==============================] - ETA: 0s - loss: 0.2429 - accuracy: 0.8984\n",
      "Epoch 15: val_accuracy did not improve from 0.88782\n",
      "\n",
      "Epoch 15: ReduceLROnPlateau reducing learning rate to 2.1869998079182552e-08.\n",
      "326/326 [==============================] - 289s 886ms/step - loss: 0.2429 - accuracy: 0.8984 - val_loss: 0.3343 - val_accuracy: 0.8830 - lr: 7.2900e-08\n"
     ]
    }
   ],
   "source": [
    "history= model.fit(train,validation_data=test,epochs=15,verbose=1,batch_size=32,callbacks=[callbacks_list,lr_reduce])"
   ]
  },
  {
   "cell_type": "markdown",
   "metadata": {},
   "source": [
    "## Wnioski po trenowaniu"
   ]
  },
  {
   "cell_type": "markdown",
   "metadata": {},
   "source": [
    "Proces treningu został ustawiony na 15 epok. Okazało się, że maksymalną dokładność na zbiorze testowym otrzymaliśmy już po 9 epokach. Otrzymany wynik w okolicach 89% wydaje się dosyc wysoki i zachęca do korzystania z modelu."
   ]
  },
  {
   "cell_type": "markdown",
   "metadata": {},
   "source": [
    "## Wykresy dokładności"
   ]
  },
  {
   "cell_type": "code",
   "execution_count": 61,
   "metadata": {},
   "outputs": [
    {
     "data": {
      "image/png": "[encoded data removed]",
      "text/plain": [
       "<Figure size 864x432 with 2 Axes>"
      ]
     },
     "metadata": {
      "needs_background": "light"
     },
     "output_type": "display_data"
    }
   ],
   "source": [
    "acc = history.history['accuracy']\n",
    "val_acc = history.history['val_accuracy']\n",
    "\n",
    "loss = history.history['loss']\n",
    "val_loss = history.history['val_loss']\n",
    "\n",
    "epochs_range = range(15)\n",
    "\n",
    "plt.figure(figsize=(12, 6))\n",
    "plt.subplot(1, 2, 1)\n",
    "plt.plot(epochs_range, acc, label='Dokładność na zbiorze treningowym')\n",
    "plt.plot(epochs_range, val_acc, label='Dokładność na zbiorze testowym')\n",
    "plt.legend(loc='lower right')\n",
    "plt.title('Dokładność na zbiorach treningowym i testowym')\n",
    "plt.xlabel('Liczba epok')\n",
    "plt.ylabel('accuracy')\n",
    "\n",
    "plt.subplot(1, 2, 2)\n",
    "plt.plot(epochs_range, loss, label='Strata na treningowym')\n",
    "plt.plot(epochs_range, val_loss, label='Strata na testowym')\n",
    "plt.legend(loc='upper right')\n",
    "plt.title('Straty na zbiorze treningowym i testowym')\n",
    "plt.xlabel('Liczba epok')\n",
    "plt.ylabel('Loss')\n",
    "plt.show()"
   ]
  },
  {
   "cell_type": "markdown",
   "metadata": {},
   "source": [
    "Pierwszy wykres potwierdza obserwcję, że wystarczy 9 epok, nie trzeba trenować dłużej. Drugi wykres przedstawiający straty pokazuje, że model można byłoby jeszcze dotrenować, ponieważ krzywe straty na zbiorze treningowym i testowym nie są bardzo blisko siebie. "
   ]
  },
  {
   "cell_type": "code",
   "execution_count": 41,
   "metadata": {
    "scrolled": false
   },
   "outputs": [
    {
     "name": "stdout",
     "output_type": "stream",
     "text": [
      "20/20 [==============================] - 9s 440ms/step\n",
      "20/20 [==============================] - 9s 449ms/step - loss: 0.3343 - accuracy: 0.8830\n",
      "              precision    recall  f1-score   support\n",
      "\n",
      "           0       0.84      0.85      0.85       234\n",
      "           1       0.91      0.90      0.91       390\n",
      "\n",
      "    accuracy                           0.88       624\n",
      "   macro avg       0.87      0.88      0.88       624\n",
      "weighted avg       0.88      0.88      0.88       624\n",
      "\n"
     ]
    }
   ],
   "source": [
    "prediction = model.predict(X_test)\n",
    "prediction = np.where(prediction>0.5, 1, 0)\n",
    "metrics = model.evaluate(X_test, y_test)\n",
    "from sklearn.metrics import classification_report\n",
    "\n",
    "print(classification_report(y_test, prediction))"
   ]
  },
  {
   "cell_type": "markdown",
   "metadata": {},
   "source": [
    "W naszym przypadku najważniejszą miarą było `accuracy`. Wynikało to z liczby zdjęć w poszczególnych kategoriach. Jednak widzimy, że wszystkie miary wskazują dokładność na poziomie około 90%. "
   ]
  },
  {
   "cell_type": "code",
   "execution_count": 51,
   "metadata": {},
   "outputs": [],
   "source": [
    "from sklearn.metrics import plot_confusion_matrix"
   ]
  },
  {
   "cell_type": "code",
   "execution_count": 59,
   "metadata": {},
   "outputs": [
    {
     "name": "stdout",
     "output_type": "stream",
     "text": [
      "20/20 [==============================] - 9s 441ms/step\n"
     ]
    },
    {
     "data": {
      "text/plain": [
       "Text(0.5, 145.31999999999996, 'Predicted')"
      ]
     },
     "execution_count": 59,
     "metadata": {},
     "output_type": "execute_result"
    },
    {
     "data": {
      "image/png": "[encoded data removed]",
      "text/plain": [
       "<Figure size 864x864 with 2 Axes>"
      ]
     },
     "metadata": {
      "needs_background": "light"
     },
     "output_type": "display_data"
    }
   ],
   "source": [
    "label=['Pneumonia','Normal']\n",
    "prediction = model.predict(X_test)\n",
    "prediction = np.where(prediction>0.5, 1, 0)\n",
    "\n",
    "cm = confusion_matrix(y_test,prediction)\n",
    "plt.figure(figsize=(12, 12))\n",
    "ax = sns.heatmap(cm, cmap=\"rocket_r\", fmt=\".01f\",annot_kws={'size':16}, annot=True, square=True, xticklabels=label, yticklabels=label)\n",
    "ax.set_ylabel('Actual', fontsize=20)\n",
    "ax.set_xlabel('Predicted', fontsize=20)"
   ]
  },
  {
   "cell_type": "markdown",
   "metadata": {},
   "source": [
    "Ostatni z wykresów przedstawia macierz pomyłek. Model popełnia podobną liczbę pomyłek w obu przypadkach."
   ]
  },
  {
   "cell_type": "markdown",
   "metadata": {},
   "source": [
    "### Wykorzystane artykuły:\n",
    "- https://towardsdatascience.com/image-classification-using-tensorflow-in-python-f8c978824edc\n",
    "- https://www.pluralsight.com/guides/introduction-to-densenet-with-tensorflow\n",
    "- https://www.kaggle.com/code/amyjang/tensorflow-pneumonia-classification-on-x-rays"
   ]
  },
  {
   "cell_type": "markdown",
   "metadata": {},
   "source": [
    "# Zbiór danych nr 2\n",
    "## Pediatric Chest X-Ray Pneumonia"
   ]
  },
  {
   "cell_type": "code",
   "execution_count": 69,
   "metadata": {
    "scrolled": true
   },
   "outputs": [],
   "source": [
    "import os\n",
    "import cv2\n",
    "import torch\n",
    "import torchvision\n",
    "import torchvision.transforms as transforms\n",
    "from torch.utils.data import Dataset"
   ]
  },
  {
   "cell_type": "code",
   "execution_count": 70,
   "metadata": {},
   "outputs": [],
   "source": [
    "import matplotlib.pyplot as plt\n",
    "import numpy as np\n",
    "import pandas as pd"
   ]
  },
  {
   "cell_type": "code",
   "execution_count": 71,
   "metadata": {},
   "outputs": [],
   "source": [
    "from torchvision.io import read_image"
   ]
  },
  {
   "cell_type": "code",
   "execution_count": 72,
   "metadata": {},
   "outputs": [],
   "source": [
    "import os\n",
    "os.environ[\"KMP_DUPLICATE_LIB_OK\"]=\"TRUE\""
   ]
  },
  {
   "cell_type": "markdown",
   "metadata": {},
   "source": [
    "### Utworzenie ramki danych z nazwą każdego pliku i klasą do której należy."
   ]
  },
  {
   "cell_type": "code",
   "execution_count": 73,
   "metadata": {},
   "outputs": [],
   "source": [
    "train_path = \"D:\\\\Datasets\\\\Pediatric Chest X-ray Pneumonia\\\\train\\\\\"\n",
    "train_filenames = []\n",
    "train_annotations = []\n",
    "\n",
    "for filename in os.scandir(train_path):\n",
    "    if filename.is_dir() and filename.name == \"NORMAL\":\n",
    "        for filename_ in os.scandir(train_path + filename.name + \"\\\\\"):\n",
    "            train_filenames.append(filename_.name)\n",
    "            train_annotations.append(0)\n",
    "    elif filename.is_dir() and filename.name == \"PNEUMONIA\":\n",
    "        for filename_ in os.scandir(train_path + filename.name + \"\\\\\"):\n",
    "            train_filenames.append(filename_.name)\n",
    "            train_annotations.append(1)\n",
    "\n",
    "train_dict = {\"filename\": train_filenames, \"annotation\": train_annotations}"
   ]
  },
  {
   "cell_type": "markdown",
   "metadata": {},
   "source": [
    "### Analogiczne do powyższych działania dla zbioru testowego."
   ]
  },
  {
   "cell_type": "code",
   "execution_count": 74,
   "metadata": {},
   "outputs": [],
   "source": [
    "test_path = \"D:\\\\Datasets\\\\Pediatric Chest X-ray Pneumonia\\\\test\\\\\"\n",
    "test_filenames = []\n",
    "test_annotations = []\n",
    "\n",
    "for filename in os.scandir(test_path):\n",
    "    if filename.is_dir() and filename.name == \"NORMAL\":\n",
    "        for filename_ in os.scandir(test_path + filename.name + \"\\\\\"):\n",
    "            test_filenames.append(filename_.name)\n",
    "            test_annotations.append(0)\n",
    "    elif filename.is_dir() and filename.name == \"PNEUMONIA\":\n",
    "        for filename_ in os.scandir(test_path + filename.name + \"\\\\\"):\n",
    "            test_filenames.append(filename_.name)\n",
    "            test_annotations.append(1)\n",
    "\n",
    "test_dict = {\"filename\": test_filenames, \"annotation\": test_annotations}"
   ]
  },
  {
   "cell_type": "code",
   "execution_count": 75,
   "metadata": {},
   "outputs": [],
   "source": [
    "classes = (\"NORMAL\", \"PNEUMONIA\")"
   ]
  },
  {
   "cell_type": "markdown",
   "metadata": {},
   "source": [
    "### Wymiar do którego przeskalowane zostaną wszystkei obrazki w celu ujednolicenia rozmiarów."
   ]
  },
  {
   "cell_type": "code",
   "execution_count": 79,
   "metadata": {},
   "outputs": [],
   "source": [
    "min_size = (128, 128)"
   ]
  },
  {
   "cell_type": "markdown",
   "metadata": {},
   "source": [
    "### Utworzenie klasy TrainDataset i TestDataset pozwalających na korzystanie z własnych danych w API pyTorchowym.\n",
    "#### W tym fragmencie kodu deklarowany jest również biało-czarny sposób wczytywania obrazków oraz skalowanie odcienia szarości z wartości 0-255 do wartości 0-1."
   ]
  },
  {
   "cell_type": "code",
   "execution_count": 80,
   "metadata": {},
   "outputs": [],
   "source": [
    "class TrainDataset(Dataset):\n",
    "    def __init__(self, transform=None, target_transform=None):\n",
    "        self.img_labels = pd.DataFrame.from_dict(train_dict)\n",
    "        self.img_dir = train_path\n",
    "        self.transform = transform\n",
    "        self.target_transform = target_transform\n",
    "\n",
    "    def __len__(self):\n",
    "        return len(self.img_labels)\n",
    "\n",
    "    def __getitem__(self, idx):\n",
    "        img_path = os.path.join(self.img_dir, self.img_labels.iloc[idx, 0])\n",
    "        image = read_image(img_path, torchvision.io.ImageReadMode.GRAY).float()\n",
    "        label = self.img_labels.iloc[idx, 1]\n",
    "        image = torch.div(image, 255)\n",
    "        if self.transform:\n",
    "            image = self.transform(image)\n",
    "        if self.target_transform:\n",
    "            label = self.target_transform(label)\n",
    "        return image, label"
   ]
  },
  {
   "cell_type": "code",
   "execution_count": 81,
   "metadata": {},
   "outputs": [],
   "source": [
    "class TestDataset(Dataset):\n",
    "    def __init__(self, transform=None, target_transform=None):\n",
    "        self.img_labels = pd.DataFrame.from_dict(test_dict)\n",
    "        self.img_dir = test_path\n",
    "        self.transform = transform\n",
    "        self.target_transform = target_transform\n",
    "\n",
    "    def __len__(self):\n",
    "        return len(self.img_labels)\n",
    "\n",
    "    def __getitem__(self, idx):\n",
    "        img_path = os.path.join(self.img_dir, self.img_labels.iloc[idx, 0])\n",
    "        image = read_image(img_path, torchvision.io.ImageReadMode.GRAY).float()\n",
    "        image = torch.div(image, 255)\n",
    "        label = self.img_labels.iloc[idx, 1]\n",
    "        if self.transform:\n",
    "            image = self.transform(image)\n",
    "        if self.target_transform:\n",
    "            label = self.target_transform(label)\n",
    "        return image, label"
   ]
  },
  {
   "cell_type": "markdown",
   "metadata": {},
   "source": [
    "### Zmniejszenie wszystkich obrazków do wspólnego wymiaru w celu przyśpieszenia uczenia i ujednolicenia zbioru danych."
   ]
  },
  {
   "cell_type": "code",
   "execution_count": 82,
   "metadata": {},
   "outputs": [],
   "source": [
    "transform = transforms.Compose(\n",
    "    [torchvision.transforms.Resize(min_size)])\n",
    "\n",
    "training_data = TrainDataset(transform=transform)\n",
    "test_data = TestDataset(transform=transform)"
   ]
  },
  {
   "cell_type": "markdown",
   "metadata": {},
   "source": [
    "### Utworzenie instancji DataLoadera niezbędnego do korzystania z pyTorchowego API."
   ]
  },
  {
   "cell_type": "code",
   "execution_count": 83,
   "metadata": {},
   "outputs": [],
   "source": [
    "from torch.utils.data import DataLoader\n",
    "\n",
    "train_dataloader = DataLoader(training_data, batch_size=1, shuffle=True)\n",
    "test_dataloader = DataLoader(test_data, batch_size=1, shuffle=True)"
   ]
  },
  {
   "cell_type": "markdown",
   "metadata": {},
   "source": [
    "### Przykładowy obrazek po transformacji z odpowiednią etykietą."
   ]
  },
  {
   "cell_type": "code",
   "execution_count": 84,
   "metadata": {
    "scrolled": true
   },
   "outputs": [
    {
     "data": {
      "image/png": "[encoded data removed]",
      "text/plain": [
       "<Figure size 432x288 with 1 Axes>"
      ]
     },
     "metadata": {
      "needs_background": "light"
     },
     "output_type": "display_data"
    },
    {
     "name": "stdout",
     "output_type": "stream",
     "text": [
      "PNEUMONIA\n"
     ]
    }
   ],
   "source": [
    "import matplotlib.pyplot as plt\n",
    "import numpy as np\n",
    "\n",
    "# functions to show an image\n",
    "\n",
    "\n",
    "def imshow(img):\n",
    "    npimg = img.numpy()\n",
    "    plt.imshow(np.transpose(npimg, (1, 2, 0)))\n",
    "    plt.show()\n",
    "\n",
    "\n",
    "# get some random training images\n",
    "dataiter = iter(train_dataloader)\n",
    "images, labels = dataiter.next()\n",
    "\n",
    "# show images\n",
    "imshow(torchvision.utils.make_grid(images))\n",
    "\n",
    "# print labels\n",
    "print(' '.join(f'{classes[labels[j]]:5s}' for j in range(1)))"
   ]
  },
  {
   "cell_type": "markdown",
   "metadata": {},
   "source": [
    "### Zadeklarowanie architektury sieci "
   ]
  },
  {
   "cell_type": "code",
   "execution_count": 88,
   "metadata": {},
   "outputs": [],
   "source": [
    "import torch\n",
    "import torch.nn as nn\n",
    "import torch.nn.functional as F\n",
    "\n",
    "class Net(nn.Module):\n",
    "    def __init__(self):\n",
    "        super(Net, self).__init__()\n",
    "        self.conv1 = nn.Conv2d(1, 6, 5)\n",
    "        self.pool = nn.MaxPool2d(8, 8)\n",
    "        self.conv2 = nn.Conv2d(6, 16, 5)\n",
    "        self.fc1 = nn.Linear(16, 100)\n",
    "        self.fc2 = nn.Linear(100, 50)\n",
    "        self.fc3 = nn.Linear(50, 2)\n",
    "\n",
    "    def forward(self, x):\n",
    "        x = self.pool(F.relu(self.conv1(x)))\n",
    "        x = self.pool(F.relu(self.conv2(x)))\n",
    "        x = x.view(-1, 16)\n",
    "        x = F.relu(self.fc1(x))\n",
    "        x = F.relu(self.fc2(x))\n",
    "        x = self.fc3(x)\n",
    "        return x\n",
    "\n",
    "net = Net()"
   ]
  },
  {
   "cell_type": "markdown",
   "metadata": {},
   "source": [
    "### Wybranie optimalizatora i funckji straty"
   ]
  },
  {
   "cell_type": "code",
   "execution_count": 89,
   "metadata": {},
   "outputs": [],
   "source": [
    "import torch.optim as optim\n",
    "\n",
    "criterion = nn.CrossEntropyLoss()\n",
    "optimizer = optim.SGD(net.parameters(), lr=0.01, momentum=0.9)"
   ]
  },
  {
   "cell_type": "markdown",
   "metadata": {},
   "source": [
    "### Uczenie sieci"
   ]
  },
  {
   "cell_type": "code",
   "execution_count": 94,
   "metadata": {
    "scrolled": true
   },
   "outputs": [
    {
     "name": "stdout",
     "output_type": "stream",
     "text": [
      "[1,  2000] loss: 0.579\n",
      "[1,  4000] loss: 0.578\n",
      "[2,  2000] loss: 0.568\n",
      "[2,  4000] loss: 0.588\n",
      "[3,  2000] loss: 0.575\n",
      "[3,  4000] loss: 0.580\n",
      "[4,  2000] loss: 0.571\n",
      "[4,  4000] loss: 0.581\n",
      "Finished Training\n"
     ]
    }
   ],
   "source": [
    "for epoch in range(4):  # loop over the dataset multiple times\n",
    "\n",
    "    running_loss = 0.0\n",
    "    for i, data in enumerate(train_dataloader, 0):\n",
    "        # get the inputs; data is a list of [inputs, labels]\n",
    "        inputs, labels = data\n",
    "\n",
    "        # zero the parameter gradients\n",
    "        optimizer.zero_grad()\n",
    "\n",
    "        # forward + backward + optimize\n",
    "        outputs = net(inputs)\n",
    "        loss = criterion(outputs, labels)\n",
    "        loss.backward()\n",
    "        optimizer.step()\n",
    "\n",
    "        # print statistics\n",
    "        running_loss += loss.item()\n",
    "        if i % 2000 == 1999:    # print every 2000 mini-batches\n",
    "            print(f'[{epoch + 1}, {i + 1:5d}] loss: {running_loss / 2000:.3f}')\n",
    "            running_loss = 0.0\n",
    "\n",
    "print('Finished Training')"
   ]
  },
  {
   "cell_type": "markdown",
   "metadata": {},
   "source": [
    "### Ewaluacja sieci na zbiorze testowym"
   ]
  },
  {
   "cell_type": "code",
   "execution_count": 97,
   "metadata": {
    "scrolled": true
   },
   "outputs": [
    {
     "name": "stdout",
     "output_type": "stream",
     "text": [
      "Accuracy of the network on test images: 62 %\n"
     ]
    }
   ],
   "source": [
    "correct = 0\n",
    "total = 0\n",
    "# since we're not training, we don't need to calculate the gradients for our outputs\n",
    "with torch.no_grad():\n",
    "    for data in test_dataloader:\n",
    "        images, labels = data\n",
    "        # calculate outputs by running images through the network\n",
    "        outputs = net(images)\n",
    "        # the class with the highest energy is what we choose as prediction\n",
    "        _, predicted = torch.max(outputs.data, 1)\n",
    "        total += labels.size(0)\n",
    "        correct += (predicted == labels).sum().item()\n",
    "\n",
    "print(f'Accuracy of the network on test images: {100 * correct // total} %')"
   ]
  },
  {
   "cell_type": "markdown",
   "metadata": {},
   "source": [
    "Sieć osiąga accuracy klasyfikacji na poziomie 62%. Wynik ten sam w sobie nie jest imponujący. Na dodatek kiedy zaczniemy się bliżej przyglądać predykcjom modelu, zauważymy, że model dla każdego obrazka wskazuje klasę 1 (Pneumonia). Accuracy na poziomie 62% wynika właśnie z niedokońca zbalansowanych klas w zbiorze testowym. Niestety pomimo wielu godzin spędzonych na debugowaniu sieci nie byliśmy w stanie dojść do źródła problemu. Niezależnie jakich transformacji byśmy nie zastosowali nie byliśmy w stanie zmienić zachowania sieci."
   ]
  },
  {
   "cell_type": "markdown",
   "metadata": {},
   "source": [
    "### Wykorzystane źródła:\n",
    "- https://pytorch.org/tutorials/beginner/blitz/neural_networks_tutorial.html\n",
    "- https://github.com/alexkhrustalev/DS_projects/blob/master/cats_and_dogs.py"
   ]
  }
 ],
 "metadata": {
  "kernelspec": {
   "display_name": "Python 3",
   "language": "python",
   "name": "python3"
  },
  "language_info": {
   "codemirror_mode": {
    "name": "ipython",
    "version": 3
   },
   "file_extension": ".py",
   "mimetype": "text/x-python",
   "name": "python",
   "nbconvert_exporter": "python",
   "pygments_lexer": "ipython3",
   "version": "3.8.8"
  }
 },
 "nbformat": 4,
 "nbformat_minor": 4
}
