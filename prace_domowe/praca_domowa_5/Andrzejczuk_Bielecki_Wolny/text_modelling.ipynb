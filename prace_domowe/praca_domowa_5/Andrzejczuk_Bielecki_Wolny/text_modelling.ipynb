{
 "cells": [
  {
   "cell_type": "markdown",
   "id": "ce791cf2",
   "metadata": {},
   "source": [
    "# Text modelling\n",
    "Maja Andrzejczuk\n",
    "\n",
    "Piotr Bielecki\n",
    "\n",
    "Krzysztof Wolny"
   ]
  },
  {
   "cell_type": "code",
   "execution_count": 225,
   "id": "a3111630",
   "metadata": {},
   "outputs": [],
   "source": [
    "import numpy as np\n",
    "import zipfile\n",
    "import os\n",
    "import pandas as pd\n",
    "import matplotlib.pyplot as plt\n",
    "import seaborn as sns\n",
    "from sklearn.model_selection import train_test_split\n",
    "import nltk\n",
    "import spacy\n",
    "from collections import Counter\n",
    "from torch.utils.data import Dataset, DataLoader\n",
    "import torch.nn.functional as F\n",
    "import string\n",
    "from torch.nn.utils.rnn import pack_padded_sequence, pad_packed_sequence\n",
    "from sklearn.metrics import mean_squared_error\n",
    "import torch\n",
    "import torch.nn as nn\n",
    "import re\n"
   ]
  },
  {
   "cell_type": "code",
   "execution_count": 156,
   "id": "88f0425e",
   "metadata": {
    "scrolled": true
   },
   "outputs": [
    {
     "data": {
      "text/html": [
       "<div>\n",
       "<style scoped>\n",
       "    .dataframe tbody tr th:only-of-type {\n",
       "        vertical-align: middle;\n",
       "    }\n",
       "\n",
       "    .dataframe tbody tr th {\n",
       "        vertical-align: top;\n",
       "    }\n",
       "\n",
       "    .dataframe thead th {\n",
       "        text-align: right;\n",
       "    }\n",
       "</style>\n",
       "<table border=\"1\" class=\"dataframe\">\n",
       "  <thead>\n",
       "    <tr style=\"text-align: right;\">\n",
       "      <th></th>\n",
       "      <th>study</th>\n",
       "      <th>text</th>\n",
       "      <th>stemming_lemmatization</th>\n",
       "      <th>pos</th>\n",
       "      <th>pos_stemming_lemmatization</th>\n",
       "    </tr>\n",
       "  </thead>\n",
       "  <tbody>\n",
       "    <tr>\n",
       "      <td>0</td>\n",
       "      <td>P102R108387</td>\n",
       "      <td>['support', 'apparatus', 'pneumothorax', 'enla...</td>\n",
       "      <td>['support', 'apparatus', 'pneumothorax', 'enla...</td>\n",
       "      <td>[('support', 'NN'), ('apparatus', 'NN'), ('pne...</td>\n",
       "      <td>[('support', 'NN'), ('apparatus', 'NN'), ('pne...</td>\n",
       "    </tr>\n",
       "    <tr>\n",
       "      <td>1</td>\n",
       "      <td>P102R379837</td>\n",
       "      <td>['lines', 'tubes', 'satisfactory', 'position',...</td>\n",
       "      <td>['line', 'tube', 'satisfactory', 'position', '...</td>\n",
       "      <td>[('lines', 'NNS'), ('tubes', 'NNS'), ('satisfa...</td>\n",
       "      <td>[('line', 'NN'), ('tube', 'NN'), ('satisfactor...</td>\n",
       "    </tr>\n",
       "    <tr>\n",
       "      <td>2</td>\n",
       "      <td>P102R558314</td>\n",
       "      <td>['right', 'subclavian', 'catheter', 'noted', '...</td>\n",
       "      <td>['right', 'subclavian', 'catheter', 'note', 't...</td>\n",
       "      <td>[('right', 'JJ'), ('subclavian', 'JJ'), ('cath...</td>\n",
       "      <td>[('right', 'JJ'), ('subclavian', 'JJ'), ('cath...</td>\n",
       "    </tr>\n",
       "    <tr>\n",
       "      <td>3</td>\n",
       "      <td>P102R765317</td>\n",
       "      <td>['right', 'subclavian', 'vein', 'approach', 'c...</td>\n",
       "      <td>['right', 'subclavian', 'vein', 'approach', 'c...</td>\n",
       "      <td>[('right', 'JJ'), ('subclavian', 'JJ'), ('vein...</td>\n",
       "      <td>[('right', 'JJ'), ('subclavian', 'JJ'), ('vein...</td>\n",
       "    </tr>\n",
       "    <tr>\n",
       "      <td>4</td>\n",
       "      <td>P102R915878</td>\n",
       "      <td>['right', 'subclavian', 'vein', 'catheter', 't...</td>\n",
       "      <td>['right', 'subclavian', 'vein', 'catheter', 't...</td>\n",
       "      <td>[('right', 'JJ'), ('subclavian', 'JJ'), ('vein...</td>\n",
       "      <td>[('right', 'JJ'), ('subclavian', 'JJ'), ('vein...</td>\n",
       "    </tr>\n",
       "  </tbody>\n",
       "</table>\n",
       "</div>"
      ],
      "text/plain": [
       "         study                                               text  \\\n",
       "0  P102R108387  ['support', 'apparatus', 'pneumothorax', 'enla...   \n",
       "1  P102R379837  ['lines', 'tubes', 'satisfactory', 'position',...   \n",
       "2  P102R558314  ['right', 'subclavian', 'catheter', 'noted', '...   \n",
       "3  P102R765317  ['right', 'subclavian', 'vein', 'approach', 'c...   \n",
       "4  P102R915878  ['right', 'subclavian', 'vein', 'catheter', 't...   \n",
       "\n",
       "                              stemming_lemmatization  \\\n",
       "0  ['support', 'apparatus', 'pneumothorax', 'enla...   \n",
       "1  ['line', 'tube', 'satisfactory', 'position', '...   \n",
       "2  ['right', 'subclavian', 'catheter', 'note', 't...   \n",
       "3  ['right', 'subclavian', 'vein', 'approach', 'c...   \n",
       "4  ['right', 'subclavian', 'vein', 'catheter', 't...   \n",
       "\n",
       "                                                 pos  \\\n",
       "0  [('support', 'NN'), ('apparatus', 'NN'), ('pne...   \n",
       "1  [('lines', 'NNS'), ('tubes', 'NNS'), ('satisfa...   \n",
       "2  [('right', 'JJ'), ('subclavian', 'JJ'), ('cath...   \n",
       "3  [('right', 'JJ'), ('subclavian', 'JJ'), ('vein...   \n",
       "4  [('right', 'JJ'), ('subclavian', 'JJ'), ('vein...   \n",
       "\n",
       "                          pos_stemming_lemmatization  \n",
       "0  [('support', 'NN'), ('apparatus', 'NN'), ('pne...  \n",
       "1  [('line', 'NN'), ('tube', 'NN'), ('satisfactor...  \n",
       "2  [('right', 'JJ'), ('subclavian', 'JJ'), ('cath...  \n",
       "3  [('right', 'JJ'), ('subclavian', 'JJ'), ('vein...  \n",
       "4  [('right', 'JJ'), ('subclavian', 'JJ'), ('vein...  "
      ]
     },
     "execution_count": 156,
     "metadata": {},
     "output_type": "execute_result"
    }
   ],
   "source": [
    "data = pd.read_csv(\"./reflacx_processed.csv\")\n",
    "data.head()"
   ]
  },
  {
   "cell_type": "markdown",
   "id": "2e6afe43",
   "metadata": {},
   "source": [
    "Będziemy używac danych po stemmingu oraz lemmatyzacji"
   ]
  },
  {
   "cell_type": "markdown",
   "id": "98adf069",
   "metadata": {},
   "source": [
    "# Load data"
   ]
  },
  {
   "cell_type": "code",
   "execution_count": 12,
   "id": "81d56ade",
   "metadata": {},
   "outputs": [],
   "source": [
    "FILE_PATH = \"../KM1/reflacx/\"\n",
    "FILE_NAME = \"reflacx-reports-and-eye-tracking-data-for-localization-of-abnormalities-in-chest-x-rays-1.0.0\"\n",
    "MAIN_PATH = \"/main_data\"\n",
    "\n",
    "main_data = {}\n",
    "metadata = []\n",
    "with zipfile.ZipFile(FILE_PATH+FILE_NAME+\".zip\") as archive:\n",
    "    for file in archive.namelist(): \n",
    "        if file.startswith(FILE_NAME+MAIN_PATH+\"/metadata_phase\"):\n",
    "            metadata.append(pd.read_csv(archive.open(file)))\n",
    "        elif file.startswith(FILE_NAME+MAIN_PATH):\n",
    "            id = file.split(\"/\")\n",
    "            if not id[2] in main_data:\n",
    "                main_data[id[2]] = []\n",
    "            main_data[id[2]].append(pd.read_csv(archive.open(file)))"
   ]
  },
  {
   "cell_type": "code",
   "execution_count": 128,
   "id": "81398997",
   "metadata": {},
   "outputs": [
    {
     "data": {
      "text/plain": [
       "['', '', 'Groundglass opacity', '']"
      ]
     },
     "execution_count": 128,
     "metadata": {},
     "output_type": "execute_result"
    }
   ],
   "source": [
    "a = np.where(main_data[\"P224R056523\"][0]==True)\n",
    "\n",
    "val = [str(x) for x in main_data[\"P224R056523\"][0].iloc[a].columns.values ]\n",
    "for i in range(len(val)):\n",
    "    if val[i] in [\"Atelectasis\",\"Pleural abnormality\"]:\n",
    "        val[i]=\"\"\n",
    "val"
   ]
  },
  {
   "cell_type": "code",
   "execution_count": 135,
   "id": "f7b4cad2",
   "metadata": {},
   "outputs": [
    {
     "data": {
      "text/plain": [
       "True"
      ]
     },
     "execution_count": 135,
     "metadata": {},
     "output_type": "execute_result"
    }
   ],
   "source": [
    "main_data[\"P159R351453\"][0].empty"
   ]
  },
  {
   "cell_type": "code",
   "execution_count": null,
   "id": "80164dd3",
   "metadata": {},
   "outputs": [],
   "source": [
    "# P159R351453"
   ]
  },
  {
   "cell_type": "code",
   "execution_count": 259,
   "id": "1e464e18",
   "metadata": {
    "scrolled": true
   },
   "outputs": [],
   "source": [
    "study = []\n",
    "xmin = []\n",
    "ymin = []\n",
    "xmax = []\n",
    "ymax = []\n",
    "illness = []\n",
    "for m in main_data:\n",
    "    study.append(str(m))\n",
    "    if main_data[m][0].empty: \n",
    "        xmin.append([-1])\n",
    "        ymin.append([-1])\n",
    "        xmax.append([-1])\n",
    "        ymax.append([-1])\n",
    "        illness.append(0)\n",
    "    else : \n",
    "        xmin.append(main_data[m][0][\"xmin\"].values)\n",
    "        ymin.append(main_data[m][0][\"ymin\"].values)\n",
    "        xmax.append(main_data[m][0][\"xmax\"].values)\n",
    "        ymax.append(main_data[m][0][\"ymax\"].values)\n",
    "        illness.append(1)\n",
    "        \n",
    "labels = pd.DataFrame({\"study\":study, \"xmin\": xmin,\"ymin\": ymin,\"xmax\": xmax,\"ymax\": ymax, \"illness\":illness})"
   ]
  },
  {
   "cell_type": "code",
   "execution_count": 184,
   "id": "5d685d82",
   "metadata": {
    "scrolled": true
   },
   "outputs": [
    {
     "data": {
      "text/html": [
       "<div>\n",
       "<style scoped>\n",
       "    .dataframe tbody tr th:only-of-type {\n",
       "        vertical-align: middle;\n",
       "    }\n",
       "\n",
       "    .dataframe tbody tr th {\n",
       "        vertical-align: top;\n",
       "    }\n",
       "\n",
       "    .dataframe thead th {\n",
       "        text-align: right;\n",
       "    }\n",
       "</style>\n",
       "<table border=\"1\" class=\"dataframe\">\n",
       "  <thead>\n",
       "    <tr style=\"text-align: right;\">\n",
       "      <th></th>\n",
       "      <th>study</th>\n",
       "      <th>text</th>\n",
       "      <th>stemming_lemmatization</th>\n",
       "      <th>pos</th>\n",
       "      <th>pos_stemming_lemmatization</th>\n",
       "    </tr>\n",
       "  </thead>\n",
       "  <tbody>\n",
       "    <tr>\n",
       "      <td>3031</td>\n",
       "      <td>P300R999525</td>\n",
       "      <td>['right', 'pectoral', 'pacemaker', 'device', '...</td>\n",
       "      <td>['right', 'pectoral', 'pacemaker', 'device', '...</td>\n",
       "      <td>[('right', 'JJ'), ('pectoral', 'JJ'), ('pacema...</td>\n",
       "      <td>[('right', 'JJ'), ('pectoral', 'JJ'), ('pacema...</td>\n",
       "    </tr>\n",
       "  </tbody>\n",
       "</table>\n",
       "</div>"
      ],
      "text/plain": [
       "            study                                               text  \\\n",
       "3031  P300R999525  ['right', 'pectoral', 'pacemaker', 'device', '...   \n",
       "\n",
       "                                 stemming_lemmatization  \\\n",
       "3031  ['right', 'pectoral', 'pacemaker', 'device', '...   \n",
       "\n",
       "                                                    pos  \\\n",
       "3031  [('right', 'JJ'), ('pectoral', 'JJ'), ('pacema...   \n",
       "\n",
       "                             pos_stemming_lemmatization  \n",
       "3031  [('right', 'JJ'), ('pectoral', 'JJ'), ('pacema...  "
      ]
     },
     "execution_count": 184,
     "metadata": {},
     "output_type": "execute_result"
    }
   ],
   "source": [
    "data[data[\"study\"] == \"P300R999525\"]"
   ]
  },
  {
   "cell_type": "code",
   "execution_count": 232,
   "id": "d423a3e5",
   "metadata": {
    "scrolled": false
   },
   "outputs": [
    {
     "data": {
      "text/html": [
       "<div>\n",
       "<style scoped>\n",
       "    .dataframe tbody tr th:only-of-type {\n",
       "        vertical-align: middle;\n",
       "    }\n",
       "\n",
       "    .dataframe tbody tr th {\n",
       "        vertical-align: top;\n",
       "    }\n",
       "\n",
       "    .dataframe thead th {\n",
       "        text-align: right;\n",
       "    }\n",
       "</style>\n",
       "<table border=\"1\" class=\"dataframe\">\n",
       "  <thead>\n",
       "    <tr style=\"text-align: right;\">\n",
       "      <th></th>\n",
       "      <th>study</th>\n",
       "      <th>text</th>\n",
       "      <th>stemming_lemmatization</th>\n",
       "      <th>pos</th>\n",
       "      <th>pos_stemming_lemmatization</th>\n",
       "      <th>xmin</th>\n",
       "      <th>ymin</th>\n",
       "      <th>xmax</th>\n",
       "      <th>ymax</th>\n",
       "      <th>illness</th>\n",
       "    </tr>\n",
       "  </thead>\n",
       "  <tbody>\n",
       "    <tr>\n",
       "      <td>0</td>\n",
       "      <td>P102R108387</td>\n",
       "      <td>['support', 'apparatus', 'pneumothorax', 'enla...</td>\n",
       "      <td>['support', 'apparatus', 'pneumothorax', 'enla...</td>\n",
       "      <td>[('support', 'NN'), ('apparatus', 'NN'), ('pne...</td>\n",
       "      <td>[('support', 'NN'), ('apparatus', 'NN'), ('pne...</td>\n",
       "      <td>[734]</td>\n",
       "      <td>[1204]</td>\n",
       "      <td>[2211]</td>\n",
       "      <td>[2175]</td>\n",
       "      <td>1</td>\n",
       "    </tr>\n",
       "    <tr>\n",
       "      <td>1</td>\n",
       "      <td>P102R379837</td>\n",
       "      <td>['lines', 'tubes', 'satisfactory', 'position',...</td>\n",
       "      <td>['line', 'tube', 'satisfactory', 'position', '...</td>\n",
       "      <td>[('lines', 'NNS'), ('tubes', 'NNS'), ('satisfa...</td>\n",
       "      <td>[('line', 'NN'), ('tube', 'NN'), ('satisfactor...</td>\n",
       "      <td>[831]</td>\n",
       "      <td>[1204]</td>\n",
       "      <td>[2223]</td>\n",
       "      <td>[2310]</td>\n",
       "      <td>1</td>\n",
       "    </tr>\n",
       "    <tr>\n",
       "      <td>2</td>\n",
       "      <td>P102R558314</td>\n",
       "      <td>['right', 'subclavian', 'catheter', 'noted', '...</td>\n",
       "      <td>['right', 'subclavian', 'catheter', 'note', 't...</td>\n",
       "      <td>[('right', 'JJ'), ('subclavian', 'JJ'), ('cath...</td>\n",
       "      <td>[('right', 'JJ'), ('subclavian', 'JJ'), ('cath...</td>\n",
       "      <td>[357, 692]</td>\n",
       "      <td>[1224, 1364]</td>\n",
       "      <td>[1006, 2257]</td>\n",
       "      <td>[2242, 2261]</td>\n",
       "      <td>1</td>\n",
       "    </tr>\n",
       "    <tr>\n",
       "      <td>3</td>\n",
       "      <td>P102R765317</td>\n",
       "      <td>['right', 'subclavian', 'vein', 'approach', 'c...</td>\n",
       "      <td>['right', 'subclavian', 'vein', 'approach', 'c...</td>\n",
       "      <td>[('right', 'JJ'), ('subclavian', 'JJ'), ('vein...</td>\n",
       "      <td>[('right', 'JJ'), ('subclavian', 'JJ'), ('vein...</td>\n",
       "      <td>[451, 1469]</td>\n",
       "      <td>[2114, 1101]</td>\n",
       "      <td>[579, 1730]</td>\n",
       "      <td>[2240, 1470]</td>\n",
       "      <td>1</td>\n",
       "    </tr>\n",
       "    <tr>\n",
       "      <td>4</td>\n",
       "      <td>P102R915878</td>\n",
       "      <td>['right', 'subclavian', 'vein', 'catheter', 't...</td>\n",
       "      <td>['right', 'subclavian', 'vein', 'catheter', 't...</td>\n",
       "      <td>[('right', 'JJ'), ('subclavian', 'JJ'), ('vein...</td>\n",
       "      <td>[('right', 'JJ'), ('subclavian', 'JJ'), ('vein...</td>\n",
       "      <td>[887]</td>\n",
       "      <td>[1081]</td>\n",
       "      <td>[2248]</td>\n",
       "      <td>[2344]</td>\n",
       "      <td>1</td>\n",
       "    </tr>\n",
       "  </tbody>\n",
       "</table>\n",
       "</div>"
      ],
      "text/plain": [
       "         study                                               text  \\\n",
       "0  P102R108387  ['support', 'apparatus', 'pneumothorax', 'enla...   \n",
       "1  P102R379837  ['lines', 'tubes', 'satisfactory', 'position',...   \n",
       "2  P102R558314  ['right', 'subclavian', 'catheter', 'noted', '...   \n",
       "3  P102R765317  ['right', 'subclavian', 'vein', 'approach', 'c...   \n",
       "4  P102R915878  ['right', 'subclavian', 'vein', 'catheter', 't...   \n",
       "\n",
       "                              stemming_lemmatization  \\\n",
       "0  ['support', 'apparatus', 'pneumothorax', 'enla...   \n",
       "1  ['line', 'tube', 'satisfactory', 'position', '...   \n",
       "2  ['right', 'subclavian', 'catheter', 'note', 't...   \n",
       "3  ['right', 'subclavian', 'vein', 'approach', 'c...   \n",
       "4  ['right', 'subclavian', 'vein', 'catheter', 't...   \n",
       "\n",
       "                                                 pos  \\\n",
       "0  [('support', 'NN'), ('apparatus', 'NN'), ('pne...   \n",
       "1  [('lines', 'NNS'), ('tubes', 'NNS'), ('satisfa...   \n",
       "2  [('right', 'JJ'), ('subclavian', 'JJ'), ('cath...   \n",
       "3  [('right', 'JJ'), ('subclavian', 'JJ'), ('vein...   \n",
       "4  [('right', 'JJ'), ('subclavian', 'JJ'), ('vein...   \n",
       "\n",
       "                          pos_stemming_lemmatization         xmin  \\\n",
       "0  [('support', 'NN'), ('apparatus', 'NN'), ('pne...        [734]   \n",
       "1  [('line', 'NN'), ('tube', 'NN'), ('satisfactor...        [831]   \n",
       "2  [('right', 'JJ'), ('subclavian', 'JJ'), ('cath...   [357, 692]   \n",
       "3  [('right', 'JJ'), ('subclavian', 'JJ'), ('vein...  [451, 1469]   \n",
       "4  [('right', 'JJ'), ('subclavian', 'JJ'), ('vein...        [887]   \n",
       "\n",
       "           ymin          xmax          ymax  illness  \n",
       "0        [1204]        [2211]        [2175]        1  \n",
       "1        [1204]        [2223]        [2310]        1  \n",
       "2  [1224, 1364]  [1006, 2257]  [2242, 2261]        1  \n",
       "3  [2114, 1101]   [579, 1730]  [2240, 1470]        1  \n",
       "4        [1081]        [2248]        [2344]        1  "
      ]
     },
     "execution_count": 232,
     "metadata": {},
     "output_type": "execute_result"
    }
   ],
   "source": [
    "df = pd.merge(data, labels, how=\"left\", on=\"study\", sort = False)\n",
    "df.head()"
   ]
  },
  {
   "cell_type": "code",
   "execution_count": 233,
   "id": "ea3eb0fe",
   "metadata": {},
   "outputs": [
    {
     "data": {
      "text/html": [
       "<div>\n",
       "<style scoped>\n",
       "    .dataframe tbody tr th:only-of-type {\n",
       "        vertical-align: middle;\n",
       "    }\n",
       "\n",
       "    .dataframe tbody tr th {\n",
       "        vertical-align: top;\n",
       "    }\n",
       "\n",
       "    .dataframe thead th {\n",
       "        text-align: right;\n",
       "    }\n",
       "</style>\n",
       "<table border=\"1\" class=\"dataframe\">\n",
       "  <thead>\n",
       "    <tr style=\"text-align: right;\">\n",
       "      <th></th>\n",
       "      <th>study</th>\n",
       "      <th>stemming_lemmatization</th>\n",
       "      <th>illness</th>\n",
       "    </tr>\n",
       "  </thead>\n",
       "  <tbody>\n",
       "    <tr>\n",
       "      <td>0</td>\n",
       "      <td>P102R108387</td>\n",
       "      <td>['support', 'apparatus', 'pneumothorax', 'enla...</td>\n",
       "      <td>1</td>\n",
       "    </tr>\n",
       "    <tr>\n",
       "      <td>1</td>\n",
       "      <td>P102R379837</td>\n",
       "      <td>['line', 'tube', 'satisfactory', 'position', '...</td>\n",
       "      <td>1</td>\n",
       "    </tr>\n",
       "    <tr>\n",
       "      <td>2</td>\n",
       "      <td>P102R558314</td>\n",
       "      <td>['right', 'subclavian', 'catheter', 'note', 't...</td>\n",
       "      <td>1</td>\n",
       "    </tr>\n",
       "    <tr>\n",
       "      <td>3</td>\n",
       "      <td>P102R765317</td>\n",
       "      <td>['right', 'subclavian', 'vein', 'approach', 'c...</td>\n",
       "      <td>1</td>\n",
       "    </tr>\n",
       "    <tr>\n",
       "      <td>4</td>\n",
       "      <td>P102R915878</td>\n",
       "      <td>['right', 'subclavian', 'vein', 'catheter', 't...</td>\n",
       "      <td>1</td>\n",
       "    </tr>\n",
       "    <tr>\n",
       "      <td>...</td>\n",
       "      <td>...</td>\n",
       "      <td>...</td>\n",
       "      <td>...</td>\n",
       "    </tr>\n",
       "    <tr>\n",
       "      <td>3027</td>\n",
       "      <td>P300R998041</td>\n",
       "      <td>['pneumothorax', 'mediastinum', 'normal', 'con...</td>\n",
       "      <td>0</td>\n",
       "    </tr>\n",
       "    <tr>\n",
       "      <td>3028</td>\n",
       "      <td>P300R998488</td>\n",
       "      <td>['visualized', 'portion', 'support', 'apparatu...</td>\n",
       "      <td>1</td>\n",
       "    </tr>\n",
       "    <tr>\n",
       "      <td>3029</td>\n",
       "      <td>P300R998581</td>\n",
       "      <td>['ng', 'tube', 'diaphragm', 'right', 'ij', 'ca...</td>\n",
       "      <td>0</td>\n",
       "    </tr>\n",
       "    <tr>\n",
       "      <td>3030</td>\n",
       "      <td>P300R998853</td>\n",
       "      <td>['cardiac', 'silhouette', 'enlarge', 'mild', '...</td>\n",
       "      <td>1</td>\n",
       "    </tr>\n",
       "    <tr>\n",
       "      <td>3031</td>\n",
       "      <td>P300R999525</td>\n",
       "      <td>['right', 'pectoral', 'pacemaker', 'device', '...</td>\n",
       "      <td>0</td>\n",
       "    </tr>\n",
       "  </tbody>\n",
       "</table>\n",
       "<p>3032 rows × 3 columns</p>\n",
       "</div>"
      ],
      "text/plain": [
       "            study                             stemming_lemmatization  illness\n",
       "0     P102R108387  ['support', 'apparatus', 'pneumothorax', 'enla...        1\n",
       "1     P102R379837  ['line', 'tube', 'satisfactory', 'position', '...        1\n",
       "2     P102R558314  ['right', 'subclavian', 'catheter', 'note', 't...        1\n",
       "3     P102R765317  ['right', 'subclavian', 'vein', 'approach', 'c...        1\n",
       "4     P102R915878  ['right', 'subclavian', 'vein', 'catheter', 't...        1\n",
       "...           ...                                                ...      ...\n",
       "3027  P300R998041  ['pneumothorax', 'mediastinum', 'normal', 'con...        0\n",
       "3028  P300R998488  ['visualized', 'portion', 'support', 'apparatu...        1\n",
       "3029  P300R998581  ['ng', 'tube', 'diaphragm', 'right', 'ij', 'ca...        0\n",
       "3030  P300R998853  ['cardiac', 'silhouette', 'enlarge', 'mild', '...        1\n",
       "3031  P300R999525  ['right', 'pectoral', 'pacemaker', 'device', '...        0\n",
       "\n",
       "[3032 rows x 3 columns]"
      ]
     },
     "execution_count": 233,
     "metadata": {},
     "output_type": "execute_result"
    }
   ],
   "source": [
    "df = df[[\"study\", \"stemming_lemmatization\", \"illness\"]]\n",
    "df"
   ]
  },
  {
   "cell_type": "code",
   "execution_count": 234,
   "id": "92fdeebd",
   "metadata": {},
   "outputs": [],
   "source": [
    "#tokenization\n",
    "tok = spacy.load('en_core_web_sm')\n",
    "def tokenize (text):\n",
    "    text = re.sub(r\"[^\\x00-\\x7F]+\", \" \", text)\n",
    "    regex = re.compile('[' + re.escape(string.punctuation) + '0-9\\\\r\\\\t\\\\n]') # remove punctuation and numbers\n",
    "    nopunct = regex.sub(\" \", text.lower())\n",
    "    return [token.text for token in tok.tokenizer(nopunct)]"
   ]
  },
  {
   "cell_type": "code",
   "execution_count": 235,
   "id": "15be8240",
   "metadata": {},
   "outputs": [],
   "source": [
    "#count number of occurences of each word\n",
    "counts = Counter()\n",
    "for index, row in df.iterrows():\n",
    "    counts.update(tokenize(row['stemming_lemmatization']))"
   ]
  },
  {
   "cell_type": "code",
   "execution_count": 236,
   "id": "b9cce2b9",
   "metadata": {},
   "outputs": [
    {
     "data": {
      "text/html": [
       "<div>\n",
       "<style scoped>\n",
       "    .dataframe tbody tr th:only-of-type {\n",
       "        vertical-align: middle;\n",
       "    }\n",
       "\n",
       "    .dataframe tbody tr th {\n",
       "        vertical-align: top;\n",
       "    }\n",
       "\n",
       "    .dataframe thead th {\n",
       "        text-align: right;\n",
       "    }\n",
       "</style>\n",
       "<table border=\"1\" class=\"dataframe\">\n",
       "  <thead>\n",
       "    <tr style=\"text-align: right;\">\n",
       "      <th></th>\n",
       "      <th>study</th>\n",
       "      <th>stemming_lemmatization</th>\n",
       "      <th>illness</th>\n",
       "    </tr>\n",
       "  </thead>\n",
       "  <tbody>\n",
       "    <tr>\n",
       "      <td>0</td>\n",
       "      <td>P102R108387</td>\n",
       "      <td>['support', 'apparatus', 'pneumothorax', 'enla...</td>\n",
       "      <td>1</td>\n",
       "    </tr>\n",
       "    <tr>\n",
       "      <td>1</td>\n",
       "      <td>P102R379837</td>\n",
       "      <td>['line', 'tube', 'satisfactory', 'position', '...</td>\n",
       "      <td>1</td>\n",
       "    </tr>\n",
       "    <tr>\n",
       "      <td>2</td>\n",
       "      <td>P102R558314</td>\n",
       "      <td>['right', 'subclavian', 'catheter', 'note', 't...</td>\n",
       "      <td>1</td>\n",
       "    </tr>\n",
       "    <tr>\n",
       "      <td>3</td>\n",
       "      <td>P102R765317</td>\n",
       "      <td>['right', 'subclavian', 'vein', 'approach', 'c...</td>\n",
       "      <td>1</td>\n",
       "    </tr>\n",
       "    <tr>\n",
       "      <td>4</td>\n",
       "      <td>P102R915878</td>\n",
       "      <td>['right', 'subclavian', 'vein', 'catheter', 't...</td>\n",
       "      <td>1</td>\n",
       "    </tr>\n",
       "  </tbody>\n",
       "</table>\n",
       "</div>"
      ],
      "text/plain": [
       "         study                             stemming_lemmatization  illness\n",
       "0  P102R108387  ['support', 'apparatus', 'pneumothorax', 'enla...        1\n",
       "1  P102R379837  ['line', 'tube', 'satisfactory', 'position', '...        1\n",
       "2  P102R558314  ['right', 'subclavian', 'catheter', 'note', 't...        1\n",
       "3  P102R765317  ['right', 'subclavian', 'vein', 'approach', 'c...        1\n",
       "4  P102R915878  ['right', 'subclavian', 'vein', 'catheter', 't...        1"
      ]
     },
     "execution_count": 236,
     "metadata": {},
     "output_type": "execute_result"
    }
   ],
   "source": [
    "df.head()"
   ]
  },
  {
   "cell_type": "code",
   "execution_count": 237,
   "id": "a4778512",
   "metadata": {},
   "outputs": [
    {
     "name": "stdout",
     "output_type": "stream",
     "text": [
      "num_words before: 1045\n",
      "num_words after: 735\n"
     ]
    }
   ],
   "source": [
    "#deleting infrequent words\n",
    "print(\"num_words before:\",len(counts.keys()))\n",
    "for word in list(counts):\n",
    "    if counts[word] < 2:\n",
    "        del counts[word]\n",
    "print(\"num_words after:\",len(counts.keys()))"
   ]
  },
  {
   "cell_type": "code",
   "execution_count": 239,
   "id": "893fe55b",
   "metadata": {},
   "outputs": [],
   "source": [
    "#creating vocabulary\n",
    "vocab2index = {\"\":0, \"UNK\":1}\n",
    "words = [\"\", \"UNK\"]\n",
    "for word in counts:\n",
    "    vocab2index[word] = len(words)\n",
    "    words.append(word)"
   ]
  },
  {
   "cell_type": "code",
   "execution_count": 240,
   "id": "f23de1e9",
   "metadata": {},
   "outputs": [],
   "source": [
    "def encode_sentence(text, vocab2index, N=70):\n",
    "    tokenized = tokenize(text)\n",
    "    encoded = np.zeros(N, dtype=int)\n",
    "    enc1 = np.array([vocab2index.get(word, vocab2index[\"UNK\"]) for word in tokenized])\n",
    "    length = min(N, len(enc1))\n",
    "    encoded[:length] = enc1[:length]\n",
    "    return encoded, length"
   ]
  },
  {
   "cell_type": "code",
   "execution_count": 241,
   "id": "fd60271c",
   "metadata": {
    "scrolled": true
   },
   "outputs": [
    {
     "name": "stderr",
     "output_type": "stream",
     "text": [
      "C:\\Users\\admin\\AppData\\Roaming\\Python\\Python37\\site-packages\\ipykernel_launcher.py:1: VisibleDeprecationWarning: Creating an ndarray from ragged nested sequences (which is a list-or-tuple of lists-or-tuples-or ndarrays with different lengths or shapes) is deprecated. If you meant to do this, you must specify 'dtype=object' when creating the ndarray\n",
      "  \"\"\"Entry point for launching an IPython kernel.\n"
     ]
    },
    {
     "data": {
      "text/html": [
       "<div>\n",
       "<style scoped>\n",
       "    .dataframe tbody tr th:only-of-type {\n",
       "        vertical-align: middle;\n",
       "    }\n",
       "\n",
       "    .dataframe tbody tr th {\n",
       "        vertical-align: top;\n",
       "    }\n",
       "\n",
       "    .dataframe thead th {\n",
       "        text-align: right;\n",
       "    }\n",
       "</style>\n",
       "<table border=\"1\" class=\"dataframe\">\n",
       "  <thead>\n",
       "    <tr style=\"text-align: right;\">\n",
       "      <th></th>\n",
       "      <th>study</th>\n",
       "      <th>stemming_lemmatization</th>\n",
       "      <th>illness</th>\n",
       "      <th>encoded</th>\n",
       "    </tr>\n",
       "  </thead>\n",
       "  <tbody>\n",
       "    <tr>\n",
       "      <td>0</td>\n",
       "      <td>P102R108387</td>\n",
       "      <td>['support', 'apparatus', 'pneumothorax', 'enla...</td>\n",
       "      <td>1</td>\n",
       "      <td>[[2, 3, 4, 5, 4, 6, 4, 7, 4, 8, 4, 9, 4, 10, 4...</td>\n",
       "    </tr>\n",
       "    <tr>\n",
       "      <td>1</td>\n",
       "      <td>P102R379837</td>\n",
       "      <td>['line', 'tube', 'satisfactory', 'position', '...</td>\n",
       "      <td>1</td>\n",
       "      <td>[[2, 16, 4, 17, 4, 18, 4, 19, 4, 20, 4, 21, 4,...</td>\n",
       "    </tr>\n",
       "    <tr>\n",
       "      <td>2</td>\n",
       "      <td>P102R558314</td>\n",
       "      <td>['right', 'subclavian', 'catheter', 'note', 't...</td>\n",
       "      <td>1</td>\n",
       "      <td>[[2, 32, 4, 36, 4, 37, 4, 38, 4, 39, 4, 40, 4,...</td>\n",
       "    </tr>\n",
       "    <tr>\n",
       "      <td>3</td>\n",
       "      <td>P102R765317</td>\n",
       "      <td>['right', 'subclavian', 'vein', 'approach', 'c...</td>\n",
       "      <td>1</td>\n",
       "      <td>[[2, 32, 4, 36, 4, 51, 4, 52, 4, 53, 4, 54, 4,...</td>\n",
       "    </tr>\n",
       "    <tr>\n",
       "      <td>4</td>\n",
       "      <td>P102R915878</td>\n",
       "      <td>['right', 'subclavian', 'vein', 'catheter', 't...</td>\n",
       "      <td>1</td>\n",
       "      <td>[[2, 32, 4, 36, 4, 51, 4, 37, 4, 77, 4, 78, 4,...</td>\n",
       "    </tr>\n",
       "  </tbody>\n",
       "</table>\n",
       "</div>"
      ],
      "text/plain": [
       "         study                             stemming_lemmatization  illness  \\\n",
       "0  P102R108387  ['support', 'apparatus', 'pneumothorax', 'enla...        1   \n",
       "1  P102R379837  ['line', 'tube', 'satisfactory', 'position', '...        1   \n",
       "2  P102R558314  ['right', 'subclavian', 'catheter', 'note', 't...        1   \n",
       "3  P102R765317  ['right', 'subclavian', 'vein', 'approach', 'c...        1   \n",
       "4  P102R915878  ['right', 'subclavian', 'vein', 'catheter', 't...        1   \n",
       "\n",
       "                                             encoded  \n",
       "0  [[2, 3, 4, 5, 4, 6, 4, 7, 4, 8, 4, 9, 4, 10, 4...  \n",
       "1  [[2, 16, 4, 17, 4, 18, 4, 19, 4, 20, 4, 21, 4,...  \n",
       "2  [[2, 32, 4, 36, 4, 37, 4, 38, 4, 39, 4, 40, 4,...  \n",
       "3  [[2, 32, 4, 36, 4, 51, 4, 52, 4, 53, 4, 54, 4,...  \n",
       "4  [[2, 32, 4, 36, 4, 51, 4, 37, 4, 77, 4, 78, 4,...  "
      ]
     },
     "execution_count": 241,
     "metadata": {},
     "output_type": "execute_result"
    }
   ],
   "source": [
    "df['encoded'] = df['stemming_lemmatization'].apply(lambda x: np.array(encode_sentence(x,vocab2index )))\n",
    "df.head()"
   ]
  },
  {
   "cell_type": "code",
   "execution_count": 242,
   "id": "ef537755",
   "metadata": {},
   "outputs": [
    {
     "data": {
      "text/plain": [
       "Counter({1: 2089, 0: 943})"
      ]
     },
     "execution_count": 242,
     "metadata": {},
     "output_type": "execute_result"
    }
   ],
   "source": [
    "#check how balanced the dataset is\n",
    "Counter(df['illness'])"
   ]
  },
  {
   "cell_type": "code",
   "execution_count": 243,
   "id": "ac73b948",
   "metadata": {},
   "outputs": [],
   "source": [
    "X = list(df['encoded'])\n",
    "y = list(df['illness'])\n",
    "from sklearn.model_selection import train_test_split\n",
    "X_train, X_valid, y_train, y_valid = train_test_split(X, y, test_size=0.2)"
   ]
  },
  {
   "cell_type": "markdown",
   "id": "56ad4d48",
   "metadata": {},
   "source": [
    "# Models"
   ]
  },
  {
   "cell_type": "code",
   "execution_count": 244,
   "id": "c706d610",
   "metadata": {},
   "outputs": [],
   "source": [
    "class ReviewsDataset(Dataset):\n",
    "    def __init__(self, X, Y):\n",
    "        self.X = X\n",
    "        self.y = Y\n",
    "        \n",
    "    def __len__(self):\n",
    "        return len(self.y)\n",
    "    \n",
    "    def __getitem__(self, idx):\n",
    "        return torch.from_numpy(self.X[idx][0].astype(np.int32)), self.y[idx], self.X[idx][1]"
   ]
  },
  {
   "cell_type": "code",
   "execution_count": 245,
   "id": "d4beb671",
   "metadata": {},
   "outputs": [],
   "source": [
    "train_ds = ReviewsDataset(X_train, y_train)\n",
    "valid_ds = ReviewsDataset(X_valid, y_valid)"
   ]
  },
  {
   "cell_type": "code",
   "execution_count": 246,
   "id": "877ded93",
   "metadata": {},
   "outputs": [],
   "source": [
    "def train_model(model, epochs=10, lr=0.001):\n",
    "    parameters = filter(lambda p: p.requires_grad, model.parameters())\n",
    "    optimizer = torch.optim.Adam(parameters, lr=lr)\n",
    "    for i in range(epochs):\n",
    "        model.train()\n",
    "        sum_loss = 0.0\n",
    "        total = 0\n",
    "        for x, y, l in train_dl:\n",
    "            x = x.long()\n",
    "            y = y.long()\n",
    "            y_pred = model(x, l)\n",
    "            optimizer.zero_grad()\n",
    "            loss = F.cross_entropy(y_pred, y)\n",
    "            loss.backward()\n",
    "            optimizer.step()\n",
    "            sum_loss += loss.item()*y.shape[0]\n",
    "            total += y.shape[0]\n",
    "        val_loss, val_acc, val_rmse = validation_metrics(model, val_dl)\n",
    "        if i % 5 == 1:\n",
    "            print(\"train loss %.3f, val loss %.3f, val accuracy %.3f, and val rmse %.3f\" % (sum_loss/total, val_loss, val_acc, val_rmse))\n",
    "\n",
    "def validation_metrics (model, valid_dl):\n",
    "    model.eval()\n",
    "    correct = 0\n",
    "    total = 0\n",
    "    sum_loss = 0.0\n",
    "    sum_rmse = 0.0\n",
    "    for x, y, l in valid_dl:\n",
    "        x = x.long()\n",
    "        y = y.long()\n",
    "        y_hat = model(x, l)\n",
    "        loss = F.cross_entropy(y_hat, y)\n",
    "        pred = torch.max(y_hat, 1)[1]\n",
    "        correct += (pred == y).float().sum()\n",
    "        total += y.shape[0]\n",
    "        sum_loss += loss.item()*y.shape[0]\n",
    "        sum_rmse += np.sqrt(mean_squared_error(pred, y.unsqueeze(-1)))*y.shape[0]\n",
    "    return sum_loss/total, correct/total, sum_rmse/total"
   ]
  },
  {
   "cell_type": "code",
   "execution_count": 247,
   "id": "db038914",
   "metadata": {},
   "outputs": [],
   "source": [
    "batch_size = 5000\n",
    "vocab_size = len(words)\n",
    "train_dl = DataLoader(train_ds, batch_size=batch_size, shuffle=True)\n",
    "val_dl = DataLoader(valid_ds, batch_size=batch_size)"
   ]
  },
  {
   "cell_type": "markdown",
   "id": "d824180f",
   "metadata": {},
   "source": [
    "### LSTM with fixed length input"
   ]
  },
  {
   "cell_type": "code",
   "execution_count": 248,
   "id": "32864786",
   "metadata": {},
   "outputs": [],
   "source": [
    "class LSTM_fixed_len(torch.nn.Module) :\n",
    "    def __init__(self, vocab_size, embedding_dim, hidden_dim) :\n",
    "        super().__init__()\n",
    "        self.embeddings = nn.Embedding(vocab_size, embedding_dim, padding_idx=0)\n",
    "        self.lstm = nn.LSTM(embedding_dim, hidden_dim, batch_first=True)\n",
    "        self.linear = nn.Linear(hidden_dim, 5)\n",
    "        self.dropout = nn.Dropout(0.2)\n",
    "        \n",
    "    def forward(self, x, l):\n",
    "        x = self.embeddings(x)\n",
    "        x = self.dropout(x)\n",
    "        lstm_out, (ht, ct) = self.lstm(x)\n",
    "        return self.linear(ht[-1])"
   ]
  },
  {
   "cell_type": "code",
   "execution_count": 298,
   "id": "b1fa401d",
   "metadata": {},
   "outputs": [
    {
     "name": "stdout",
     "output_type": "stream",
     "text": [
      "train loss 1.558, val loss 1.429, val accuracy 0.684, and val rmse 0.562\n",
      "train loss 0.659, val loss 0.622, val accuracy 0.684, and val rmse 0.562\n",
      "train loss 0.576, val loss 0.572, val accuracy 0.684, and val rmse 0.562\n",
      "train loss 0.526, val loss 0.532, val accuracy 0.712, and val rmse 0.537\n",
      "train loss 0.503, val loss 0.507, val accuracy 0.761, and val rmse 0.489\n",
      "train loss 0.482, val loss 0.479, val accuracy 0.774, and val rmse 0.475\n",
      "train loss 0.438, val loss 0.442, val accuracy 0.792, and val rmse 0.456\n",
      "train loss 0.388, val loss 0.379, val accuracy 0.827, and val rmse 0.416\n",
      "train loss 0.350, val loss 0.353, val accuracy 0.865, and val rmse 0.368\n",
      "train loss 0.327, val loss 0.322, val accuracy 0.880, and val rmse 0.347\n"
     ]
    }
   ],
   "source": [
    "model_fixed =  LSTM_fixed_len(vocab_size, 50, 50)\n",
    "train_model(model_fixed, epochs=50, lr=0.01)"
   ]
  },
  {
   "cell_type": "code",
   "execution_count": 296,
   "id": "23dbc598",
   "metadata": {},
   "outputs": [
    {
     "name": "stdout",
     "output_type": "stream",
     "text": [
      "train loss 1.235, val loss 0.646, val accuracy 0.684, and val rmse 0.562\n",
      "train loss 0.723, val loss 0.510, val accuracy 0.743, and val rmse 0.507\n",
      "train loss 0.531, val loss 0.509, val accuracy 0.684, and val rmse 0.562\n",
      "train loss 0.433, val loss 0.434, val accuracy 0.809, and val rmse 0.437\n",
      "train loss 0.383, val loss 0.430, val accuracy 0.814, and val rmse 0.431\n",
      "train loss 0.312, val loss 0.359, val accuracy 0.853, and val rmse 0.383\n",
      "train loss 0.300, val loss 0.341, val accuracy 0.871, and val rmse 0.358\n",
      "train loss 0.265, val loss 0.320, val accuracy 0.876, and val rmse 0.352\n",
      "train loss 0.229, val loss 0.315, val accuracy 0.883, and val rmse 0.342\n",
      "train loss 0.209, val loss 0.313, val accuracy 0.893, and val rmse 0.327\n"
     ]
    }
   ],
   "source": [
    "model_fixed =  LSTM_fixed_len(vocab_size, 50, 50)\n",
    "train_model(model_fixed, epochs=50, lr=0.05)"
   ]
  },
  {
   "cell_type": "code",
   "execution_count": 297,
   "id": "f4fadc14",
   "metadata": {},
   "outputs": [
    {
     "name": "stdout",
     "output_type": "stream",
     "text": [
      "train loss 0.650, val loss 1.955, val accuracy 0.392, and val rmse 0.780\n",
      "train loss 0.828, val loss 0.622, val accuracy 0.682, and val rmse 0.564\n",
      "train loss 0.627, val loss 0.672, val accuracy 0.682, and val rmse 0.564\n",
      "train loss 0.587, val loss 0.608, val accuracy 0.677, and val rmse 0.568\n",
      "train loss 0.575, val loss 0.598, val accuracy 0.677, and val rmse 0.568\n",
      "train loss 0.537, val loss 0.545, val accuracy 0.679, and val rmse 0.567\n",
      "train loss 0.488, val loss 0.508, val accuracy 0.758, and val rmse 0.492\n",
      "train loss 0.468, val loss 0.518, val accuracy 0.733, and val rmse 0.517\n",
      "train loss 0.465, val loss 0.503, val accuracy 0.759, and val rmse 0.490\n",
      "train loss 0.452, val loss 0.493, val accuracy 0.753, and val rmse 0.497\n"
     ]
    }
   ],
   "source": [
    "model_fixed =  LSTM_fixed_len(vocab_size, 50, 50)\n",
    "train_model(model_fixed, epochs=50, lr=0.1)"
   ]
  },
  {
   "cell_type": "markdown",
   "id": "44290b3e",
   "metadata": {},
   "source": [
    "### LSTM with variable length input"
   ]
  },
  {
   "cell_type": "code",
   "execution_count": 256,
   "id": "b5274f2b",
   "metadata": {},
   "outputs": [],
   "source": [
    "class LSTM_variable_input(torch.nn.Module) :\n",
    "    def __init__(self, vocab_size, embedding_dim, hidden_dim) :\n",
    "        super().__init__()\n",
    "        self.hidden_dim = hidden_dim\n",
    "        self.dropout = nn.Dropout(0.3)\n",
    "        self.embeddings = nn.Embedding(vocab_size, embedding_dim, padding_idx=0)\n",
    "        self.lstm = nn.LSTM(embedding_dim, hidden_dim, batch_first=True)\n",
    "        self.linear = nn.Linear(hidden_dim, 5)\n",
    "        \n",
    "    def forward(self, x, s):\n",
    "        x = self.embeddings(x)\n",
    "        x = self.dropout(x)\n",
    "        x_pack = pack_padded_sequence(x, s, batch_first=True, enforce_sorted=False)\n",
    "        out_pack, (ht, ct) = self.lstm(x_pack)\n",
    "        out = self.linear(ht[-1])\n",
    "        return out"
   ]
  },
  {
   "cell_type": "code",
   "execution_count": 258,
   "id": "97d30c2e",
   "metadata": {},
   "outputs": [
    {
     "name": "stdout",
     "output_type": "stream",
     "text": [
      "train loss 0.654, val loss 0.790, val accuracy 0.417, and val rmse 0.764\n",
      "train loss 0.675, val loss 0.711, val accuracy 0.415, and val rmse 0.765\n",
      "train loss 0.332, val loss 0.272, val accuracy 0.900, and val rmse 0.317\n",
      "train loss 0.168, val loss 0.175, val accuracy 0.936, and val rmse 0.253\n",
      "train loss 0.120, val loss 0.156, val accuracy 0.946, and val rmse 0.233\n",
      "train loss 0.090, val loss 0.162, val accuracy 0.952, and val rmse 0.219\n",
      "train loss 0.075, val loss 0.169, val accuracy 0.957, and val rmse 0.207\n",
      "train loss 0.065, val loss 0.148, val accuracy 0.962, and val rmse 0.195\n",
      "train loss 0.059, val loss 0.160, val accuracy 0.959, and val rmse 0.203\n",
      "train loss 0.053, val loss 0.171, val accuracy 0.960, and val rmse 0.199\n"
     ]
    }
   ],
   "source": [
    "model = LSTM_variable_input(vocab_size, 50, 50)\n",
    "train_model(model, epochs=50, lr=0.1)"
   ]
  },
  {
   "cell_type": "code",
   "execution_count": 295,
   "id": "698e3bc3",
   "metadata": {},
   "outputs": [
    {
     "name": "stdout",
     "output_type": "stream",
     "text": [
      "train loss 0.864, val loss 0.689, val accuracy 0.684, and val rmse 0.562\n",
      "train loss 0.570, val loss 0.564, val accuracy 0.733, and val rmse 0.517\n",
      "train loss 0.519, val loss 0.442, val accuracy 0.773, and val rmse 0.477\n",
      "train loss 0.319, val loss 0.295, val accuracy 0.898, and val rmse 0.320\n",
      "train loss 0.193, val loss 0.235, val accuracy 0.924, and val rmse 0.275\n",
      "train loss 0.132, val loss 0.186, val accuracy 0.934, and val rmse 0.257\n",
      "train loss 0.095, val loss 0.199, val accuracy 0.932, and val rmse 0.260\n",
      "train loss 0.079, val loss 0.197, val accuracy 0.941, and val rmse 0.244\n",
      "train loss 0.068, val loss 0.171, val accuracy 0.946, and val rmse 0.233\n",
      "train loss 0.057, val loss 0.179, val accuracy 0.947, and val rmse 0.230\n"
     ]
    }
   ],
   "source": [
    "model = LSTM_variable_input(vocab_size, 50, 50)\n",
    "train_model(model, epochs=50, lr=0.05)"
   ]
  }
 ],
 "metadata": {
  "kernelspec": {
   "display_name": "Python 3",
   "language": "python",
   "name": "python3"
  },
  "language_info": {
   "codemirror_mode": {
    "name": "ipython",
    "version": 3
   },
   "file_extension": ".py",
   "mimetype": "text/x-python",
   "name": "python",
   "nbconvert_exporter": "python",
   "pygments_lexer": "ipython3",
   "version": "3.7.4"
  }
 },
 "nbformat": 4,
 "nbformat_minor": 5
}
