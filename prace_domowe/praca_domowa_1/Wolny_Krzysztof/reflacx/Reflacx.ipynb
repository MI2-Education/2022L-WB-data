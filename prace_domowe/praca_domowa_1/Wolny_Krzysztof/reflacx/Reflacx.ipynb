{
 "cells": [
  {
   "cell_type": "markdown",
   "id": "637ae507",
   "metadata": {},
   "source": [
    "# Reflacx\n",
    "Krzysztof Wolny 305765\n"
   ]
  },
  {
   "cell_type": "markdown",
   "id": "91214180",
   "metadata": {},
   "source": [
    "This dataset is separated into two folders, main_data, containing the main files for the intended use of the dataset and metadata tables, and gaze_data, which is more significant in data size and contains the complete recorded eye-tracking data in 1000 Hz. I concentrated on analysis of main_data. \n",
    "\n",
    "- `main_data/metadata_phase_<phase>.csv`:\n",
    "  * `id` (string): used to identify each chest x-ray reading.\n",
    "  * `split` (string): the split (train, validate or test) given by the MIMIC-CXR dataset.\n",
    "  * `eye_tracking_data_discarded` (Boolean): this column is True in the small subset of 20 images from phases 1 and 2 that had their eye-tracking data discarded, but the validation labels were kept to allow us to calculate the variability scores for these phases. The fixations.csv, gaze.csv, timestamps_transcription.csv, and transcription.txt files are not provided for cases for which this column is True.\n",
    "  * `image` (string): folder location of the used chest x-ray in the MIMIC-CXR dataset.\n",
    "  * `dicom_id` (string): id identifying the read chest x-ray that can be used to link this table with the MIMIC-CXR tables.\n",
    "  * `subject_id` (string): id of the patient of the chest x-ray, from the MIMIC-CXR and MIMIC-IV datasets.\n",
    "  * `image_size_x` , `image_size_y` (int): horizontal and vertical sizes of the chest x-ray, in pixels.\n",
    "  * `Airway wall thickening`, `Atelectasis`, `Consolidation`, `Emphysema`, `Enlarged cardiac silhouette`, `Fibrosis`, `Fracture`, `Groundglass opacity`, `Mass`, `Nodule`, `Pleural effusion`, `Pleural thickening`, `Pneumothorax`, `Pulmonary edema`, `Wide mediastinum` (phase 1); `Abnormal mediastinal contour`, `Acute fracture`, `Atelectasis`, `Consolidation`, `Enlarged cardiac silhouette`, `Enlarged hilum`, `Groundglass opacity`, `Hiatal hernia`, `High lung volume / emphysema`, `Interstitial lung disease`, `Lung nodule or mass`, `Pleural abnormality`, `Pneumothorax`, `Pulmonary edema` (phases 2 and 3) (int): columns for the certainty of image-level labels, with values from 0 to 5, representing the maximum certainty selected over all ellipses drawn for the label, with the following representation: 0: not selected by radiologist, 1: Unlikely (<10%), 2: Less Likely (\\~25%), 3: Possibly (\\~50%), 4: Suspicious for/Probably (~75%), 5: Consistent with (>90%).\n",
    "  * `Quality issue`, `Support devices` (phase 1); `Support devices` (phases 2 and 3) (Boolean): image-level labels with only presence indicated.\n",
    "  * `Other` (string): written additional labels, separated by a \"|\" symbol.\n",
    "- `main_data/<id>/fixations.csv`: list of fixations, i.e., stabilizations of the gaze of the radiologist in a specific location, for the <id> reading.\n",
    "  * `timestamp_start_fixation`, `timestamp_end_fixation` (float): time when the fixation started and ended. The difference between these two values may be used as a weighting of the importance of that fixation.\n",
    "  * `x_position`, `y_position` (int): average position for the fixation, in image space.\n",
    "  * `pupil_area_normalized` (float): area of the pupil, normalized by the pupil area measured during calibration at the beginning of the data collection session.\n",
    "  * `window_level`, `window_width` (float): variables representing the average windowing state over the fixation. Images were shown according to"
   ]
  },
  {
   "cell_type": "code",
   "execution_count": 2,
   "id": "43ef8123",
   "metadata": {},
   "outputs": [],
   "source": [
    "import numpy as np\n",
    "import zipfile\n",
    "import os\n",
    "import pandas as pd\n",
    "import matplotlib.pyplot as plt\n",
    "import seaborn as sns"
   ]
  },
  {
   "cell_type": "markdown",
   "id": "8802656b",
   "metadata": {},
   "source": [
    "## Data analysis\n",
    "I concentrated on main_data"
   ]
  },
  {
   "cell_type": "code",
   "execution_count": 3,
   "id": "ee3d4692",
   "metadata": {},
   "outputs": [],
   "source": [
    "FILE_NAME = \"reflacx-reports-and-eye-tracking-data-for-localization-of-abnormalities-in-chest-x-rays-1.0.0\"\n",
    "MAIN_PATH = \"/main_data\"\n",
    "\n",
    "main_data = {}\n",
    "metadata = []\n",
    "with zipfile.ZipFile(FILE_NAME+\".zip\") as archive:\n",
    "    for file in archive.namelist(): \n",
    "        if file.startswith(FILE_NAME+MAIN_PATH+\"/metadata_phase\"):\n",
    "            metadata.append(pd.read_csv(archive.open(file)))\n",
    "        elif file.startswith(FILE_NAME+MAIN_PATH):\n",
    "            id = file.split(\"/\")\n",
    "            if not id[2] in main_data:\n",
    "                main_data[id[2]] = []\n",
    "            main_data[id[2]].append(pd.read_csv(archive.open(file)))"
   ]
  },
  {
   "cell_type": "code",
   "execution_count": 4,
   "id": "a51f4d1d",
   "metadata": {
    "scrolled": true
   },
   "outputs": [
    {
     "data": {
      "text/html": [
       "<div>\n",
       "<style scoped>\n",
       "    .dataframe tbody tr th:only-of-type {\n",
       "        vertical-align: middle;\n",
       "    }\n",
       "\n",
       "    .dataframe tbody tr th {\n",
       "        vertical-align: top;\n",
       "    }\n",
       "\n",
       "    .dataframe thead th {\n",
       "        text-align: right;\n",
       "    }\n",
       "</style>\n",
       "<table border=\"1\" class=\"dataframe\">\n",
       "  <thead>\n",
       "    <tr style=\"text-align: right;\">\n",
       "      <th></th>\n",
       "      <th>xmin</th>\n",
       "      <th>ymin</th>\n",
       "      <th>xmax</th>\n",
       "      <th>ymax</th>\n",
       "      <th>certainty</th>\n",
       "      <th>Airway wall thickening</th>\n",
       "      <th>Atelectasis</th>\n",
       "      <th>Consolidation</th>\n",
       "      <th>Emphysema</th>\n",
       "      <th>Enlarged cardiac silhouette</th>\n",
       "      <th>...</th>\n",
       "      <th>Mass</th>\n",
       "      <th>Nodule</th>\n",
       "      <th>Other</th>\n",
       "      <th>Pleural effusion</th>\n",
       "      <th>Pleural thickening</th>\n",
       "      <th>Pneumothorax</th>\n",
       "      <th>Pulmonary edema</th>\n",
       "      <th>Quality issue</th>\n",
       "      <th>Support devices</th>\n",
       "      <th>Wide mediastinum</th>\n",
       "    </tr>\n",
       "  </thead>\n",
       "  <tbody>\n",
       "    <tr>\n",
       "      <td>0</td>\n",
       "      <td>38</td>\n",
       "      <td>649</td>\n",
       "      <td>1187</td>\n",
       "      <td>2765</td>\n",
       "      <td>5</td>\n",
       "      <td>False</td>\n",
       "      <td>True</td>\n",
       "      <td>True</td>\n",
       "      <td>False</td>\n",
       "      <td>False</td>\n",
       "      <td>...</td>\n",
       "      <td>False</td>\n",
       "      <td>False</td>\n",
       "      <td>False</td>\n",
       "      <td>False</td>\n",
       "      <td>False</td>\n",
       "      <td>False</td>\n",
       "      <td>False</td>\n",
       "      <td>False</td>\n",
       "      <td>False</td>\n",
       "      <td>False</td>\n",
       "    </tr>\n",
       "    <tr>\n",
       "      <td>1</td>\n",
       "      <td>1302</td>\n",
       "      <td>1568</td>\n",
       "      <td>2138</td>\n",
       "      <td>2757</td>\n",
       "      <td>3</td>\n",
       "      <td>False</td>\n",
       "      <td>False</td>\n",
       "      <td>False</td>\n",
       "      <td>False</td>\n",
       "      <td>True</td>\n",
       "      <td>...</td>\n",
       "      <td>False</td>\n",
       "      <td>False</td>\n",
       "      <td>False</td>\n",
       "      <td>False</td>\n",
       "      <td>False</td>\n",
       "      <td>False</td>\n",
       "      <td>False</td>\n",
       "      <td>False</td>\n",
       "      <td>False</td>\n",
       "      <td>False</td>\n",
       "    </tr>\n",
       "    <tr>\n",
       "      <td>2</td>\n",
       "      <td>35</td>\n",
       "      <td>702</td>\n",
       "      <td>1132</td>\n",
       "      <td>2752</td>\n",
       "      <td>4</td>\n",
       "      <td>False</td>\n",
       "      <td>False</td>\n",
       "      <td>False</td>\n",
       "      <td>False</td>\n",
       "      <td>False</td>\n",
       "      <td>...</td>\n",
       "      <td>False</td>\n",
       "      <td>False</td>\n",
       "      <td>False</td>\n",
       "      <td>True</td>\n",
       "      <td>False</td>\n",
       "      <td>False</td>\n",
       "      <td>False</td>\n",
       "      <td>False</td>\n",
       "      <td>False</td>\n",
       "      <td>False</td>\n",
       "    </tr>\n",
       "  </tbody>\n",
       "</table>\n",
       "<p>3 rows × 23 columns</p>\n",
       "</div>"
      ],
      "text/plain": [
       "   xmin  ymin  xmax  ymax  certainty  Airway wall thickening  Atelectasis  \\\n",
       "0    38   649  1187  2765          5                   False         True   \n",
       "1  1302  1568  2138  2757          3                   False        False   \n",
       "2    35   702  1132  2752          4                   False        False   \n",
       "\n",
       "   Consolidation  Emphysema  Enlarged cardiac silhouette  ...   Mass  Nodule  \\\n",
       "0           True      False                        False  ...  False   False   \n",
       "1          False      False                         True  ...  False   False   \n",
       "2          False      False                        False  ...  False   False   \n",
       "\n",
       "   Other  Pleural effusion  Pleural thickening  Pneumothorax  Pulmonary edema  \\\n",
       "0  False             False               False         False            False   \n",
       "1  False             False               False         False            False   \n",
       "2  False              True               False         False            False   \n",
       "\n",
       "   Quality issue  Support devices  Wide mediastinum  \n",
       "0          False            False             False  \n",
       "1          False            False             False  \n",
       "2          False            False             False  \n",
       "\n",
       "[3 rows x 23 columns]"
      ]
     },
     "execution_count": 4,
     "metadata": {},
     "output_type": "execute_result"
    }
   ],
   "source": [
    "main_data[\"P110R247624\"][0]"
   ]
  },
  {
   "cell_type": "code",
   "execution_count": 8,
   "id": "80f6e05b",
   "metadata": {
    "scrolled": true
   },
   "outputs": [
    {
     "data": {
      "text/html": [
       "<div>\n",
       "<style scoped>\n",
       "    .dataframe tbody tr th:only-of-type {\n",
       "        vertical-align: middle;\n",
       "    }\n",
       "\n",
       "    .dataframe tbody tr th {\n",
       "        vertical-align: top;\n",
       "    }\n",
       "\n",
       "    .dataframe thead th {\n",
       "        text-align: right;\n",
       "    }\n",
       "</style>\n",
       "<table border=\"1\" class=\"dataframe\">\n",
       "  <thead>\n",
       "    <tr style=\"text-align: right;\">\n",
       "      <th></th>\n",
       "      <th>id</th>\n",
       "      <th>split</th>\n",
       "      <th>eye_tracking_data_discarded</th>\n",
       "      <th>image</th>\n",
       "      <th>dicom_id</th>\n",
       "      <th>subject_id</th>\n",
       "      <th>image_size_x</th>\n",
       "      <th>image_size_y</th>\n",
       "      <th>Airway wall thickening</th>\n",
       "      <th>Atelectasis</th>\n",
       "      <th>...</th>\n",
       "      <th>Mass</th>\n",
       "      <th>Nodule</th>\n",
       "      <th>Other</th>\n",
       "      <th>Pleural effusion</th>\n",
       "      <th>Pleural thickening</th>\n",
       "      <th>Pneumothorax</th>\n",
       "      <th>Pulmonary edema</th>\n",
       "      <th>Quality issue</th>\n",
       "      <th>Support devices</th>\n",
       "      <th>Wide mediastinum</th>\n",
       "    </tr>\n",
       "  </thead>\n",
       "  <tbody>\n",
       "    <tr>\n",
       "      <td>0</td>\n",
       "      <td>P102R108387</td>\n",
       "      <td>train</td>\n",
       "      <td>False</td>\n",
       "      <td>physionet.org/files/mimic-cxr/2.0.0/files/p18/...</td>\n",
       "      <td>34cedb74-d0996b40-6d218312-a9174bea-d48dc033</td>\n",
       "      <td>18111516</td>\n",
       "      <td>2544</td>\n",
       "      <td>3056</td>\n",
       "      <td>0</td>\n",
       "      <td>0</td>\n",
       "      <td>...</td>\n",
       "      <td>0</td>\n",
       "      <td>0</td>\n",
       "      <td>NaN</td>\n",
       "      <td>0</td>\n",
       "      <td>0</td>\n",
       "      <td>0</td>\n",
       "      <td>0</td>\n",
       "      <td>False</td>\n",
       "      <td>True</td>\n",
       "      <td>0</td>\n",
       "    </tr>\n",
       "    <tr>\n",
       "      <td>1</td>\n",
       "      <td>P102R379837</td>\n",
       "      <td>train</td>\n",
       "      <td>False</td>\n",
       "      <td>physionet.org/files/mimic-cxr/2.0.0/files/p18/...</td>\n",
       "      <td>34cedb74-d0996b40-6d218312-a9174bea-d48dc033</td>\n",
       "      <td>18111516</td>\n",
       "      <td>2544</td>\n",
       "      <td>3056</td>\n",
       "      <td>0</td>\n",
       "      <td>0</td>\n",
       "      <td>...</td>\n",
       "      <td>0</td>\n",
       "      <td>0</td>\n",
       "      <td>NaN</td>\n",
       "      <td>0</td>\n",
       "      <td>0</td>\n",
       "      <td>0</td>\n",
       "      <td>0</td>\n",
       "      <td>False</td>\n",
       "      <td>True</td>\n",
       "      <td>0</td>\n",
       "    </tr>\n",
       "    <tr>\n",
       "      <td>2</td>\n",
       "      <td>P102R558314</td>\n",
       "      <td>train</td>\n",
       "      <td>False</td>\n",
       "      <td>physionet.org/files/mimic-cxr/2.0.0/files/p18/...</td>\n",
       "      <td>34cedb74-d0996b40-6d218312-a9174bea-d48dc033</td>\n",
       "      <td>18111516</td>\n",
       "      <td>2544</td>\n",
       "      <td>3056</td>\n",
       "      <td>4</td>\n",
       "      <td>0</td>\n",
       "      <td>...</td>\n",
       "      <td>0</td>\n",
       "      <td>0</td>\n",
       "      <td>NaN</td>\n",
       "      <td>0</td>\n",
       "      <td>0</td>\n",
       "      <td>0</td>\n",
       "      <td>0</td>\n",
       "      <td>False</td>\n",
       "      <td>True</td>\n",
       "      <td>0</td>\n",
       "    </tr>\n",
       "  </tbody>\n",
       "</table>\n",
       "<p>3 rows × 26 columns</p>\n",
       "</div>"
      ],
      "text/plain": [
       "            id  split  eye_tracking_data_discarded  \\\n",
       "0  P102R108387  train                        False   \n",
       "1  P102R379837  train                        False   \n",
       "2  P102R558314  train                        False   \n",
       "\n",
       "                                               image  \\\n",
       "0  physionet.org/files/mimic-cxr/2.0.0/files/p18/...   \n",
       "1  physionet.org/files/mimic-cxr/2.0.0/files/p18/...   \n",
       "2  physionet.org/files/mimic-cxr/2.0.0/files/p18/...   \n",
       "\n",
       "                                       dicom_id  subject_id  image_size_x  \\\n",
       "0  34cedb74-d0996b40-6d218312-a9174bea-d48dc033    18111516          2544   \n",
       "1  34cedb74-d0996b40-6d218312-a9174bea-d48dc033    18111516          2544   \n",
       "2  34cedb74-d0996b40-6d218312-a9174bea-d48dc033    18111516          2544   \n",
       "\n",
       "   image_size_y  Airway wall thickening  Atelectasis  ...  Mass  Nodule  \\\n",
       "0          3056                       0            0  ...     0       0   \n",
       "1          3056                       0            0  ...     0       0   \n",
       "2          3056                       4            0  ...     0       0   \n",
       "\n",
       "   Other  Pleural effusion  Pleural thickening  Pneumothorax  Pulmonary edema  \\\n",
       "0    NaN                 0                   0             0                0   \n",
       "1    NaN                 0                   0             0                0   \n",
       "2    NaN                 0                   0             0                0   \n",
       "\n",
       "   Quality issue Support devices  Wide mediastinum  \n",
       "0          False            True                 0  \n",
       "1          False            True                 0  \n",
       "2          False            True                 0  \n",
       "\n",
       "[3 rows x 26 columns]"
      ]
     },
     "execution_count": 8,
     "metadata": {},
     "output_type": "execute_result"
    }
   ],
   "source": [
    "metadata[0].head(3)"
   ]
  },
  {
   "cell_type": "markdown",
   "id": "f3c295c0",
   "metadata": {},
   "source": [
    "### How many examples do we have?"
   ]
  },
  {
   "cell_type": "code",
   "execution_count": 6,
   "id": "2f983bad",
   "metadata": {},
   "outputs": [
    {
     "name": "stdout",
     "output_type": "stream",
     "text": [
      "Number of examples:  3052\n"
     ]
    }
   ],
   "source": [
    "print(\"Number of examples: \", len(main_data))"
   ]
  },
  {
   "cell_type": "markdown",
   "id": "ad480ad5",
   "metadata": {},
   "source": [
    "### How many patients don't have any anomalies? "
   ]
  },
  {
   "cell_type": "code",
   "execution_count": 7,
   "id": "cc3c458f",
   "metadata": {},
   "outputs": [
    {
     "data": {
      "image/png": "[encoded data removed]",
      "text/plain": [
       "<Figure size 432x288 with 1 Axes>"
      ]
     },
     "metadata": {
      "needs_background": "light"
     },
     "output_type": "display_data"
    }
   ],
   "source": [
    "n_healthy_patients = 0\n",
    "for m in main_data:\n",
    "    n_healthy_patients += main_data[m][0].empty\n",
    "\n",
    "fig = plt.figure()\n",
    "ax = fig.add_axes([0,0,1,1])\n",
    "ax.bar([\"No Anomalies\", \"Anomalies\"], [n_healthy_patients, len(main_data)-n_healthy_patients])\n",
    "plt.title(\"Amount of patients with and without anomalies\")\n",
    "plt.show()"
   ]
  },
  {
   "cell_type": "markdown",
   "id": "06e17312",
   "metadata": {},
   "source": [
    "### What anomalies are the most common?"
   ]
  },
  {
   "cell_type": "code",
   "execution_count": 8,
   "id": "8875fdeb",
   "metadata": {
    "scrolled": true
   },
   "outputs": [],
   "source": [
    "anom_names = [\"Airway wall thickening\", \"Atelectasis\", \"Consolidation\", \"Emphysema\", \"Enlarged cardiac silhouette\", \"Fibrosis\", \n",
    "              \"Fracture\", \"Groundglass opacity\", \"Mass\", \"Nodule\", \"Pleural effusion\", \"Pleural thickening\", \"Pneumothorax\", \n",
    "              \"Pulmonary edema\", \"Wide mediastinum\", \"Abnormal mediastinal contour\", \"Acute fracture\", \"Enlarged hilum\", \"Hiatal hernia\", \n",
    "              \"High lung volume\", \"Interstitial lung disease\", \"Lung nodule or mass\", \"Pleural abnormality\", 'Support devices', \"Other\", \n",
    "              'High lung volume / emphysema', \"Quality issue\"]\n",
    "anomalies = {}\n",
    "\n",
    "for name in anom_names: \n",
    "    anomalies[name] = 0\n",
    "\n",
    "for m in main_data: # 5:22\n",
    "    asum = np.sum(main_data[m][0])\n",
    "    for name in asum.index: \n",
    "        if name in anom_names: \n",
    "            anomalies[name] += asum[name]"
   ]
  },
  {
   "cell_type": "code",
   "execution_count": 9,
   "id": "9080bb6e",
   "metadata": {
    "scrolled": false
   },
   "outputs": [
    {
     "data": {
      "image/png": "[encoded data removed]",
      "text/plain": [
       "<Figure size 864x432 with 1 Axes>"
      ]
     },
     "metadata": {
      "needs_background": "light"
     },
     "output_type": "display_data"
    }
   ],
   "source": [
    "names = list(anomalies.keys())\n",
    "values = list(anomalies.values())\n",
    "anom_df = pd.DataFrame({\"values\": values, \"names\": names})\n",
    "\n",
    "anom_df_sorted_desc= anom_df.sort_values('values',ascending=False)\n",
    "\n",
    "\n",
    "fig = plt.figure(figsize=(12,6))\n",
    "ax = fig.add_axes([0,0,1,1])\n",
    "plt.bar('names', 'values',data=anom_df_sorted_desc)\n",
    "plt.title(\"Amount of diagnosed dieseases\")\n",
    "plt.xticks(rotation=60)\n",
    "plt.show()"
   ]
  },
  {
   "cell_type": "markdown",
   "id": "2b1eae98",
   "metadata": {},
   "source": [
    "Atelectasis (at-uh-LEK-tuh-sis) is a complete or partial collapse of the entire lung or area (lobe) of the lung. It occurs when the tiny air sacs (alveoli) within the lung become deflated or possibly filled with alveolar fluid.\n",
    "\n",
    "Atelectasis is one of the most common breathing (respiratory) complications after surgery. It's also a possible complication of other respiratory problems, including cystic fibrosis, lung tumors, chest injuries, fluid in the lung and respiratory weakness. You may develop atelectasis if you breathe in a foreign object.\n",
    "\n",
    "By Mayo Clinic Staff"
   ]
  },
  {
   "cell_type": "markdown",
   "id": "de7c66aa",
   "metadata": {},
   "source": [
    "### Were doctors sure about their diagnostics? "
   ]
  },
  {
   "cell_type": "markdown",
   "id": "2015e5c1",
   "metadata": {},
   "source": [
    "In anomaly_location_elipses.csv in certainty column we have scale from 1-5, that shows how sure doctors were sure about their diagnosis. "
   ]
  },
  {
   "cell_type": "code",
   "execution_count": 10,
   "id": "8f440fec",
   "metadata": {
    "scrolled": false
   },
   "outputs": [
    {
     "data": {
      "image/png": "[encoded data removed]",
      "text/plain": [
       "<Figure size 864x432 with 1 Axes>"
      ]
     },
     "metadata": {
      "needs_background": "light"
     },
     "output_type": "display_data"
    }
   ],
   "source": [
    "certainty = []\n",
    "for m in main_data:\n",
    "    if main_data[m][0][\"certainty\"].any(): \n",
    "        for c in main_data[m][0][\"certainty\"].values:\n",
    "            certainty.append(c)\n",
    "\n",
    "fig = plt.figure(figsize=(12,6))\n",
    "ax = fig.add_axes([0,0,1,1])\n",
    "plt.hist(certainty)\n",
    "plt.title(\"How certain are the doctors\")\n",
    "plt.xlabel(\"certainty\")\n",
    "plt.show()"
   ]
  },
  {
   "cell_type": "markdown",
   "id": "1e348148",
   "metadata": {},
   "source": [
    "### Where are detected abnormalities?"
   ]
  },
  {
   "cell_type": "code",
   "execution_count": 11,
   "id": "234f0855",
   "metadata": {
    "scrolled": false
   },
   "outputs": [
    {
     "data": {
      "image/png": "[encoded data removed]",
      "text/plain": [
       "<Figure size 864x432 with 4 Axes>"
      ]
     },
     "metadata": {
      "needs_background": "light"
     },
     "output_type": "display_data"
    }
   ],
   "source": [
    "xy_name = [\"xmin\",\"ymin\",\"xmax\",\"ymax\"]\n",
    "xy = [[],[],[],[]]\n",
    "for m in main_data:\n",
    "    val = main_data[m][0]\n",
    "    for i in range(len(xy)):\n",
    "        v = val[xy_name[i]].values\n",
    "        for k in v:\n",
    "            xy[i].append(k)\n",
    "            \n",
    "fig, axs = plt.subplots(2, 2, figsize=(12,6))\n",
    "axs[0, 0].hist(xy[0])\n",
    "axs[0, 0].set_title(xy_name[0])\n",
    "axs[0, 1].hist(xy[1])\n",
    "axs[0, 1].set_title(xy_name[1])\n",
    "axs[1, 0].hist(xy[2])\n",
    "axs[1, 0].set_title(xy_name[2])\n",
    "axs[1, 1].hist(xy[3])\n",
    "axs[1, 1].set_title(xy_name[3])\n",
    "plt.show()"
   ]
  },
  {
   "cell_type": "markdown",
   "id": "d1b8f1c3",
   "metadata": {},
   "source": [
    "Wyniki, które otrzymaliśmy jak najbardziej mają sens. Patrząc na x widać wyraźnie podział gdzie znajdują się płuca. Natomiast przy y, to min zawsze będzie mniejsze od max, więc widzimy, że ymin jest skośny w lewo, a ymax w prawo"
   ]
  },
  {
   "cell_type": "code",
   "execution_count": null,
   "id": "58511e27",
   "metadata": {},
   "outputs": [],
   "source": []
  },
  {
   "cell_type": "markdown",
   "id": "b44b1630",
   "metadata": {},
   "source": [
    "### How long were docters looking at the abnormalities in relate to whole time of diagnostics?"
   ]
  },
  {
   "cell_type": "code",
   "execution_count": 51,
   "id": "3060b11b",
   "metadata": {},
   "outputs": [
    {
     "name": "stdout",
     "output_type": "stream",
     "text": [
      "20  examples didn't have fixation.csv\n"
     ]
    }
   ],
   "source": [
    "time_total = []\n",
    "time_at_ab = []\n",
    "time_when_no_ab = []\n",
    "k=0\n",
    "\n",
    "for m in main_data: \n",
    "    if len(main_data[m]) <3:\n",
    "        k += 1 \n",
    "        continue\n",
    "    time = 0\n",
    "    ale = main_data[m][0]\n",
    "    fix = main_data[m][2]\n",
    "    tt = main_data[m][2].tail(1)[\"timestamp_end_fixation\"].values[0]\n",
    "    time_total.append(tt)\n",
    "    if not ale.empty:\n",
    "        xy_calc_pos = []\n",
    "        for i in range(len(ale)):\n",
    "            table = fix[fix[\"x_position\"]<=ale[\"xmax\"].values[i]]\n",
    "            table = table[table[\"x_position\"]>=ale[\"xmin\"].values[i]]\n",
    "            table = table[table[\"y_position\"]>=ale[\"ymin\"].values[i]]\n",
    "            table = table[table[\"y_position\"]<=ale[\"ymax\"].values[i]]\n",
    "            new_xy_calc_pos = [(table[\"x_position\"].values[j], table[\"y_position\"].values[j]) for j in range(len(table[\"x_position\"].values))]\n",
    "            if new_xy_calc_pos:\n",
    "                table = table[[new_xy_calc_pos[l] not in xy_calc_pos for l in range(len(new_xy_calc_pos))]]\n",
    "            xy_calc_pos = [*xy_calc_pos,*new_xy_calc_pos]\n",
    "            time += np.sum(table[\"timestamp_end_fixation\"] - table[\"timestamp_start_fixation\"])\n",
    "        \n",
    "        time_at_ab.append((time,tt))\n",
    "    else:\n",
    "        time_when_no_ab.append(main_data[m][2].tail(1)[\"timestamp_end_fixation\"].values[0])\n",
    "    \n",
    "print(k, \" examples didn't have fixation.csv\")   "
   ]
  },
  {
   "cell_type": "code",
   "execution_count": 52,
   "id": "7696d02f",
   "metadata": {
    "scrolled": false
   },
   "outputs": [
    {
     "data": {
      "image/png": "[encoded data removed]",
      "text/plain": [
       "<Figure size 864x432 with 1 Axes>"
      ]
     },
     "metadata": {
      "needs_background": "light"
     },
     "output_type": "display_data"
    }
   ],
   "source": [
    "fig = plt.figure(figsize=(12,6))\n",
    "ax = fig.add_axes([0,0,1,1])\n",
    "plt.hist([a_tuple[0]/a_tuple[1] for a_tuple in time_at_ab])\n",
    "plt.title(\"Propotion of time viewing the abnormalities to\")\n",
    "plt.xlabel(\")\")\n",
    "plt.show()"
   ]
  },
  {
   "cell_type": "markdown",
   "id": "2af037e9",
   "metadata": {},
   "source": [
    "### How long took the diagnostics? \n",
    "### If there weren't any abnormalities, would it be faster?"
   ]
  },
  {
   "cell_type": "code",
   "execution_count": 50,
   "id": "f7cdcac5",
   "metadata": {
    "scrolled": false
   },
   "outputs": [
    {
     "data": {
      "image/png": "[encoded data removed]",
      "text/plain": [
       "<Figure size 864x432 with 1 Axes>"
      ]
     },
     "metadata": {
      "needs_background": "light"
     },
     "output_type": "display_data"
    }
   ],
   "source": [
    "my_dict = {\"How long took the diagnostics\": time_total, 'Time when there were no abnormalities': time_when_no_ab}\n",
    "\n",
    "fig, ax = plt.subplots(figsize=(12,6))\n",
    "ax.boxplot(my_dict.values())\n",
    "ax.set_xticklabels(my_dict.keys())\n",
    "\n",
    "plt.show()"
   ]
  },
  {
   "cell_type": "code",
   "execution_count": null,
   "id": "20bd6893",
   "metadata": {},
   "outputs": [],
   "source": []
  }
 ],
 "metadata": {
  "kernelspec": {
   "display_name": "Python 3",
   "language": "python",
   "name": "python3"
  },
  "language_info": {
   "codemirror_mode": {
    "name": "ipython",
    "version": 3
   },
   "file_extension": ".py",
   "mimetype": "text/x-python",
   "name": "python",
   "nbconvert_exporter": "python",
   "pygments_lexer": "ipython3",
   "version": "3.7.4"
  }
 },
 "nbformat": 4,
 "nbformat_minor": 5
}
