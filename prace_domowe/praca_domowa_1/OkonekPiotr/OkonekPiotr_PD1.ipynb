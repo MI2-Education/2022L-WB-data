{
 "cells": [
  {
   "cell_type": "markdown",
   "metadata": {},
   "source": [
    "# Wstępna analiza baz danych\n",
    "W tej pracy domowej wypiszę obserwacje na temat 2 baz danych ze zdjęciami"
   ]
  },
  {
   "cell_type": "markdown",
   "metadata": {},
   "source": [
    "## Pierwsza baza danych\n",
    "Jako pierwszą opiszę bazę danych przeznaczoną do segmentacji. Dotyczyła ona tomografii komputerowej pacjentów. Baza składała się z 2 części - pacjentów z pozytywnym i negatywnym wynikiem testu na koronawirusa. Do każdej z części została dodana tabela informująca o danych pacjenta. Dodatkowo do jednej otrzymaliśmy annotacje"
   ]
  },
  {
   "cell_type": "code",
   "execution_count": 1,
   "metadata": {},
   "outputs": [],
   "source": [
    "import pandas as pd\n",
    "import numpy as np\n",
    "import sklearn \n",
    "import seaborn as sns\n",
    "import matplotlib.pyplot as plt\n",
    "import matplotlib"
   ]
  },
  {
   "cell_type": "code",
   "execution_count": 2,
   "metadata": {},
   "outputs": [],
   "source": [
    "positive=pd.read_excel('positive.xlsx')\n",
    "negative=pd.read_excel('negative.xlsx')"
   ]
  },
  {
   "cell_type": "code",
   "execution_count": 3,
   "metadata": {},
   "outputs": [
    {
     "data": {
      "text/html": [
       "<div>\n",
       "<style scoped>\n",
       "    .dataframe tbody tr th:only-of-type {\n",
       "        vertical-align: middle;\n",
       "    }\n",
       "\n",
       "    .dataframe tbody tr th {\n",
       "        vertical-align: top;\n",
       "    }\n",
       "\n",
       "    .dataframe thead th {\n",
       "        text-align: right;\n",
       "    }\n",
       "</style>\n",
       "<table border=\"1\" class=\"dataframe\">\n",
       "  <thead>\n",
       "    <tr style=\"text-align: right;\">\n",
       "      <th></th>\n",
       "      <th>Anon MRN</th>\n",
       "      <th>Anon Age</th>\n",
       "      <th>Anon Study Date</th>\n",
       "      <th>Anon Exam Description</th>\n",
       "      <th>Anon Sex</th>\n",
       "      <th>Anon Study UID</th>\n",
       "      <th>Anon Image Count</th>\n",
       "      <th>Modality</th>\n",
       "      <th>Symptomatic</th>\n",
       "      <th>Result</th>\n",
       "      <th>Specimen Source</th>\n",
       "    </tr>\n",
       "  </thead>\n",
       "  <tbody>\n",
       "    <tr>\n",
       "      <th>0</th>\n",
       "      <td>419639-000340</td>\n",
       "      <td>59.93</td>\n",
       "      <td>2005-01-18</td>\n",
       "      <td>CT CHEST HIGH RESOLUTION</td>\n",
       "      <td>F</td>\n",
       "      <td>1.2.826.0.1.3680043.10.474.419639.209133109710...</td>\n",
       "      <td>216</td>\n",
       "      <td>CT</td>\n",
       "      <td>YES</td>\n",
       "      <td>NOT DETECTED</td>\n",
       "      <td>Nasopharyngeal Swab</td>\n",
       "    </tr>\n",
       "    <tr>\n",
       "      <th>1</th>\n",
       "      <td>419639-000350</td>\n",
       "      <td>77.46</td>\n",
       "      <td>2006-02-09</td>\n",
       "      <td>CT CHEST WITHOUT CONTRAST</td>\n",
       "      <td>F</td>\n",
       "      <td>1.2.826.0.1.3680043.10.474.419639.856628220559...</td>\n",
       "      <td>225</td>\n",
       "      <td>CT</td>\n",
       "      <td>YES</td>\n",
       "      <td>NOT DETECTED</td>\n",
       "      <td>Nasopharyngeal Swab</td>\n",
       "    </tr>\n",
       "    <tr>\n",
       "      <th>2</th>\n",
       "      <td>419639-000425</td>\n",
       "      <td>78.10</td>\n",
       "      <td>2002-05-28</td>\n",
       "      <td>CT CHEST WITHOUT CONTRAST</td>\n",
       "      <td>M</td>\n",
       "      <td>1.2.826.0.1.3680043.10.474.419639.167137291084...</td>\n",
       "      <td>251</td>\n",
       "      <td>CT</td>\n",
       "      <td>YES</td>\n",
       "      <td>NOT DETECTED</td>\n",
       "      <td>Nasopharyngeal Swab</td>\n",
       "    </tr>\n",
       "    <tr>\n",
       "      <th>3</th>\n",
       "      <td>419639-000474</td>\n",
       "      <td>67.47</td>\n",
       "      <td>2009-03-30</td>\n",
       "      <td>CT CHEST PULMONARY EMBOLISM (CTPE)</td>\n",
       "      <td>M</td>\n",
       "      <td>1.2.826.0.1.3680043.10.474.419639.142013724682...</td>\n",
       "      <td>241</td>\n",
       "      <td>CT</td>\n",
       "      <td>YES</td>\n",
       "      <td>NOT DETECTED</td>\n",
       "      <td>Pooled NP/OP Swab</td>\n",
       "    </tr>\n",
       "    <tr>\n",
       "      <th>4</th>\n",
       "      <td>419639-000485</td>\n",
       "      <td>35.53</td>\n",
       "      <td>2002-10-19</td>\n",
       "      <td>CT CHEST WITH CONTRAST</td>\n",
       "      <td>M</td>\n",
       "      <td>1.2.826.0.1.3680043.10.474.419639.112773344213...</td>\n",
       "      <td>205</td>\n",
       "      <td>CT</td>\n",
       "      <td>YES</td>\n",
       "      <td>NOT DETECTED</td>\n",
       "      <td>Nasopharyngeal Swab</td>\n",
       "    </tr>\n",
       "  </tbody>\n",
       "</table>\n",
       "</div>"
      ],
      "text/plain": [
       "        Anon MRN  Anon Age Anon Study Date  \\\n",
       "0  419639-000340     59.93      2005-01-18   \n",
       "1  419639-000350     77.46      2006-02-09   \n",
       "2  419639-000425     78.10      2002-05-28   \n",
       "3  419639-000474     67.47      2009-03-30   \n",
       "4  419639-000485     35.53      2002-10-19   \n",
       "\n",
       "                Anon Exam Description Anon Sex  \\\n",
       "0            CT CHEST HIGH RESOLUTION        F   \n",
       "1           CT CHEST WITHOUT CONTRAST        F   \n",
       "2           CT CHEST WITHOUT CONTRAST        M   \n",
       "3  CT CHEST PULMONARY EMBOLISM (CTPE)        M   \n",
       "4              CT CHEST WITH CONTRAST        M   \n",
       "\n",
       "                                      Anon Study UID  Anon Image Count  \\\n",
       "0  1.2.826.0.1.3680043.10.474.419639.209133109710...               216   \n",
       "1  1.2.826.0.1.3680043.10.474.419639.856628220559...               225   \n",
       "2  1.2.826.0.1.3680043.10.474.419639.167137291084...               251   \n",
       "3  1.2.826.0.1.3680043.10.474.419639.142013724682...               241   \n",
       "4  1.2.826.0.1.3680043.10.474.419639.112773344213...               205   \n",
       "\n",
       "  Modality Symptomatic        Result      Specimen Source  \n",
       "0       CT         YES  NOT DETECTED  Nasopharyngeal Swab  \n",
       "1       CT         YES  NOT DETECTED  Nasopharyngeal Swab  \n",
       "2       CT         YES  NOT DETECTED  Nasopharyngeal Swab  \n",
       "3       CT         YES  NOT DETECTED    Pooled NP/OP Swab  \n",
       "4       CT         YES  NOT DETECTED  Nasopharyngeal Swab  "
      ]
     },
     "execution_count": 3,
     "metadata": {},
     "output_type": "execute_result"
    }
   ],
   "source": [
    "negative.head()"
   ]
  },
  {
   "cell_type": "code",
   "execution_count": 4,
   "metadata": {},
   "outputs": [
    {
     "data": {
      "text/html": [
       "<div>\n",
       "<style scoped>\n",
       "    .dataframe tbody tr th:only-of-type {\n",
       "        vertical-align: middle;\n",
       "    }\n",
       "\n",
       "    .dataframe tbody tr th {\n",
       "        vertical-align: top;\n",
       "    }\n",
       "\n",
       "    .dataframe thead th {\n",
       "        text-align: right;\n",
       "    }\n",
       "</style>\n",
       "<table border=\"1\" class=\"dataframe\">\n",
       "  <thead>\n",
       "    <tr style=\"text-align: right;\">\n",
       "      <th></th>\n",
       "      <th>Anon MRN</th>\n",
       "      <th>Anon Age</th>\n",
       "      <th>AnonTCIA Study Date</th>\n",
       "      <th>Anon Exam Description</th>\n",
       "      <th>Anon Sex</th>\n",
       "      <th>Anon Study UID</th>\n",
       "      <th>Anon Image Count</th>\n",
       "      <th>Modality</th>\n",
       "      <th>Result</th>\n",
       "      <th>Specimen Source</th>\n",
       "    </tr>\n",
       "  </thead>\n",
       "  <tbody>\n",
       "    <tr>\n",
       "      <th>0</th>\n",
       "      <td>419639-000082</td>\n",
       "      <td>84.84</td>\n",
       "      <td>2002-08-02</td>\n",
       "      <td>CT CHEST WITHOUT CONTRAST</td>\n",
       "      <td>F</td>\n",
       "      <td>1.2.826.0.1.3680043.10.474.419639.312580455409...</td>\n",
       "      <td>1226</td>\n",
       "      <td>CT</td>\n",
       "      <td>DETECTED</td>\n",
       "      <td>Pooled NP/OP Swab</td>\n",
       "    </tr>\n",
       "    <tr>\n",
       "      <th>1</th>\n",
       "      <td>419639-000361</td>\n",
       "      <td>50.61</td>\n",
       "      <td>2002-10-21</td>\n",
       "      <td>CT CHEST WITHOUT CONTRAST</td>\n",
       "      <td>F</td>\n",
       "      <td>1.2.826.0.1.3680043.10.474.419639.426473907903...</td>\n",
       "      <td>1139</td>\n",
       "      <td>CT</td>\n",
       "      <td>DETECTED</td>\n",
       "      <td>Nasopharyngeal Swab</td>\n",
       "    </tr>\n",
       "    <tr>\n",
       "      <th>2</th>\n",
       "      <td>419639-000421</td>\n",
       "      <td>63.41</td>\n",
       "      <td>2006-12-05</td>\n",
       "      <td>CT CHEST WITHOUT CONTRAST</td>\n",
       "      <td>M</td>\n",
       "      <td>1.2.826.0.1.3680043.10.474.419639.308001698749...</td>\n",
       "      <td>965</td>\n",
       "      <td>CT</td>\n",
       "      <td>DETECTED</td>\n",
       "      <td>Nasopharyngeal Swab</td>\n",
       "    </tr>\n",
       "    <tr>\n",
       "      <th>3</th>\n",
       "      <td>419639-000582</td>\n",
       "      <td>63.93</td>\n",
       "      <td>2002-12-06</td>\n",
       "      <td>CT CHEST WITH CONTRAST</td>\n",
       "      <td>M</td>\n",
       "      <td>1.2.826.0.1.3680043.10.474.419639.317104088349...</td>\n",
       "      <td>1141</td>\n",
       "      <td>CT</td>\n",
       "      <td>DETECTED</td>\n",
       "      <td>Pooled NP/OP Swab</td>\n",
       "    </tr>\n",
       "    <tr>\n",
       "      <th>4</th>\n",
       "      <td>419639-000800</td>\n",
       "      <td>48.25</td>\n",
       "      <td>2005-05-11</td>\n",
       "      <td>CT CHEST WITHOUT CONTRAST</td>\n",
       "      <td>F</td>\n",
       "      <td>1.2.826.0.1.3680043.10.474.419639.119157449661...</td>\n",
       "      <td>1079</td>\n",
       "      <td>CT</td>\n",
       "      <td>DETECTED</td>\n",
       "      <td>NaN</td>\n",
       "    </tr>\n",
       "  </tbody>\n",
       "</table>\n",
       "</div>"
      ],
      "text/plain": [
       "        Anon MRN  Anon Age AnonTCIA Study Date      Anon Exam Description  \\\n",
       "0  419639-000082     84.84          2002-08-02  CT CHEST WITHOUT CONTRAST   \n",
       "1  419639-000361     50.61          2002-10-21  CT CHEST WITHOUT CONTRAST   \n",
       "2  419639-000421     63.41          2006-12-05  CT CHEST WITHOUT CONTRAST   \n",
       "3  419639-000582     63.93          2002-12-06     CT CHEST WITH CONTRAST   \n",
       "4  419639-000800     48.25          2005-05-11  CT CHEST WITHOUT CONTRAST   \n",
       "\n",
       "  Anon Sex                                     Anon Study UID  \\\n",
       "0        F  1.2.826.0.1.3680043.10.474.419639.312580455409...   \n",
       "1        F  1.2.826.0.1.3680043.10.474.419639.426473907903...   \n",
       "2        M  1.2.826.0.1.3680043.10.474.419639.308001698749...   \n",
       "3        M  1.2.826.0.1.3680043.10.474.419639.317104088349...   \n",
       "4        F  1.2.826.0.1.3680043.10.474.419639.119157449661...   \n",
       "\n",
       "   Anon Image Count Modality    Result      Specimen Source  \n",
       "0              1226       CT  DETECTED    Pooled NP/OP Swab  \n",
       "1              1139       CT  DETECTED  Nasopharyngeal Swab  \n",
       "2               965       CT  DETECTED  Nasopharyngeal Swab  \n",
       "3              1141       CT  DETECTED    Pooled NP/OP Swab  \n",
       "4              1079       CT  DETECTED                  NaN  "
      ]
     },
     "execution_count": 4,
     "metadata": {},
     "output_type": "execute_result"
    }
   ],
   "source": [
    "positive.head()"
   ]
  },
  {
   "cell_type": "markdown",
   "metadata": {},
   "source": [
    "Obie ramki mają podobną strukturę. Różnią się pojedynczymi kolumnami oraz ich nazwami. Kolumnami, które zawierają ważne informacje to: `Anon Age`, `Anon Sex`, `Anon Image Count`. "
   ]
  },
  {
   "cell_type": "code",
   "execution_count": 5,
   "metadata": {},
   "outputs": [
    {
     "name": "stdout",
     "output_type": "stream",
     "text": [
      "<class 'pandas.core.frame.DataFrame'>\n",
      "RangeIndex: 120 entries, 0 to 119\n",
      "Data columns (total 11 columns):\n",
      " #   Column                 Non-Null Count  Dtype         \n",
      "---  ------                 --------------  -----         \n",
      " 0   Anon MRN               120 non-null    object        \n",
      " 1   Anon Age               120 non-null    float64       \n",
      " 2   Anon Study Date        120 non-null    datetime64[ns]\n",
      " 3   Anon Exam Description  120 non-null    object        \n",
      " 4   Anon Sex               120 non-null    object        \n",
      " 5   Anon Study UID         120 non-null    object        \n",
      " 6   Anon Image Count       120 non-null    int64         \n",
      " 7   Modality               120 non-null    object        \n",
      " 8   Symptomatic            30 non-null     object        \n",
      " 9   Result                 120 non-null    object        \n",
      " 10  Specimen Source        30 non-null     object        \n",
      "dtypes: datetime64[ns](1), float64(1), int64(1), object(8)\n",
      "memory usage: 10.4+ KB\n"
     ]
    }
   ],
   "source": [
    "negative.info()"
   ]
  },
  {
   "cell_type": "markdown",
   "metadata": {},
   "source": [
    "W obu ramkach otrzymujemy dostęp do danych 120 pacjentów (120 z wynikiem negatywnym i 120 z wynikiem pozytywnym). Nie jest to duża liczba, lecz do stworzenia modelu 3d potrzeba dla każdej osoby nawet kilkuset zdjęć."
   ]
  },
  {
   "cell_type": "code",
   "execution_count": 6,
   "metadata": {},
   "outputs": [
    {
     "data": {
      "text/html": [
       "<div>\n",
       "<style scoped>\n",
       "    .dataframe tbody tr th:only-of-type {\n",
       "        vertical-align: middle;\n",
       "    }\n",
       "\n",
       "    .dataframe tbody tr th {\n",
       "        vertical-align: top;\n",
       "    }\n",
       "\n",
       "    .dataframe thead th {\n",
       "        text-align: right;\n",
       "    }\n",
       "</style>\n",
       "<table border=\"1\" class=\"dataframe\">\n",
       "  <thead>\n",
       "    <tr style=\"text-align: right;\">\n",
       "      <th></th>\n",
       "      <th>Anon Age</th>\n",
       "      <th>Anon Image Count</th>\n",
       "    </tr>\n",
       "  </thead>\n",
       "  <tbody>\n",
       "    <tr>\n",
       "      <th>count</th>\n",
       "      <td>120.000000</td>\n",
       "      <td>120.000000</td>\n",
       "    </tr>\n",
       "    <tr>\n",
       "      <th>mean</th>\n",
       "      <td>57.441417</td>\n",
       "      <td>265.466667</td>\n",
       "    </tr>\n",
       "    <tr>\n",
       "      <th>std</th>\n",
       "      <td>15.562424</td>\n",
       "      <td>322.885414</td>\n",
       "    </tr>\n",
       "    <tr>\n",
       "      <th>min</th>\n",
       "      <td>17.000000</td>\n",
       "      <td>80.000000</td>\n",
       "    </tr>\n",
       "    <tr>\n",
       "      <th>25%</th>\n",
       "      <td>46.750000</td>\n",
       "      <td>108.000000</td>\n",
       "    </tr>\n",
       "    <tr>\n",
       "      <th>50%</th>\n",
       "      <td>58.000000</td>\n",
       "      <td>125.000000</td>\n",
       "    </tr>\n",
       "    <tr>\n",
       "      <th>75%</th>\n",
       "      <td>68.000000</td>\n",
       "      <td>219.750000</td>\n",
       "    </tr>\n",
       "    <tr>\n",
       "      <th>max</th>\n",
       "      <td>90.000000</td>\n",
       "      <td>1255.000000</td>\n",
       "    </tr>\n",
       "  </tbody>\n",
       "</table>\n",
       "</div>"
      ],
      "text/plain": [
       "         Anon Age  Anon Image Count\n",
       "count  120.000000        120.000000\n",
       "mean    57.441417        265.466667\n",
       "std     15.562424        322.885414\n",
       "min     17.000000         80.000000\n",
       "25%     46.750000        108.000000\n",
       "50%     58.000000        125.000000\n",
       "75%     68.000000        219.750000\n",
       "max     90.000000       1255.000000"
      ]
     },
     "execution_count": 6,
     "metadata": {},
     "output_type": "execute_result"
    }
   ],
   "source": [
    "positive.describe()"
   ]
  },
  {
   "cell_type": "markdown",
   "metadata": {},
   "source": [
    "Badanie zostało przeprowadzone na osobach od 17 do 90 lat.\n",
    "Średnia eyniosła 57,4 lat, a więc badane były głównie osoby starsze. Nie dziwi nas to, ponieważ większość zachorowań na Covid to starsi ludzie. <br>\n",
    "Widzimy również, że średnio zostało zrobionych 265 zdjęć jednej osobie. Jednak dla 75% wszystkich badanych wystarczyło 220 zdjęć. Zastanawia maksymalna liczba 1255 wykonanych zdjęć.  "
   ]
  },
  {
   "cell_type": "code",
   "execution_count": 7,
   "metadata": {},
   "outputs": [
    {
     "data": {
      "text/html": [
       "<div>\n",
       "<style scoped>\n",
       "    .dataframe tbody tr th:only-of-type {\n",
       "        vertical-align: middle;\n",
       "    }\n",
       "\n",
       "    .dataframe tbody tr th {\n",
       "        vertical-align: top;\n",
       "    }\n",
       "\n",
       "    .dataframe thead th {\n",
       "        text-align: right;\n",
       "    }\n",
       "</style>\n",
       "<table border=\"1\" class=\"dataframe\">\n",
       "  <thead>\n",
       "    <tr style=\"text-align: right;\">\n",
       "      <th></th>\n",
       "      <th>Anon Age</th>\n",
       "      <th>Anon Image Count</th>\n",
       "    </tr>\n",
       "  </thead>\n",
       "  <tbody>\n",
       "    <tr>\n",
       "      <th>count</th>\n",
       "      <td>120.000000</td>\n",
       "      <td>120.000000</td>\n",
       "    </tr>\n",
       "    <tr>\n",
       "      <th>mean</th>\n",
       "      <td>51.207750</td>\n",
       "      <td>176.833333</td>\n",
       "    </tr>\n",
       "    <tr>\n",
       "      <th>std</th>\n",
       "      <td>18.413987</td>\n",
       "      <td>79.085884</td>\n",
       "    </tr>\n",
       "    <tr>\n",
       "      <th>min</th>\n",
       "      <td>20.000000</td>\n",
       "      <td>27.000000</td>\n",
       "    </tr>\n",
       "    <tr>\n",
       "      <th>25%</th>\n",
       "      <td>35.000000</td>\n",
       "      <td>106.000000</td>\n",
       "    </tr>\n",
       "    <tr>\n",
       "      <th>50%</th>\n",
       "      <td>55.000000</td>\n",
       "      <td>199.000000</td>\n",
       "    </tr>\n",
       "    <tr>\n",
       "      <th>75%</th>\n",
       "      <td>65.000000</td>\n",
       "      <td>241.000000</td>\n",
       "    </tr>\n",
       "    <tr>\n",
       "      <th>max</th>\n",
       "      <td>90.000000</td>\n",
       "      <td>564.000000</td>\n",
       "    </tr>\n",
       "  </tbody>\n",
       "</table>\n",
       "</div>"
      ],
      "text/plain": [
       "         Anon Age  Anon Image Count\n",
       "count  120.000000        120.000000\n",
       "mean    51.207750        176.833333\n",
       "std     18.413987         79.085884\n",
       "min     20.000000         27.000000\n",
       "25%     35.000000        106.000000\n",
       "50%     55.000000        199.000000\n",
       "75%     65.000000        241.000000\n",
       "max     90.000000        564.000000"
      ]
     },
     "execution_count": 7,
     "metadata": {},
     "output_type": "execute_result"
    }
   ],
   "source": [
    "negative.describe()"
   ]
  },
  {
   "cell_type": "markdown",
   "metadata": {},
   "source": [
    "Wiek badanych od 20 do 90 lat. Tym razem niższa średnia 51 lat, ale nadal jest to grupa głównie starszych ludzi. Jeżeli porównamy sobie wyniki z ramki `positive` i `negative`, obserwujemy duże podobieństwa. Jedną poważną różnicę widzimy w wynikach dotyczącyh pierwszego kwartyla wieku. Być może trzeba to dokładniej sprawdzić, ponieważ z kolejnych kwartyli dostajemy zbliżone wyniki."
   ]
  },
  {
   "cell_type": "code",
   "execution_count": 8,
   "metadata": {},
   "outputs": [
    {
     "data": {
      "text/plain": [
       "M    76\n",
       "F    44\n",
       "Name: Anon Sex, dtype: int64"
      ]
     },
     "execution_count": 8,
     "metadata": {},
     "output_type": "execute_result"
    }
   ],
   "source": [
    "positive[\"Anon Sex\"].value_counts()"
   ]
  },
  {
   "cell_type": "code",
   "execution_count": 9,
   "metadata": {},
   "outputs": [
    {
     "data": {
      "text/plain": [
       "F    63\n",
       "M    57\n",
       "Name: Anon Sex, dtype: int64"
      ]
     },
     "execution_count": 9,
     "metadata": {},
     "output_type": "execute_result"
    }
   ],
   "source": [
    "negative[\"Anon Sex\"].value_counts()"
   ]
  },
  {
   "cell_type": "markdown",
   "metadata": {},
   "source": [
    "Kolejną sprawdzoną przeze mnie kolumną był rozkład płci badanych. Wśród pozytywnych wyników mamy zdecydowaną przewagę mężczyzn. Jeżeli chodzi o negatywne wyniki otrzymaliśmy podobną liczbę kobiet i mężczyzn. Podatność na Covid nie jest zależna od płci, więc nawet duża przewaga mężczyzn wśród pozytywnych wyników o niczym nie świadczy i nie powinno mieć wpływu na przyszły model."
   ]
  },
  {
   "cell_type": "code",
   "execution_count": 10,
   "metadata": {},
   "outputs": [
    {
     "data": {
      "text/plain": [
       "<matplotlib.axes._subplots.AxesSubplot at 0x1e6b0e11850>"
      ]
     },
     "execution_count": 10,
     "metadata": {},
     "output_type": "execute_result"
    },
    {
     "data": {
      "image/png": "[encoded data removed]",
      "text/plain": [
       "<Figure size 432x288 with 1 Axes>"
      ]
     },
     "metadata": {
      "needs_background": "light"
     },
     "output_type": "display_data"
    }
   ],
   "source": [
    "positive[\"Anon Age\"].hist(bins=11 )"
   ]
  },
  {
   "cell_type": "code",
   "execution_count": 11,
   "metadata": {},
   "outputs": [
    {
     "data": {
      "text/plain": [
       "<matplotlib.axes._subplots.AxesSubplot at 0x1e6b1570520>"
      ]
     },
     "execution_count": 11,
     "metadata": {},
     "output_type": "execute_result"
    },
    {
     "data": {
      "image/png": "[encoded data removed]",
      "text/plain": [
       "<Figure size 432x288 with 1 Axes>"
      ]
     },
     "metadata": {
      "needs_background": "light"
     },
     "output_type": "display_data"
    }
   ],
   "source": [
    "negative[\"Anon Age\"].hist(bins=11 )"
   ]
  },
  {
   "cell_type": "code",
   "execution_count": 12,
   "metadata": {},
   "outputs": [
    {
     "data": {
      "text/plain": [
       "<matplotlib.axes._subplots.AxesSubplot at 0x1e6b15fa700>"
      ]
     },
     "execution_count": 12,
     "metadata": {},
     "output_type": "execute_result"
    },
    {
     "data": {
      "image/png": "[encoded data removed]",
      "text/plain": [
       "<Figure size 432x288 with 1 Axes>"
      ]
     },
     "metadata": {
      "needs_background": "light"
     },
     "output_type": "display_data"
    }
   ],
   "source": [
    "positive[\"Anon Age\"].where(positive[\"Anon Sex\"]==\"M\").hist(bins=11 )"
   ]
  },
  {
   "cell_type": "code",
   "execution_count": 13,
   "metadata": {},
   "outputs": [
    {
     "data": {
      "text/plain": [
       "<matplotlib.axes._subplots.AxesSubplot at 0x1e6b16b3400>"
      ]
     },
     "execution_count": 13,
     "metadata": {},
     "output_type": "execute_result"
    },
    {
     "data": {
      "image/png": "[encoded data removed]",
      "text/plain": [
       "<Figure size 432x288 with 1 Axes>"
      ]
     },
     "metadata": {
      "needs_background": "light"
     },
     "output_type": "display_data"
    }
   ],
   "source": [
    "positive[\"Anon Age\"].where(positive[\"Anon Sex\"]==\"F\").hist(bins=11 )"
   ]
  },
  {
   "cell_type": "markdown",
   "metadata": {},
   "source": [
    "Patrząc na kilka wygenerowanych histogramów podsumowujących częśc związaną z płcią i wiekiem, możemy potwierdzić wnioski i wątpliwości.<br>\n",
    "- Badanie głównie dla starszych osób<br>\n",
    "- Podejrzanie dużo młodych ludzi w ramce z negatywnymi wynikami\n",
    "- Różnica w rozkładach płci nieznaczna i niezbyt istotna"
   ]
  },
  {
   "cell_type": "markdown",
   "metadata": {},
   "source": [
    "## Symptomy\n",
    "W ramce z negatywnymi wynikami jest kolumna, informująca, czy osoba miała symptomy wirusa. 30 osób zostało oznaczonych jako posiadające podejrzenie Covida."
   ]
  },
  {
   "cell_type": "code",
   "execution_count": 14,
   "metadata": {},
   "outputs": [
    {
     "data": {
      "text/html": [
       "<div>\n",
       "<style scoped>\n",
       "    .dataframe tbody tr th:only-of-type {\n",
       "        vertical-align: middle;\n",
       "    }\n",
       "\n",
       "    .dataframe tbody tr th {\n",
       "        vertical-align: top;\n",
       "    }\n",
       "\n",
       "    .dataframe thead th {\n",
       "        text-align: right;\n",
       "    }\n",
       "</style>\n",
       "<table border=\"1\" class=\"dataframe\">\n",
       "  <thead>\n",
       "    <tr style=\"text-align: right;\">\n",
       "      <th></th>\n",
       "      <th>Anon Age</th>\n",
       "      <th>Anon Image Count</th>\n",
       "    </tr>\n",
       "  </thead>\n",
       "  <tbody>\n",
       "    <tr>\n",
       "      <th>count</th>\n",
       "      <td>30.000000</td>\n",
       "      <td>30.000000</td>\n",
       "    </tr>\n",
       "    <tr>\n",
       "      <th>mean</th>\n",
       "      <td>62.297667</td>\n",
       "      <td>261.233333</td>\n",
       "    </tr>\n",
       "    <tr>\n",
       "      <th>std</th>\n",
       "      <td>17.027336</td>\n",
       "      <td>61.992037</td>\n",
       "    </tr>\n",
       "    <tr>\n",
       "      <th>min</th>\n",
       "      <td>24.970000</td>\n",
       "      <td>204.000000</td>\n",
       "    </tr>\n",
       "    <tr>\n",
       "      <th>25%</th>\n",
       "      <td>56.237500</td>\n",
       "      <td>238.000000</td>\n",
       "    </tr>\n",
       "    <tr>\n",
       "      <th>50%</th>\n",
       "      <td>66.055000</td>\n",
       "      <td>252.500000</td>\n",
       "    </tr>\n",
       "    <tr>\n",
       "      <th>75%</th>\n",
       "      <td>77.042500</td>\n",
       "      <td>267.250000</td>\n",
       "    </tr>\n",
       "    <tr>\n",
       "      <th>max</th>\n",
       "      <td>90.000000</td>\n",
       "      <td>564.000000</td>\n",
       "    </tr>\n",
       "  </tbody>\n",
       "</table>\n",
       "</div>"
      ],
      "text/plain": [
       "        Anon Age  Anon Image Count\n",
       "count  30.000000         30.000000\n",
       "mean   62.297667        261.233333\n",
       "std    17.027336         61.992037\n",
       "min    24.970000        204.000000\n",
       "25%    56.237500        238.000000\n",
       "50%    66.055000        252.500000\n",
       "75%    77.042500        267.250000\n",
       "max    90.000000        564.000000"
      ]
     },
     "execution_count": 14,
     "metadata": {},
     "output_type": "execute_result"
    }
   ],
   "source": [
    "tmp=negative[negative[\"Symptomatic\"]==\"YES\"]\n",
    "tmp.describe()"
   ]
  },
  {
   "cell_type": "code",
   "execution_count": 15,
   "metadata": {},
   "outputs": [
    {
     "data": {
      "text/plain": [
       "(array([2., 2., 2., 1., 1., 6., 6., 2., 7., 1.]),\n",
       " array([24.97 , 31.473, 37.976, 44.479, 50.982, 57.485, 63.988, 70.491,\n",
       "        76.994, 83.497, 90.   ]),\n",
       " <a list of 10 Patch objects>)"
      ]
     },
     "execution_count": 15,
     "metadata": {},
     "output_type": "execute_result"
    },
    {
     "data": {
      "image/png": "[encoded data removed]",
      "text/plain": [
       "<Figure size 432x288 with 1 Axes>"
      ]
     },
     "metadata": {
      "needs_background": "light"
     },
     "output_type": "display_data"
    }
   ],
   "source": [
    "plt.hist(tmp[\"Anon Age\"])"
   ]
  },
  {
   "cell_type": "markdown",
   "metadata": {},
   "source": [
    "Zgodnie z podejrzeniami śrenia wieku wzrosła do 62 lat. Automatycznie wzrósł wynik dla pierwszego kwartyla wieku. Zwiększyła się również liczba wykonywanych zdjęć. Może być to później problemem, jeżeli model będzie się uczył, że im więcej zdjęć tym większe szanse na pozytywny wynik testu na wirusa."
   ]
  },
  {
   "cell_type": "markdown",
   "metadata": {},
   "source": [
    "## Dodatkowe wykresy i obserwacje"
   ]
  },
  {
   "cell_type": "code",
   "execution_count": 16,
   "metadata": {},
   "outputs": [
    {
     "data": {
      "text/plain": [
       "<matplotlib.collections.PathCollection at 0x1e6b17d46a0>"
      ]
     },
     "execution_count": 16,
     "metadata": {},
     "output_type": "execute_result"
    },
    {
     "data": {
      "image/png": "[encoded data removed]",
      "text/plain": [
       "<Figure size 432x288 with 1 Axes>"
      ]
     },
     "metadata": {
      "needs_background": "light"
     },
     "output_type": "display_data"
    }
   ],
   "source": [
    "plt.scatter(negative['Anon Age'],negative[\"Anon Image Count\"])"
   ]
  },
  {
   "cell_type": "markdown",
   "metadata": {},
   "source": [
    "Na wykresie widzimy, że pacjenci zostali podzieleni na dwie grupy. Różnica w liczbie wykonanych zdjęć między grupami to około 100. Widać, że nie tylko osoby oznaczone jako podejrzane miały zrobione więcej zdjęć. Znowu można podejrzewać, że taki rozkład będzie problemem w przyszłym procesie nauczania."
   ]
  },
  {
   "cell_type": "code",
   "execution_count": 17,
   "metadata": {},
   "outputs": [
    {
     "data": {
      "text/plain": [
       "<matplotlib.collections.PathCollection at 0x1e6b18373a0>"
      ]
     },
     "execution_count": 17,
     "metadata": {},
     "output_type": "execute_result"
    },
    {
     "data": {
      "image/png": "[encoded data removed]",
      "text/plain": [
       "<Figure size 432x288 with 1 Axes>"
      ]
     },
     "metadata": {
      "needs_background": "light"
     },
     "output_type": "display_data"
    }
   ],
   "source": [
    "plt.scatter(positive['Anon Age'],positive[\"Anon Image Count\"])"
   ]
  },
  {
   "cell_type": "markdown",
   "metadata": {},
   "source": [
    "Wśród osób z pozytywnym wynikiem testu obserwujemy 3 grupy. Pierwsze są takie same jak na poprzednim wykresie. 3 grupa to osoby, którym wykonano znacząco więcej zdjęć niż pozostałym. Jest to kolejna zastanawiająca obserwacja. Dlaczego niektórym wystarczyło zrobic 200 zdjęć a u innych to ponad 1000. "
   ]
  },
  {
   "cell_type": "code",
   "execution_count": 18,
   "metadata": {},
   "outputs": [
    {
     "data": {
      "text/plain": [
       "<matplotlib.collections.PathCollection at 0x1e6b1890580>"
      ]
     },
     "execution_count": 18,
     "metadata": {},
     "output_type": "execute_result"
    },
    {
     "data": {
      "image/png": "[encoded data removed]",
      "text/plain": [
       "<Figure size 432x288 with 1 Axes>"
      ]
     },
     "metadata": {
      "needs_background": "light"
     },
     "output_type": "display_data"
    }
   ],
   "source": [
    "plt.scatter(tmp['Anon Age'],tmp[\"Anon Image Count\"])"
   ]
  },
  {
   "cell_type": "markdown",
   "metadata": {},
   "source": [
    "U osób z symptomami nie widzimy dużego rozrzutu w liczbie wykonanych zdjęć."
   ]
  },
  {
   "cell_type": "markdown",
   "metadata": {},
   "source": [
    "## Annotacje"
   ]
  },
  {
   "cell_type": "code",
   "execution_count": 19,
   "metadata": {},
   "outputs": [],
   "source": [
    "annotations=pd.read_excel('annotacje.xlsx')"
   ]
  },
  {
   "cell_type": "code",
   "execution_count": 20,
   "metadata": {},
   "outputs": [
    {
     "data": {
      "text/html": [
       "<div>\n",
       "<style scoped>\n",
       "    .dataframe tbody tr th:only-of-type {\n",
       "        vertical-align: middle;\n",
       "    }\n",
       "\n",
       "    .dataframe tbody tr th {\n",
       "        vertical-align: top;\n",
       "    }\n",
       "\n",
       "    .dataframe thead th {\n",
       "        text-align: right;\n",
       "    }\n",
       "</style>\n",
       "<table border=\"1\" class=\"dataframe\">\n",
       "  <thead>\n",
       "    <tr style=\"text-align: right;\">\n",
       "      <th></th>\n",
       "      <th>Unnamed: 0</th>\n",
       "      <th>id</th>\n",
       "      <th>parentId</th>\n",
       "      <th>isImported</th>\n",
       "      <th>createdAt</th>\n",
       "      <th>createdById</th>\n",
       "      <th>updatedAt</th>\n",
       "      <th>updatedById</th>\n",
       "      <th>labelId</th>\n",
       "      <th>annotationNumber</th>\n",
       "      <th>...</th>\n",
       "      <th>groupName</th>\n",
       "      <th>annotationMode</th>\n",
       "      <th>color</th>\n",
       "      <th>description</th>\n",
       "      <th>labelName</th>\n",
       "      <th>radlexTagIdsLabel</th>\n",
       "      <th>scope</th>\n",
       "      <th>parentLabelId</th>\n",
       "      <th>datasetId</th>\n",
       "      <th>number</th>\n",
       "    </tr>\n",
       "  </thead>\n",
       "  <tbody>\n",
       "    <tr>\n",
       "      <th>0</th>\n",
       "      <td>0</td>\n",
       "      <td>A_bG1ryk</td>\n",
       "      <td>NaN</td>\n",
       "      <td>False</td>\n",
       "      <td>2020-07-10T20:13:56.883Z</td>\n",
       "      <td>U_2vzj7v</td>\n",
       "      <td>2020-07-10T20:14:02.176Z</td>\n",
       "      <td>U_2vzj7v</td>\n",
       "      <td>L_neeyDn</td>\n",
       "      <td>7.0</td>\n",
       "      <td>...</td>\n",
       "      <td>Purple Group 1</td>\n",
       "      <td>freeform</td>\n",
       "      <td>#e65100</td>\n",
       "      <td>NaN</td>\n",
       "      <td>Infectious opacity</td>\n",
       "      <td>[]</td>\n",
       "      <td>INSTANCE</td>\n",
       "      <td>NaN</td>\n",
       "      <td>D_q24k8z</td>\n",
       "      <td>94</td>\n",
       "    </tr>\n",
       "    <tr>\n",
       "      <th>1</th>\n",
       "      <td>1</td>\n",
       "      <td>A_qmVy5W</td>\n",
       "      <td>NaN</td>\n",
       "      <td>False</td>\n",
       "      <td>2020-07-10T20:16:32.402Z</td>\n",
       "      <td>U_2vzj7v</td>\n",
       "      <td>2020-07-10T20:16:35.274Z</td>\n",
       "      <td>U_2vzj7v</td>\n",
       "      <td>L_neeyDn</td>\n",
       "      <td>7.0</td>\n",
       "      <td>...</td>\n",
       "      <td>Purple Group 1</td>\n",
       "      <td>freeform</td>\n",
       "      <td>#e65100</td>\n",
       "      <td>NaN</td>\n",
       "      <td>Infectious opacity</td>\n",
       "      <td>[]</td>\n",
       "      <td>INSTANCE</td>\n",
       "      <td>NaN</td>\n",
       "      <td>D_q24k8z</td>\n",
       "      <td>94</td>\n",
       "    </tr>\n",
       "    <tr>\n",
       "      <th>2</th>\n",
       "      <td>2</td>\n",
       "      <td>A_Y6R9L9</td>\n",
       "      <td>NaN</td>\n",
       "      <td>False</td>\n",
       "      <td>2020-07-10T20:09:32.536Z</td>\n",
       "      <td>U_2vzj7v</td>\n",
       "      <td>2020-07-10T20:09:48.824Z</td>\n",
       "      <td>U_2vzj7v</td>\n",
       "      <td>L_neeyDn</td>\n",
       "      <td>1.0</td>\n",
       "      <td>...</td>\n",
       "      <td>Purple Group 1</td>\n",
       "      <td>freeform</td>\n",
       "      <td>#e65100</td>\n",
       "      <td>NaN</td>\n",
       "      <td>Infectious opacity</td>\n",
       "      <td>[]</td>\n",
       "      <td>INSTANCE</td>\n",
       "      <td>NaN</td>\n",
       "      <td>D_q24k8z</td>\n",
       "      <td>94</td>\n",
       "    </tr>\n",
       "    <tr>\n",
       "      <th>3</th>\n",
       "      <td>3</td>\n",
       "      <td>A_b4l90m</td>\n",
       "      <td>NaN</td>\n",
       "      <td>False</td>\n",
       "      <td>2020-07-10T20:20:02.306Z</td>\n",
       "      <td>U_2vzj7v</td>\n",
       "      <td>2020-07-10T20:20:07.813Z</td>\n",
       "      <td>U_2vzj7v</td>\n",
       "      <td>L_neeyDn</td>\n",
       "      <td>2.0</td>\n",
       "      <td>...</td>\n",
       "      <td>Purple Group 1</td>\n",
       "      <td>freeform</td>\n",
       "      <td>#e65100</td>\n",
       "      <td>NaN</td>\n",
       "      <td>Infectious opacity</td>\n",
       "      <td>[]</td>\n",
       "      <td>INSTANCE</td>\n",
       "      <td>NaN</td>\n",
       "      <td>D_q24k8z</td>\n",
       "      <td>94</td>\n",
       "    </tr>\n",
       "    <tr>\n",
       "      <th>4</th>\n",
       "      <td>4</td>\n",
       "      <td>A_qBMAXz</td>\n",
       "      <td>NaN</td>\n",
       "      <td>False</td>\n",
       "      <td>2020-07-10T20:11:13.199Z</td>\n",
       "      <td>U_2vzj7v</td>\n",
       "      <td>2020-07-10T20:11:20.088Z</td>\n",
       "      <td>U_2vzj7v</td>\n",
       "      <td>L_neeyDn</td>\n",
       "      <td>2.0</td>\n",
       "      <td>...</td>\n",
       "      <td>Purple Group 1</td>\n",
       "      <td>freeform</td>\n",
       "      <td>#e65100</td>\n",
       "      <td>NaN</td>\n",
       "      <td>Infectious opacity</td>\n",
       "      <td>[]</td>\n",
       "      <td>INSTANCE</td>\n",
       "      <td>NaN</td>\n",
       "      <td>D_q24k8z</td>\n",
       "      <td>94</td>\n",
       "    </tr>\n",
       "  </tbody>\n",
       "</table>\n",
       "<p>5 rows × 32 columns</p>\n",
       "</div>"
      ],
      "text/plain": [
       "   Unnamed: 0        id  parentId  isImported                 createdAt  \\\n",
       "0           0  A_bG1ryk       NaN       False  2020-07-10T20:13:56.883Z   \n",
       "1           1  A_qmVy5W       NaN       False  2020-07-10T20:16:32.402Z   \n",
       "2           2  A_Y6R9L9       NaN       False  2020-07-10T20:09:32.536Z   \n",
       "3           3  A_b4l90m       NaN       False  2020-07-10T20:20:02.306Z   \n",
       "4           4  A_qBMAXz       NaN       False  2020-07-10T20:11:13.199Z   \n",
       "\n",
       "  createdById                 updatedAt updatedById   labelId  \\\n",
       "0    U_2vzj7v  2020-07-10T20:14:02.176Z    U_2vzj7v  L_neeyDn   \n",
       "1    U_2vzj7v  2020-07-10T20:16:35.274Z    U_2vzj7v  L_neeyDn   \n",
       "2    U_2vzj7v  2020-07-10T20:09:48.824Z    U_2vzj7v  L_neeyDn   \n",
       "3    U_2vzj7v  2020-07-10T20:20:07.813Z    U_2vzj7v  L_neeyDn   \n",
       "4    U_2vzj7v  2020-07-10T20:11:20.088Z    U_2vzj7v  L_neeyDn   \n",
       "\n",
       "   annotationNumber  ...       groupName  annotationMode    color  \\\n",
       "0               7.0  ...  Purple Group 1        freeform  #e65100   \n",
       "1               7.0  ...  Purple Group 1        freeform  #e65100   \n",
       "2               1.0  ...  Purple Group 1        freeform  #e65100   \n",
       "3               2.0  ...  Purple Group 1        freeform  #e65100   \n",
       "4               2.0  ...  Purple Group 1        freeform  #e65100   \n",
       "\n",
       "   description           labelName  radlexTagIdsLabel     scope parentLabelId  \\\n",
       "0          NaN  Infectious opacity                 []  INSTANCE           NaN   \n",
       "1          NaN  Infectious opacity                 []  INSTANCE           NaN   \n",
       "2          NaN  Infectious opacity                 []  INSTANCE           NaN   \n",
       "3          NaN  Infectious opacity                 []  INSTANCE           NaN   \n",
       "4          NaN  Infectious opacity                 []  INSTANCE           NaN   \n",
       "\n",
       "  datasetId number  \n",
       "0  D_q24k8z     94  \n",
       "1  D_q24k8z     94  \n",
       "2  D_q24k8z     94  \n",
       "3  D_q24k8z     94  \n",
       "4  D_q24k8z     94  \n",
       "\n",
       "[5 rows x 32 columns]"
      ]
     },
     "execution_count": 20,
     "metadata": {},
     "output_type": "execute_result"
    }
   ],
   "source": [
    "annotations.head()"
   ]
  },
  {
   "cell_type": "code",
   "execution_count": 28,
   "metadata": {},
   "outputs": [
    {
     "data": {
      "text/plain": [
       "count    25605.0\n",
       "mean       512.0\n",
       "std          0.0\n",
       "min        512.0\n",
       "25%        512.0\n",
       "50%        512.0\n",
       "75%        512.0\n",
       "max        512.0\n",
       "Name: height, dtype: float64"
      ]
     },
     "execution_count": 28,
     "metadata": {},
     "output_type": "execute_result"
    }
   ],
   "source": [
    "annotations[\"height\"].describe()"
   ]
  },
  {
   "cell_type": "code",
   "execution_count": 29,
   "metadata": {},
   "outputs": [
    {
     "data": {
      "text/plain": [
       "count    25605.000000\n",
       "mean       512.215583\n",
       "std          2.216331\n",
       "min        512.000000\n",
       "25%        512.000000\n",
       "50%        512.000000\n",
       "75%        512.000000\n",
       "max        535.000000\n",
       "Name: width, dtype: float64"
      ]
     },
     "execution_count": 29,
     "metadata": {},
     "output_type": "execute_result"
    }
   ],
   "source": [
    "annotations[\"width\"].describe()"
   ]
  },
  {
   "cell_type": "markdown",
   "metadata": {},
   "source": [
    "W kolumnie data otrzymaliśmy miejsca, na które zostały nałożone annotacje. Dodatkowa informacja to `labelName`. Możemy odczytać jaki rodzaj schorzenia został zdiagnozowany. Kolumna `createdAt` informuje, że annotacje zostały naniesione w lipcu i sierpniu 2020 roku, czyli na początku pandemii. Wszystkie zdjęcia mają rozmiar 512x512."
   ]
  },
  {
   "cell_type": "markdown",
   "metadata": {},
   "source": [
    "## Maski"
   ]
  },
  {
   "cell_type": "markdown",
   "metadata": {},
   "source": [
    "Jako dodatek spróbowałem nałożyć maski na niektóre zdjęcia. "
   ]
  },
  {
   "cell_type": "code",
   "execution_count": 21,
   "metadata": {},
   "outputs": [
    {
     "data": {
      "text/html": [
       "        <script type=\"text/javascript\">\n",
       "        window.PlotlyConfig = {MathJaxConfig: 'local'};\n",
       "        if (window.MathJax) {MathJax.Hub.Config({SVG: {font: \"STIX-Web\"}});}\n",
       "        if (typeof require !== 'undefined') {\n",
       "        require.undef(\"plotly\");\n",
       "        requirejs.config({\n",
       "            paths: {\n",
       "                'plotly': ['https://cdn.plot.ly/plotly-2.9.0.min']\n",
       "            }\n",
       "        });\n",
       "        require(['plotly'], function(Plotly) {\n",
       "            window._Plotly = Plotly;\n",
       "        });\n",
       "        }\n",
       "        </script>\n",
       "        "
      ]
     },
     "metadata": {},
     "output_type": "display_data"
    }
   ],
   "source": [
    "%matplotlib inline\n",
    "\n",
    "import numpy as np\n",
    "\n",
    "import os\n",
    "import matplotlib.pyplot as plt\n",
    "from glob import glob\n",
    "from mpl_toolkits.mplot3d.art3d import Poly3DCollection\n",
    "import scipy.ndimage\n",
    "from skimage import morphology\n",
    "from skimage import measure\n",
    "from skimage.transform import resize\n",
    "from sklearn.cluster import KMeans\n",
    "from plotly import __version__\n",
    "from plotly.offline import download_plotlyjs, init_notebook_mode, plot, iplot\n",
    "from plotly.tools import FigureFactory as FF\n",
    "from plotly.graph_objs import *\n",
    "init_notebook_mode(connected=True) "
   ]
  },
  {
   "cell_type": "code",
   "execution_count": 22,
   "metadata": {},
   "outputs": [],
   "source": [
    "import pydicom\n",
    "import gdcm\n",
    "from  scipy import ndimage"
   ]
  },
  {
   "cell_type": "code",
   "execution_count": 23,
   "metadata": {},
   "outputs": [],
   "source": [
    "def transform_to_hu(medical_image, image):\n",
    "    intercept = medical_image.RescaleIntercept\n",
    "    slope = medical_image.RescaleSlope\n",
    "    hu_image = image * slope + intercept\n",
    "\n",
    "    return hu_image\n",
    "def window_image(image, window_center, window_width):\n",
    "    img_min = window_center - window_width // 2\n",
    "    img_max = window_center + window_width // 2\n",
    "    window_image = image.copy()\n",
    "    window_image[window_image < img_min] = img_min\n",
    "    window_image[window_image > img_max] = img_max\n",
    "    \n",
    "    return window_image"
   ]
  },
  {
   "cell_type": "code",
   "execution_count": 24,
   "metadata": {},
   "outputs": [],
   "source": [
    "def remove_noise(file_path, display=True):\n",
    "    medical_image = pydicom.read_file(file_path)\n",
    "    image = medical_image.pixel_array\n",
    "    \n",
    "    hu_image = transform_to_hu(medical_image, image)\n",
    "    brain_image = window_image(hu_image, 40, 80) #bone windowing\n",
    "    \n",
    "    segmentation = morphology.dilation(brain_image, np.ones((1, 1)))\n",
    "    labels, label_nb = ndimage.label(segmentation)\n",
    "    \n",
    "    label_count = np.bincount(labels.ravel().astype(np.int))\n",
    "    label_count[0] = 0\n",
    "\n",
    "    mask = labels == label_count.argmax()\n",
    " \n",
    "    mask = morphology.dilation(mask, np.ones((1, 1)))\n",
    "    mask = scipy.ndimage.morphology.binary_fill_holes(mask)\n",
    "    mask = morphology.dilation(mask, np.ones((3, 3)))\n",
    "    masked_image = mask * brain_image\n",
    "    return masked_image"
   ]
  },
  {
   "cell_type": "code",
   "execution_count": 25,
   "metadata": {},
   "outputs": [],
   "source": [
    "Path=\"D:/piotr/4 semestr/Warsztaty/negative/MIDRC-RICORD-1B/MIDRC-RICORD-1B-419639-000340/01-18-2005-NA-CT CHEST HIGH RESOLUTION-06379/2.000000-SUPINE CHEST RECON 12-09859/\""
   ]
  },
  {
   "cell_type": "code",
   "execution_count": 34,
   "metadata": {},
   "outputs": [
    {
     "data": {
      "text/plain": [
       "<matplotlib.image.AxesImage at 0x1e6bf83a4c0>"
      ]
     },
     "execution_count": 34,
     "metadata": {},
     "output_type": "execute_result"
    },
    {
     "data": {
      "image/png": "[encoded data removed]",
      "text/plain": [
       "<Figure size 432x288 with 1 Axes>"
      ]
     },
     "metadata": {
      "needs_background": "light"
     },
     "output_type": "display_data"
    }
   ],
   "source": [
    " plt.imshow(remove_noise(Path+(\"1-001.dcm\")))"
   ]
  },
  {
   "cell_type": "code",
   "execution_count": 30,
   "metadata": {},
   "outputs": [
    {
     "data": {
      "image/png": "[encoded data removed]",
      "text/plain": [
       "<Figure size 432x288 with 1 Axes>"
      ]
     },
     "metadata": {
      "needs_background": "light"
     },
     "output_type": "display_data"
    }
   ],
   "source": [
    "for i in range(1,10):\n",
    "    plt.imshow(remove_noise(Path+(\"1-00{}.dcm\").format(i)))\n",
    "    plt.savefig('D:/piotr/4 semestr/Warsztaty/maski/maska{}.png'.format(i))"
   ]
  },
  {
   "cell_type": "markdown",
   "metadata": {},
   "source": [
    "## Metadane ze zdjęć dicom"
   ]
  },
  {
   "cell_type": "markdown",
   "metadata": {},
   "source": [
    "Na koniec sprawdziłem, czy z samych zdjęć możemy otrzymać jakieś metadane."
   ]
  },
  {
   "cell_type": "code",
   "execution_count": 35,
   "metadata": {},
   "outputs": [
    {
     "data": {
      "text/plain": [
       "Dataset.file_meta -------------------------------\n",
       "(0002, 0000) File Meta Information Group Length  UL: 208\n",
       "(0002, 0001) File Meta Information Version       OB: b'\\x00\\x01'\n",
       "(0002, 0002) Media Storage SOP Class UID         UI: CT Image Storage\n",
       "(0002, 0003) Media Storage SOP Instance UID      UI: 1.2.826.0.1.3680043.10.474.419639.132329111742110432980320658421\n",
       "(0002, 0010) Transfer Syntax UID                 UI: JPEG Lossless, Non-Hierarchical, First-Order Prediction (Process 14 [Selection Value 1])\n",
       "(0002, 0012) Implementation Class UID            UI: 1.3.6.1.4.1.22213.1.143\n",
       "(0002, 0013) Implementation Version Name         SH: '0.5'\n",
       "(0002, 0016) Source Application Entity Title     AE: 'POSDA'\n",
       "-------------------------------------------------\n",
       "(0008, 0005) Specific Character Set              CS: 'ISO_IR 100'\n",
       "(0008, 0008) Image Type                          CS: ['ORIGINAL', 'PRIMARY', 'AXIAL']\n",
       "(0008, 0016) SOP Class UID                       UI: CT Image Storage\n",
       "(0008, 0018) SOP Instance UID                    UI: 1.2.826.0.1.3680043.10.474.419639.132329111742110432980320658421\n",
       "(0008, 0020) Study Date                          DA: '20050118'\n",
       "(0008, 0021) Series Date                         DA: '20050118'\n",
       "(0008, 0022) Acquisition Date                    DA: '20050118'\n",
       "(0008, 0023) Content Date                        DA: '20050118'\n",
       "(0008, 0030) Study Time                          TM: '133654.000000'\n",
       "(0008, 0031) Series Time                         TM: '133757'\n",
       "(0008, 0032) Acquisition Time                    TM: '133818.524608'\n",
       "(0008, 0033) Content Time                        TM: '133819'\n",
       "(0008, 0050) Accession Number                    SH: ''\n",
       "(0008, 0060) Modality                            CS: 'CT'\n",
       "(0008, 0070) Manufacturer                        LO: ''\n",
       "(0008, 0090) Referring Physician's Name          PN: ''\n",
       "(0008, 1030) Study Description                   LO: 'CT CHEST HIGH RESOLUTION'\n",
       "(0008, 103e) Series Description                  LO: 'SUPINE CHEST RECON 1&2'\n",
       "(0010, 0010) Patient's Name                      PN: 'MIDRC-RICORD-1B-419639-000340'\n",
       "(0010, 0020) Patient ID                          LO: 'MIDRC-RICORD-1B-419639-000340'\n",
       "(0010, 0030) Patient's Birth Date                DA: ''\n",
       "(0010, 0040) Patient's Sex                       CS: 'F'\n",
       "(0010, 1010) Patient's Age                       AS: '060Y'\n",
       "(0012, 0063) De-identification Method            LO: 'RSNA Covid-19 Dataset Default'\n",
       "(0012, 0064)  De-identification Method Code Sequence  4 item(s) ---- \n",
       "   (0008, 0100) Code Value                          SH: '113100'\n",
       "   (0008, 0102) Coding Scheme Designator            SH: 'DCM'\n",
       "   (0008, 0104) Code Meaning                        LO: 'Basic Application Confidentiality Profile'\n",
       "   ---------\n",
       "   (0008, 0100) Code Value                          SH: '113107'\n",
       "   (0008, 0102) Coding Scheme Designator            SH: 'DCM'\n",
       "   (0008, 0104) Code Meaning                        LO: 'Retain Longitudinal Temporal Information Modified Dates Option'\n",
       "   ---------\n",
       "   (0008, 0100) Code Value                          SH: '113108'\n",
       "   (0008, 0102) Coding Scheme Designator            SH: 'DCM'\n",
       "   (0008, 0104) Code Meaning                        LO: 'Retain Patient Characteristics Option'\n",
       "   ---------\n",
       "   (0008, 0100) Code Value                          SH: '113109'\n",
       "   (0008, 0102) Coding Scheme Designator            SH: 'DCM'\n",
       "   (0008, 0104) Code Meaning                        LO: 'Retain Device Identity Option'\n",
       "   ---------\n",
       "(0013, 0010) Private Creator                     LO: 'CTP'\n",
       "(0013, 1010) Private tag data                    LO: 'MIDRC-RICORD-1B'\n",
       "(0013, 1013) Private tag data                    LO: '49171303'\n",
       "(0018, 0022) Scan Options                        CS: 'HELICAL MODE'\n",
       "(0018, 0050) Slice Thickness                     DS: '1.25'\n",
       "(0018, 0060) KVP                                 DS: '120.0'\n",
       "(0018, 0088) Spacing Between Slices              DS: '1.25'\n",
       "(0018, 0090) Data Collection Diameter            DS: '500.0'\n",
       "(0018, 1020) Software Versions                   LO: 'vct_zeta.4'\n",
       "(0018, 1100) Reconstruction Diameter             DS: '302.0'\n",
       "(0018, 1110) Distance Source to Detector         DS: '949.147'\n",
       "(0018, 1111) Distance Source to Patient          DS: '541.0'\n",
       "(0018, 1120) Gantry/Detector Tilt                DS: '0.0'\n",
       "(0018, 1130) Table Height                        DS: '156.0'\n",
       "(0018, 1140) Rotation Direction                  CS: 'CW'\n",
       "(0018, 1150) Exposure Time                       IS: '400'\n",
       "(0018, 1151) X-Ray Tube Current                  IS: '107'\n",
       "(0018, 1152) Exposure                            IS: '1'\n",
       "(0018, 1160) Filter Type                         SH: 'BODY FILTER'\n",
       "(0018, 1170) Generator Power                     IS: '72000'\n",
       "(0018, 1190) Focal Spot(s)                       DS: '1.2'\n",
       "(0018, 1210) Convolution Kernel                  SH: 'STANDARD'\n",
       "(0018, 5100) Patient Position                    CS: 'FFS'\n",
       "(0018, 9305) Revolution Time                     FD: 0.4\n",
       "(0018, 9306) Single Collimation Width            FD: 0.625\n",
       "(0018, 9307) Total Collimation Width             FD: 40.0\n",
       "(0018, 9309) Table Speed                         FD: 98.4375\n",
       "(0018, 9310) Table Feed per Rotation             FD: 39.375\n",
       "(0018, 9311) Spiral Pitch Factor                 FD: 0.984375\n",
       "(0020, 000d) Study Instance UID                  UI: 1.2.826.0.1.3680043.10.474.419639.209133109710994717376902506379\n",
       "(0020, 000e) Series Instance UID                 UI: 1.2.826.0.1.3680043.10.474.419639.229158095893933518233687709859\n",
       "(0020, 0010) Study ID                            SH: ''\n",
       "(0020, 0011) Series Number                       IS: '2'\n",
       "(0020, 0012) Acquisition Number                  IS: '1'\n",
       "(0020, 0013) Instance Number                     IS: '2'\n",
       "(0020, 0032) Image Position (Patient)            DS: [-162.500, -131.000, 0.250]\n",
       "(0020, 0037) Image Orientation (Patient)         DS: [1.000000, 0.000000, 0.000000, 0.000000, 1.000000, 0.000000]\n",
       "(0020, 0052) Frame of Reference UID              UI: 1.2.826.0.1.3680043.10.474.419639.909910591890081083731416530907\n",
       "(0020, 1040) Position Reference Indicator        LO: 'SN'\n",
       "(0020, 1041) Slice Location                      DS: '0.25'\n",
       "(0028, 0002) Samples per Pixel                   US: 1\n",
       "(0028, 0004) Photometric Interpretation          CS: 'MONOCHROME2'\n",
       "(0028, 0010) Rows                                US: 512\n",
       "(0028, 0011) Columns                             US: 512\n",
       "(0028, 0030) Pixel Spacing                       DS: [0.589844, 0.589844]\n",
       "(0028, 0100) Bits Allocated                      US: 16\n",
       "(0028, 0101) Bits Stored                         US: 16\n",
       "(0028, 0102) High Bit                            US: 15\n",
       "(0028, 0103) Pixel Representation                US: 1\n",
       "(0028, 0120) Pixel Padding Value                 SS: -2000\n",
       "(0028, 1050) Window Center                       DS: '40.0'\n",
       "(0028, 1051) Window Width                        DS: '400.0'\n",
       "(0028, 1052) Rescale Intercept                   DS: '-1024.0'\n",
       "(0028, 1053) Rescale Slope                       DS: '1.0'\n",
       "(0028, 1054) Rescale Type                        LO: 'HU'\n",
       "(7fe0, 0010) Pixel Data                          OB: Array of 197496 elements"
      ]
     },
     "execution_count": 35,
     "metadata": {},
     "output_type": "execute_result"
    }
   ],
   "source": [
    "ds = pydicom.filereader.dcmread(Path+\"/1-002.dcm\")\n",
    "ds"
   ]
  },
  {
   "cell_type": "markdown",
   "metadata": {},
   "source": [
    "Otrzymaliśmy dużo informacji, lecz wszystki interesujące (wiek, płeć) zostały zawarte w dołączonych ramkach danych. Pozostałe obserwacji są dla mnie niejasne."
   ]
  },
  {
   "cell_type": "markdown",
   "metadata": {},
   "source": [
    "## Druga baza danych"
   ]
  },
  {
   "cell_type": "markdown",
   "metadata": {},
   "source": [
    "W drugim zbiorze danych znajdują się zdjęcia pacjentów z zapaleniem płuc. Zbiór został podzielony na 3 części: treningową, testową i walidacyjnym. Może zastanawiać liczba zdjęć w części walidacyjnej, gdyż jest ich nieproporcjonalnie mało. W części treningowej i testowej mamy 2 podzbiory: zdjęcia z zapaleniem płuc i bez. Niestety do bazy nie dostała dołączona tabela z danymi pacjentów ani żadne dodatkowe informacje. Obrazy nie zawierają żdanych dodatkowych metadanych.Z tego powodu ciężko było mi wyciągnąć jakiekolwiek wnioski."
   ]
  }
 ],
 "metadata": {
  "kernelspec": {
   "display_name": "Python 3",
   "language": "python",
   "name": "python3"
  },
  "language_info": {
   "codemirror_mode": {
    "name": "ipython",
    "version": 3
   },
   "file_extension": ".py",
   "mimetype": "text/x-python",
   "name": "python",
   "nbconvert_exporter": "python",
   "pygments_lexer": "ipython3",
   "version": "3.8.3"
  }
 },
 "nbformat": 4,
 "nbformat_minor": 4
}
