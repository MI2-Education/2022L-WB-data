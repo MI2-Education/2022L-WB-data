{
 "cells": [
  {
   "cell_type": "markdown",
   "id": "increased-search",
   "metadata": {},
   "source": [
    "# SPIE-AAPM Lung CT Challenge"
   ]
  },
  {
   "cell_type": "markdown",
   "id": "assigned-setup",
   "metadata": {},
   "source": [
    "Zadaniem dla tego zbioru jest klasyfikacja zmian w płucach, na podstawie zdjęć z tomografu komputerowego."
   ]
  },
  {
   "cell_type": "markdown",
   "id": "cooperative-delta",
   "metadata": {},
   "source": [
    "Na początku wczytane zostaną pliki excel z informacjami na temat lokalizacji i rodzaju zaobserwowanych zmian w płucach.\n",
    "Są dwa pliki: pierwszy z nich (\"CalibrationSet\") jest z założenia zbiorem treningowym, drugi (\"TestSet\") jest zbiorem testowym."
   ]
  },
  {
   "cell_type": "markdown",
   "id": "urban-killer",
   "metadata": {},
   "source": [
    "### Dane dodatkowe tabelaryczne"
   ]
  },
  {
   "cell_type": "code",
   "execution_count": 32,
   "id": "productive-gasoline",
   "metadata": {},
   "outputs": [],
   "source": [
    "import pandas as pd\n",
    "import warnings\n",
    "\n",
    "warnings.filterwarnings(\"ignore\")\n",
    "train_set = pd.read_excel(\"CalibrationSet_NoduleData.xlsx\", nrows=10)\n",
    "test_set = pd.read_excel(\"TestSet_NoduleData_PublicRelease_wTruth.xlsx\", nrows=73)"
   ]
  },
  {
   "cell_type": "code",
   "execution_count": 34,
   "id": "wrong-quantity",
   "metadata": {},
   "outputs": [
    {
     "data": {
      "text/html": [
       "<div>\n",
       "<style scoped>\n",
       "    .dataframe tbody tr th:only-of-type {\n",
       "        vertical-align: middle;\n",
       "    }\n",
       "\n",
       "    .dataframe tbody tr th {\n",
       "        vertical-align: top;\n",
       "    }\n",
       "\n",
       "    .dataframe thead th {\n",
       "        text-align: right;\n",
       "    }\n",
       "</style>\n",
       "<table border=\"1\" class=\"dataframe\">\n",
       "  <thead>\n",
       "    <tr style=\"text-align: right;\">\n",
       "      <th></th>\n",
       "      <th>Scan Number</th>\n",
       "      <th>Nodule Center x,y Position*</th>\n",
       "      <th>Nodule Center Image</th>\n",
       "      <th>Diagnosis</th>\n",
       "    </tr>\n",
       "  </thead>\n",
       "  <tbody>\n",
       "    <tr>\n",
       "      <th>0</th>\n",
       "      <td>CT-Training-lc001</td>\n",
       "      <td>120, 325</td>\n",
       "      <td>135</td>\n",
       "      <td>malignant</td>\n",
       "    </tr>\n",
       "    <tr>\n",
       "      <th>1</th>\n",
       "      <td>CT-Training-lc002</td>\n",
       "      <td>139, 359</td>\n",
       "      <td>70</td>\n",
       "      <td>malignant</td>\n",
       "    </tr>\n",
       "    <tr>\n",
       "      <th>2</th>\n",
       "      <td>CT-Training-lc003</td>\n",
       "      <td>375, 323</td>\n",
       "      <td>70</td>\n",
       "      <td>malignant</td>\n",
       "    </tr>\n",
       "    <tr>\n",
       "      <th>3</th>\n",
       "      <td>CT-Training-lc008</td>\n",
       "      <td>95, 328</td>\n",
       "      <td>65</td>\n",
       "      <td>malignant</td>\n",
       "    </tr>\n",
       "    <tr>\n",
       "      <th>4</th>\n",
       "      <td>CT-Training-lc009</td>\n",
       "      <td>145, 299</td>\n",
       "      <td>63</td>\n",
       "      <td>malignant</td>\n",
       "    </tr>\n",
       "    <tr>\n",
       "      <th>5</th>\n",
       "      <td>CT-Training-be001</td>\n",
       "      <td>405, 296</td>\n",
       "      <td>169</td>\n",
       "      <td>benign</td>\n",
       "    </tr>\n",
       "    <tr>\n",
       "      <th>6</th>\n",
       "      <td>CT-Training-be002</td>\n",
       "      <td>184, 268</td>\n",
       "      <td>117</td>\n",
       "      <td>benign</td>\n",
       "    </tr>\n",
       "    <tr>\n",
       "      <th>7</th>\n",
       "      <td>CT-Training-be006</td>\n",
       "      <td>449, 266</td>\n",
       "      <td>241</td>\n",
       "      <td>benign</td>\n",
       "    </tr>\n",
       "    <tr>\n",
       "      <th>8</th>\n",
       "      <td>CT-Training-be007</td>\n",
       "      <td>385, 206</td>\n",
       "      <td>194</td>\n",
       "      <td>benign</td>\n",
       "    </tr>\n",
       "    <tr>\n",
       "      <th>9</th>\n",
       "      <td>CT-Training-be010</td>\n",
       "      <td>120, 336</td>\n",
       "      <td>69</td>\n",
       "      <td>benign</td>\n",
       "    </tr>\n",
       "  </tbody>\n",
       "</table>\n",
       "</div>"
      ],
      "text/plain": [
       "         Scan Number Nodule Center x,y Position*  Nodule Center Image  \\\n",
       "0  CT-Training-lc001                    120, 325                  135   \n",
       "1  CT-Training-lc002                    139, 359                   70   \n",
       "2  CT-Training-lc003                    375, 323                   70   \n",
       "3  CT-Training-lc008                     95, 328                   65   \n",
       "4  CT-Training-lc009                    145, 299                   63   \n",
       "5  CT-Training-be001                    405, 296                  169   \n",
       "6  CT-Training-be002                    184, 268                  117   \n",
       "7  CT-Training-be006                    449, 266                  241   \n",
       "8  CT-Training-be007                    385, 206                  194   \n",
       "9  CT-Training-be010                    120, 336                   69   \n",
       "\n",
       "   Diagnosis  \n",
       "0  malignant  \n",
       "1  malignant  \n",
       "2  malignant  \n",
       "3  malignant  \n",
       "4  malignant  \n",
       "5     benign  \n",
       "6     benign  \n",
       "7     benign  \n",
       "8     benign  \n",
       "9     benign  "
      ]
     },
     "execution_count": 34,
     "metadata": {},
     "output_type": "execute_result"
    }
   ],
   "source": [
    "train_set"
   ]
  },
  {
   "cell_type": "code",
   "execution_count": 35,
   "id": "physical-shower",
   "metadata": {
    "scrolled": false
   },
   "outputs": [
    {
     "data": {
      "text/html": [
       "<div>\n",
       "<style scoped>\n",
       "    .dataframe tbody tr th:only-of-type {\n",
       "        vertical-align: middle;\n",
       "    }\n",
       "\n",
       "    .dataframe tbody tr th {\n",
       "        vertical-align: top;\n",
       "    }\n",
       "\n",
       "    .dataframe thead th {\n",
       "        text-align: right;\n",
       "    }\n",
       "</style>\n",
       "<table border=\"1\" class=\"dataframe\">\n",
       "  <thead>\n",
       "    <tr style=\"text-align: right;\">\n",
       "      <th></th>\n",
       "      <th>Scan Number</th>\n",
       "      <th>Nodule Number</th>\n",
       "      <th>Nodule Center x,y Position*</th>\n",
       "      <th>Nodule Center Image</th>\n",
       "      <th>Final Diagnosis</th>\n",
       "    </tr>\n",
       "  </thead>\n",
       "  <tbody>\n",
       "    <tr>\n",
       "      <th>0</th>\n",
       "      <td>LUNGx-CT001</td>\n",
       "      <td>1</td>\n",
       "      <td>135, 303</td>\n",
       "      <td>142</td>\n",
       "      <td>Benign nodule</td>\n",
       "    </tr>\n",
       "    <tr>\n",
       "      <th>1</th>\n",
       "      <td>LUNGx-CT002</td>\n",
       "      <td>1</td>\n",
       "      <td>330, 348</td>\n",
       "      <td>205</td>\n",
       "      <td>Benign nodule</td>\n",
       "    </tr>\n",
       "    <tr>\n",
       "      <th>2</th>\n",
       "      <td>LUNGx-CT002</td>\n",
       "      <td>2</td>\n",
       "      <td>364, 212</td>\n",
       "      <td>150</td>\n",
       "      <td>Benign nodule</td>\n",
       "    </tr>\n",
       "    <tr>\n",
       "      <th>3</th>\n",
       "      <td>LUNGx-CT003</td>\n",
       "      <td>1</td>\n",
       "      <td>374, 374</td>\n",
       "      <td>146</td>\n",
       "      <td>Primary lung cancer</td>\n",
       "    </tr>\n",
       "    <tr>\n",
       "      <th>4</th>\n",
       "      <td>LUNGx-CT004</td>\n",
       "      <td>1</td>\n",
       "      <td>197, 290</td>\n",
       "      <td>41</td>\n",
       "      <td>Primary lung cancer</td>\n",
       "    </tr>\n",
       "    <tr>\n",
       "      <th>...</th>\n",
       "      <td>...</td>\n",
       "      <td>...</td>\n",
       "      <td>...</td>\n",
       "      <td>...</td>\n",
       "      <td>...</td>\n",
       "    </tr>\n",
       "    <tr>\n",
       "      <th>68</th>\n",
       "      <td>LUNGx-CT057</td>\n",
       "      <td>1</td>\n",
       "      <td>396, 353</td>\n",
       "      <td>169</td>\n",
       "      <td>Benign nodule</td>\n",
       "    </tr>\n",
       "    <tr>\n",
       "      <th>69</th>\n",
       "      <td>LUNGx-CT058</td>\n",
       "      <td>1</td>\n",
       "      <td>377, 234</td>\n",
       "      <td>157</td>\n",
       "      <td>Benign nodule</td>\n",
       "    </tr>\n",
       "    <tr>\n",
       "      <th>70</th>\n",
       "      <td>LUNGx-CT059</td>\n",
       "      <td>1</td>\n",
       "      <td>75, 288</td>\n",
       "      <td>235</td>\n",
       "      <td>Benign nodule</td>\n",
       "    </tr>\n",
       "    <tr>\n",
       "      <th>71</th>\n",
       "      <td>LUNGx-CT059</td>\n",
       "      <td>2</td>\n",
       "      <td>371, 207</td>\n",
       "      <td>258</td>\n",
       "      <td>Benign nodule</td>\n",
       "    </tr>\n",
       "    <tr>\n",
       "      <th>72</th>\n",
       "      <td>LUNGx-CT060</td>\n",
       "      <td>1</td>\n",
       "      <td>192, 298</td>\n",
       "      <td>133</td>\n",
       "      <td>Benign nodule</td>\n",
       "    </tr>\n",
       "  </tbody>\n",
       "</table>\n",
       "<p>73 rows × 5 columns</p>\n",
       "</div>"
      ],
      "text/plain": [
       "    Scan Number  Nodule Number Nodule Center x,y Position*  \\\n",
       "0   LUNGx-CT001              1                    135, 303   \n",
       "1   LUNGx-CT002              1                    330, 348   \n",
       "2   LUNGx-CT002              2                    364, 212   \n",
       "3   LUNGx-CT003              1                    374, 374   \n",
       "4   LUNGx-CT004              1                    197, 290   \n",
       "..          ...            ...                         ...   \n",
       "68  LUNGx-CT057              1                    396, 353   \n",
       "69  LUNGx-CT058              1                    377, 234   \n",
       "70  LUNGx-CT059              1                     75, 288   \n",
       "71  LUNGx-CT059              2                    371, 207   \n",
       "72  LUNGx-CT060              1                    192, 298   \n",
       "\n",
       "    Nodule Center Image      Final Diagnosis  \n",
       "0                   142        Benign nodule  \n",
       "1                   205        Benign nodule  \n",
       "2                   150        Benign nodule  \n",
       "3                   146  Primary lung cancer  \n",
       "4                    41  Primary lung cancer  \n",
       "..                  ...                  ...  \n",
       "68                  169        Benign nodule  \n",
       "69                  157        Benign nodule  \n",
       "70                  235        Benign nodule  \n",
       "71                  258        Benign nodule  \n",
       "72                  133        Benign nodule  \n",
       "\n",
       "[73 rows x 5 columns]"
      ]
     },
     "execution_count": 35,
     "metadata": {},
     "output_type": "execute_result"
    }
   ],
   "source": [
    "test_set"
   ]
  },
  {
   "cell_type": "markdown",
   "id": "champion-venezuela",
   "metadata": {},
   "source": [
    "Pierwsze co rzuca się w oczy to fakt, że tabelka train i test różnią się od siebie. W dalszej części pracy konieczne będzie ujednolicenie obu tabel.\n",
    "\n",
    "Oprócz tego mamy do czynienia z istotnie zaburzoną proporcją ilości danych testowych do danych treningowych, danych testowych jest ponad 7 razy więcej. Prawdopodobnie w przyszłości połącze te tabele i dokonam własnego podziału na zbiór testowy i treningowy.\n",
    "\n",
    "Kolumna mówiąca o pozycji zmiany również będzie wymagała szlifowania. Aktualnie współrzędne zmiany figurują jako string współrzędnych x i y oddzielonych przecinkiem. Jeśli zmienna ta ma być wykorzystana w przyszłości będzie wymagała podziału na dwie osobne zmienne w formacie int.\n"
   ]
  },
  {
   "cell_type": "code",
   "execution_count": 52,
   "id": "understood-release",
   "metadata": {
    "scrolled": true
   },
   "outputs": [
    {
     "data": {
      "text/plain": [
       "{'Benign nodule',\n",
       " 'Primary lung cancer',\n",
       " 'Primary lung cancer ',\n",
       " 'Suspicious malignant nodule'}"
      ]
     },
     "execution_count": 52,
     "metadata": {},
     "output_type": "execute_result"
    }
   ],
   "source": [
    "set(test_set[\"Final Diagnosis\"])"
   ]
  },
  {
   "cell_type": "markdown",
   "id": "incorrect-antibody",
   "metadata": {},
   "source": [
    "Jak widać, kolumna Final Diagnosis zawiera 4 różne stringi, podczas gdy spodziewaną liczbą klas było 2. Klasa \"Primary lung cancer\" prawdopodobnie w wyniku błędu reprezentowana jest przez dwa różne stringi różniące się jedynie spacją na końcu. Klasa \"Nodule\" została dodatkowo podzielona na benign (łagodny, niegroźny) i suspicious (podejrzany)."
   ]
  },
  {
   "cell_type": "code",
   "execution_count": 56,
   "id": "colonial-controversy",
   "metadata": {
    "scrolled": false
   },
   "outputs": [
    {
     "name": "stdout",
     "output_type": "stream",
     "text": [
      "Benign nodule count:\n",
      "37\n",
      "Primary lung cancer count:\n",
      "34\n",
      "Suspicious malignant nodule count:\n",
      "2\n"
     ]
    }
   ],
   "source": [
    "print(\"Benign nodule count:\")\n",
    "print(sum(test_set[\"Final Diagnosis\"] == \"Benign nodule\"))\n",
    "print(\"Primary lung cancer count:\") \n",
    "print(sum(test_set[\"Final Diagnosis\"] == \"Primary lung cancer\") + sum(test_set[\"Final Diagnosis\"] == \"Primary lung cancer \"))\n",
    "print(\"Suspicious malignant nodule count:\")\n",
    "print(sum(test_set[\"Final Diagnosis\"] == \"Suspicious malignant nodule\"))"
   ]
  },
  {
   "cell_type": "markdown",
   "id": "molecular-netherlands",
   "metadata": {},
   "source": [
    "Mamy więc do czynienia ze zbiorem zrównoważonym (zarówno w przypadku test jak i train), w którym mamy bardzo zbliżoną liczbę zmian poważnych jak i łagodnych."
   ]
  },
  {
   "cell_type": "markdown",
   "id": "administrative-cylinder",
   "metadata": {},
   "source": [
    "### Dane obrazkowe"
   ]
  },
  {
   "cell_type": "markdown",
   "id": "native-galaxy",
   "metadata": {},
   "source": [
    "Na potrzeby przykładu weźmy pod uwagę skan numer LUNGx-CT002. Skan ten zawiera dwie zmiany: na 205-tym zdjęciu i na 150-tym.\n",
    "Do podglądu plików w formacie DICOM użyta została aplikacja \"MicroDicom\"."
   ]
  },
  {
   "cell_type": "markdown",
   "id": "registered-diary",
   "metadata": {},
   "source": [
    "#### Zmiany łagodne"
   ]
  },
  {
   "attachments": {},
   "cell_type": "markdown",
   "id": "green-microwave",
   "metadata": {},
   "source": [
    "![](CT002-150.png)"
   ]
  },
  {
   "cell_type": "markdown",
   "id": "unlikely-mobility",
   "metadata": {},
   "source": [
    "Powyżej widać zdjęcie 150 ze scanu CT002. Czerwoną strzałką zaznaczyłem pozycję X = 364, Y = 212 zgodnie z danymi z tabeli testowej. Wyraźnie widać tam jakąś zmianę. Jako, że nie mam wiedzy medycznej, nie jestem w stanie stwierdzić czym zaznaczony punkt różni się od dwóch pozostałych na lewo od niego, dla mnie wyglądają one identycznie i obawiam się, że model też może mieć problemy z wykryciem tych zmian."
   ]
  },
  {
   "cell_type": "markdown",
   "id": "fifteen-connection",
   "metadata": {},
   "source": [
    "![](CT002-205.png)"
   ]
  },
  {
   "cell_type": "markdown",
   "id": "upset-garage",
   "metadata": {},
   "source": [
    "Druga zmiana u tego samego pacjęta wyróżnia się już zdecydowanie bardziej, jest dużo większa.\n",
    "Obie powyższe zmiany są przykładem zmian łągodnych."
   ]
  },
  {
   "cell_type": "markdown",
   "id": "suffering-short",
   "metadata": {},
   "source": [
    "#### Zmiany poważne"
   ]
  },
  {
   "cell_type": "markdown",
   "id": "documented-greene",
   "metadata": {},
   "source": [
    "![](CT003-146.png)"
   ]
  },
  {
   "cell_type": "markdown",
   "id": "bronze-brake",
   "metadata": {},
   "source": [
    "Zmiana zaklasyfikowana przez lekarzy jako \"Primary lung cancer\" jest widocznie bardziej nieregularna w kszatałcie i poszarpana."
   ]
  },
  {
   "cell_type": "markdown",
   "id": "innovative-unemployment",
   "metadata": {},
   "source": [
    "#### Artefakt"
   ]
  },
  {
   "cell_type": "markdown",
   "id": "considerable-alias",
   "metadata": {},
   "source": [
    "![](artefakt.png)"
   ]
  },
  {
   "cell_type": "markdown",
   "id": "labeled-player",
   "metadata": {},
   "source": [
    "Podczas przeglądania zbioru danych natknąłem się na nietypowy tomograf. Na lewej piersi pacjenta widzimy bardzo jasny (aż zakłucający resztę obrazu), nienaturalny obiekt. Nie jestem pewny co to jest, podejrzewam, że może to być rozrusznik serca (umiejscowaienie się zgadza), albo jakiś przedmiot, którego pacjent zapomniał wyjąć z piersiowej kieszeni.\n",
    "W każdym razie, tego typu anomalia może stanowić wyzwanie dla algorytmu identyfikującego zmiany."
   ]
  },
  {
   "cell_type": "markdown",
   "id": "korean-builder",
   "metadata": {},
   "source": [
    "### Możliwe problemy"
   ]
  },
  {
   "cell_type": "markdown",
   "id": "alleged-stretch",
   "metadata": {},
   "source": [
    "Po pierwsze, tomografy zostały wykonane w różny sposób: niektóre znich oznaczone na zdjęciach jako \"CT INFUSED\" wykorzystują specjalny barwnik poprawiający kontrast zdjęcia, inne oznaczone jako \"CT NON-INFUSED\" wykonane zostały w standardowy sposób.\n",
    "Prawdę powiedziawszy, nie jestem w stanie wskazać różnicy pomiędzy zdjęciami wykonanymi na dwa różne sposoby, ale niewykluczone, że algorytm będzie w stanie zauważyć różnicę i niepoprawnie sugerować się tym faktem.\n",
    "\n",
    "Kolejnym czynnikiem który może niekorzystnie wpłynąć na klasyfikację guzów są adnotacje na lewo i prawo od zdjęcia. Mamy tam np informację o numerze pacjenta, płci czy ustawieniach tomografu. Algorytm może znaleźć niepoprawną zależność i predykować na ich podstawie zamiast na podstawie zdjęć.\n",
    "\n",
    "Rozwiązać będzie trzeba również problem skupienia uwagi algorytmu. Niezbędne będzie przy uczeniu \"pokazanie algorytmowi gdzie ma patrzeć\". Będzie to utrudnione z powodu sposobu w jaki zostały zlokalizowane te zmiany: mamy współrzędne zmiany tylko na jednym z wielu obejmujących ją zdjęć."
   ]
  },
  {
   "cell_type": "markdown",
   "id": "imperial-fourth",
   "metadata": {},
   "source": [
    "# RIDER Lung CT\n"
   ]
  },
  {
   "cell_type": "markdown",
   "id": "available-easter",
   "metadata": {},
   "source": [
    "W tym zbiorze danych mamy po dwa tomografy na pacjenta, zadaniem dla algorytmu będzie stwierdzenie czy podane dwa tomografy przedstawiają tego samego pacjenta.\n",
    "\n",
    "Zdjęcia zostały wykonane na tym samym sprzęcie, a drugie badanie tomografem dla danego pacjenta następowało po maksymalnie 15 minutach od pierwszego.\n",
    "\n",
    "Dane tabelaryczne dla tego zadania składają się z lokalizacji zmiany w płucach stwierdzonych na podstawie pierwszego i drugiego skanu. Dane te nie będą potrzebne w moim zadaniu, dlatego pomijam je."
   ]
  },
  {
   "cell_type": "markdown",
   "id": "polyphonic-aspect",
   "metadata": {},
   "source": [
    "![](dane.png)"
   ]
  },
  {
   "cell_type": "markdown",
   "id": "thorough-chain",
   "metadata": {},
   "source": [
    "Najistotniejszym problemem tego zbioru wobec przedstawionego zadania są metadane zawarte na zdjęciach. Możemy tu odczytać informacje takie jak data skanu, data urodzenia czy numer pacjenta. Oczywiście przy pomocy tych danych można jednoznacznie stwierdzić czy dwa różne tomografy przedstawiają tego samego pacjenta, jednak nie to jest celem zadania. Dane te należy więc napewno usunąć."
   ]
  },
  {
   "cell_type": "markdown",
   "id": "muslim-austin",
   "metadata": {},
   "source": [
    "Równie istotnym problemem jest ilość \"przekrojów\" dla danego pacjenta objawiająca się ilością zdjęć. Okazuje się, że ilość zdjęć jakie wykonuje tomograf jest identyczna dla tego samego pacjenta, ale różni się pomiędzy różnymi pacjentami. Bez problemu można zidentyfikować tomografy przedstawiające tego samego pacjenta na podstawie ilości \"sliceów\" na które podzielony został skan. Aby temu zaradzić, można usunąć część początkowych i końcowych sliceów z każdego tomografu, tak aby wszystkie skany zawierały tyle samo zdjęć."
   ]
  }
 ],
 "metadata": {
  "kernelspec": {
   "display_name": "Python 3",
   "language": "python",
   "name": "python3"
  },
  "language_info": {
   "codemirror_mode": {
    "name": "ipython",
    "version": 3
   },
   "file_extension": ".py",
   "mimetype": "text/x-python",
   "name": "python",
   "nbconvert_exporter": "python",
   "pygments_lexer": "ipython3",
   "version": "3.8.8"
  }
 },
 "nbformat": 4,
 "nbformat_minor": 5
}
