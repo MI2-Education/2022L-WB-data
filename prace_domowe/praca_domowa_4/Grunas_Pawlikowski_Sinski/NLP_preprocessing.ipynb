{
 "cells": [
  {
   "cell_type": "code",
   "execution_count": 6,
   "metadata": {},
   "outputs": [],
   "source": [
    "import pandas as pd \n",
    "import matplotlib.pyplot as plt"
   ]
  },
  {
   "cell_type": "code",
   "execution_count": 35,
   "metadata": {},
   "outputs": [
    {
     "name": "stderr",
     "output_type": "stream",
     "text": [
      "<ipython-input-35-987e57a43b26>:1: ParserWarning: Falling back to the 'python' engine because the 'c' engine does not support regex separators (separators > 1 char and different from '\\s+' are interpreted as regex); you can avoid this warning by specifying engine='python'.\n",
      "  data=pd.read_csv(\"joined.txt\",sep=\"\\nsdf\",header=None)\n"
     ]
    },
    {
     "data": {
      "text/html": [
       "<div>\n",
       "<style scoped>\n",
       "    .dataframe tbody tr th:only-of-type {\n",
       "        vertical-align: middle;\n",
       "    }\n",
       "\n",
       "    .dataframe tbody tr th {\n",
       "        vertical-align: top;\n",
       "    }\n",
       "\n",
       "    .dataframe thead th {\n",
       "        text-align: right;\n",
       "    }\n",
       "</style>\n",
       "<table border=\"1\" class=\"dataframe\">\n",
       "  <thead>\n",
       "    <tr style=\"text-align: right;\">\n",
       "      <th></th>\n",
       "      <th>text</th>\n",
       "      <th>len</th>\n",
       "    </tr>\n",
       "  </thead>\n",
       "  <tbody>\n",
       "    <tr>\n",
       "      <th>0</th>\n",
       "      <td>Indonesian Journal of Electrical Engineering a...</td>\n",
       "      <td>8</td>\n",
       "    </tr>\n",
       "    <tr>\n",
       "      <th>1</th>\n",
       "      <td>Vol. 21, No. 3, March 2021, pp. 1731~1738</td>\n",
       "      <td>8</td>\n",
       "    </tr>\n",
       "    <tr>\n",
       "      <th>2</th>\n",
       "      <td>ISSN: 2502-4752, DOI: 10.11591/ijeecs.v21.i3.p...</td>\n",
       "      <td>6</td>\n",
       "    </tr>\n",
       "    <tr>\n",
       "      <th>3</th>\n",
       "      <td>Journal homepage: http://ijeecs.iaescore.com</td>\n",
       "      <td>3</td>\n",
       "    </tr>\n",
       "    <tr>\n",
       "      <th>4</th>\n",
       "      <td>Evaluation of SVM performance in the detection...</td>\n",
       "      <td>10</td>\n",
       "    </tr>\n",
       "    <tr>\n",
       "      <th>...</th>\n",
       "      <td>...</td>\n",
       "      <td>...</td>\n",
       "    </tr>\n",
       "    <tr>\n",
       "      <th>4364</th>\n",
       "      <td>ExposureInuAs_DICOM 3200</td>\n",
       "      <td>2</td>\n",
       "    </tr>\n",
       "    <tr>\n",
       "      <th>4365</th>\n",
       "      <td>ExposureTime_DICOM 10</td>\n",
       "      <td>2</td>\n",
       "    </tr>\n",
       "    <tr>\n",
       "      <th>4366</th>\n",
       "      <td>RelativeXRayExposure_DICOM</td>\n",
       "      <td>1</td>\n",
       "    </tr>\n",
       "    <tr>\n",
       "      <th>4367</th>\n",
       "      <td>Table 10: Fields corresponding to the study wh...</td>\n",
       "      <td>14</td>\n",
       "    </tr>\n",
       "    <tr>\n",
       "      <th>4368</th>\n",
       "      <td>35</td>\n",
       "      <td>1</td>\n",
       "    </tr>\n",
       "  </tbody>\n",
       "</table>\n",
       "<p>4369 rows × 2 columns</p>\n",
       "</div>"
      ],
      "text/plain": [
       "                                                   text  len\n",
       "0     Indonesian Journal of Electrical Engineering a...    8\n",
       "1             Vol. 21, No. 3, March 2021, pp. 1731~1738    8\n",
       "2     ISSN: 2502-4752, DOI: 10.11591/ijeecs.v21.i3.p...    6\n",
       "3          Journal homepage: http://ijeecs.iaescore.com    3\n",
       "4     Evaluation of SVM performance in the detection...   10\n",
       "...                                                 ...  ...\n",
       "4364                           ExposureInuAs_DICOM 3200    2\n",
       "4365                              ExposureTime_DICOM 10    2\n",
       "4366                         RelativeXRayExposure_DICOM    1\n",
       "4367  Table 10: Fields corresponding to the study wh...   14\n",
       "4368                                                 35    1\n",
       "\n",
       "[4369 rows x 2 columns]"
      ]
     },
     "execution_count": 35,
     "metadata": {},
     "output_type": "execute_result"
    }
   ],
   "source": [
    "data=pd.read_csv(\"joined.txt\",sep=\"\\nsdf\",header=None)\n",
    "data.columns=[\"text\"]\n",
    "data[\"len\"]=[len(str(data.loc[i].values[0]).split()) for i in range(len(data))]\n",
    "data"
   ]
  },
  {
   "cell_type": "code",
   "execution_count": 36,
   "metadata": {},
   "outputs": [
    {
     "data": {
      "text/html": [
       "<div>\n",
       "<style scoped>\n",
       "    .dataframe tbody tr th:only-of-type {\n",
       "        vertical-align: middle;\n",
       "    }\n",
       "\n",
       "    .dataframe tbody tr th {\n",
       "        vertical-align: top;\n",
       "    }\n",
       "\n",
       "    .dataframe thead th {\n",
       "        text-align: right;\n",
       "    }\n",
       "</style>\n",
       "<table border=\"1\" class=\"dataframe\">\n",
       "  <thead>\n",
       "    <tr style=\"text-align: right;\">\n",
       "      <th></th>\n",
       "      <th>text</th>\n",
       "      <th>len</th>\n",
       "    </tr>\n",
       "  </thead>\n",
       "  <tbody>\n",
       "    <tr>\n",
       "      <th>29</th>\n",
       "      <td>Keywords:</td>\n",
       "      <td>1</td>\n",
       "    </tr>\n",
       "    <tr>\n",
       "      <th>31</th>\n",
       "      <td>CT-scan</td>\n",
       "      <td>1</td>\n",
       "    </tr>\n",
       "    <tr>\n",
       "      <th>32</th>\n",
       "      <td>Datasets</td>\n",
       "      <td>1</td>\n",
       "    </tr>\n",
       "    <tr>\n",
       "      <th>61</th>\n",
       "      <td>1732</td>\n",
       "      <td>1</td>\n",
       "    </tr>\n",
       "    <tr>\n",
       "      <th>111</th>\n",
       "      <td>1733</td>\n",
       "      <td>1</td>\n",
       "    </tr>\n",
       "    <tr>\n",
       "      <th>...</th>\n",
       "      <td>...</td>\n",
       "      <td>...</td>\n",
       "    </tr>\n",
       "    <tr>\n",
       "      <th>4354</th>\n",
       "      <td>PixelRepresentation_DICOM</td>\n",
       "      <td>1</td>\n",
       "    </tr>\n",
       "    <tr>\n",
       "      <th>4355</th>\n",
       "      <td>PixelAspectRatio_DICOM</td>\n",
       "      <td>1</td>\n",
       "    </tr>\n",
       "    <tr>\n",
       "      <th>4356</th>\n",
       "      <td>SpatialResolution_DICOM</td>\n",
       "      <td>1</td>\n",
       "    </tr>\n",
       "    <tr>\n",
       "      <th>4366</th>\n",
       "      <td>RelativeXRayExposure_DICOM</td>\n",
       "      <td>1</td>\n",
       "    </tr>\n",
       "    <tr>\n",
       "      <th>4368</th>\n",
       "      <td>35</td>\n",
       "      <td>1</td>\n",
       "    </tr>\n",
       "  </tbody>\n",
       "</table>\n",
       "<p>472 rows × 2 columns</p>\n",
       "</div>"
      ],
      "text/plain": [
       "                            text  len\n",
       "29                     Keywords:    1\n",
       "31                       CT-scan    1\n",
       "32                      Datasets    1\n",
       "61                          1732    1\n",
       "111                         1733    1\n",
       "...                          ...  ...\n",
       "4354   PixelRepresentation_DICOM    1\n",
       "4355      PixelAspectRatio_DICOM    1\n",
       "4356     SpatialResolution_DICOM    1\n",
       "4366  RelativeXRayExposure_DICOM    1\n",
       "4368                          35    1\n",
       "\n",
       "[472 rows x 2 columns]"
      ]
     },
     "execution_count": 36,
     "metadata": {},
     "output_type": "execute_result"
    }
   ],
   "source": [
    "data[data.len==1]"
   ]
  },
  {
   "cell_type": "markdown",
   "metadata": {},
   "source": [
    "It's easy to notice that we should delete rows in which there is only one object in text field(most likely a page number, errors in conversion or document subtitle probably not needed in any model)"
   ]
  },
  {
   "cell_type": "code",
   "execution_count": 37,
   "metadata": {},
   "outputs": [
    {
     "data": {
      "text/html": [
       "<div>\n",
       "<style scoped>\n",
       "    .dataframe tbody tr th:only-of-type {\n",
       "        vertical-align: middle;\n",
       "    }\n",
       "\n",
       "    .dataframe tbody tr th {\n",
       "        vertical-align: top;\n",
       "    }\n",
       "\n",
       "    .dataframe thead th {\n",
       "        text-align: right;\n",
       "    }\n",
       "</style>\n",
       "<table border=\"1\" class=\"dataframe\">\n",
       "  <thead>\n",
       "    <tr style=\"text-align: right;\">\n",
       "      <th></th>\n",
       "      <th>text</th>\n",
       "      <th>len</th>\n",
       "    </tr>\n",
       "  </thead>\n",
       "  <tbody>\n",
       "    <tr>\n",
       "      <th>0</th>\n",
       "      <td>Indonesian Journal of Electrical Engineering a...</td>\n",
       "      <td>8</td>\n",
       "    </tr>\n",
       "    <tr>\n",
       "      <th>1</th>\n",
       "      <td>Vol. 21, No. 3, March 2021, pp. 1731~1738</td>\n",
       "      <td>8</td>\n",
       "    </tr>\n",
       "    <tr>\n",
       "      <th>2</th>\n",
       "      <td>ISSN: 2502-4752, DOI: 10.11591/ijeecs.v21.i3.p...</td>\n",
       "      <td>6</td>\n",
       "    </tr>\n",
       "    <tr>\n",
       "      <th>3</th>\n",
       "      <td>Journal homepage: http://ijeecs.iaescore.com</td>\n",
       "      <td>3</td>\n",
       "    </tr>\n",
       "    <tr>\n",
       "      <th>4</th>\n",
       "      <td>Evaluation of SVM performance in the detection...</td>\n",
       "      <td>10</td>\n",
       "    </tr>\n",
       "    <tr>\n",
       "      <th>...</th>\n",
       "      <td>...</td>\n",
       "      <td>...</td>\n",
       "    </tr>\n",
       "    <tr>\n",
       "      <th>4362</th>\n",
       "      <td>XRayTubeCurrent_DICOM 320</td>\n",
       "      <td>2</td>\n",
       "    </tr>\n",
       "    <tr>\n",
       "      <th>4363</th>\n",
       "      <td>Exposure_DICOM 3</td>\n",
       "      <td>2</td>\n",
       "    </tr>\n",
       "    <tr>\n",
       "      <th>4364</th>\n",
       "      <td>ExposureInuAs_DICOM 3200</td>\n",
       "      <td>2</td>\n",
       "    </tr>\n",
       "    <tr>\n",
       "      <th>4365</th>\n",
       "      <td>ExposureTime_DICOM 10</td>\n",
       "      <td>2</td>\n",
       "    </tr>\n",
       "    <tr>\n",
       "      <th>4367</th>\n",
       "      <td>Table 10: Fields corresponding to the study wh...</td>\n",
       "      <td>14</td>\n",
       "    </tr>\n",
       "  </tbody>\n",
       "</table>\n",
       "<p>3897 rows × 2 columns</p>\n",
       "</div>"
      ],
      "text/plain": [
       "                                                   text  len\n",
       "0     Indonesian Journal of Electrical Engineering a...    8\n",
       "1             Vol. 21, No. 3, March 2021, pp. 1731~1738    8\n",
       "2     ISSN: 2502-4752, DOI: 10.11591/ijeecs.v21.i3.p...    6\n",
       "3          Journal homepage: http://ijeecs.iaescore.com    3\n",
       "4     Evaluation of SVM performance in the detection...   10\n",
       "...                                                 ...  ...\n",
       "4362                          XRayTubeCurrent_DICOM 320    2\n",
       "4363                                   Exposure_DICOM 3    2\n",
       "4364                           ExposureInuAs_DICOM 3200    2\n",
       "4365                              ExposureTime_DICOM 10    2\n",
       "4367  Table 10: Fields corresponding to the study wh...   14\n",
       "\n",
       "[3897 rows x 2 columns]"
      ]
     },
     "execution_count": 37,
     "metadata": {},
     "output_type": "execute_result"
    }
   ],
   "source": [
    "data=data[data.len!=1]\n",
    "data"
   ]
  },
  {
   "cell_type": "markdown",
   "metadata": {},
   "source": [
    "## Regex"
   ]
  },
  {
   "cell_type": "markdown",
   "metadata": {},
   "source": [
    "#### Abbrevations"
   ]
  },
  {
   "cell_type": "code",
   "execution_count": 38,
   "metadata": {},
   "outputs": [],
   "source": [
    "processed=data.text.str.replace(r'No\\.','Number')\n",
    "processed=processed.str.replace(r'Vol\\.','Volume')\n",
    "processed=processed.str.replace(r'pp\\.','Pages')"
   ]
  },
  {
   "cell_type": "markdown",
   "metadata": {},
   "source": [
    "#### Web pages"
   ]
  },
  {
   "cell_type": "code",
   "execution_count": 39,
   "metadata": {},
   "outputs": [],
   "source": [
    "processed=processed.str.replace(r'((http|https)\\:\\/\\/)?[a-zA-Z0-9\\.\\/\\?\\:@\\-_=#]+\\.([a-zA-Z]){2,6}([a-zA-Z0-9\\.\\&\\/\\?\\:@\\-_=#])*','Webpage')"
   ]
  },
  {
   "cell_type": "markdown",
   "metadata": {},
   "source": [
    "#### Lowering case"
   ]
  },
  {
   "cell_type": "code",
   "execution_count": 40,
   "metadata": {},
   "outputs": [],
   "source": [
    "processed=processed.str.lower()"
   ]
  },
  {
   "cell_type": "markdown",
   "metadata": {},
   "source": [
    "#### Punctuation"
   ]
  },
  {
   "cell_type": "code",
   "execution_count": 41,
   "metadata": {},
   "outputs": [],
   "source": [
    "# remove punctuation\n",
    "processed=processed.str.replace(r'[^\\w\\d\\s]','')\n",
    "# more than one space \n",
    "processed=processed.str.replace(r'\\s+',' ')\n",
    "# remove spaces from front and back\n",
    "processed=processed.str.replace(r'^\\s+|\\s+?$','')"
   ]
  },
  {
   "cell_type": "markdown",
   "metadata": {},
   "source": [
    "#### Dates"
   ]
  },
  {
   "cell_type": "code",
   "execution_count": 42,
   "metadata": {},
   "outputs": [],
   "source": [
    "processed=processed.str.replace(r'\\d+\\.\\d+\\.\\d+|\\d+\\-\\d+\\-\\d+','date')\n",
    "processed=processed.str.replace(r'january|jan','date')\n",
    "processed=processed.str.replace(r'febryary|feb','date')\n",
    "processed=processed.str.replace(r'march|mar','date')\n",
    "processed=processed.str.replace(r'april|apr','date')\n",
    "processed=processed.str.replace(r'may','date')\n",
    "processed=processed.str.replace(r'june|jun','date')\n",
    "processed=processed.str.replace(r'july|jul','date')\n",
    "processed=processed.str.replace(r'august|aug','date')\n",
    "processed=processed.str.replace(r'september|sep|sept','date')\n",
    "processed=processed.str.replace(r'october|oct','date')\n",
    "processed=processed.str.replace(r'november|nov','date')\n",
    "processed=processed.str.replace(r'december|dec','date')\n",
    "# we shall remove digits later"
   ]
  },
  {
   "cell_type": "markdown",
   "metadata": {},
   "source": [
    "#### Numbers"
   ]
  },
  {
   "cell_type": "markdown",
   "metadata": {},
   "source": [
    "In machinne learning process we won't be needinng exact numeric values thats why we encoded more important ones earlier , and now we can remove the remainnder"
   ]
  },
  {
   "cell_type": "code",
   "execution_count": 43,
   "metadata": {},
   "outputs": [
    {
     "data": {
      "text/plain": [
       "0       indonesian journal of electrical engineering a...\n",
       "1                            volume  number  date  pages \n",
       "2                                    issn  doi webpage ď \n",
       "3                                journal homepage webpage\n",
       "4       evaluation of svm performance in the detection...\n",
       "                              ...                        \n",
       "4362                               xraytubecurrent_dicom \n",
       "4363                                      exposure_dicom \n",
       "4364                                 exposureinuas_dicom \n",
       "4365                                  exposuretime_dicom \n",
       "4367    table  fields corresponding to the study which...\n",
       "Name: text, Length: 3897, dtype: object"
      ]
     },
     "execution_count": 43,
     "metadata": {},
     "output_type": "execute_result"
    }
   ],
   "source": [
    "processed=processed.str.replace(r'\\d','')\n",
    "processed"
   ]
  },
  {
   "cell_type": "markdown",
   "metadata": {},
   "source": [
    "## Part of speech tagging"
   ]
  },
  {
   "cell_type": "code",
   "execution_count": 98,
   "metadata": {},
   "outputs": [],
   "source": [
    "\n",
    "import nltk\n",
    "from nltk.corpus import stopwords\n",
    "from nltk.tokenize import word_tokenize, sent_tokenize\n",
    "stop_words = set(stopwords.words('english'))"
   ]
  },
  {
   "cell_type": "code",
   "execution_count": 108,
   "metadata": {},
   "outputs": [
    {
     "data": {
      "text/plain": [
       "(array([16290.,  2313.,     0.,  2353.,     0.,  3318.,  1881.,     0.,\n",
       "           86.,   109.]),\n",
       " array([0. , 0.6, 1.2, 1.8, 2.4, 3. , 3.6, 4.2, 4.8, 5.4, 6. ]),\n",
       " <BarContainer object of 10 artists>)"
      ]
     },
     "execution_count": 108,
     "metadata": {},
     "output_type": "execute_result"
    },
    {
     "data": {
      "image/png": "[encoded data removed]",
      "text/plain": [
       "<Figure size 432x288 with 1 Axes>"
      ]
     },
     "metadata": {
      "needs_background": "light"
     },
     "output_type": "display_data"
    }
   ],
   "source": [
    "tags=[]\n",
    "for line in processed:\n",
    "    tokenized = sent_tokenize(line)\n",
    "    for i in tokenized:\n",
    "\n",
    "        # Word tokenizers is used to find the words\n",
    "        # and punctuation in a string\n",
    "        wordsList = nltk.word_tokenize(i)\n",
    "\n",
    "        # removing stop words from wordList\n",
    "        wordsList = [w for w in wordsList if not w in stop_words]\n",
    "\n",
    "        #  Using a Tagger. Which is part-of-speech\n",
    "        # tagger or POS-tagger.\n",
    "        for word in wordsList:\n",
    "            tags.append(nltk.pos_tag(word)[0][1])\n",
    "plt.hist(tags)"
   ]
  },
  {
   "cell_type": "markdown",
   "metadata": {},
   "source": [
    "As we can see most of our data set is composed of nouns."
   ]
  },
  {
   "cell_type": "code",
   "execution_count": 27,
   "metadata": {},
   "outputs": [
    {
     "name": "stderr",
     "output_type": "stream",
     "text": [
      "C:\\Users\\Maciek\\anaconda3\\lib\\site-packages\\transformers\\tokenization_utils_base.py:2227: UserWarning: `max_length` is ignored when `padding`=`True`.\n",
      "  warnings.warn(\"`max_length` is ignored when `padding`=`True`.\")\n"
     ]
    }
   ],
   "source": [
    "from sentence_transformers import SentenceTransformer\n",
    "model = SentenceTransformer('paraphrase-MiniLM-L6-v2')\n",
    "\n",
    "#Our sentences we like to encode\n",
    "sentences = [\"I'm going to watch not play\",\"I'm going to play not watch\",\"I'm going to play and watch\",\"I'm going to play or watch\"]\n",
    "\n",
    "#Sentences are encoded by calling model.encode()\n",
    "embeddings = model.encode(sentences)\n"
   ]
  },
  {
   "cell_type": "code",
   "execution_count": 28,
   "metadata": {},
   "outputs": [
    {
     "data": {
      "text/html": [
       "<div>\n",
       "<style scoped>\n",
       "    .dataframe tbody tr th:only-of-type {\n",
       "        vertical-align: middle;\n",
       "    }\n",
       "\n",
       "    .dataframe tbody tr th {\n",
       "        vertical-align: top;\n",
       "    }\n",
       "\n",
       "    .dataframe thead th {\n",
       "        text-align: right;\n",
       "    }\n",
       "</style>\n",
       "<table border=\"1\" class=\"dataframe\">\n",
       "  <thead>\n",
       "    <tr style=\"text-align: right;\">\n",
       "      <th></th>\n",
       "      <th>0</th>\n",
       "      <th>1</th>\n",
       "      <th>2</th>\n",
       "      <th>3</th>\n",
       "      <th>4</th>\n",
       "      <th>5</th>\n",
       "      <th>6</th>\n",
       "      <th>7</th>\n",
       "      <th>8</th>\n",
       "      <th>9</th>\n",
       "      <th>...</th>\n",
       "      <th>375</th>\n",
       "      <th>376</th>\n",
       "      <th>377</th>\n",
       "      <th>378</th>\n",
       "      <th>379</th>\n",
       "      <th>380</th>\n",
       "      <th>381</th>\n",
       "      <th>382</th>\n",
       "      <th>383</th>\n",
       "      <th>sentence</th>\n",
       "    </tr>\n",
       "  </thead>\n",
       "  <tbody>\n",
       "    <tr>\n",
       "      <th>0</th>\n",
       "      <td>0.557289</td>\n",
       "      <td>-0.677850</td>\n",
       "      <td>0.600699</td>\n",
       "      <td>-1.013320</td>\n",
       "      <td>0.549623</td>\n",
       "      <td>0.662713</td>\n",
       "      <td>-0.103804</td>\n",
       "      <td>0.377351</td>\n",
       "      <td>0.089433</td>\n",
       "      <td>0.569709</td>\n",
       "      <td>...</td>\n",
       "      <td>0.404015</td>\n",
       "      <td>-0.304997</td>\n",
       "      <td>0.127756</td>\n",
       "      <td>-0.351788</td>\n",
       "      <td>-0.162131</td>\n",
       "      <td>0.054187</td>\n",
       "      <td>-0.134969</td>\n",
       "      <td>0.011720</td>\n",
       "      <td>-0.133558</td>\n",
       "      <td>I'm going to watch not play</td>\n",
       "    </tr>\n",
       "    <tr>\n",
       "      <th>1</th>\n",
       "      <td>0.607865</td>\n",
       "      <td>-0.737236</td>\n",
       "      <td>0.650087</td>\n",
       "      <td>-1.023249</td>\n",
       "      <td>0.474659</td>\n",
       "      <td>0.670830</td>\n",
       "      <td>-0.097471</td>\n",
       "      <td>0.145482</td>\n",
       "      <td>0.202266</td>\n",
       "      <td>0.781124</td>\n",
       "      <td>...</td>\n",
       "      <td>0.618903</td>\n",
       "      <td>-0.330518</td>\n",
       "      <td>0.165074</td>\n",
       "      <td>-0.318487</td>\n",
       "      <td>-0.117133</td>\n",
       "      <td>0.030180</td>\n",
       "      <td>-0.077585</td>\n",
       "      <td>0.091692</td>\n",
       "      <td>-0.133012</td>\n",
       "      <td>I'm going to play not watch</td>\n",
       "    </tr>\n",
       "    <tr>\n",
       "      <th>2</th>\n",
       "      <td>0.558693</td>\n",
       "      <td>-0.579964</td>\n",
       "      <td>0.368871</td>\n",
       "      <td>-0.915958</td>\n",
       "      <td>0.066782</td>\n",
       "      <td>0.659565</td>\n",
       "      <td>0.104521</td>\n",
       "      <td>0.344094</td>\n",
       "      <td>0.023420</td>\n",
       "      <td>0.588810</td>\n",
       "      <td>...</td>\n",
       "      <td>0.666475</td>\n",
       "      <td>-0.251735</td>\n",
       "      <td>0.175419</td>\n",
       "      <td>-0.676548</td>\n",
       "      <td>0.179707</td>\n",
       "      <td>0.053674</td>\n",
       "      <td>-0.229929</td>\n",
       "      <td>0.073401</td>\n",
       "      <td>-0.442318</td>\n",
       "      <td>I'm going to play and watch</td>\n",
       "    </tr>\n",
       "    <tr>\n",
       "      <th>3</th>\n",
       "      <td>0.604434</td>\n",
       "      <td>-0.711962</td>\n",
       "      <td>0.774026</td>\n",
       "      <td>-0.917038</td>\n",
       "      <td>0.193101</td>\n",
       "      <td>0.580707</td>\n",
       "      <td>-0.005960</td>\n",
       "      <td>0.205026</td>\n",
       "      <td>0.604979</td>\n",
       "      <td>0.671710</td>\n",
       "      <td>...</td>\n",
       "      <td>0.557836</td>\n",
       "      <td>-0.186183</td>\n",
       "      <td>-0.047241</td>\n",
       "      <td>-0.735098</td>\n",
       "      <td>0.183046</td>\n",
       "      <td>0.043885</td>\n",
       "      <td>-0.436836</td>\n",
       "      <td>0.275630</td>\n",
       "      <td>-0.478181</td>\n",
       "      <td>I'm going to play or watch</td>\n",
       "    </tr>\n",
       "  </tbody>\n",
       "</table>\n",
       "<p>4 rows × 385 columns</p>\n",
       "</div>"
      ],
      "text/plain": [
       "          0         1         2         3         4         5         6  \\\n",
       "0  0.557289 -0.677850  0.600699 -1.013320  0.549623  0.662713 -0.103804   \n",
       "1  0.607865 -0.737236  0.650087 -1.023249  0.474659  0.670830 -0.097471   \n",
       "2  0.558693 -0.579964  0.368871 -0.915958  0.066782  0.659565  0.104521   \n",
       "3  0.604434 -0.711962  0.774026 -0.917038  0.193101  0.580707 -0.005960   \n",
       "\n",
       "          7         8         9  ...       375       376       377       378  \\\n",
       "0  0.377351  0.089433  0.569709  ...  0.404015 -0.304997  0.127756 -0.351788   \n",
       "1  0.145482  0.202266  0.781124  ...  0.618903 -0.330518  0.165074 -0.318487   \n",
       "2  0.344094  0.023420  0.588810  ...  0.666475 -0.251735  0.175419 -0.676548   \n",
       "3  0.205026  0.604979  0.671710  ...  0.557836 -0.186183 -0.047241 -0.735098   \n",
       "\n",
       "        379       380       381       382       383  \\\n",
       "0 -0.162131  0.054187 -0.134969  0.011720 -0.133558   \n",
       "1 -0.117133  0.030180 -0.077585  0.091692 -0.133012   \n",
       "2  0.179707  0.053674 -0.229929  0.073401 -0.442318   \n",
       "3  0.183046  0.043885 -0.436836  0.275630 -0.478181   \n",
       "\n",
       "                      sentence  \n",
       "0  I'm going to watch not play  \n",
       "1  I'm going to play not watch  \n",
       "2  I'm going to play and watch  \n",
       "3   I'm going to play or watch  \n",
       "\n",
       "[4 rows x 385 columns]"
      ]
     },
     "execution_count": 28,
     "metadata": {},
     "output_type": "execute_result"
    }
   ],
   "source": [
    "results=pd.DataFrame(embeddings)\n",
    "results[\"sentence\"]=sentences\n",
    "results"
   ]
  },
  {
   "cell_type": "markdown",
   "metadata": {},
   "source": [
    "Given two vectors of attributes, A and B, the cosine similarity, cos(θ), is represented using a dot product and magnitude as\n",
    "\n",
    "${\\displaystyle {\\text{cosine similarity}}=S_{C}(A,B):=\\cos(\\theta )={\\mathbf {A} \\cdot \\mathbf {B} \\over \\|\\mathbf {A} \\|\\|\\mathbf {B} \\|}={\\frac {\\sum \\limits _{i=1}^{n}{A_{i}B_{i}}}{{\\sqrt {\\sum \\limits _{i=1}^{n}{A_{i}^{2}}}}{\\sqrt {\\sum \\limits _{i=1}^{n}{B_{i}^{2}}}}}},}$"
   ]
  },
  {
   "cell_type": "markdown",
   "metadata": {},
   "source": [
    "The cosine similarity measures the similarity between vector lists by calculating the cosine angle between the two vector lists. If you consider the cosine function, its value at 0 degrees is 1 and -1 at 180 degrees. This means for two overlapping vectors, the value of cosine will be maximum and minimum for two precisely opposite vectors."
   ]
  },
  {
   "cell_type": "code",
   "execution_count": 29,
   "metadata": {},
   "outputs": [
    {
     "data": {
      "text/plain": [
       "0.9627648591995239"
      ]
     },
     "execution_count": 29,
     "metadata": {},
     "output_type": "execute_result"
    }
   ],
   "source": [
    "from scipy import spatial\n",
    "1 - spatial.distance.cosine(results.iloc[0,:-1], results.iloc[1,:-1])"
   ]
  },
  {
   "cell_type": "code",
   "execution_count": 30,
   "metadata": {},
   "outputs": [
    {
     "data": {
      "text/plain": [
       "0.7000849843025208"
      ]
     },
     "execution_count": 30,
     "metadata": {},
     "output_type": "execute_result"
    }
   ],
   "source": [
    "1 - spatial.distance.cosine(results.iloc[0,:-1], results.iloc[2,:-1])"
   ]
  },
  {
   "cell_type": "code",
   "execution_count": 31,
   "metadata": {},
   "outputs": [
    {
     "data": {
      "text/plain": [
       "0.6720165610313416"
      ]
     },
     "execution_count": 31,
     "metadata": {},
     "output_type": "execute_result"
    }
   ],
   "source": [
    "1 - spatial.distance.cosine(results.iloc[1,:-1], results.iloc[2,:-1])"
   ]
  },
  {
   "cell_type": "code",
   "execution_count": 32,
   "metadata": {},
   "outputs": [
    {
     "data": {
      "text/plain": [
       "0.878617525100708"
      ]
     },
     "execution_count": 32,
     "metadata": {},
     "output_type": "execute_result"
    }
   ],
   "source": [
    "1 - spatial.distance.cosine(results.iloc[3,:-1], results.iloc[2,:-1])"
   ]
  },
  {
   "cell_type": "code",
   "execution_count": 33,
   "metadata": {},
   "outputs": [
    {
     "data": {
      "text/plain": [
       "0.6336308717727661"
      ]
     },
     "execution_count": 33,
     "metadata": {},
     "output_type": "execute_result"
    }
   ],
   "source": [
    "1 - spatial.distance.cosine(results.iloc[3,:-1], results.iloc[1,:-1])"
   ]
  },
  {
   "cell_type": "code",
   "execution_count": 34,
   "metadata": {},
   "outputs": [
    {
     "data": {
      "text/plain": [
       "0.6560454368591309"
      ]
     },
     "execution_count": 34,
     "metadata": {},
     "output_type": "execute_result"
    }
   ],
   "source": [
    "1 - spatial.distance.cosine(results.iloc[3,:-1], results.iloc[0,:-1])"
   ]
  },
  {
   "cell_type": "markdown",
   "metadata": {},
   "source": [
    "# BERT embedding "
   ]
  },
  {
   "cell_type": "code",
   "execution_count": 46,
   "metadata": {},
   "outputs": [
    {
     "name": "stderr",
     "output_type": "stream",
     "text": [
      "C:\\Users\\Maciek\\anaconda3\\lib\\site-packages\\transformers\\tokenization_utils_base.py:2227: UserWarning: `max_length` is ignored when `padding`=`True`.\n",
      "  warnings.warn(\"`max_length` is ignored when `padding`=`True`.\")\n"
     ]
    }
   ],
   "source": [
    "embeddings = model.encode(pd.array(processed))"
   ]
  },
  {
   "cell_type": "code",
   "execution_count": 49,
   "metadata": {},
   "outputs": [
    {
     "data": {
      "text/html": [
       "<div>\n",
       "<style scoped>\n",
       "    .dataframe tbody tr th:only-of-type {\n",
       "        vertical-align: middle;\n",
       "    }\n",
       "\n",
       "    .dataframe tbody tr th {\n",
       "        vertical-align: top;\n",
       "    }\n",
       "\n",
       "    .dataframe thead th {\n",
       "        text-align: right;\n",
       "    }\n",
       "</style>\n",
       "<table border=\"1\" class=\"dataframe\">\n",
       "  <thead>\n",
       "    <tr style=\"text-align: right;\">\n",
       "      <th></th>\n",
       "      <th>0</th>\n",
       "      <th>1</th>\n",
       "      <th>2</th>\n",
       "      <th>3</th>\n",
       "      <th>4</th>\n",
       "      <th>5</th>\n",
       "      <th>6</th>\n",
       "      <th>7</th>\n",
       "      <th>8</th>\n",
       "      <th>9</th>\n",
       "      <th>...</th>\n",
       "      <th>374</th>\n",
       "      <th>375</th>\n",
       "      <th>376</th>\n",
       "      <th>377</th>\n",
       "      <th>378</th>\n",
       "      <th>379</th>\n",
       "      <th>380</th>\n",
       "      <th>381</th>\n",
       "      <th>382</th>\n",
       "      <th>383</th>\n",
       "    </tr>\n",
       "  </thead>\n",
       "  <tbody>\n",
       "    <tr>\n",
       "      <th>0</th>\n",
       "      <td>-0.602188</td>\n",
       "      <td>0.562107</td>\n",
       "      <td>-0.346970</td>\n",
       "      <td>-0.284925</td>\n",
       "      <td>0.202138</td>\n",
       "      <td>-0.682676</td>\n",
       "      <td>-0.189156</td>\n",
       "      <td>0.356635</td>\n",
       "      <td>-0.074140</td>\n",
       "      <td>-0.082910</td>\n",
       "      <td>...</td>\n",
       "      <td>0.253502</td>\n",
       "      <td>-0.217884</td>\n",
       "      <td>-0.195755</td>\n",
       "      <td>0.255856</td>\n",
       "      <td>-0.595901</td>\n",
       "      <td>0.345819</td>\n",
       "      <td>0.249606</td>\n",
       "      <td>-0.053912</td>\n",
       "      <td>0.688430</td>\n",
       "      <td>0.144065</td>\n",
       "    </tr>\n",
       "    <tr>\n",
       "      <th>1</th>\n",
       "      <td>-0.332806</td>\n",
       "      <td>0.508936</td>\n",
       "      <td>0.083444</td>\n",
       "      <td>0.235220</td>\n",
       "      <td>-0.613477</td>\n",
       "      <td>0.286126</td>\n",
       "      <td>-0.748617</td>\n",
       "      <td>-0.242678</td>\n",
       "      <td>0.638196</td>\n",
       "      <td>0.343479</td>\n",
       "      <td>...</td>\n",
       "      <td>0.187946</td>\n",
       "      <td>0.117543</td>\n",
       "      <td>0.542721</td>\n",
       "      <td>-0.173157</td>\n",
       "      <td>-0.191739</td>\n",
       "      <td>0.030890</td>\n",
       "      <td>0.112062</td>\n",
       "      <td>-0.883366</td>\n",
       "      <td>-0.497201</td>\n",
       "      <td>-0.929634</td>\n",
       "    </tr>\n",
       "    <tr>\n",
       "      <th>2</th>\n",
       "      <td>-0.552587</td>\n",
       "      <td>0.913959</td>\n",
       "      <td>0.033528</td>\n",
       "      <td>-0.366940</td>\n",
       "      <td>-0.270106</td>\n",
       "      <td>0.158297</td>\n",
       "      <td>-0.466381</td>\n",
       "      <td>0.434515</td>\n",
       "      <td>0.713359</td>\n",
       "      <td>0.490611</td>\n",
       "      <td>...</td>\n",
       "      <td>-0.371110</td>\n",
       "      <td>-0.216512</td>\n",
       "      <td>0.162969</td>\n",
       "      <td>0.011953</td>\n",
       "      <td>-0.286792</td>\n",
       "      <td>0.002479</td>\n",
       "      <td>0.539010</td>\n",
       "      <td>-0.515986</td>\n",
       "      <td>0.125243</td>\n",
       "      <td>-0.236371</td>\n",
       "    </tr>\n",
       "    <tr>\n",
       "      <th>3</th>\n",
       "      <td>-0.822611</td>\n",
       "      <td>0.294319</td>\n",
       "      <td>-0.178213</td>\n",
       "      <td>0.742620</td>\n",
       "      <td>0.123581</td>\n",
       "      <td>-0.048046</td>\n",
       "      <td>-0.872719</td>\n",
       "      <td>0.178744</td>\n",
       "      <td>0.342302</td>\n",
       "      <td>0.357441</td>\n",
       "      <td>...</td>\n",
       "      <td>-0.357239</td>\n",
       "      <td>-0.002093</td>\n",
       "      <td>0.041864</td>\n",
       "      <td>0.086779</td>\n",
       "      <td>0.013782</td>\n",
       "      <td>0.373335</td>\n",
       "      <td>0.340590</td>\n",
       "      <td>-0.382113</td>\n",
       "      <td>0.316429</td>\n",
       "      <td>-0.118182</td>\n",
       "    </tr>\n",
       "    <tr>\n",
       "      <th>4</th>\n",
       "      <td>-0.308265</td>\n",
       "      <td>0.180802</td>\n",
       "      <td>-0.174810</td>\n",
       "      <td>-0.516703</td>\n",
       "      <td>0.323666</td>\n",
       "      <td>-0.001323</td>\n",
       "      <td>0.148514</td>\n",
       "      <td>0.219945</td>\n",
       "      <td>0.169237</td>\n",
       "      <td>-0.115425</td>\n",
       "      <td>...</td>\n",
       "      <td>-0.633099</td>\n",
       "      <td>-0.052006</td>\n",
       "      <td>0.240671</td>\n",
       "      <td>-0.195744</td>\n",
       "      <td>0.173719</td>\n",
       "      <td>0.385438</td>\n",
       "      <td>0.343920</td>\n",
       "      <td>-0.277336</td>\n",
       "      <td>-0.179559</td>\n",
       "      <td>0.152401</td>\n",
       "    </tr>\n",
       "    <tr>\n",
       "      <th>...</th>\n",
       "      <td>...</td>\n",
       "      <td>...</td>\n",
       "      <td>...</td>\n",
       "      <td>...</td>\n",
       "      <td>...</td>\n",
       "      <td>...</td>\n",
       "      <td>...</td>\n",
       "      <td>...</td>\n",
       "      <td>...</td>\n",
       "      <td>...</td>\n",
       "      <td>...</td>\n",
       "      <td>...</td>\n",
       "      <td>...</td>\n",
       "      <td>...</td>\n",
       "      <td>...</td>\n",
       "      <td>...</td>\n",
       "      <td>...</td>\n",
       "      <td>...</td>\n",
       "      <td>...</td>\n",
       "      <td>...</td>\n",
       "      <td>...</td>\n",
       "    </tr>\n",
       "    <tr>\n",
       "      <th>3892</th>\n",
       "      <td>-0.278320</td>\n",
       "      <td>-0.064603</td>\n",
       "      <td>-0.009361</td>\n",
       "      <td>-0.198512</td>\n",
       "      <td>-0.555154</td>\n",
       "      <td>-0.147735</td>\n",
       "      <td>0.708115</td>\n",
       "      <td>0.109706</td>\n",
       "      <td>-0.731126</td>\n",
       "      <td>0.135103</td>\n",
       "      <td>...</td>\n",
       "      <td>-0.336736</td>\n",
       "      <td>0.278102</td>\n",
       "      <td>0.125399</td>\n",
       "      <td>-0.211005</td>\n",
       "      <td>0.371553</td>\n",
       "      <td>0.150948</td>\n",
       "      <td>-0.143946</td>\n",
       "      <td>0.277610</td>\n",
       "      <td>0.847329</td>\n",
       "      <td>0.160846</td>\n",
       "    </tr>\n",
       "    <tr>\n",
       "      <th>3893</th>\n",
       "      <td>-0.333848</td>\n",
       "      <td>0.633314</td>\n",
       "      <td>0.355734</td>\n",
       "      <td>0.466809</td>\n",
       "      <td>0.785626</td>\n",
       "      <td>-0.357702</td>\n",
       "      <td>1.231409</td>\n",
       "      <td>0.286715</td>\n",
       "      <td>-0.510810</td>\n",
       "      <td>0.417141</td>\n",
       "      <td>...</td>\n",
       "      <td>-0.893457</td>\n",
       "      <td>-0.061400</td>\n",
       "      <td>0.462824</td>\n",
       "      <td>0.254046</td>\n",
       "      <td>0.053779</td>\n",
       "      <td>-0.184203</td>\n",
       "      <td>0.344259</td>\n",
       "      <td>-0.230702</td>\n",
       "      <td>-0.281625</td>\n",
       "      <td>0.767919</td>\n",
       "    </tr>\n",
       "    <tr>\n",
       "      <th>3894</th>\n",
       "      <td>-0.216098</td>\n",
       "      <td>0.235419</td>\n",
       "      <td>0.040257</td>\n",
       "      <td>0.569344</td>\n",
       "      <td>0.691011</td>\n",
       "      <td>-0.162694</td>\n",
       "      <td>1.316629</td>\n",
       "      <td>0.431406</td>\n",
       "      <td>-0.345816</td>\n",
       "      <td>0.488383</td>\n",
       "      <td>...</td>\n",
       "      <td>-0.862707</td>\n",
       "      <td>-0.224438</td>\n",
       "      <td>0.767837</td>\n",
       "      <td>0.105895</td>\n",
       "      <td>0.092282</td>\n",
       "      <td>-0.226844</td>\n",
       "      <td>0.362820</td>\n",
       "      <td>-0.277494</td>\n",
       "      <td>-0.058948</td>\n",
       "      <td>0.729242</td>\n",
       "    </tr>\n",
       "    <tr>\n",
       "      <th>3895</th>\n",
       "      <td>-0.414234</td>\n",
       "      <td>0.308480</td>\n",
       "      <td>0.224142</td>\n",
       "      <td>0.302820</td>\n",
       "      <td>0.643370</td>\n",
       "      <td>-0.269277</td>\n",
       "      <td>0.820429</td>\n",
       "      <td>0.083202</td>\n",
       "      <td>-0.352037</td>\n",
       "      <td>0.196937</td>\n",
       "      <td>...</td>\n",
       "      <td>-0.402627</td>\n",
       "      <td>-0.134629</td>\n",
       "      <td>0.530582</td>\n",
       "      <td>0.003905</td>\n",
       "      <td>0.157889</td>\n",
       "      <td>-0.046476</td>\n",
       "      <td>0.250381</td>\n",
       "      <td>-0.007038</td>\n",
       "      <td>-0.497557</td>\n",
       "      <td>0.659666</td>\n",
       "    </tr>\n",
       "    <tr>\n",
       "      <th>3896</th>\n",
       "      <td>-0.138017</td>\n",
       "      <td>0.195692</td>\n",
       "      <td>0.243145</td>\n",
       "      <td>0.532831</td>\n",
       "      <td>0.281405</td>\n",
       "      <td>0.223453</td>\n",
       "      <td>-0.054842</td>\n",
       "      <td>-0.183597</td>\n",
       "      <td>-0.033892</td>\n",
       "      <td>-0.087486</td>\n",
       "      <td>...</td>\n",
       "      <td>-0.073936</td>\n",
       "      <td>-0.204972</td>\n",
       "      <td>0.755518</td>\n",
       "      <td>0.075643</td>\n",
       "      <td>0.116187</td>\n",
       "      <td>-0.163017</td>\n",
       "      <td>0.308822</td>\n",
       "      <td>-0.329714</td>\n",
       "      <td>0.362289</td>\n",
       "      <td>0.177460</td>\n",
       "    </tr>\n",
       "  </tbody>\n",
       "</table>\n",
       "<p>3897 rows × 384 columns</p>\n",
       "</div>"
      ],
      "text/plain": [
       "           0         1         2         3         4         5         6    \\\n",
       "0    -0.602188  0.562107 -0.346970 -0.284925  0.202138 -0.682676 -0.189156   \n",
       "1    -0.332806  0.508936  0.083444  0.235220 -0.613477  0.286126 -0.748617   \n",
       "2    -0.552587  0.913959  0.033528 -0.366940 -0.270106  0.158297 -0.466381   \n",
       "3    -0.822611  0.294319 -0.178213  0.742620  0.123581 -0.048046 -0.872719   \n",
       "4    -0.308265  0.180802 -0.174810 -0.516703  0.323666 -0.001323  0.148514   \n",
       "...        ...       ...       ...       ...       ...       ...       ...   \n",
       "3892 -0.278320 -0.064603 -0.009361 -0.198512 -0.555154 -0.147735  0.708115   \n",
       "3893 -0.333848  0.633314  0.355734  0.466809  0.785626 -0.357702  1.231409   \n",
       "3894 -0.216098  0.235419  0.040257  0.569344  0.691011 -0.162694  1.316629   \n",
       "3895 -0.414234  0.308480  0.224142  0.302820  0.643370 -0.269277  0.820429   \n",
       "3896 -0.138017  0.195692  0.243145  0.532831  0.281405  0.223453 -0.054842   \n",
       "\n",
       "           7         8         9    ...       374       375       376  \\\n",
       "0     0.356635 -0.074140 -0.082910  ...  0.253502 -0.217884 -0.195755   \n",
       "1    -0.242678  0.638196  0.343479  ...  0.187946  0.117543  0.542721   \n",
       "2     0.434515  0.713359  0.490611  ... -0.371110 -0.216512  0.162969   \n",
       "3     0.178744  0.342302  0.357441  ... -0.357239 -0.002093  0.041864   \n",
       "4     0.219945  0.169237 -0.115425  ... -0.633099 -0.052006  0.240671   \n",
       "...        ...       ...       ...  ...       ...       ...       ...   \n",
       "3892  0.109706 -0.731126  0.135103  ... -0.336736  0.278102  0.125399   \n",
       "3893  0.286715 -0.510810  0.417141  ... -0.893457 -0.061400  0.462824   \n",
       "3894  0.431406 -0.345816  0.488383  ... -0.862707 -0.224438  0.767837   \n",
       "3895  0.083202 -0.352037  0.196937  ... -0.402627 -0.134629  0.530582   \n",
       "3896 -0.183597 -0.033892 -0.087486  ... -0.073936 -0.204972  0.755518   \n",
       "\n",
       "           377       378       379       380       381       382       383  \n",
       "0     0.255856 -0.595901  0.345819  0.249606 -0.053912  0.688430  0.144065  \n",
       "1    -0.173157 -0.191739  0.030890  0.112062 -0.883366 -0.497201 -0.929634  \n",
       "2     0.011953 -0.286792  0.002479  0.539010 -0.515986  0.125243 -0.236371  \n",
       "3     0.086779  0.013782  0.373335  0.340590 -0.382113  0.316429 -0.118182  \n",
       "4    -0.195744  0.173719  0.385438  0.343920 -0.277336 -0.179559  0.152401  \n",
       "...        ...       ...       ...       ...       ...       ...       ...  \n",
       "3892 -0.211005  0.371553  0.150948 -0.143946  0.277610  0.847329  0.160846  \n",
       "3893  0.254046  0.053779 -0.184203  0.344259 -0.230702 -0.281625  0.767919  \n",
       "3894  0.105895  0.092282 -0.226844  0.362820 -0.277494 -0.058948  0.729242  \n",
       "3895  0.003905  0.157889 -0.046476  0.250381 -0.007038 -0.497557  0.659666  \n",
       "3896  0.075643  0.116187 -0.163017  0.308822 -0.329714  0.362289  0.177460  \n",
       "\n",
       "[3897 rows x 384 columns]"
      ]
     },
     "execution_count": 49,
     "metadata": {},
     "output_type": "execute_result"
    }
   ],
   "source": [
    "pd.DataFrame(embeddings)"
   ]
  },
  {
   "cell_type": "code",
   "execution_count": 51,
   "metadata": {},
   "outputs": [
    {
     "data": {
      "text/plain": [
       "<PandasArray>\n",
       "[      'indonesian journal of electrical engineering and computer science',\n",
       "                                            'volume  number  date  pages ',\n",
       "                                                    'issn  doi webpage ď ',\n",
       "                                                'journal homepage webpage',\n",
       "           'evaluation of svm performance in the detection of lung cancer',\n",
       "                                              'in dateked ct scan dataset',\n",
       "                                                        'hamdalla webpage',\n",
       "                                                      'muayed s alhusieny',\n",
       "                                                          'furat y mohsen',\n",
       "                                                           'enam a khalil',\n",
       " ...\n",
       "                                                       'bitsstored_dicom ',\n",
       "                                                     'windowcenter_dicom ',\n",
       "                                                      'windowwidth_dicom ',\n",
       "                                                             'rows_dicom ',\n",
       "                                                          'columns_dicom ',\n",
       "                                                  'xraytubecurrent_dicom ',\n",
       "                                                         'exposure_dicom ',\n",
       "                                                    'exposureinuas_dicom ',\n",
       "                                                     'exposuretime_dicom ',\n",
       " 'table  fields corresponding to the study which images are shown in fig ']\n",
       "Length: 3897, dtype: object"
      ]
     },
     "execution_count": 51,
     "metadata": {},
     "output_type": "execute_result"
    }
   ],
   "source": [
    "pd.array(processed)"
   ]
  },
  {
   "cell_type": "markdown",
   "metadata": {},
   "source": [
    "## Lemmatization"
   ]
  },
  {
   "cell_type": "code",
   "execution_count": 52,
   "metadata": {},
   "outputs": [],
   "source": [
    "from nltk.stem import WordNetLemmatizer\n",
    " \n",
    "lemmatizer = WordNetLemmatizer()"
   ]
  },
  {
   "cell_type": "code",
   "execution_count": 59,
   "metadata": {},
   "outputs": [
    {
     "data": {
      "text/plain": [
       "['indonesian journal of electrical engineering and computer science',\n",
       " 'volume  number  date  pages ',\n",
       " 'issn  doi webpage ď ',\n",
       " 'journal homepage webpage',\n",
       " 'evaluation of svm performance in the detection of lung cancer',\n",
       " 'in dateked ct scan dataset',\n",
       " 'hamdalla webpage',\n",
       " 'muayed s alhusieny',\n",
       " 'furat y mohsen',\n",
       " 'enam a khalil',\n",
       " 'zainab s hassan',\n",
       " 'department of electrical engineering college of engineering wasit university wasit iraq',\n",
       " 'the oncology teaching hospital the medical city baghdad iraq',\n",
       " 'article info abstract',\n",
       " 'article history']"
      ]
     },
     "execution_count": 59,
     "metadata": {},
     "output_type": "execute_result"
    }
   ],
   "source": [
    "lemmatized=[lemmatizer.lemmatize(a) for a in pd.array(processed)]\n",
    "lemmatized[:15]"
   ]
  },
  {
   "cell_type": "code",
   "execution_count": 60,
   "metadata": {},
   "outputs": [],
   "source": [
    "from nltk.stem import PorterStemmer\n",
    "from nltk.tokenize import word_tokenize\n",
    "  \n",
    "ps = PorterStemmer()"
   ]
  },
  {
   "cell_type": "code",
   "execution_count": 61,
   "metadata": {},
   "outputs": [
    {
     "data": {
      "text/plain": [
       "['indonesian journal of electrical engineering and computer sci',\n",
       " 'volume  number  date  pages ',\n",
       " 'issn  doi webpage ď ',\n",
       " 'journal homepage webpag',\n",
       " 'evaluation of svm performance in the detection of lung canc',\n",
       " 'in dateked ct scan dataset',\n",
       " 'hamdalla webpag',\n",
       " 'muayed s alhusieni',\n",
       " 'furat y mohsen',\n",
       " 'enam a khalil',\n",
       " 'zainab s hassan',\n",
       " 'department of electrical engineering college of engineering wasit university wasit iraq',\n",
       " 'the oncology teaching hospital the medical city baghdad iraq',\n",
       " 'article info abstract',\n",
       " 'article histori']"
      ]
     },
     "execution_count": 61,
     "metadata": {},
     "output_type": "execute_result"
    }
   ],
   "source": [
    "stemmed=[ps.stem(a) for a in pd.array(processed)]\n",
    "stemmed[:15]"
   ]
  },
  {
   "cell_type": "code",
   "execution_count": null,
   "metadata": {},
   "outputs": [],
   "source": []
  }
 ],
 "metadata": {
  "kernelspec": {
   "display_name": "Python 3",
   "language": "python",
   "name": "python3"
  },
  "language_info": {
   "codemirror_mode": {
    "name": "ipython",
    "version": 3
   },
   "file_extension": ".py",
   "mimetype": "text/x-python",
   "name": "python",
   "nbconvert_exporter": "python",
   "pygments_lexer": "ipython3",
   "version": "3.8.5"
  }
 },
 "nbformat": 4,
 "nbformat_minor": 4
}
