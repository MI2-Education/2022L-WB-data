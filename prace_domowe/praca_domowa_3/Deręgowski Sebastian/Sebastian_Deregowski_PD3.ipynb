{
 "cells": [
  {
   "cell_type": "markdown",
   "id": "38bd8f11",
   "metadata": {},
   "source": [
    "# Praca domowa nr 3\n",
    "### Sebastian Deręgowski"
   ]
  },
  {
   "cell_type": "markdown",
   "id": "6e51c79c",
   "metadata": {},
   "source": [
    "Celem tej pracy domowej było zapoznanie się z artykułami dotyczącymi baz danych, którymi się zajmujemy."
   ]
  },
  {
   "cell_type": "markdown",
   "id": "f4da7e3c",
   "metadata": {},
   "source": [
    "## Covid-19-CT-Seg"
   ]
  },
  {
   "cell_type": "markdown",
   "id": "1ac152d2",
   "metadata": {},
   "source": [
    "* **Tytuł:** *Towards Data-Efficient Learning: A Benchmark for COVID-19 CT Lung and Infection Segmentation*\n",
    "* **Autorzy:** Jun Ma, Yixin Wang, Xingle An, Cheng Ge, Ziqi Yu, Jianan Chen, Qiongjie Zhu, Guoqiang Dong, Jian He,\n",
    "Zhiqiang He, Tianjia Cao, Yuntao Zhu, Ziwei Nie, Xiaoping Yang\n",
    "* **Rok powstania:** 2020\n",
    "* **Źródła danych:** baza danych powstała w oparciu o skonsolidowanie danych z kilku niezależnych źródeł, wymienione w artykule są:\n",
    "    * The Cancer Imaging Archive NSCLC Radiomics\n",
    "    * Coronacases Initiative\n",
    "    * Radiopaedia\n",
    "    * Stanford University\n",
    "    * szpitale komunalne w Moskwie\n",
    "* **Liczba danych:** Dane składają się z 20 skanów CT (łącznie ponad 1800 slice'ów), na których zaznaczonych jest ponad 300 infekcji.\n",
    "* **Istotne informacje, których nie widać w bazie:** proporcje obszarów zakażonych wahają się od 0.01% do 59%. Średnio oznaczenie jednego skanu CT z 250 slice'ami zajmuje 400 ± 45 min - duży problem.\n",
    "* **Istotne informacje, których nie ma w artykule:** nie stwierdziłem żadnych, artykuł jest bardzo wyczerpujący\n",
    "* **Jakie artykuły korzystały z bazy danych?** Łącznie 40 cytowań, pełna lista tutaj:\n",
    "https://scholar.google.co.uk/scholar?cites=3473106085777093681&as_sdt=2005&sciodt=0,5&hl=pl\n",
    "* **Zadania:** Segmentacja została podzielona na trzy zadania:\n",
    "    * uczenie na ograniczonym zbiorze covidowym\n",
    "    * rozróżnianie scanów covidowych i niecovidowych\n",
    "    * uczenie na obu zbiorach\n",
    "* **\"Podzadania\":** w każdym z tych trzech zadań rozwiązywane były dodatkowe dwa problemy:\n",
    "    * rozróżnianie płuca lewego i prawego\n",
    "    * wyróżnianie zainfekowanych obszarów w płucach\n",
    "* **Wyniki:** Zastosowano dwie metryki: DSC (Dice similarity coefficient) oraz NSD (Normalized surface Dice). Wyniki dla pierwszej metryki są przedstawione w pierwszym wierszu, a dla drugiej w drugiej.\n",
    "    * pierwsze zadanie\n",
    "    | lewe płuco | prawe płuco | infekcja |\n",
    "    | --- | --- | --- |\n",
    "    | 85.8 ± 10.5 | 87.9 ± 9.3 | 67.3 ± 22.3 |\n",
    "    | 71.2 ± 13.8 | 74.8 ± 11.9\t| 70.0 ± 24.4 |\n",
    "    * drugie zadanie\n",
    "    | lewe płuco | prawe płuco | infekcja |\n",
    "    | --- | --- | --- |\n",
    "    | 92.2 ± 19.7 | 95.5 ± 7.2 | 25.2 ± 27.4 |\n",
    "    | 82.0 ± 15.7 | 84.2 ± 11.6\t| 26.0 ± 28.5 |\n",
    "    \t\t\t\n",
    "    * trzecie zadanie\n",
    "    | lewe płuco | prawe płuco | infekcja |\n",
    "    | --- | --- | --- |\n",
    "    | 97.3 ± 2.1 | 97.7 ± 2.1 | 64.2 ± 24.5 |\n",
    "    | 90.6 ± 6.2 | 91.4 ± 6.1\t| 63.3 ± 25.7 |"
   ]
  },
  {
   "cell_type": "markdown",
   "id": "1c3f374c",
   "metadata": {},
   "source": [
    "## Pediatric Chest X-Ray Pneumonia"
   ]
  },
  {
   "cell_type": "markdown",
   "id": "61c30779",
   "metadata": {},
   "source": [
    "* **Tytuł:** *Identifying Medical Diagnoses and Treatable Diseases by Image-Based Deep Learning*\n",
    "* **Autorzy:** Daniel S.Kermany, Michael Goldbaum, Wenjia Cai et al.\n",
    "* **Rok powstania:** 2017\n",
    "* **Źródła danych:** nie ma informacji o źródłach\n",
    "* **Liczba danych:** 207 130 zdjęć rentgenowskich \n",
    "* **Istotne informacje, których nie widać w bazie:** moja baza jest tylko małym wycinkiem tej omawianej w artykule, stworzonej na potrzeby konkretnie tego zadania. W tamtej bazie dodatkowo były rozróżniane różne infekcje płucne, nie tylko zapalenie. Dodatkowo w wyjściowej bazie były nie tylko zdjęcia płuc dzieci.\n",
    "* **Istotne informacje, których nie ma w artykule:** nie ma źródeł, co jest dość podejrzane i zamiecione pod dywan słowami \"we obtained\". Dodatkowo jest napisane, że obrazy przeszły wstepną ocenę jakości pozwalająca na zakwalifikowanie, ale nie ma nigdzie napisane jaką metodologią ta ocena została dokonywana.\n",
    "* **Jakie artykuły korzystały z bazy danych?** 287 cytowań, pełna lista tutaj:\n",
    "https://scholar.google.com/scholar?cites=18278445596997492286&as_sdt=2005&sciodt=0,5&hl=pl\n",
    "* **Zadania:** Klasyfikacja czy płuca są zainfekowane czy nie (dodatkowo również typ infekcji, ale to nie jest powiązane z moim zadaniem).\n",
    "* **Wyniki:**\n",
    "    * Accuracy: 92.8%,\n",
    "    * Sensitivity: 93.2%\n",
    "    * Specificity: 90.1%\n",
    "    * ROC area: 96.8%"
   ]
  }
 ],
 "metadata": {
  "kernelspec": {
   "display_name": "Python 3 (ipykernel)",
   "language": "python",
   "name": "python3"
  },
  "language_info": {
   "codemirror_mode": {
    "name": "ipython",
    "version": 3
   },
   "file_extension": ".py",
   "mimetype": "text/x-python",
   "name": "python",
   "nbconvert_exporter": "python",
   "pygments_lexer": "ipython3",
   "version": "3.9.7"
  }
 },
 "nbformat": 4,
 "nbformat_minor": 5
}
