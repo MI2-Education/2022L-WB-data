{
 "cells": [
  {
   "cell_type": "markdown",
   "metadata": {},
   "source": [
    "# Porównanie zbiorów danych z artykułem"
   ]
  },
  {
   "cell_type": "markdown",
   "metadata": {},
   "source": [
    "## QaTa-COV19 Dataset"
   ]
  },
  {
   "cell_type": "markdown",
   "metadata": {},
   "source": [
    "### Wstęp i artykuł"
   ]
  },
  {
   "cell_type": "markdown",
   "metadata": {},
   "source": [
    "Zbiór QaTa-COV19 składa się z 4 podzbiorów:  \n",
    "- Control_group\n",
    "- Early-QaTa-COV19  \n",
    "- QaTa-COV19-v1  \n",
    "- QaTa-COV19-v2   \n",
    "W naszych analizach skupiamy się głównie na ostatnim zbiorze, tzn. QaTa-COV19-v2, dlatego też artykuł na jego temat zostanie teraz przytoczony. Warto też zauważyć, że zbiór QaTa-COV19 jest w rzeczywistości połączeniem wielu różnych podzbiorów, z różnych źródeł.   \n",
    "LINKI:     \n",
    "[Wybrany artykuł - QaTa-COV19-v2](https://arxiv.org/abs/2202.10185)  \n",
    "[Wybrany artykuł - źródło zdjęć](https://arxiv.org/abs/2006.01174)   \n",
    "[kaggle](https://www.kaggle.com/datasets/aysendegerli/qatacov19-dataset)   \n",
    "[Strona projektu](http://qatacov.live/)  "
   ]
  },
  {
   "cell_type": "markdown",
   "metadata": {},
   "source": [
    "### Podstawowe informacje o bazie danych"
   ]
  },
  {
   "cell_type": "markdown",
   "metadata": {},
   "source": [
    "- Zbiór został utworzony przez naukowców z Qatar University, we współpracy z Tampere University oraz doktorami z Hamad Medical Corporation.\n",
    "- QaTa-COV19-v2 składa się z 9258 CXR wraz z maskami.\n",
    "- Artykuł dotyczący QaTa-COV19-v2 nie został nigdzie opublikowany (tylko arxiv).\n",
    "- Zdjęcia, które zostały zanotowane w zbiorze QaTa-COV19-v2 pochodzą ze zbioru BIMCV COVID-19+, dlatego by zrozumieć w pełni dynamikę zbioru należy przenealizować obydwa podane powyżej artykuły.\n",
    "- Artykuł dotyczący BIMCV COVID-19+ także nie został nigdzie opublikowany, ma natomiast 80 cytowań.\n",
    "- Wszystko wskazuje na to, że oryginalne dane zostały zgromadzone od pacjentów z Hiszpanii między 2020 a 2022, w sposób inkrementalny. QaTa-COV19-v2 wziął pod uwagę tylko zdjęcia CXR ze zbioru BIMCV COVID-19+.\n"
   ]
  },
  {
   "cell_type": "markdown",
   "metadata": {},
   "source": [
    "### Jakie istotne informacje są w artykule, a nie widać tego w bazie danych?"
   ]
  },
  {
   "cell_type": "markdown",
   "metadata": {},
   "source": [
    "- Oryginalnie dane miały podane informacje takie jak wiek i płeć pacjenta, zostały one jednak pominięte w tej bazie.\n",
    "- Usunięto dane z tych samych sesji od tych samych pacjentów, by zapobiec powtórkom w zdjęciach.\n",
    "- Podział na zbiór treningowy i testowy został utworzony przy uwzględneniu informacji o pacjentach, tak by zapobiec powtarzaniu się pacjentów.\n",
    "- Wszystkie dane zostały przeskalowane do rozmiaru 224x224.\n",
    "- Dane były anotowane przez sieć, we współpracy z lekarzami- brak szczegółów dotyczących tej współpracy, podano jedynie informację że \"31 zdjęć nie spełniło wymagań, więc zostało ręcznie zanotowane przez lekarzy\".\n",
    "- Dane do treningu sieci przy anotacji zostały poddane augmentacji używając Kerasa, były one po prostu obracane w sposób losowy o 10% - ostatecznie trening przebiegł na 20000 próbkach covidowych (ogólnie 106524 zdjęć)."
   ]
  },
  {
   "cell_type": "markdown",
   "metadata": {},
   "source": [
    "### Jakie informacje dotyczące bazy danych nie zostały przedstawione w artykule?"
   ]
  },
  {
   "cell_type": "markdown",
   "metadata": {},
   "source": [
    "- Nie wspomniano nic o artefaktach, przesuniętych zdjęciach czy innych problemach- ogólnie informacji o samej bazie jest dość niewiele, twórcy skupili się raczej na informacjach dotyczących badań i testów przeprowadzonych na tej bazie. \n",
    "- Nie wyjaśniono, czemu metadane zostały pominięte (w odpowiedzi na Kagglu wspomniano jedynie, że dane poddano anonimizacji)."
   ]
  },
  {
   "cell_type": "markdown",
   "metadata": {},
   "source": [
    "### Jakie artykuły korzystały z tej bazy danych? Jakie zadania były wykonywane (klasyfikacja, segmentacja, detekcja itp.)?"
   ]
  },
  {
   "cell_type": "markdown",
   "metadata": {},
   "source": [
    "Artykuł dotyczący QaTa-COV19-v2 jest dość nowy i nie ma żadnych cytowań- ciężko więc stwierdzić, czy ta wersja bazy danych została gdzieś wykorzystana- natomiast wersje wcześniejsze (przede wszystkim QaTa-COV19-v1) były cytowane wielokrotnie (ponad 80 razy), większość artykułów dotyczy zadań segmentacji przy użyciu szeroko pojętych sieci i uczenia głębokiego.   \n",
    "Oryginalna baza dla QaTa-COV19 natomiast, tj. BIMCV COVID-19+, cieszy się znacznie większym powodzeniem i była wykorzystywana przy wszystkich wspomnianych zadaniach (klasyfikacji, detekcji, segmentacji).\n",
    "Wyniki modeli na bazie QaTa-COV19 oscylują w granicach 99% dla accuracy oraz 87-89% dla sensivity, precision oraz f1-score."
   ]
  },
  {
   "cell_type": "markdown",
   "metadata": {},
   "source": [
    "## covidx-cxr2"
   ]
  },
  {
   "cell_type": "markdown",
   "metadata": {},
   "source": [
    "### Wstęp i artykuł"
   ]
  },
  {
   "cell_type": "markdown",
   "metadata": {},
   "source": [
    "Zbiór ten, podobnie jak zbiór QaTa-COV19, przygotowany został z połączenia wielu pomniejszych podzbiorów. Warto tutaj zauważyć, \n",
    "że Covidx-cxr2 powstaje w sposób iteracyjny- a nowe wydania są starannie ogłaszane i opisywane prze twórców. Pojawia się pewna nieścisłość- zbiór ten na kagglu podpisany jest jako covidx-cxr2, jednak w opisie oraz na stronie twórców określają go oni mianem covidx-cxr3- wszystko wskazuje na to, że nazwa na kagglu po prostu nie została zaktualizowana.   \n",
    "Skrypt 1 i Skrypt 2 to linki do notatników, dzieki którym można odtworzyć baże covidx bezpośrednio ze źródeł.   \n",
    "LINKI:   \n",
    "[Wybrany artykuł](https://www.nature.com/articles/s41598-020-76550-z)   \n",
    "[kaggle](https://www.kaggle.com/datasets/andyczhao/covidx-cxr2)   \n",
    "[Strona projektu](https://alexswong.github.io/COVID-Net/)  \n",
    "[Skrypt_1](https://github.com/lindawangg/COVID-Net/blob/master/create_ricord_dataset/create_ricord_dataset.ipynb)\n",
    "[Skrypt 2](https://github.com/lindawangg/COVID-Net/blob/master/create_COVIDx_binary.ipynb)"
   ]
  },
  {
   "cell_type": "markdown",
   "metadata": {},
   "source": [
    "### Podstawowe informacje o bazie danych"
   ]
  },
  {
   "cell_type": "markdown",
   "metadata": {},
   "source": [
    "- Artykuł o tej bazie został opublikowany na nature.com i był cytowany 640 razy.\n",
    "- Baza powstawała inkrementalnie, COVIDx-CXR2 został wydany 14 maja 2021 roku, ale ostatnia aktualizacja bazy nastąpiła 28 listopada 2021.\n",
    "- Na bazę składają się zdjęcia CXR różnych rozmiarów.\n",
    "- Artykuł przedstawia starszą wersję bazy (artykuł opublikowano w listopadzie 2020), można jednak założyć, że kolejne nadbudowania powstawały w ten sam sposób.\n"
   ]
  },
  {
   "cell_type": "markdown",
   "metadata": {},
   "source": [
    "### Jakie istotne informacje są w artykule, a nie widać tego w bazie danych?"
   ]
  },
  {
   "cell_type": "markdown",
   "metadata": {},
   "source": [
    "- W artykule opisano 5 z 9 źródeł zdjęć z bazy (źródła te to po prostu inne bazy, które połączono w jedną większą)\n",
    "- Według twórców wszystkie użyte bazy danych były open source\n",
    "- Twórcy rozróżniają też zdjęcia z widocznym zapaleniem płuc, co nie zostało zaznaczone w danych.\n",
    "- W samym artykule jest niewiele informacji, twórcy dostarczyli jednak skrypt, dzięki któremu można odtworzyć zbiór danych\n",
    "- Ze skryptu można odczytać m.in. że w zależności od bazy, zdjęcia pozyskane były w różnych pozycjacj (w niektórych bazach wszystkie kombinacje, w innych tylko AP itd.), w niektórych bazach też rozróżniano więcej przypadków chorób niż zwykłe covid-zdrowy. Niestety informacje te zostały pominięte w ostetcznej bazie, ale widać potencjalne zagrożenia- jest szansa, że model zacznie skupiać się na rozróżnianiu źródeł danych, zamiast samych zdjęć."
   ]
  },
  {
   "cell_type": "markdown",
   "metadata": {},
   "source": [
    "### Jakie informacje dotyczące bazy danych nie zostały przedstawione w artykule?"
   ]
  },
  {
   "cell_type": "markdown",
   "metadata": {},
   "source": [
    "- Nie wspomniano  o zdjęciach przesuniętych, łańcuszkach czy innych artefaktach.\n",
    "- Nie wyjaśniono dokładnie, który skrót odnosi się do której bazy danych (można to wyśledzić dopiero w skrypcie tworzącym bazę, nie jest to jednak w czysty i przejrzysty sposób zaznaczone)"
   ]
  },
  {
   "cell_type": "markdown",
   "metadata": {},
   "source": [
    "### Jakie artykuły korzystały z tej bazy danych? Jakie zadania były wykonywane (klasyfikacja, segmentacja, detekcja itp.)?"
   ]
  },
  {
   "cell_type": "markdown",
   "metadata": {},
   "source": [
    "Z tej bazy danych korzystało bardzo wiele artykułów, w większości z nich przeprowadzono klasyfikację z użyciem konwolucyjnych sieci neuronowych."
   ]
  }
 ],
 "metadata": {
  "kernelspec": {
   "display_name": "Python 3",
   "language": "python",
   "name": "python3"
  },
  "language_info": {
   "codemirror_mode": {
    "name": "ipython",
    "version": 3
   },
   "file_extension": ".py",
   "mimetype": "text/x-python",
   "name": "python",
   "nbconvert_exporter": "python",
   "pygments_lexer": "ipython3",
   "version": "3.8.5"
  }
 },
 "nbformat": 4,
 "nbformat_minor": 4
}
