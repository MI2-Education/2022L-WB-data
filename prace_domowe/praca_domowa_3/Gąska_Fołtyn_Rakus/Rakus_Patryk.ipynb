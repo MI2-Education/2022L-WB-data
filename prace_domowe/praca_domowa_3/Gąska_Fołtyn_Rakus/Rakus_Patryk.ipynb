{
 "cells": [
  {
   "cell_type": "markdown",
   "id": "abd4f47d",
   "metadata": {},
   "source": [
    "## Artykuły baz danych"
   ]
  },
  {
   "cell_type": "markdown",
   "id": "b8d74c2d",
   "metadata": {},
   "source": [
    "- Shenzen Chest Xray Dataset - Jaeger, Stefan et al. “Two public chest X-ray datasets for computer-aided screening of pulmonary diseases.” Quantitative imaging in medicine and surgery vol. 4,6 (2014): 475-7. doi:10.3978/j.issn.2223-4292.2014.11.20\n",
    "\n",
    "- rsna-pneumonia-detection-challenge - Wang, Xiaosong, et al. \"Chestx-ray8: Hospital-scale chest x-ray database and benchmarks on weakly-supervised classification and localization of common thorax diseases.\" Proceedings of the IEEE conference on computer vision and pattern recognition. 2017.m"
   ]
  },
  {
   "cell_type": "markdown",
   "id": "eefc453b",
   "metadata": {},
   "source": [
    "## Jakie istotne informacje są w artykule, a nie widać tego w bazie danych?"
   ]
  },
  {
   "cell_type": "markdown",
   "id": "c05bb6c7",
   "metadata": {},
   "source": [
    "- rsna-pneumonia-detection-challenge - dane stosowane w zawodach na platformie Kaggle, to część dotycząca zapalenia płuc, gdy sama baza danych ChestX-ray8 dotyczy wielu chorób i zawiera 108 948 zdjęć."
   ]
  },
  {
   "cell_type": "markdown",
   "id": "6af779b6",
   "metadata": {},
   "source": [
    "## Jakie informacje dotyczące bazy danych nie zostały przedstawione w artykule? Czy mogło to być zrobione specjalnie? Uzasadnij."
   ]
  },
  {
   "cell_type": "markdown",
   "id": "182ba8a8",
   "metadata": {},
   "source": [
    "Shenzen Chest Xray Dataset - artykuł nie wspomina, że metadane (któe znajdują się w plikach .txt) posiadają literówki oraz odejścia od schematu (np. czasami wartości odzdziela przecinek, a czasami nie)"
   ]
  },
  {
   "cell_type": "markdown",
   "id": "ac48c48b",
   "metadata": {},
   "source": [
    "## Jakie artykuły korzystały z tej bazy danych? Jakie zadania były wykonywane (klasyfikacja, segmentacja, detekcja itp.)? Jakie wyniki trenowania zostały osiągnięte (jeśli nie była to jedyna baza danych, to wypisz inne tak, by dało się je zidentyfikować)?"
   ]
  },
  {
   "cell_type": "markdown",
   "id": "584ae8b6",
   "metadata": {},
   "source": [
    "### Shenzen Chest Xray Dataset:\n",
    "- S. Jaeger et al., \"Automatic Tuberculosis Screening Using Chest Radiographs,\" in IEEE Transactions on Medical Imaging, vol. 33, no. 2, pp. 233-245, Feb. 2014, doi: 10.1109/TMI.2013.2284099.\n",
    "    - użyte są również zbiory od Department of Health and Human Services, Montgomery County, Maryland, USA oraz od Japanese Society of Radiological Technology (JSRT)\n",
    "    - wykonywano klasyfikację, na zbiorze Shenzen AUC = 88%, Accuracy = 82.5%"
   ]
  },
  {
   "cell_type": "markdown",
   "id": "7e60fb86",
   "metadata": {},
   "source": [
    "### rsna-pneumonia-detection-challenge\n",
    "- Wang, Xiaosong, et al. \"Chestx-ray8: Hospital-scale chest x-ray database and benchmarks on weakly-supervised classification and localization of common thorax diseases.\" Proceedings of the IEEE conference on computer vision and pattern recognition. 2017.\n",
    "\n",
    "    - wykonywano kalsyfikację multi-label oraz lokalizację, jednak zbiór różni się od tego, z którego korzystam, ponieważ uczył on się wielu chorób na całym zbiorze, gdzie na platformie kaggle zbiór został specjalnie przygotowany pod zapalenie płuc z oznaczoną większą ilością zdjęć.\n",
    "- Rajpurkar, Pranav, et al. \"Chexnet: Radiologist-level pneumonia detection on chest x-rays with deep learning.\" arXiv preprint arXiv:1711.05225 (2017).\n",
    "\n",
    "    - wykonywano binarną klasyfikację dla zapalenia płuc z wynikiem 0.77, ponownie jednak zbiór ten najprawdopodobniej różni się od zbioru danych z platformy Kaggle, który został przygotowany specjalnie pod zawody."
   ]
  }
 ],
 "metadata": {
  "kernelspec": {
   "display_name": "Python 3 (ipykernel)",
   "language": "python",
   "name": "python3"
  },
  "language_info": {
   "codemirror_mode": {
    "name": "ipython",
    "version": 3
   },
   "file_extension": ".py",
   "mimetype": "text/x-python",
   "name": "python",
   "nbconvert_exporter": "python",
   "pygments_lexer": "ipython3",
   "version": "3.10.1"
  }
 },
 "nbformat": 4,
 "nbformat_minor": 5
}
