{
 "cells": [
  {
   "cell_type": "markdown",
   "metadata": {},
   "source": [
    "## Analiza artykułów dotyczących baz danych"
   ]
  },
  {
   "cell_type": "markdown",
   "metadata": {},
   "source": [
    "## Chest X-ray Images(Pneumonia)"
   ]
  },
  {
   "cell_type": "markdown",
   "metadata": {},
   "source": [
    "Link do artykułu: https://www.cell.com/action/showPdf?pii=S0092-8674%2818%2930154-5\n",
    "\n",
    "Nie jest to artykuł samych twórców bazy danych, lecz zespołu badawczego, który z  niej korzystał. Same zdjęcia powstały przy okazji rutynowych wizyt. Jednak z artykułu możemy poznać dodatkowe szczegóły."
   ]
  },
  {
   "cell_type": "markdown",
   "metadata": {},
   "source": [
    "### Podstawowe informacje o bazie danych\n",
    "- rok powstania: 2018 \n",
    "- źródła danych: https://data.mendeley.com/datasets/rscbjbr9sj/2 (tutaj brak dokładniejszych opisów). Same zdjęcia pochodzą z chińskiego szpitala pediatrycznego. \n",
    "- liczba danych: 5856 zdjęć\n",
    "\n",
    "Artykuł nie jest wyłącznie na temat tej bazy. W skład badania wchodziło również zdjęcia OCT robione w San Diego, Pekinie i Szanhaju. Głównie opisuje proces uczenia maszynowego. "
   ]
  },
  {
   "cell_type": "markdown",
   "metadata": {},
   "source": [
    "### Istotne informacje:\n",
    "- Przed opublikowaniem bazy danych odbyła się kontrola jakości\n",
    "- Ocena samych zdjęć przez lekarzy w szpitalu\n",
    "- Zdjęcia sprawdzone przez 3 niezależnych ekspertów."
   ]
  },
  {
   "cell_type": "markdown",
   "metadata": {},
   "source": [
    "Baza danych poza zdjęciami nie miała wiele dodatkowych informacji (brak metadanych, annotacji, dodatkowych tabel z danymi). Wydaje się, że żadne dodatkowe informacje nie zostały ukryte."
   ]
  },
  {
   "cell_type": "markdown",
   "metadata": {},
   "source": [
    "Głównym zadaniem była segemntacja: zapalenie płuc (wirusowe, bakteryjne), brak zapalenia płuc. <br>\n",
    "Baza została zamieszczona na Kagglu i w zakładce Code możemy przeczytać o wielu próbach uzyskania wysokiej dokładności. "
   ]
  },
  {
   "cell_type": "markdown",
   "metadata": {},
   "source": [
    "Sami autorzy uzyskali dokładność na poziomie 92,8% przy klasyfikacji binarnej (zapalnie płuc czy nie) oraz 90,7% przy rozpoznaniu typu zapalenia płuc (wirusowe czy bakteryjne)."
   ]
  },
  {
   "cell_type": "markdown",
   "metadata": {},
   "source": [
    "## MIDRC Chest CT+ Covid"
   ]
  },
  {
   "cell_type": "markdown",
   "metadata": {},
   "source": [
    "Link do artykułu: https://pubs.rsna.org/doi/10.1148/radiol.2021203957"
   ]
  },
  {
   "cell_type": "markdown",
   "metadata": {},
   "source": [
    "### Podstawowe informacje o bazie danych\n",
    "- rok powstania: zdjęcia pochodzą z kwietnia 2020 roku a sam artkuł został opublikowany w styczniu 2021\n",
    "- źródła danych: badanie, którego uczestnicy zgodzili się na opublikowanie swoich zdjęć i danych.\n",
    "- liczba zdjęć 31856 u 110 pacjentów"
   ]
  },
  {
   "cell_type": "markdown",
   "metadata": {},
   "source": [
    "### Istotne informacje\n",
    "- Mimo, że badanie było otwarte zdjęcia zostały zanonimizowane.\n",
    "- Proces tworzenia annotacji: \n",
    "![](https://pubs.rsna.org/cms/10.1148/radiol.2021203957/asset/images/large/radiol.2021203957.fig2.jpeg)\n",
    "- Zostały utworzone 3 bazy: dodatni, ujemny wynik na wirusa (CT) oraz dodatni wynik chest x-ray\n",
    "- Oprócz odpowiedniego wyniku na test covidowy trzeba było mieć co najmniej 18 lat"
   ]
  },
  {
   "cell_type": "markdown",
   "metadata": {},
   "source": [
    "Sam artykuł jest długi i rozbudowany. Nie sądzę, żeby autorzy chcieli coś ukryć."
   ]
  },
  {
   "cell_type": "markdown",
   "metadata": {},
   "source": [
    "Głównym celem jest segmentacja. "
   ]
  },
  {
   "cell_type": "markdown",
   "metadata": {},
   "source": [
    "Autorzy nie publikują żadnych swoich wyników."
   ]
  },
  {
   "cell_type": "markdown",
   "metadata": {},
   "source": [
    "Baza danych wykorzystana w artykule: https://link.springer.com/article/10.1007/s10278-013-9622-7. Niestety nie ma możliwości przeczytania całości (należy się zalogować przez uczelnie)."
   ]
  }
 ],
 "metadata": {
  "kernelspec": {
   "display_name": "Python 3",
   "language": "python",
   "name": "python3"
  },
  "language_info": {
   "codemirror_mode": {
    "name": "ipython",
    "version": 3
   },
   "file_extension": ".py",
   "mimetype": "text/x-python",
   "name": "python",
   "nbconvert_exporter": "python",
   "pygments_lexer": "ipython3",
   "version": "3.8.3"
  }
 },
 "nbformat": 4,
 "nbformat_minor": 4
}
