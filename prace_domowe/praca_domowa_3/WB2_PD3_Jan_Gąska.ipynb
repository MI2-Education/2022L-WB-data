{
 "cells": [
  {
   "cell_type": "markdown",
   "id": "8f84cd9b",
   "metadata": {},
   "source": [
    "# Praca domowa 3\n",
    "## Porównanie i analiza artykułów naukowych dla odpowiadających baz danych\n",
    "W tej części analizy zajmniemy się przeanalizowaniem powiązanych z bazami danych artykułów naukowych, bądź innych źródeł informacji w razie braku występowania takich. Przejdziemy przez poszczególne punkty artykułu, porównując je z rzeczywistością i sprawdzając założenia autorów."
   ]
  },
  {
   "cell_type": "markdown",
   "id": "3b6a1786",
   "metadata": {},
   "source": [
    "## SIIM-ACR Pneumothorax Segmentation\n",
    "Pierwszą bazą, której literatury dokonamy oględzin będzie SIIM-ACR pneumothorax Segmentation, czyli bazy danych medycznych zawierającej zdjęcia medyczne w postaci skanów promieniowania rentgenowskiego płuc. Wraz z zdjęciami do bazy zostały, w osobnym pliku, dołączone zaenkodowane maski, które pokrywają miejsca odmy odpłucnowej.  \n",
    "Baza powstała na potrzebę konkursu na stronie kaggle, zatem nie ma połączonego doń żadnego arkykułu, ani żadnego repozytorium githubowego, jednakże strona konkursowa zaopatruje w miarodajną ilość informacji by móc przeprowadzić pewną analizę.  \n",
    "Link do strony konkursowej: https://www.kaggle.com/competitions/siim-acr-pneumothorax-segmentation/overview/description  \n",
    "Dodatkowo ważnym ze względu meta-informacji punktem jest źródło pochodzenia zbioru. SIMM, czyli Society for Imaging Informatics in Medicine jest niewielką firmą bio-informatyczną w siedzibie w USA.  \n",
    "Link do LinkedIN organizacji: https://www.linkedin.com/company/society-for-imaging-infomatics-in-medicine-siim-.  \n",
    "Rónież warto dołączyć załącznik do infromacji o konkursie zamieszczonym na oficjalnej stronie firmy zarządającej konkursem :https://siim.org/page/pneumothorax_challenge.  \n",
    "Konkurs zdobył duże zainteresowanie i wokół niego powstało dużo materiału analizującego, opisującego oraz rozwiązującego dane zagadnienie. Oficjalnie konkurs jest już zakończony od 3 lat, jednakże najlepsze rozwiązania zostały (nie wszystkie) upubliczione do wglądu."
   ]
  },
  {
   "cell_type": "markdown",
   "id": "a633c910",
   "metadata": {},
   "source": [
    "### Podstawowe informacje o danych\n",
    "Całkowity zbiór składa się z:\n",
    "- zestawu testowego zdjęć w typcie dicom (folder dicom-images-test)\n",
    "- zestawu treningowego zdjęć w typie dicom (folder dicom-images-train)\n",
    "- pliku zawierającego zdjęcia dla etapu drugiego konkursu (folder stage_2_images)\n",
    "- skoroszytu csv, który zawiera zakodowane maski w formacie rle (Run-length encoding) (plik train-rle.csv)\n",
    "- dwóch plików .py, z których jeden dokonuje pobrania danych graficznych, a drugi jest funkcją dekodującą oraz enkodującą maski do formatu rle (pliki download_images.py oraz mask_functions.py)  \n",
    "Zbiór pochodzi od prywatnej firmy medtczno-informatycznej w siedzibie w USA, dokładniej Leesburg, Virginia.  \n",
    "Istnienie zbioru zostało powołane w celach konkursowych i pochodzi z zasobów firmy. Nie znajdziemy zbioru w innych źródłach.  \n",
    "Oficjalny początek konkursu przypadł na sierpień roku 2019, a zakończenie drugiego etapu nastąpiło już w wrześniu tego samego roku.  \n",
    "Warto wspomnieć o nagrodzie pieniężnej przypadającej od miejsca 1 do 10 w konkursie, gdzie 1 miejsce wygrywa 12.000$.  \n",
    "Nie ma informacji o dacie zebrania danych, w plikach dicom zawierających zdjęcia informacje dotyczące dat oraz informacje prywatne zostały wyczyszczone, zatem można tylko stwierdzić, iż były kompletowane przed rokiem 2019."
   ]
  },
  {
   "cell_type": "markdown",
   "id": "ee954cb9",
   "metadata": {},
   "source": [
    "### Jakie istotne informacje są na stronine, a nie widać tego w bazie danych?\n",
    "Ponieważ strona oraz organizacja nie elaborują dużo o samych danych, zatem ciężko będzie stwierdzić różnice między założeniami autorów dotyczących bazy a nią samą.  \n",
    "Jedną z insotnych informacji zawartych na stronie konukrsu jest opisana możliwość istnienia w zakodowanych maskach kilku instancji odmy opłucnej, jednakże (przynajmniej w zbiorze testowym dla drugiej fazy konkursu) nie występowała.  \n",
    "Co jest bardziej interesujące, autorzy jedynie wspominają o danych jedynie, iż są w formie DICOM, jednakże poza tym faktem nie ma większego opisu jakie dane dokładnie zawierają te pliki, które mogą zawierać dość spory zakres różnorodności danych."
   ]
  },
  {
   "cell_type": "markdown",
   "id": "0232fee7",
   "metadata": {},
   "source": [
    "### Jakie informacje dotyczące bazy danych nie zostały przedstawione w źródłach?\n",
    "Jak już wspomniałem w poprzedniej sekcji, na stronie w przypadku danych nie zostało umieszczonych dużo informacji, poza tym, iż są i o ich formacie, zatem braki w informacjach o bazie danych są znaczące.  \n",
    "- brak informacji o liczności danych dla etapu I\n",
    "- brak informacji co zawierają pliki DICOM, za wyjątkiem samaych zdjęć\n",
    "- brak informacji o różnicach pomiędzy zbiorem testowym i treningowym dla drugiego etapu\n",
    "- brak informacji o metadanych dotyczących zdjęć (jakiego rozmiaru są?, czy są trójkanałowe?)\n",
    "- brak informacji o potencjalnych artefaktach na zdjęciach\n",
    "- brak informacji o dokładnym pochodzeniu danych (chociaż w kauzulach konkursu autorzy wspominają, iż informacja ta została nie opublikowana)\n",
    "- brak informacji o bardzo prawdopodobnym wyczyszczeniu niektórych danych z plików DICOM, chociaż nie można stwierdzić tego z 100% pewnością, jest to bardzo podejrzane"
   ]
  },
  {
   "cell_type": "markdown",
   "id": "25dcfc33",
   "metadata": {},
   "source": [
    "### Jakie artykuły korzystały z tej bazy danych? Jakie zadania były wykonywane (klasyfikacja, segmentacja, detekcja itp.)?\n",
    "Zaskakująco powstało dość sporo publikacji dotyczących rozwiązywania problemu, omawiania go, lub po prostu odwołującego się do jego wyników albo używa bazy danych, bądź zadanego problemu w odniesieniu do opisywanego problemu. Przykładowo na google scholar poniżej zamieszczam przykładowe linki do artykułów odwołujących się do problemu:  \n",
    "https://ieeexplore.ieee.org/abstract/document/9153444  \n",
    "https://ieeexplore.ieee.org/abstract/document/9342193  \n",
    "https://ieeexplore.ieee.org/document/9247293  \n",
    "https://link.springer.com/chapter/10.1007/978-3-030-59137-3_23  \n",
    "Większość zeń opisuje zmagania autorów z problemem zadanym w konkursie i opisuje wyniki.  \n",
    "#### Wykonane zadania w artykule\n",
    "Głównym zadaniem artykułu, jak wskazuje nazwa, była segmentacja na danych testowych, które zostały zaopatrzone przez autorów. Partycypanci konkursu mieli dostarczyć zaenkodowanych masek dla instancji w zbiorze testowym w etapach I i II w formacie RLE.\n",
    "#### Jakie wyniki trenowania zostały osiągnięte?\n",
    "Wszystkich zespołów biorących udział w konkursie było 1475, które to mogły składać się do maksimum 5 członków, zatem otrzymane wyniki mieszczą się w szerokim przedziale. Należy jednak pierwotnie wspomnieć jaka metryka została użyta do ewaluacji wyników, ponieważ nie jest ani standardowa ani popularna. Jest to tkz. metryka Dice, więcej o niej można znaleść w podanym artykule na wikipedii: https://en.wikipedia.org/wiki/S%C3%B8rensen%E2%80%93Dice_coefficient.  \n",
    "Jednakże skrótowo, im większa metryka, która ma wartości w przedziale 0 do 1, tym lepiej.  \n",
    "Wyniki najlepszych zespołów oscylowały wokół 0.86, a zwycięzca konkursu otrzymał wynik 0.8679. Jednakże poza konursem, już po jego zakończeniu, niektóre zespoły osiągały po optymalizacji jeszcze lepsze wyniki, rzędzu 0.87."
   ]
  },
  {
   "cell_type": "markdown",
   "id": "d4a8b42b",
   "metadata": {},
   "source": [
    "## Baza LIDC-IDRI\n",
    "Baza ponownie nie ma skorelowanego zeń artykułu naukowego, wszystkie informacje są zawarte na oficjalnej stronie internetowej, a dokładniej w archiwum zawierającym informacje o podanej bazie: https://wiki.cancerimagingarchive.net/display/Public/LIDC-IDRI#:~:text=Summary,with%20marked%2Dup%20annotated%20lesions.  \n",
    "Zadaniem bazy jest klasyfikacja binarna bazująca na stwierdzeniu występowania guza rakowego na podstawie badań zdjęć tomografi komputerowej dla podanych pacjentów. Baza została skompletowana za inicjatywą National Cancer Institute (NCI), której siedziba jest w USA, a dane pochodzą od samego założyciela, Foundation for the National Institutes of Health (FNIH) oraz Food and Drug Administration (FDA). Cel stworzenia bazy pozostał ogólny i zakładał utworzenie zasobów, które pozwoliłyby na trenowanie oraz ewaluację wyników przy użyciu metod koputerowych."
   ]
  },
  {
   "cell_type": "markdown",
   "id": "f39dd295",
   "metadata": {},
   "source": [
    "### Podstawowe informacje o danych\n",
    "Cała baza składa się z:\n",
    "- zbioru zdjęć, podzielonej na foldery odpowiadające każdemu pacjentowi, każdy z formacie serii plików DICOM\n",
    "- pliku .csv zawierającego informacje o metadanych\n",
    "- drugiego pliku .csv z metadanymi, króry jest podzbiorem poprzedniego pliku z metadanymi .csv\n",
    "- plik .csv zawierający statystyki dotyczące guzów rakowych dla pacjentów oraz ogólne zestawienie\n",
    "- diagnozy dla pacjentów w formie pliku XLS\n",
    "- plik XLS, w którym zawarto ilość\n",
    "Źródła danych zostały wypisane przeze mnie w poprzednim punkcie opisu tej bazy. Data pobioru danych nie została ściśle sprecyzowana, jednakże pochodzą one sprzed roku 2012. Co zaskakujące od utworzenia i załadowania bazy danych w 2012 roku, strona była stale modyfikowana i aktualizowana aż do roku 2021.  \n",
    "W bazie znajdziemy pliki z zdjęciami tomografi komputerowej dla 1010 różnych pacjentów, z czego w ogólności mamy 244,527 2-wymiarowych zdjęć w formie DICOM (zatem 1 zdjęcie 3-wymiarowe dla każdego pacjenta.)\n"
   ]
  },
  {
   "cell_type": "markdown",
   "id": "e24148cd",
   "metadata": {},
   "source": [
    "### Jakie istotne informacje są na stronine, a nie widać tego w bazie danych?\n",
    "- na stronie wspomniane są 4 klasy labeli, które po przeanalizowaniu danych nie występują wszystkie\n",
    "- autorzy wspominają o istnieniu plików z zakresu DX (digital radiography) oraz CR (computered radiography), których nie było w bazie danych\n",
    "- pomimo, iż było 1010 danych różnych pacjentów, to w bazie danych nie znajdziemy aż tyle referencji (nie ma odpowiadających zdjęć dla każdego z uczestników, jest ich trochę mniej)"
   ]
  },
  {
   "cell_type": "markdown",
   "id": "ead89d34",
   "metadata": {},
   "source": [
    "### Jakie informacje dotyczące bazy danych nie zostały przedstawione w źródłach?\n",
    "- nie zosały podane informacje o wyczyszczeniu niektórych danych z plików DICOM (mianowicie danych dotyczących dat oraz danych personalnych)\n",
    "- nie zostały podane zawartości danych w plikach DICOM\n",
    "- metadane w plikach .csv zostały opisane wyłącznie jako \"metadane\", zatem nie wiedzieliśmy co może weń znajdować się\n",
    "- rozmiary oraz charakter poszczególnych zdjęć 2D, nie został podany ani format, rozmiar ani użyte formatowanie pliku. Jedyną informacją było, iż były to zdjęcia tomografi komputerowej\n",
    "- nie zostały zawarte informacje o podziale zdjęć dla pacjentów na pewne \"serie\" zdjęć, każda z nich w innym folderze"
   ]
  },
  {
   "cell_type": "markdown",
   "id": "29ae5511",
   "metadata": {},
   "source": [
    "### Jakie artykuły korzystały z tej bazy danych? Jakie zadania były wykonywane (klasyfikacja, segmentacja, detekcja itp.)?\n",
    "Ilość artykułów odnoszących się w pewien sposób do danej bazy danych jest liczna, jednakże dużo zeń tylko powierzchownie nawiązuje do bazy, oraz jest też pewna ilość zeń, które nie posiadają znaczącej ilości cytowań oraz \"wyświetleń\" w społeczności naukowej. Poniżej zamieszczam pewne przykłady bardziej popularnych artykułów korzystających z bazy:  \n",
    "https://www.mdpi.com/2075-4418/9/1/29  \n",
    "https://link.springer.com/article/10.1007/s00330-015-4030-7  \n",
    "https://www.mdpi.com/2075-4418/9/4/207  \n",
    "https://ieeexplore.ieee.org/abstract/document/6864494  \n",
    "Podstawowym zadaniem nasuwającym się dla bazy jest klasyfikacja (binarna chociaż może być tez wieloklasowa, wedle uznania użytkownika), jednakże \"cel\" bazy nie został ściśle zdefiniowany w żadnym punkcie w bazie danych.  \n",
    "#### Jakie wyniki zostały osiągnięte?\n",
    "Autorzy nie przeprowadzali żadnych obliczeń ani ewaluacji na zbiorze danych, zatem nie było żadnych wyników. Jednakże w wielu artykułach odwołujących i korzystających z bazy, przeprowadzano badania, które korzystały z pewnych metryk sprawdzających."
   ]
  }
 ],
 "metadata": {
  "kernelspec": {
   "display_name": "Python 3 (ipykernel)",
   "language": "python",
   "name": "python3"
  },
  "language_info": {
   "codemirror_mode": {
    "name": "ipython",
    "version": 3
   },
   "file_extension": ".py",
   "mimetype": "text/x-python",
   "name": "python",
   "nbconvert_exporter": "python",
   "pygments_lexer": "ipython3",
   "version": "3.8.8"
  }
 },
 "nbformat": 4,
 "nbformat_minor": 5
}
